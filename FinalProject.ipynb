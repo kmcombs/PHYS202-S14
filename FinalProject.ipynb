{
 "metadata": {
  "name": "",
  "signature": "sha256:234d0f0b19c4c53eb89ed13eb27910423906c8daf4f9a078d0866f0fc748d7b1"
 },
 "nbformat": 3,
 "nbformat_minor": 0,
 "worksheets": [
  {
   "cells": [
    {
     "cell_type": "code",
     "collapsed": false,
     "input": [
      "%pylab inline\n",
      "import numpy as np\n",
      "import matplotlib.pyplot as plt\n",
      "from PIL import Image\n",
      "import matplotlib.image as mpimg\n",
      "import requests\n",
      "from StringIO import StringIO"
     ],
     "language": "python",
     "metadata": {},
     "outputs": [
      {
       "output_type": "stream",
       "stream": "stdout",
       "text": [
        "Populating the interactive namespace from numpy and matplotlib\n"
       ]
      }
     ],
     "prompt_number": 1
    },
    {
     "cell_type": "code",
     "collapsed": false,
     "input": [
      "frame00000= Image.open('frame00000.png')"
     ],
     "language": "python",
     "metadata": {},
     "outputs": [],
     "prompt_number": 2
    },
    {
     "cell_type": "code",
     "collapsed": false,
     "input": [
      "class Blob():\n",
      "    def __init__(blob):\n",
      "        #Constructs and empty blob\n",
      "        blob.pixels = []\n",
      "    def add(blob, i , j):\n",
      "        #add pixels i and j to blob\n",
      "        blob.pixels.append([i,j])\n",
      "    def mass(blob):\n",
      "        #return number of pixels added\n",
      "        mass = len(blob.pixels)\n",
      "        return mass\n",
      "    def distancetoBlob(blob, b):\n",
      "        #returns the distance between the center of masses of the blob and b\n",
      "        xi = centerOfMass(blob)[0]\n",
      "        xf = centerOfMass(b)[0]\n",
      "        yi = centerOfMass(blob)[1]\n",
      "        yf = centerOfMass(b)[2]\n",
      "        return ((xf - xi)**2 + (yf - yi)**2) * 0.5\n",
      "    def centerOfMass(blob):\n",
      "        #return (x,y) location of blob's center of mass\n",
      "        #format with 4 digits to the right of the decimal point\n",
      "        x = 0\n",
      "        y = 0\n",
      "        for loc in blob.pixels:\n",
      "            x += loc[0]\n",
      "            y += loc[1]\n",
      "        xcm = x/len(blob.pixels)\n",
      "        ycm = y/len(blob.pixels)\n",
      "        return [\"%.4f\" %xcm, \"%.4f\" %ycm]\n",
      "    "
     ],
     "language": "python",
     "metadata": {},
     "outputs": [],
     "prompt_number": 34
    },
    {
     "cell_type": "code",
     "collapsed": false,
     "input": [
      "def fastfill(temp, xsize, ysize, xstart, ystart):\n",
      "    \"\"\"keep a list of pixels that need to be looked at, \n",
      "    but haven't yet been filled in - a list of the (x,y) \n",
      "    coordinates of pixels that are neighbors of ones we have \n",
      "    already examined.  Only look at neighbors if they haven't\n",
      "    yet been filled in.  Keep looping until there's nothing \n",
      "    left in this list.\"\"\"\n",
      "    queue = [(xstart,ystart)]\n",
      "    while queue:\n",
      "        x,y,queue = queue[0][0], queue[0][1], queue[1:]\n",
      "        temp[x,y] = RED\n",
      "        temp.add(x,y)\n",
      "        if x > 0 and temp[x-1,y] == BLACK:\n",
      "            temp[x-1,y] = RED\n",
      "            Blob.add(x-1,y)\n",
      "            queue.append((x-1,y))\n",
      "        if x < (xsize-1) and temp[x+1,y] == BLACK:\n",
      "            temp[x+1,y] = RED\n",
      "            Blob.add(x+1,y)\n",
      "            queue.append((x+1,y))\n",
      "        if y > 0 and temp[x,y-1] == BLACK:\n",
      "            temp[x,y-1] = RED\n",
      "            Blob.add(x, y-1)\n",
      "            queue.append((x, y-1))\n",
      "        if y < (ysize-1) and temp[x,y+1] == BLACK:\n",
      "            temp[x,y+1] = RED\n",
      "            Blob.add(x, y+1)\n",
      "            queue.append((x, y+1))\n",
      "\n",
      "            \n",
      "\n",
      "def BlobFinder(pic, tau, fastfill):\n",
      "    \"\"\"scan the image top to bottom and left to right using a nested loop.\n",
      "    when black pixel is found, increment the count, then call the fill\n",
      "    function to fill in all the pixels connected to that one.\"\"\"\n",
      "    BLACK = (0, 0, 0)\n",
      "    WHITE = (255, 255, 255)\n",
      "    RED = (255, 0, 0)\n",
      "    xsize, ysize = pic.size\n",
      "    temp = pic.load()\n",
      "    for x in range(xsize):\n",
      "        for y in range(ysize):\n",
      "            r,g,b = temp[x,y]\n",
      "            if r+g+b >= tau: \n",
      "                temp[x,y] = BLACK\n",
      "            else:\n",
      "                temp[x,y] = WHITE\n",
      "    result = 0\n",
      "    for x in range(xsize):\n",
      "        for y in range(ysize):\n",
      "            if temp[x,y] == BLACK:\n",
      "                result += 1\n",
      "                fastfill(temp,xsize,ysize,x,y)\n",
      "                blob.Blob()\n",
      "    return result\n",
      "\n",
      "def countBeads(P):\n",
      "    \"\"\"return the number of beads with >= P pixels\"\"\"\n",
      "    result = 0\n",
      "    if Blob.mass() >= P:\n",
      "        result += 1\n",
      "    return result\n",
      "def getBeads(P):\n",
      "    \"\"\"return all beads with >= P pixels\"\"\"\n",
      "    if Blob.mass() >= P:\n",
      "        return Blob.centerOfMass()"
     ],
     "language": "python",
     "metadata": {},
     "outputs": [],
     "prompt_number": 35
    },
    {
     "cell_type": "code",
     "collapsed": false,
     "input": [
      "BlobFinder(frame00000, 180.0, fastfill)"
     ],
     "language": "python",
     "metadata": {},
     "outputs": [
      {
       "ename": "AttributeError",
       "evalue": "'PixelAccess' object has no attribute 'add'",
       "output_type": "pyerr",
       "traceback": [
        "\u001b[0;31m---------------------------------------------------------------------------\u001b[0m\n\u001b[0;31mAttributeError\u001b[0m                            Traceback (most recent call last)",
        "\u001b[0;32m<ipython-input-36-d4ec2d991c67>\u001b[0m in \u001b[0;36m<module>\u001b[0;34m()\u001b[0m\n\u001b[0;32m----> 1\u001b[0;31m \u001b[0mBlobFinder\u001b[0m\u001b[0;34m(\u001b[0m\u001b[0mframe00000\u001b[0m\u001b[0;34m,\u001b[0m \u001b[0;36m180.0\u001b[0m\u001b[0;34m,\u001b[0m \u001b[0mfastfill\u001b[0m\u001b[0;34m)\u001b[0m\u001b[0;34m\u001b[0m\u001b[0m\n\u001b[0m",
        "\u001b[0;32m<ipython-input-35-eb5ed0b9a256>\u001b[0m in \u001b[0;36mBlobFinder\u001b[0;34m(pic, tau, fastfill)\u001b[0m\n\u001b[1;32m     51\u001b[0m             \u001b[0;32mif\u001b[0m \u001b[0mtemp\u001b[0m\u001b[0;34m[\u001b[0m\u001b[0mx\u001b[0m\u001b[0;34m,\u001b[0m\u001b[0my\u001b[0m\u001b[0;34m]\u001b[0m \u001b[0;34m==\u001b[0m \u001b[0mBLACK\u001b[0m\u001b[0;34m:\u001b[0m\u001b[0;34m\u001b[0m\u001b[0m\n\u001b[1;32m     52\u001b[0m                 \u001b[0mresult\u001b[0m \u001b[0;34m+=\u001b[0m \u001b[0;36m1\u001b[0m\u001b[0;34m\u001b[0m\u001b[0m\n\u001b[0;32m---> 53\u001b[0;31m                 \u001b[0mfastfill\u001b[0m\u001b[0;34m(\u001b[0m\u001b[0mtemp\u001b[0m\u001b[0;34m,\u001b[0m\u001b[0mxsize\u001b[0m\u001b[0;34m,\u001b[0m\u001b[0mysize\u001b[0m\u001b[0;34m,\u001b[0m\u001b[0mx\u001b[0m\u001b[0;34m,\u001b[0m\u001b[0my\u001b[0m\u001b[0;34m)\u001b[0m\u001b[0;34m\u001b[0m\u001b[0m\n\u001b[0m\u001b[1;32m     54\u001b[0m                 \u001b[0mblob\u001b[0m\u001b[0;34m.\u001b[0m\u001b[0mBlob\u001b[0m\u001b[0;34m(\u001b[0m\u001b[0;34m)\u001b[0m\u001b[0;34m\u001b[0m\u001b[0m\n\u001b[1;32m     55\u001b[0m     \u001b[0;32mreturn\u001b[0m \u001b[0mresult\u001b[0m\u001b[0;34m\u001b[0m\u001b[0m\n",
        "\u001b[0;32m<ipython-input-35-eb5ed0b9a256>\u001b[0m in \u001b[0;36mfastfill\u001b[0;34m(temp, xsize, ysize, xstart, ystart)\u001b[0m\n\u001b[1;32m     10\u001b[0m         \u001b[0mx\u001b[0m\u001b[0;34m,\u001b[0m\u001b[0my\u001b[0m\u001b[0;34m,\u001b[0m\u001b[0mqueue\u001b[0m \u001b[0;34m=\u001b[0m \u001b[0mqueue\u001b[0m\u001b[0;34m[\u001b[0m\u001b[0;36m0\u001b[0m\u001b[0;34m]\u001b[0m\u001b[0;34m[\u001b[0m\u001b[0;36m0\u001b[0m\u001b[0;34m]\u001b[0m\u001b[0;34m,\u001b[0m \u001b[0mqueue\u001b[0m\u001b[0;34m[\u001b[0m\u001b[0;36m0\u001b[0m\u001b[0;34m]\u001b[0m\u001b[0;34m[\u001b[0m\u001b[0;36m1\u001b[0m\u001b[0;34m]\u001b[0m\u001b[0;34m,\u001b[0m \u001b[0mqueue\u001b[0m\u001b[0;34m[\u001b[0m\u001b[0;36m1\u001b[0m\u001b[0;34m:\u001b[0m\u001b[0;34m]\u001b[0m\u001b[0;34m\u001b[0m\u001b[0m\n\u001b[1;32m     11\u001b[0m         \u001b[0mtemp\u001b[0m\u001b[0;34m[\u001b[0m\u001b[0mx\u001b[0m\u001b[0;34m,\u001b[0m\u001b[0my\u001b[0m\u001b[0;34m]\u001b[0m \u001b[0;34m=\u001b[0m \u001b[0mRED\u001b[0m\u001b[0;34m\u001b[0m\u001b[0m\n\u001b[0;32m---> 12\u001b[0;31m         \u001b[0mtemp\u001b[0m\u001b[0;34m.\u001b[0m\u001b[0madd\u001b[0m\u001b[0;34m(\u001b[0m\u001b[0mx\u001b[0m\u001b[0;34m,\u001b[0m\u001b[0my\u001b[0m\u001b[0;34m)\u001b[0m\u001b[0;34m\u001b[0m\u001b[0m\n\u001b[0m\u001b[1;32m     13\u001b[0m         \u001b[0;32mif\u001b[0m \u001b[0mx\u001b[0m \u001b[0;34m>\u001b[0m \u001b[0;36m0\u001b[0m \u001b[0;32mand\u001b[0m \u001b[0mtemp\u001b[0m\u001b[0;34m[\u001b[0m\u001b[0mx\u001b[0m\u001b[0;34m-\u001b[0m\u001b[0;36m1\u001b[0m\u001b[0;34m,\u001b[0m\u001b[0my\u001b[0m\u001b[0;34m]\u001b[0m \u001b[0;34m==\u001b[0m \u001b[0mBLACK\u001b[0m\u001b[0;34m:\u001b[0m\u001b[0;34m\u001b[0m\u001b[0m\n\u001b[1;32m     14\u001b[0m             \u001b[0mtemp\u001b[0m\u001b[0;34m[\u001b[0m\u001b[0mx\u001b[0m\u001b[0;34m-\u001b[0m\u001b[0;36m1\u001b[0m\u001b[0;34m,\u001b[0m\u001b[0my\u001b[0m\u001b[0;34m]\u001b[0m \u001b[0;34m=\u001b[0m \u001b[0mRED\u001b[0m\u001b[0;34m\u001b[0m\u001b[0m\n",
        "\u001b[0;31mAttributeError\u001b[0m: 'PixelAccess' object has no attribute 'add'"
       ]
      }
     ],
     "prompt_number": 36
    },
    {
     "cell_type": "code",
     "collapsed": false,
     "input": [],
     "language": "python",
     "metadata": {},
     "outputs": []
    }
   ],
   "metadata": {}
  }
 ]
}