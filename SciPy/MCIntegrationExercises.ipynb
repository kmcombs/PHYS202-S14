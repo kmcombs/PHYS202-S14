{
 "metadata": {
  "name": "",
  "signature": "sha256:e2a067e6a30fd47742a0545ff29195c0a069d89bf2e8c464e95c086963fb9bff"
 },
 "nbformat": 3,
 "nbformat_minor": 0,
 "worksheets": [
  {
   "cells": [
    {
     "cell_type": "heading",
     "level": 1,
     "metadata": {},
     "source": [
      "Monte Carlo Integration Exercises"
     ]
    },
    {
     "cell_type": "code",
     "collapsed": false,
     "input": [
      "%pylab inline\n",
      "import numpy as np\n",
      "import matplotlib.pyplot as plt\n"
     ],
     "language": "python",
     "metadata": {},
     "outputs": [
      {
       "output_type": "stream",
       "stream": "stdout",
       "text": [
        "Populating the interactive namespace from numpy and matplotlib\n"
       ]
      },
      {
       "output_type": "stream",
       "stream": "stderr",
       "text": [
        "WARNING: pylab import has clobbered these variables: ['f']\n",
        "`%matplotlib` prevents importing * from pylab and numpy\n"
       ]
      }
     ],
     "prompt_number": 3
    },
    {
     "cell_type": "heading",
     "level": 3,
     "metadata": {},
     "source": [
      "Question 1"
     ]
    },
    {
     "cell_type": "markdown",
     "metadata": {},
     "source": [
      "Let\u2019s compute the electric potential from a plane of charge as shown in the figure using Monte Carlo integration.\n",
      "\n",
      "The integral comes from summing all the potentials from the chunks of \u201cpoint\u201d charges. Just as we summed two charges for a dipole, now we\u2019ll sum many charges. The important part is to understand how dQ, modeled as a point charge, is related to \u03c3dA, where \u03c3 is the surface charge density = charge/area (\u03c3=Q/A ) Review your notes from PHYS 133 if you need a refresher.\n",
      "We want to use our previously defined pointPotential() function from Electrostatics.py, so we have to import it."
     ]
    },
    {
     "cell_type": "code",
     "collapsed": false,
     "input": [
      "from Electrostatics import *"
     ],
     "language": "python",
     "metadata": {},
     "outputs": [],
     "prompt_number": 2
    },
    {
     "cell_type": "markdown",
     "metadata": {},
     "source": [
      "**(a)** Use the sample mean method to compute the potential at point P(2,3) due to the disk of charge for different numbers of samples N=(101,102,103,104,105,106). Report the value and its statistical uncertainty for each sample size. How does the result depend on N?\n",
      " "
     ]
    },
    {
     "cell_type": "code",
     "collapsed": false,
     "input": [
      "help(pointPotential)"
     ],
     "language": "python",
     "metadata": {},
     "outputs": [
      {
       "output_type": "stream",
       "stream": "stdout",
       "text": [
        "Help on function pointPotential in module Electrostatics:\n",
        "\n",
        "pointPotential(x, y, q, Xc, Yc)\n",
        "    Return the electric potential for a point charge q at (Xc, Yc)\n",
        "    \n",
        "    Units returned are [Volt] if input untis are [meters] and [Coulombs]\n",
        "\n"
       ]
      }
     ],
     "prompt_number": 3
    },
    {
     "cell_type": "code",
     "collapsed": false,
     "input": [
      "Xc = 2.\n",
      "Yc = 3.\n",
      "q = 1e-6 \n",
      "\n",
      "xa = -1.; xb = 1.\n",
      "ya = 0.; yb = 2.\n",
      "\n",
      "i = (10**1, 10**2, 10**3, 10**4, 10**5, 10**6)\n",
      "for N in i:\n",
      "    x = (xb-xa)*np.random.random_sample(N) + xa\n",
      "    y = (yb-ya)*np.random.random_sample(N)\n",
      "    \n",
      "    I = (xb -xa)*(yb-ya)*pointPotential(x,y,q, Xc, Yc).mean()\n",
      "    err = (xb -xa)*(yb-ya)*np.sqrt(((pointPotential(x,y,q,Xc, Yc)**2).mean() - (pointPotential(x,y, q, Xc,Yc).mean())**2)/N)\n",
      "    \n",
      "    print \"I =\", I, \" +/-\", err\n",
      "                                   "
     ],
     "language": "python",
     "metadata": {},
     "outputs": [
      {
       "output_type": "stream",
       "stream": "stdout",
       "text": [
        "I = 15892.9594381  +/- 1129.48920617\n",
        "I = 12324.5458596  +/- 233.055389527\n",
        "I = 13126.6773211  +/- 97.4015240942\n",
        "I = 13054.8294973  +/- 29.7262710325\n",
        "I = 13023.4016364  +/- 9.38429350297\n",
        "I ="
       ]
      },
      {
       "output_type": "stream",
       "stream": "stdout",
       "text": [
        " 13024.658097  +/- 2.96678839263\n"
       ]
      }
     ],
     "prompt_number": 10
    },
    {
     "cell_type": "markdown",
     "metadata": {},
     "source": [
      "**(b)** Now use the same method to compute the electric potential, V, at point P(2,3), from a disk centered on the origin with radius, R=1.2 cm, and charge density, \u03c3 = 2 nC/m2 ."
     ]
    },
    {
     "cell_type": "code",
     "collapsed": false,
     "input": [
      "help(dipolePotential)"
     ],
     "language": "python",
     "metadata": {},
     "outputs": [
      {
       "output_type": "stream",
       "stream": "stdout",
       "text": [
        "Help on function dipolePotential in module Electrostatics:\n",
        "\n",
        "dipolePotential(x, y, q, d)\n",
        "    Return the electric potential for a pair of point charges +/- q separated by distance d along the\n",
        "    x-axis with their midpoint at (0,0).\n",
        "    \n",
        "    Units returned ar [Volts] if input units are [meters] and [Coulombs]\n",
        "\n"
       ]
      }
     ],
     "prompt_number": 12
    },
    {
     "cell_type": "code",
     "collapsed": false,
     "input": [
      "V = lambda r, theta: (K*sigma*r)/np.abs(r - r0)\n",
      "\n",
      "thetamin = 0.;thetamax = 2*pi\n",
      "rmin = 0.; rmax = 0.012\n",
      "\n",
      "K = 8.987551787997912e9\n",
      "sigma = 2e-9\n",
      "r0 = np.sqrt(4 + 9)\n",
      "\n",
      "i = (10**1, 10**2, 10**3, 10**4, 10**5, 10**6)\n",
      "for N in i:\n",
      "    theta = (thetamax - thetamin)*np.random.random_sample(N)\n",
      "    r = (rmax - rmin)*np.random.random_sample(N)\n",
      "    \n",
      "    I = (rmax - rmin)*(thetamax-thetamin)*V(r,theta).mean()\n",
      "    err = (rmax - rmin)*(thetamax-thetamin)*np.sqrt(((V(r,theta)**2).mean() - (V(r, theta).mean())**2)/N)  \n",
      "    \n",
      "    print \"I =\", I, \" +/-\", err\n"
     ],
     "language": "python",
     "metadata": {},
     "outputs": [
      {
       "output_type": "stream",
       "stream": "stdout",
       "text": [
        "I = 0.00265333126186  +/- 0.000445635489701\n",
        "I = 0.00208425231041  +/- 0.000126861772469\n",
        "I = 0.00226948614959  +/- 4.15828393685e-05\n",
        "I = 0.00226165597744  +/- 1.29295525172e-05\n",
        "I = 0.00225846205694  +/- 4.13509171781e-06\n",
        "I ="
       ]
      },
      {
       "output_type": "stream",
       "stream": "stdout",
       "text": [
        " 0.00226076581988  +/- 1.30642610722e-06\n"
       ]
      }
     ],
     "prompt_number": 13
    },
    {
     "cell_type": "heading",
     "level": 3,
     "metadata": {},
     "source": [
      "Question 2 "
     ]
    },
    {
     "cell_type": "markdown",
     "metadata": {},
     "source": [
      "Use the sample mean method to compute the volume of a sphere with radius 1 using spherical coordinates:\n",
      "\n",
      "for N=(101,102,103,104,105,106). Report the value and statistical uncertainty for each sample size. How does the result depend on N?"
     ]
    },
    {
     "cell_type": "code",
     "collapsed": false,
     "input": [
      "V = lambda r, theta, phi: r**2 * np.sin(theta)\n",
      "\n",
      "ra = 0.; rb = 1.\n",
      "thetaa = 0.; thetab = np.pi\n",
      "phia = 0.; phib = 2*pi\n",
      "\n",
      "i = (10**1, 10**2, 10**3, 10**4, 10**5, 10**6)\n",
      "for N in i:\n",
      "    r = (rb - ra)*np.random.random_sample(N)\n",
      "    theta = (thetab - thetaa)*np.random.random_sample(N)\n",
      "    phi = (phib - phia)*np.random.random_sample(N)\n",
      "    \n",
      "    I = (rb - ra)*(thetab-thetaa)*(phib - phia)*V(r,theta,phi).mean()\n",
      "    err = (rb - ra)*(thetab-thetaa)*(phib-phia)*np.sqrt(((V(r,theta,phi)**2).mean() - (V(r, theta,phi).mean())**2)/N)  \n",
      "    \n",
      "    print \"I =\", I, \" +/-\", err\n"
     ],
     "language": "python",
     "metadata": {},
     "outputs": [
      {
       "output_type": "stream",
       "stream": "stdout",
       "text": [
        "I = 3.16270247707  +/- 1.33240594348\n",
        "I = 3.30630895803  +/- 0.337668995669\n",
        "I = 3.90053056711  +/- 0.144090508805\n",
        "I = 4.2323459003  +/- 0.0463014725057\n",
        "I = 4.1778785381  +/- 0.014645265769\n",
        "I ="
       ]
      },
      {
       "output_type": "stream",
       "stream": "stdout",
       "text": [
        " 4.19764521751  +/- 0.0046330691651\n"
       ]
      }
     ],
     "prompt_number": 3
    },
    {
     "cell_type": "markdown",
     "metadata": {},
     "source": [
      "    The uncertainty gets less as the N increases"
     ]
    },
    {
     "cell_type": "heading",
     "level": 3,
     "metadata": {},
     "source": [
      "Question 3"
     ]
    },
    {
     "cell_type": "markdown",
     "metadata": {},
     "source": [
      "**(a)** Use the hit or miss Monte Carlo method to estimate the integral of f(x)=41\u2212x2\u203e\u203e\u203e\u203e\u203e\u203e\u203e\u221a in the interval 0\u2264x\u22641 as a function of N, the number of samples. Let N range from 101 to 106 and use at least 100 different values for N.\n",
      "(np.logspace might be useful here to get evenly spaced values for N.)"
     ]
    },
    {
     "cell_type": "code",
     "collapsed": false,
     "input": [
      "f = lambda x: 4*np.sqrt(1- x**2)\n",
      "x = np.arange(0,1.01, 0.01)\n",
      "\n",
      "xmin = 0.; xmax = 1.\n",
      "subx = x[logical_and((x > xmin), (x < xmax))]\n",
      "ymax = f(subx).max()\n",
      "ymin = 0\n",
      "\n",
      "N = np.logspace(1, 6, 100)\n",
      "I = []\n",
      "for i in N:\n",
      "    x = (xmax - xmin) * np.random.random_sample(i);\n",
      "    y = (ymax - ymin) * np.random.random_sample(i);\n",
      "\n",
      "    newmask = y < f(x)\n",
      "    I.append((xmax - xmin)*(ymax - ymin) * newmask.sum()/newmask.size)\n",
      "    \n",
      "plt.plot(N,I)\n",
      "plt.show() "
     ],
     "language": "python",
     "metadata": {},
     "outputs": [
      {
       "metadata": {},
       "output_type": "display_data",
       "png": "[encoded data removed]",
       "text": [
        "<matplotlib.figure.Figure at 0x105e50b50>"
       ]
      }
     ],
     "prompt_number": 4
    },
    {
     "cell_type": "markdown",
     "metadata": {},
     "source": [
      "**(b)** Calculate the percent error for the N values from part (a) using the exact result \u03c0. Make a log-log plot of the error as a function of N.\n",
      "What is the approximate functional dependence of the error on N for large N, for example N\u2265104?"
     ]
    },
    {
     "cell_type": "code",
     "collapsed": false,
     "input": [
      "Iexact = np.pi\n",
      "\n",
      "N = np.logspace(1, 6, 100) \n",
      "Ierr = []\n",
      "for i in range(0, len(I)):\n",
      "    Ierr.append(100* np.abs(Iexact - I[i])/Iexact)\n",
      "\n",
      "plt.loglog(N, Ierr)\n",
      "\n"
     ],
     "language": "python",
     "metadata": {},
     "outputs": [
      {
       "metadata": {},
       "output_type": "pyout",
       "prompt_number": 10,
       "text": [
        "[<matplotlib.lines.Line2D at 0x105e66f50>]"
       ]
      },
      {
       "metadata": {},
       "output_type": "display_data",
       "png": "[encoded data removed]",
       "text": [
        "<matplotlib.figure.Figure at 0x103758290>"
       ]
      }
     ],
     "prompt_number": 10
    },
    {
     "cell_type": "markdown",
     "metadata": {},
     "source": [
      "**(c)** Estimate the same integral using the sample mean method and compute the statistical uncertainty and error as a function of the number of samples N for N\u2265104. Use at least 100 different values for N.\n",
      "Make a log-log plot of both the statistical uncertainty and the error as a function of N.\n",
      "How many samples are needed to determine the result to two decimal places? What is the approximate functional dependence of the error on N for large N?"
     ]
    },
    {
     "cell_type": "code",
     "collapsed": false,
     "input": [
      "f = lambda x: 4*np.sqrt(1- x**2)\n",
      "x = np.arange(0,1.01, 0.01)\n",
      "xmin = 0.; xmax = 1.\n",
      "\n",
      "N = np.logspace(1, 4, 100)\n",
      "\n",
      "Im = []\n",
      "Iunc= []\n",
      "for i in N:\n",
      "    samples_x = xmin + (xmax-xmin)*np.random.random_sample(i)\n",
      "    Im.append((xmax-xmin)* f(samples_x).mean())\n",
      "    Iunc.append((xmax-xmin)*np.sqrt( ((f(samples_x)**2).mean()-(f(samples_x).mean())**2)/i ))\n",
      "    \n",
      "Iexact = np.pi\n",
      "\n",
      "Ierr = []\n",
      "for i in range(0, len(I)):\n",
      "    Ierr.append(100* np.abs(Iexact - Im[i])/Iexact)\n",
      "\n",
      "\n",
      "    \n",
      "plt.plot(N, Im)\n",
      "plt.show()\n",
      "\n",
      "plt.loglog(N, Iunc)\n",
      "plt.loglog(N, Ierr)\n",
      "plt.show()"
     ],
     "language": "python",
     "metadata": {},
     "outputs": [
      {
       "metadata": {},
       "output_type": "display_data",
       "png": "[encoded data removed]",
       "text": [
        "<matplotlib.figure.Figure at 0x102993810>"
       ]
      },
      {
       "metadata": {},
       "output_type": "display_data",
       "png": "[encoded data removed]",
       "text": [
        "<matplotlib.figure.Figure at 0x10605fc50>"
       ]
      }
     ],
     "prompt_number": 20
    },
    {
     "cell_type": "code",
     "collapsed": false,
     "input": [],
     "language": "python",
     "metadata": {},
     "outputs": []
    }
   ],
   "metadata": {}
  }
 ]
}