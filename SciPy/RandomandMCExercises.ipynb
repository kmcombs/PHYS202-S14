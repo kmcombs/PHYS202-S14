{
 "metadata": {
  "name": "",
  "signature": "sha256:a141a3f2fe4dd828609793b5bc7e1aca2219417f66309f209723b24b1f65906a"
 },
 "nbformat": 3,
 "nbformat_minor": 0,
 "worksheets": [
  {
   "cells": [
    {
     "cell_type": "heading",
     "level": 1,
     "metadata": {},
     "source": [
      "Random Numbers, Monte Carlo Sampling and Simulation Exercises"
     ]
    },
    {
     "cell_type": "code",
     "collapsed": false,
     "input": [
      "from IPython.html.widgets import interact, interactive\n",
      "from scipy.integrate import trapz,cumtrapz\n",
      "import numpy as np\n",
      "import matplotlib as plt\n",
      "%pylab inline"
     ],
     "language": "python",
     "metadata": {},
     "outputs": [
      {
       "output_type": "stream",
       "stream": "stdout",
       "text": [
        "Populating the interactive namespace from numpy and matplotlib\n"
       ]
      },
      {
       "output_type": "stream",
       "stream": "stderr",
       "text": [
        "WARNING: pylab import has clobbered these variables: ['beta', 'plt', 'interactive']\n",
        "`%matplotlib` prevents importing * from pylab and numpy\n"
       ]
      }
     ],
     "prompt_number": 2
    },
    {
     "cell_type": "heading",
     "level": 3,
     "metadata": {},
     "source": [
      "Question 1"
     ]
    },
    {
     "cell_type": "markdown",
     "metadata": {},
     "source": [
      "The Weibull distribution, with parameters \u03b1>0 and \u03b2>0 is described by the density function\n",
      "\n",
      "**(a)** Solve for the CDF of the Weibull distribution analytically, using"
     ]
    },
    {
     "cell_type": "code",
     "collapsed": false,
     "input": [
      "f = lambda x: ((alpha*beta)**-alpha)*(x**(alpha - 1))*(e**(-(x/beta)**alpha))\n",
      "F = lambda x: 1 - e**((-x/beta)**alpha)\n",
      "\n"
     ],
     "language": "python",
     "metadata": {},
     "outputs": [],
     "prompt_number": 24
    },
    {
     "cell_type": "markdown",
     "metadata": {},
     "source": [
      "**(b)** Find the inverse of the CDF F\u22121(x) analytically."
     ]
    },
    {
     "cell_type": "code",
     "collapsed": false,
     "input": [
      "Finv = lambda z: (np.log(1. - z)**(1./alpha))*-beta"
     ],
     "language": "python",
     "metadata": {},
     "outputs": [],
     "prompt_number": 26
    },
    {
     "cell_type": "markdown",
     "metadata": {},
     "source": [
      "**(c)** Write a program to generate 10,000 samples from the Weibull distribution and plot the true distribution, the CDF and the sampled distribution as a histogram, all on the same graph. Let \u03b1 = 1.5, \u03b2 = 6.\n",
      "Note: Do not use the built-in Weibull function from numpy.random."
     ]
    },
    {
     "cell_type": "code",
     "collapsed": false,
     "input": [
      "alpha = 1.5\n",
      "beta = 6.\n",
      "x = np.arange(0.02, 5.02, 0.02)\n",
      "f = ((alpha*beta)**-alpha)*(x**(alpha - 1))*(np.exp(-(x/beta)**alpha))\n",
      "F = lambda x: 1 - np.exp(-(x/beta)**alpha)\n",
      "\n",
      "\n",
      "N = 10000\n",
      " \n",
      "z = np.random.random_sample(N);\n",
      " \n",
      "\n",
      "Finv = lambda z: (-beta*np.log(1. - z))**(1./alpha)\n",
      " \n",
      "   \n",
      "xsamples = Finv(z);\n",
      " \n",
      "\n",
      "plt.hist(xsamples,50,label=\"Sampled distribution\")\n",
      "plt.plot(x,f,label='Cumulative distribution',lw=3,color='red')\n",
      "plt.plot(x,F(x) ,label = 'True Distribution')\n",
      "\n",
      "plt.legend(loc='best')\n",
      "plt.show()\n",
      " \n"
     ],
     "language": "python",
     "metadata": {},
     "outputs": [
      {
       "metadata": {},
       "output_type": "display_data",
       "png": "[encoded data removed]",
       "text": [
        "<matplotlib.figure.Figure at 0x1066ff9d0>"
       ]
      }
     ],
     "prompt_number": 23
    },
    {
     "cell_type": "heading",
     "level": 3,
     "metadata": {},
     "source": [
      "Question 2"
     ]
    },
    {
     "cell_type": "markdown",
     "metadata": {},
     "source": [
      "**(a)** Write a program that uses the Rejection Sampling Method to generate a set of 10,000 samples from this distribution and plot the density distribution, the CDF, and a histogram of the sampled distribution on the same graph."
     ]
    },
    {
     "cell_type": "code",
     "collapsed": false,
     "input": [
      "f = lambda x: 60*(x**3)*(1- x)**2\n",
      "xmin = 0.\n",
      "xmax = 1.\n",
      "\n",
      "N = 10000\n",
      "samples_x = xmin +(xmax-xmin)*np.random.random_sample(N);\n",
      "\n",
      "samplex = f(x)\n",
      "plt.hist(samplex, 50)"
     ],
     "language": "python",
     "metadata": {},
     "outputs": [
      {
       "metadata": {},
       "output_type": "pyout",
       "prompt_number": 24,
       "text": [
        "(array([ 127.,   15.,   10.,    8.,    6.,    5.,    5.,    4.,    4.,\n",
        "           3.,    3.,    3.,    3.,    3.,    2.,    2.,    2.,    3.,\n",
        "           2.,    1.,    2.,    2.,    2.,    2.,    1.,    2.,    1.,\n",
        "           2.,    1.,    1.,    2.,    1.,    1.,    2.,    1.,    1.,\n",
        "           1.,    1.,    1.,    2.,    1.,    1.,    1.,    1.,    1.,\n",
        "           1.,    1.,    1.,    1.,    1.]),\n",
        " array([      0.,    2400.,    4800.,    7200.,    9600.,   12000.,\n",
        "          14400.,   16800.,   19200.,   21600.,   24000.,   26400.,\n",
        "          28800.,   31200.,   33600.,   36000.,   38400.,   40800.,\n",
        "          43200.,   45600.,   48000.,   50400.,   52800.,   55200.,\n",
        "          57600.,   60000.,   62400.,   64800.,   67200.,   69600.,\n",
        "          72000.,   74400.,   76800.,   79200.,   81600.,   84000.,\n",
        "          86400.,   88800.,   91200.,   93600.,   96000.,   98400.,\n",
        "         100800.,  103200.,  105600.,  108000.,  110400.,  112800.,\n",
        "         115200.,  117600.,  120000.]),\n",
        " <a list of 50 Patch objects>)"
       ]
      },
      {
       "metadata": {},
       "output_type": "display_data",
       "png": "[encoded data removed]",
       "text": [
        "<matplotlib.figure.Figure at 0x1066dbf90>"
       ]
      }
     ],
     "prompt_number": 24
    },
    {
     "cell_type": "code",
     "collapsed": false,
     "input": [],
     "language": "python",
     "metadata": {},
     "outputs": []
    },
    {
     "cell_type": "code",
     "collapsed": false,
     "input": [],
     "language": "python",
     "metadata": {},
     "outputs": []
    },
    {
     "cell_type": "code",
     "collapsed": false,
     "input": [],
     "language": "python",
     "metadata": {},
     "outputs": []
    },
    {
     "cell_type": "code",
     "collapsed": false,
     "input": [],
     "language": "python",
     "metadata": {},
     "outputs": []
    },
    {
     "cell_type": "heading",
     "level": 3,
     "metadata": {},
     "source": [
      "Question 3"
     ]
    },
    {
     "cell_type": "markdown",
     "metadata": {},
     "source": [
      "**(a)** Plot the Woods-Saxon distribution \u03c1(r) and r2\u03c1(r) for gold from r = 0 fm to r = 18 fm."
     ]
    },
    {
     "cell_type": "code",
     "collapsed": false,
     "input": [
      "r = np.arange(0., 18.001, 0.001)\n",
      "p = lambda r: (p0*(1+ ((w*(r**2))/(R**2))))/(1 + e**((r-R)/a))\n",
      "p2 = lambda r: (r**2)*(p0*(1+ ((w*(r**2))/(R**2))))/(1 + e**((r-R)/a))\n",
      "#Gold parameters\n",
      "R = 6.38\n",
      "a = 0.535\n",
      "w = 0\n",
      "p0 = 197/6.38\n",
      "\n",
      "plt.plot(r, p(r), label = \"p(r)\")\n",
      "plt.plot(r, p2(r), label = \"r^2p(r)\")\n",
      "plt.legend()\n",
      "plt.show()"
     ],
     "language": "python",
     "metadata": {},
     "outputs": [
      {
       "metadata": {},
       "output_type": "display_data",
       "png": "[encoded data removed]",
       "text": [
        "<matplotlib.figure.Figure at 0x10651e290>"
       ]
      }
     ],
     "prompt_number": 15
    },
    {
     "cell_type": "markdown",
     "metadata": {},
     "source": [
      "**(b)** Let\u2019s create a realistic distribution for two gold ions, A, and B.\n",
      "First, distribute 197 nucleons for each nucleus using the Woods-Saxon distribution multiplied by the spherical coordinate weighting factor, r2. Use the distribute1d function from the tour to sample r values numerically.\n",
      "Then, use uniform sampling of a number u from [0,1) scaled by 2\u03c0 to obtain the azimuthal angle \u03d5 = 2\u03c0u\n",
      "Followed by uniform sampling of another number v = [0,1), transformed to \u03b8=cos\u22121(2v\u22121) to obtain the polar angle \u03b8.\n",
      "(Note that this is the physics definition of azimuthal and polar angles, not the math definition.)\n",
      "The reason for these transformations is that the volume element dV=r2sin\u03b8drd\u03b8d\u03d5 has both radial and polar angle dependence. If you do not sample in this way, your results will be bunched up at the poles and toward the outer edges of the sphere."
     ]
    },
    {
     "cell_type": "code",
     "collapsed": false,
     "input": [
      "def distribute1D(x,prob,N):\n",
      "    \"\"\"takes any distribution which is directly proportional \n",
      "    to the number of particles, and returns data that is \n",
      "    statistically the same as the input data.\"\"\"\n",
      "    CDF = cumtrapz(prob)/np.sum(prob)\n",
      "    xsamples = np.zeros(N,float)\n",
      "    for i in range(0,N):\n",
      "        r = np.random.ranf()\n",
      "        xsamples[i] = x[CDF.searchsorted(r)]\n",
      "    return xsamples\n",
      "\n",
      "p2 = lambda r: (r**2)*(p0*(1+ ((w*(r**2))/(R**2))))/(1 + e**((r-R)/a))\n",
      "r = np.linspace(0., 18.0, 197)\n",
      "distribute1D(r, p2, 197)\n"
     ],
     "language": "python",
     "metadata": {},
     "outputs": [
      {
       "ename": "IndexError",
       "evalue": "list assignment index out of range",
       "output_type": "pyerr",
       "traceback": [
        "\u001b[0;31m---------------------------------------------------------------------------\u001b[0m\n\u001b[0;31mIndexError\u001b[0m                                Traceback (most recent call last)",
        "\u001b[0;32m<ipython-input-23-918e7b6aece2>\u001b[0m in \u001b[0;36m<module>\u001b[0;34m()\u001b[0m\n\u001b[1;32m     12\u001b[0m \u001b[0mp2\u001b[0m \u001b[0;34m=\u001b[0m \u001b[0;32mlambda\u001b[0m \u001b[0mr\u001b[0m\u001b[0;34m:\u001b[0m \u001b[0;34m(\u001b[0m\u001b[0mr\u001b[0m\u001b[0;34m**\u001b[0m\u001b[0;36m2\u001b[0m\u001b[0;34m)\u001b[0m\u001b[0;34m*\u001b[0m\u001b[0;34m(\u001b[0m\u001b[0mp0\u001b[0m\u001b[0;34m*\u001b[0m\u001b[0;34m(\u001b[0m\u001b[0;36m1\u001b[0m\u001b[0;34m+\u001b[0m \u001b[0;34m(\u001b[0m\u001b[0;34m(\u001b[0m\u001b[0mw\u001b[0m\u001b[0;34m*\u001b[0m\u001b[0;34m(\u001b[0m\u001b[0mr\u001b[0m\u001b[0;34m**\u001b[0m\u001b[0;36m2\u001b[0m\u001b[0;34m)\u001b[0m\u001b[0;34m)\u001b[0m\u001b[0;34m/\u001b[0m\u001b[0;34m(\u001b[0m\u001b[0mR\u001b[0m\u001b[0;34m**\u001b[0m\u001b[0;36m2\u001b[0m\u001b[0;34m)\u001b[0m\u001b[0;34m)\u001b[0m\u001b[0;34m)\u001b[0m\u001b[0;34m)\u001b[0m\u001b[0;34m/\u001b[0m\u001b[0;34m(\u001b[0m\u001b[0;36m1\u001b[0m \u001b[0;34m+\u001b[0m \u001b[0me\u001b[0m\u001b[0;34m**\u001b[0m\u001b[0;34m(\u001b[0m\u001b[0;34m(\u001b[0m\u001b[0mr\u001b[0m\u001b[0;34m-\u001b[0m\u001b[0mR\u001b[0m\u001b[0;34m)\u001b[0m\u001b[0;34m/\u001b[0m\u001b[0ma\u001b[0m\u001b[0;34m)\u001b[0m\u001b[0;34m)\u001b[0m\u001b[0;34m\u001b[0m\u001b[0m\n\u001b[1;32m     13\u001b[0m \u001b[0mr\u001b[0m \u001b[0;34m=\u001b[0m \u001b[0mnp\u001b[0m\u001b[0;34m.\u001b[0m\u001b[0mlinspace\u001b[0m\u001b[0;34m(\u001b[0m\u001b[0;36m0.\u001b[0m\u001b[0;34m,\u001b[0m \u001b[0;36m18.0\u001b[0m\u001b[0;34m,\u001b[0m \u001b[0;36m197\u001b[0m\u001b[0;34m)\u001b[0m\u001b[0;34m\u001b[0m\u001b[0m\n\u001b[0;32m---> 14\u001b[0;31m \u001b[0mdistribute1D\u001b[0m\u001b[0;34m(\u001b[0m\u001b[0mr\u001b[0m\u001b[0;34m,\u001b[0m \u001b[0mp2\u001b[0m\u001b[0;34m,\u001b[0m \u001b[0;36m197\u001b[0m\u001b[0;34m)\u001b[0m\u001b[0;34m\u001b[0m\u001b[0m\n\u001b[0m",
        "\u001b[0;32m<ipython-input-23-918e7b6aece2>\u001b[0m in \u001b[0;36mdistribute1D\u001b[0;34m(x, prob, N)\u001b[0m\n\u001b[1;32m      3\u001b[0m     \u001b[0mto\u001b[0m \u001b[0mthe\u001b[0m \u001b[0mnumber\u001b[0m \u001b[0mof\u001b[0m \u001b[0mparticles\u001b[0m\u001b[0;34m,\u001b[0m \u001b[0;32mand\u001b[0m \u001b[0mreturns\u001b[0m \u001b[0mdata\u001b[0m \u001b[0mthat\u001b[0m \u001b[0;32mis\u001b[0m\u001b[0;34m\u001b[0m\u001b[0m\n\u001b[1;32m      4\u001b[0m     statistically the same as the input data.\"\"\"\n\u001b[0;32m----> 5\u001b[0;31m     \u001b[0mCDF\u001b[0m \u001b[0;34m=\u001b[0m \u001b[0mcumtrapz\u001b[0m\u001b[0;34m(\u001b[0m\u001b[0mprob\u001b[0m\u001b[0;34m)\u001b[0m\u001b[0;34m/\u001b[0m\u001b[0mnp\u001b[0m\u001b[0;34m.\u001b[0m\u001b[0msum\u001b[0m\u001b[0;34m(\u001b[0m\u001b[0mprob\u001b[0m\u001b[0;34m)\u001b[0m\u001b[0;34m\u001b[0m\u001b[0m\n\u001b[0m\u001b[1;32m      6\u001b[0m     \u001b[0mxsamples\u001b[0m \u001b[0;34m=\u001b[0m \u001b[0mnp\u001b[0m\u001b[0;34m.\u001b[0m\u001b[0mzeros\u001b[0m\u001b[0;34m(\u001b[0m\u001b[0mN\u001b[0m\u001b[0;34m,\u001b[0m\u001b[0mfloat\u001b[0m\u001b[0;34m)\u001b[0m\u001b[0;34m\u001b[0m\u001b[0m\n\u001b[1;32m      7\u001b[0m     \u001b[0;32mfor\u001b[0m \u001b[0mi\u001b[0m \u001b[0;32min\u001b[0m \u001b[0mrange\u001b[0m\u001b[0;34m(\u001b[0m\u001b[0;36m0\u001b[0m\u001b[0;34m,\u001b[0m\u001b[0mN\u001b[0m\u001b[0;34m)\u001b[0m\u001b[0;34m:\u001b[0m\u001b[0;34m\u001b[0m\u001b[0m\n",
        "\u001b[0;32m/Applications/anaconda/lib/python2.7/site-packages/scipy/integrate/quadrature.pyc\u001b[0m in \u001b[0;36mcumtrapz\u001b[0;34m(y, x, dx, axis, initial)\u001b[0m\n\u001b[1;32m    247\u001b[0m \u001b[0;34m\u001b[0m\u001b[0m\n\u001b[1;32m    248\u001b[0m     \u001b[0mnd\u001b[0m \u001b[0;34m=\u001b[0m \u001b[0mlen\u001b[0m\u001b[0;34m(\u001b[0m\u001b[0my\u001b[0m\u001b[0;34m.\u001b[0m\u001b[0mshape\u001b[0m\u001b[0;34m)\u001b[0m\u001b[0;34m\u001b[0m\u001b[0m\n\u001b[0;32m--> 249\u001b[0;31m     \u001b[0mslice1\u001b[0m \u001b[0;34m=\u001b[0m \u001b[0mtupleset\u001b[0m\u001b[0;34m(\u001b[0m\u001b[0;34m(\u001b[0m\u001b[0mslice\u001b[0m\u001b[0;34m(\u001b[0m\u001b[0mNone\u001b[0m\u001b[0;34m)\u001b[0m\u001b[0;34m,\u001b[0m\u001b[0;34m)\u001b[0m\u001b[0;34m*\u001b[0m\u001b[0mnd\u001b[0m\u001b[0;34m,\u001b[0m \u001b[0maxis\u001b[0m\u001b[0;34m,\u001b[0m \u001b[0mslice\u001b[0m\u001b[0;34m(\u001b[0m\u001b[0;36m1\u001b[0m\u001b[0;34m,\u001b[0m \u001b[0mNone\u001b[0m\u001b[0;34m)\u001b[0m\u001b[0;34m)\u001b[0m\u001b[0;34m\u001b[0m\u001b[0m\n\u001b[0m\u001b[1;32m    250\u001b[0m     \u001b[0mslice2\u001b[0m \u001b[0;34m=\u001b[0m \u001b[0mtupleset\u001b[0m\u001b[0;34m(\u001b[0m\u001b[0;34m(\u001b[0m\u001b[0mslice\u001b[0m\u001b[0;34m(\u001b[0m\u001b[0mNone\u001b[0m\u001b[0;34m)\u001b[0m\u001b[0;34m,\u001b[0m\u001b[0;34m)\u001b[0m\u001b[0;34m*\u001b[0m\u001b[0mnd\u001b[0m\u001b[0;34m,\u001b[0m \u001b[0maxis\u001b[0m\u001b[0;34m,\u001b[0m \u001b[0mslice\u001b[0m\u001b[0;34m(\u001b[0m\u001b[0mNone\u001b[0m\u001b[0;34m,\u001b[0m \u001b[0;34m-\u001b[0m\u001b[0;36m1\u001b[0m\u001b[0;34m)\u001b[0m\u001b[0;34m)\u001b[0m\u001b[0;34m\u001b[0m\u001b[0m\n\u001b[1;32m    251\u001b[0m     \u001b[0mres\u001b[0m \u001b[0;34m=\u001b[0m \u001b[0madd\u001b[0m\u001b[0;34m.\u001b[0m\u001b[0maccumulate\u001b[0m\u001b[0;34m(\u001b[0m\u001b[0md\u001b[0m \u001b[0;34m*\u001b[0m \u001b[0;34m(\u001b[0m\u001b[0my\u001b[0m\u001b[0;34m[\u001b[0m\u001b[0mslice1\u001b[0m\u001b[0;34m]\u001b[0m \u001b[0;34m+\u001b[0m \u001b[0my\u001b[0m\u001b[0;34m[\u001b[0m\u001b[0mslice2\u001b[0m\u001b[0;34m]\u001b[0m\u001b[0;34m)\u001b[0m \u001b[0;34m/\u001b[0m \u001b[0;36m2.0\u001b[0m\u001b[0;34m,\u001b[0m \u001b[0maxis\u001b[0m\u001b[0;34m)\u001b[0m\u001b[0;34m\u001b[0m\u001b[0m\n",
        "\u001b[0;32m/Applications/anaconda/lib/python2.7/site-packages/scipy/integrate/quadrature.pyc\u001b[0m in \u001b[0;36mtupleset\u001b[0;34m(t, i, value)\u001b[0m\n\u001b[1;32m    182\u001b[0m \u001b[0;32mdef\u001b[0m \u001b[0mtupleset\u001b[0m\u001b[0;34m(\u001b[0m\u001b[0mt\u001b[0m\u001b[0;34m,\u001b[0m \u001b[0mi\u001b[0m\u001b[0;34m,\u001b[0m \u001b[0mvalue\u001b[0m\u001b[0;34m)\u001b[0m\u001b[0;34m:\u001b[0m\u001b[0;34m\u001b[0m\u001b[0m\n\u001b[1;32m    183\u001b[0m     \u001b[0ml\u001b[0m \u001b[0;34m=\u001b[0m \u001b[0mlist\u001b[0m\u001b[0;34m(\u001b[0m\u001b[0mt\u001b[0m\u001b[0;34m)\u001b[0m\u001b[0;34m\u001b[0m\u001b[0m\n\u001b[0;32m--> 184\u001b[0;31m     \u001b[0ml\u001b[0m\u001b[0;34m[\u001b[0m\u001b[0mi\u001b[0m\u001b[0;34m]\u001b[0m \u001b[0;34m=\u001b[0m \u001b[0mvalue\u001b[0m\u001b[0;34m\u001b[0m\u001b[0m\n\u001b[0m\u001b[1;32m    185\u001b[0m     \u001b[0;32mreturn\u001b[0m \u001b[0mtuple\u001b[0m\u001b[0;34m(\u001b[0m\u001b[0ml\u001b[0m\u001b[0;34m)\u001b[0m\u001b[0;34m\u001b[0m\u001b[0m\n\u001b[1;32m    186\u001b[0m \u001b[0;34m\u001b[0m\u001b[0m\n",
        "\u001b[0;31mIndexError\u001b[0m: list assignment index out of range"
       ]
      }
     ],
     "prompt_number": 23
    },
    {
     "cell_type": "code",
     "collapsed": false,
     "input": [],
     "language": "python",
     "metadata": {},
     "outputs": []
    }
   ],
   "metadata": {}
  }
 ]
}