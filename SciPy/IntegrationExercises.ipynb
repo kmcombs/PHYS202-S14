{
 "metadata": {
  "name": "",
  "signature": "sha256:02c579ef3d66e9f0dd65c5a23ce163bcbbcaef46dc98cb7bba70cf2f43b8d1fa"
 },
 "nbformat": 3,
 "nbformat_minor": 0,
 "worksheets": [
  {
   "cells": [
    {
     "cell_type": "heading",
     "level": 1,
     "metadata": {},
     "source": [
      "Integration Exercises"
     ]
    },
    {
     "cell_type": "code",
     "collapsed": false,
     "input": [
      "%pylab inline"
     ],
     "language": "python",
     "metadata": {},
     "outputs": [
      {
       "output_type": "stream",
       "stream": "stdout",
       "text": [
        "Populating the interactive namespace from numpy and matplotlib\n"
       ]
      }
     ],
     "prompt_number": 2
    },
    {
     "cell_type": "heading",
     "level": 3,
     "metadata": {},
     "source": [
      "Question 1"
     ]
    },
    {
     "cell_type": "markdown",
     "metadata": {},
     "source": [
      "**(a)** Write two functions trapz(func,a,b,N) and simps(func,a,b,N) to compute the integral of the function func over the variable x using the trapezoidal rule and Simpson's rule to a file called Integrators.py. Do not use the scipy.integrate built-in functions. Include docstrings with each function that describe what they do. Then import the module and use the functions to answer the following questions. To avoid namespace conflicts, import your module as myint and then call the functions from that namespace. i.e.\n",
      "\n",
      "    import integrators as myint\n",
      "    #...your code...here\n",
      "    I = myint.trapz(func,a,b,N)\n",
      "Also, be sure that you import any needed modules inside your Integrators.py file."
     ]
    },
    {
     "cell_type": "code",
     "collapsed": false,
     "input": [
      "%%file Integrators.py\n",
      "\n",
      "import numpy as np\n",
      "\n",
      "def trapz(func, a, b, N):\n",
      "    \"\"\"Input your function, lower limit(float), upper limit(float), and the number of trapezoids\n",
      "    you wish. The function will return the integreal using the trapezoidal rule.\"\"\"\n",
      "    h = (b-a)/N\n",
      "    k = np.arange(1, N)\n",
      "    I = h*(0.5*func(a) + 0.5*func(b) + func(a+k*h).sum())\n",
      "    return I \n",
      "\n",
      "def simps(func, a, b, N):\n",
      "    \"\"\"Input your function, lower limit(as a float), upper limit(as a float), and the number of steps\n",
      "    you wish. The function will return the integral using the Simpson's rule\"\"\"\n",
      "    h = (b-a)/N\n",
      "    k1 = np.arange(1,N/2+1)\n",
      "    k2 = np.arange(1,N/2)\n",
      "    I = (1./3.)*h*(func(a) + func(b) + 4.*func(a+(2*k1-1)*h).sum() + 2.*func(a+2*k2*h).sum())\n",
      "    return I"
     ],
     "language": "python",
     "metadata": {},
     "outputs": [
      {
       "output_type": "stream",
       "stream": "stdout",
       "text": [
        "Writing Integrators.py\n"
       ]
      }
     ],
     "prompt_number": 3
    },
    {
     "cell_type": "markdown",
     "metadata": {},
     "source": [
      "**(b)** Use your trapz and simps functions from part (a) to calculate the integral of x4\u22122x+1 from x = 0 to x = 2 with N = 10, N = 100, and N = 1000. Then compare your result to the known correct value of 4.4. What is the percent error in each case?"
     ]
    },
    {
     "cell_type": "code",
     "collapsed": false,
     "input": [
      "import Integrators as myint\n",
      "\n",
      "func = lambda x: x**4 - 2*x + 1\n",
      "\n",
      "print \"Trapz, N = 10 :\", myint.trapz(func, 0., 2., 10)\n",
      "print \"   Percent Error = \", ((myint.trapz(func, 0., 2., 10)/4.4) -1) * 100\n",
      "print \"Trapz, N = 100 :\", myint.trapz(func, 0., 2., 100)\n",
      "print \"   Percent Error = \", ((myint.trapz(func, 0., 2., 100)/4.4)-1) * 100\n",
      "print \"Trapz, N = 1000 :\", myint.trapz(func, 0., 2., 1000)\n",
      "print \"   Percent Error = \", ((myint.trapz(func, 0., 2., 1000)/4.4)-1) * 100\n",
      "\n",
      "print \"Simps, N = 10 :\", myint.simps(func, 0., 2., 10)\n",
      "print \"   Percent Error = \", ((myint.simps(func, 0., 2., 10)/4.4)-1) * 100\n",
      "print \"Simps, N = 100 :\", myint.simps(func, 0., 2., 100)\n",
      "print \"   Percent Error = \", ((myint.simps(func, 0., 2., 100)/4.4)-1) * 100\n",
      "print \"Simps, N = 1000 :\", myint.simps(func, 0., 2., 1000)\n",
      "print \"   Percent Error = \", ((myint.simps(func, 0., 2., 1000)/4.4)-1) * 100"
     ],
     "language": "python",
     "metadata": {},
     "outputs": [
      {
       "output_type": "stream",
       "stream": "stdout",
       "text": [
        "Trapz, N = 10 : 4.50656\n",
        "   Percent Error =  2.42181818182\n",
        "Trapz, N = 100 : 4.401066656\n",
        "   Percent Error =  0.0242421818182\n",
        "Trapz, N = 1000 : 4.40001066667\n",
        "   Percent Error =  0.000242424218166\n",
        "Simps, N = 10 : 4.40042666667\n",
        "   Percent Error =  0.00969696969697\n",
        "Simps, N = 100 : 4.40000004267\n",
        "   Percent Error =  9.69696967168e-07\n",
        "Simps, N = 1000 : 4.4\n",
        "   Percent Error =  9.69668789708e-11\n"
       ]
      }
     ],
     "prompt_number": 4
    },
    {
     "cell_type": "heading",
     "level": 3,
     "metadata": {},
     "source": [
      "Question 2"
     ]
    },
    {
     "cell_type": "markdown",
     "metadata": {},
     "source": [
      "Consider the integral\n",
      "\n",
      "E(x)=\u222bx0e\u2212t2dt\n",
      "\n",
      "This is the error function, commonly seen in probability and statistics. There is no known way to perform this particular integral analytically, although the integrand can be expanded in a Taylor series and terms computed to arbitrary order. For most applications, numerical approaches are the only way forward.\n",
      "\n",
      "**(a)** Use scipy.integrate.cumtrapz to calculate E(x) for values of x from 0 to 3 in steps of 0.1. Print the result."
     ]
    },
    {
     "cell_type": "code",
     "collapsed": false,
     "input": [
      "import scipy.integrate as integrate"
     ],
     "language": "python",
     "metadata": {},
     "outputs": [],
     "prompt_number": 5
    },
    {
     "cell_type": "code",
     "collapsed": false,
     "input": [
      "E = lambda t: np.exp(-t**2)\n",
      "x = np.arange(0., 3.1, .1)\n",
      "print integrate.cumtrapz(E(x), x)\n"
     ],
     "language": "python",
     "metadata": {},
     "outputs": [
      {
       "output_type": "stream",
       "stream": "stdout",
       "text": [
        "[ 0.09950249  0.19704446  0.29078049  0.37908424  0.46063146  0.53445532\n",
        "  0.59997046  0.6569664   0.70557392  0.7462108   0.77951463  0.80627088\n",
        "  0.82734325  0.84361215  0.85592503  0.86506023  0.87170427  0.87644128\n",
        "  0.87975207  0.88202044  0.88354398  0.88454709  0.88519453  0.88560418\n",
        "  0.88585826  0.88601274  0.88610482  0.88615862  0.88618943  0.88620673]\n"
       ]
      }
     ],
     "prompt_number": 6
    },
    {
     "cell_type": "markdown",
     "metadata": {},
     "source": [
      "**(b)** Plot the integrand as a function of t and E(x) as a function of x (both ranging from 0 to 3) on the same graph."
     ]
    },
    {
     "cell_type": "code",
     "collapsed": false,
     "input": [
      "t = np.arange(0., 3.1, .1)\n",
      "x = np.arange(0., 3.1, .1)\n",
      "Eint = integrate.cumtrapz(E(x), x)\n",
      "plt.plot(E(x), x)\n",
      "plt.plot(Eint(x), x)\n",
      "plt.show()"
     ],
     "language": "python",
     "metadata": {},
     "outputs": [
      {
       "ename": "TypeError",
       "evalue": "'numpy.ndarray' object is not callable",
       "output_type": "pyerr",
       "traceback": [
        "\u001b[0;31m---------------------------------------------------------------------------\u001b[0m\n\u001b[0;31mTypeError\u001b[0m                                 Traceback (most recent call last)",
        "\u001b[0;32m<ipython-input-10-d4ac0f81bbc4>\u001b[0m in \u001b[0;36m<module>\u001b[0;34m()\u001b[0m\n\u001b[1;32m      3\u001b[0m \u001b[0mEint\u001b[0m \u001b[0;34m=\u001b[0m \u001b[0mintegrate\u001b[0m\u001b[0;34m.\u001b[0m\u001b[0mcumtrapz\u001b[0m\u001b[0;34m(\u001b[0m\u001b[0mE\u001b[0m\u001b[0;34m(\u001b[0m\u001b[0mx\u001b[0m\u001b[0;34m)\u001b[0m\u001b[0;34m,\u001b[0m \u001b[0mx\u001b[0m\u001b[0;34m)\u001b[0m\u001b[0;34m\u001b[0m\u001b[0m\n\u001b[1;32m      4\u001b[0m \u001b[0mplt\u001b[0m\u001b[0;34m.\u001b[0m\u001b[0mplot\u001b[0m\u001b[0;34m(\u001b[0m\u001b[0mE\u001b[0m\u001b[0;34m(\u001b[0m\u001b[0mx\u001b[0m\u001b[0;34m)\u001b[0m\u001b[0;34m,\u001b[0m \u001b[0mx\u001b[0m\u001b[0;34m)\u001b[0m\u001b[0;34m\u001b[0m\u001b[0m\n\u001b[0;32m----> 5\u001b[0;31m \u001b[0mplt\u001b[0m\u001b[0;34m.\u001b[0m\u001b[0mplot\u001b[0m\u001b[0;34m(\u001b[0m\u001b[0mEint\u001b[0m\u001b[0;34m(\u001b[0m\u001b[0mx\u001b[0m\u001b[0;34m)\u001b[0m\u001b[0;34m,\u001b[0m \u001b[0mx\u001b[0m\u001b[0;34m)\u001b[0m\u001b[0;34m\u001b[0m\u001b[0m\n\u001b[0m\u001b[1;32m      6\u001b[0m \u001b[0mplt\u001b[0m\u001b[0;34m.\u001b[0m\u001b[0mshow\u001b[0m\u001b[0;34m(\u001b[0m\u001b[0;34m)\u001b[0m\u001b[0;34m\u001b[0m\u001b[0m\n",
        "\u001b[0;31mTypeError\u001b[0m: 'numpy.ndarray' object is not callable"
       ]
      },
      {
       "metadata": {},
       "output_type": "display_data",
       "png": "[encoded data removed]",
       "text": [
        "<matplotlib.figure.Figure at 0x106071e90>"
       ]
      }
     ],
     "prompt_number": 10
    },
    {
     "cell_type": "heading",
     "level": 3,
     "metadata": {},
     "source": [
      "Question 3"
     ]
    },
    {
     "cell_type": "markdown",
     "metadata": {},
     "source": [
      "Consider a particle in a one-dimensional box of width L. The probability of finding the particle between a and b is given by\n",
      "\n",
      "P(a,b)=\u222bba|\u03c8(x)|2dx\n",
      "\n",
      "where\n",
      "\n",
      "\u03c8(x)=2L\u203e\u203e\u203e\u221asin(n\u03c0xL)\n",
      "\n",
      "is the wavefunction.\n",
      "\n",
      "**(a)** What is the probability of finding the particle between L/3 and L/2 for the ground state (n = 1) and for the first excited state (n = 2)? Let L = 1. Perform the integral using both scipy.integrate.trapz and scipy.integrate.quad with an accuracy of 6 sig figs. How many slices did you need to use for scipy.integrate.trapz?"
     ]
    },
    {
     "cell_type": "code",
     "collapsed": false,
     "input": [
      "L = 1.\n",
      "n = 2.\n",
      "wave = lambda x: (np.sqrt(2./L) * np.sin(n * np.pi * x/ L)) ** 2.\n",
      "a = L/3.\n",
      "b = L/2.\n",
      "x = np.arange(a, b)\n",
      "print integrate.trapz(wave(x), x)"
     ],
     "language": "python",
     "metadata": {},
     "outputs": [
      {
       "output_type": "stream",
       "stream": "stdout",
       "text": [
        "0.0\n"
       ]
      }
     ],
     "prompt_number": 58
    },
    {
     "cell_type": "code",
     "collapsed": false,
     "input": [
      "trapz?"
     ],
     "language": "python",
     "metadata": {},
     "outputs": [],
     "prompt_number": 52
    },
    {
     "cell_type": "code",
     "collapsed": false,
     "input": [],
     "language": "python",
     "metadata": {},
     "outputs": []
    }
   ],
   "metadata": {}
  }
 ]
}