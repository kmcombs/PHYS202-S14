{
 "metadata": {
  "name": "",
  "signature": "sha256:f34dfb9212eb5a4675236c99d46c44f8e7c62c9018c5aafd6a5844c286e181bd"
 },
 "nbformat": 3,
 "nbformat_minor": 0,
 "worksheets": [
  {
   "cells": [
    {
     "cell_type": "heading",
     "level": 1,
     "metadata": {},
     "source": [
      "Integration Exercises"
     ]
    },
    {
     "cell_type": "code",
     "collapsed": false,
     "input": [
      "%pylab inline"
     ],
     "language": "python",
     "metadata": {},
     "outputs": [
      {
       "output_type": "stream",
       "stream": "stdout",
       "text": [
        "Populating the interactive namespace from numpy and matplotlib\n"
       ]
      }
     ],
     "prompt_number": 1
    },
    {
     "cell_type": "heading",
     "level": 3,
     "metadata": {},
     "source": [
      "Question 1"
     ]
    },
    {
     "cell_type": "markdown",
     "metadata": {},
     "source": [
      "**(a)** Write two functions trapz(func,a,b,N) and simps(func,a,b,N) to compute the integral of the function func over the variable x using the trapezoidal rule and Simpson's rule to a file called Integrators.py. Do not use the scipy.integrate built-in functions. Include docstrings with each function that describe what they do. Then import the module and use the functions to answer the following questions. To avoid namespace conflicts, import your module as myint and then call the functions from that namespace. i.e.\n",
      "\n",
      "    import integrators as myint\n",
      "    #...your code...here\n",
      "    I = myint.trapz(func,a,b,N)\n",
      "Also, be sure that you import any needed modules inside your Integrators.py file."
     ]
    },
    {
     "cell_type": "code",
     "collapsed": false,
     "input": [
      "%%file Integrators.py\n",
      "\n",
      "import numpy as np\n",
      "\n",
      "def trapz(func, a, b, N):\n",
      "    \"\"\"Input your function, lower limit(float), upper limit(float), and the number of trapezoids\n",
      "    you wish. The function will return the integreal using the trapezoidal rule.\"\"\"\n",
      "    h = (b-a)/N\n",
      "    k = np.arange(1, N)\n",
      "    I = h*(0.5*func(a) + 0.5*func(b) + func(a+k*h).sum())\n",
      "    return I \n",
      "\n",
      "def simps(func, a, b, N):\n",
      "    \"\"\"Input your function, lower limit(as a float), upper limit(as a float), and the number of steps\n",
      "    you wish. The function will return the integral using the Simpson's rule\"\"\"\n",
      "    h = (b-a)/N\n",
      "    k1 = np.arange(1,N/2+1)\n",
      "    k2 = np.arange(1,N/2)\n",
      "    I = (1./3.)*h*(func(a) + func(b) + 4.*func(a+(2*k1-1)*h).sum() + 2.*func(a+2*k2*h).sum())\n",
      "    return I"
     ],
     "language": "python",
     "metadata": {},
     "outputs": [
      {
       "output_type": "stream",
       "stream": "stdout",
       "text": [
        "Overwriting Integrators.py\n"
       ]
      }
     ],
     "prompt_number": 2
    },
    {
     "cell_type": "markdown",
     "metadata": {},
     "source": [
      "**(b)** Use your trapz and simps functions from part (a) to calculate the integral of x4\u22122x+1 from x = 0 to x = 2 with N = 10, N = 100, and N = 1000. Then compare your result to the known correct value of 4.4. What is the percent error in each case?"
     ]
    },
    {
     "cell_type": "code",
     "collapsed": false,
     "input": [
      "import Integrators as myint\n",
      "\n",
      "func = lambda x: x**4 - 2*x + 1\n",
      "\n",
      "print \"Trapz, N = 10 :\", myint.trapz(func, 0., 2., 10)\n",
      "print \"   Percent Error = \", ((myint.trapz(func, 0., 2., 10)/4.4) -1) * 100\n",
      "print \"Trapz, N = 100 :\", myint.trapz(func, 0., 2., 100)\n",
      "print \"   Percent Error = \", ((myint.trapz(func, 0., 2., 100)/4.4)-1) * 100\n",
      "print \"Trapz, N = 1000 :\", myint.trapz(func, 0., 2., 1000)\n",
      "print \"   Percent Error = \", ((myint.trapz(func, 0., 2., 1000)/4.4)-1) * 100\n",
      "\n",
      "print \"Simps, N = 10 :\", myint.simps(func, 0., 2., 10)\n",
      "print \"   Percent Error = \", ((myint.simps(func, 0., 2., 10)/4.4)-1) * 100\n",
      "print \"Simps, N = 100 :\", myint.simps(func, 0., 2., 100)\n",
      "print \"   Percent Error = \", ((myint.simps(func, 0., 2., 100)/4.4)-1) * 100\n",
      "print \"Simps, N = 1000 :\", myint.simps(func, 0., 2., 1000)\n",
      "print \"   Percent Error = \", ((myint.simps(func, 0., 2., 1000)/4.4)-1) * 100"
     ],
     "language": "python",
     "metadata": {},
     "outputs": [
      {
       "output_type": "stream",
       "stream": "stdout",
       "text": [
        "Trapz, N = 10 : 4.50656\n",
        "   Percent Error =  2.42181818182\n",
        "Trapz, N = 100 : 4.401066656\n",
        "   Percent Error =  0.0242421818182\n",
        "Trapz, N = 1000 : 4.40001066667\n",
        "   Percent Error =  0.000242424218166\n",
        "Simps, N = 10 : 4.40042666667\n",
        "   Percent Error =  0.00969696969697\n",
        "Simps, N = 100 : 4.40000004267\n",
        "   Percent Error =  9.69696967168e-07\n",
        "Simps, N = 1000 : 4.4\n",
        "   Percent Error =  9.69668789708e-11\n"
       ]
      }
     ],
     "prompt_number": 4
    },
    {
     "cell_type": "heading",
     "level": 3,
     "metadata": {},
     "source": [
      "Question 2"
     ]
    },
    {
     "cell_type": "markdown",
     "metadata": {},
     "source": [
      "Consider the integral\n",
      "\n",
      "E(x)=\u222bx0e\u2212t2dt\n",
      "\n",
      "This is the error function, commonly seen in probability and statistics. There is no known way to perform this particular integral analytically, although the integrand can be expanded in a Taylor series and terms computed to arbitrary order. For most applications, numerical approaches are the only way forward.\n",
      "\n",
      "**(a)** Use scipy.integrate.cumtrapz to calculate E(x) for values of x from 0 to 3 in steps of 0.1. Print the result."
     ]
    },
    {
     "cell_type": "code",
     "collapsed": false,
     "input": [
      "import scipy.integrate as integrate"
     ],
     "language": "python",
     "metadata": {},
     "outputs": [],
     "prompt_number": 3
    },
    {
     "cell_type": "code",
     "collapsed": false,
     "input": [
      "E = lambda t: np.exp(-t**2)\n",
      "x = np.arange(0., 3.1, .1)\n",
      "print integrate.cumtrapz(E(x), x)"
     ],
     "language": "python",
     "metadata": {},
     "outputs": [
      {
       "output_type": "stream",
       "stream": "stdout",
       "text": [
        "[ 0.09950249  0.19704446  0.29078049  0.37908424  0.46063146  0.53445532\n",
        "  0.59997046  0.6569664   0.70557392  0.7462108   0.77951463  0.80627088\n",
        "  0.82734325  0.84361215  0.85592503  0.86506023  0.87170427  0.87644128\n",
        "  0.87975207  0.88202044  0.88354398  0.88454709  0.88519453  0.88560418\n",
        "  0.88585826  0.88601274  0.88610482  0.88615862  0.88618943  0.88620673]\n"
       ]
      }
     ],
     "prompt_number": 6
    },
    {
     "cell_type": "markdown",
     "metadata": {},
     "source": [
      "**(b)** Plot the integrand as a function of t and E(x) as a function of x (both ranging from 0 to 3) on the same graph."
     ]
    },
    {
     "cell_type": "code",
     "collapsed": false,
     "input": [
      "t = np.arange(0., 3.1, .1)\n",
      "x = np.arange(0., 3.1, .1)\n",
      "Eint = integrate.cumtrapz(E(x), x)\n",
      "x2 = x[0:-1]\n",
      "\n",
      "plt.plot(x, E(x), label)\n",
      "plt.plot(x2, Eint)\n",
      "plt.show()"
     ],
     "language": "python",
     "metadata": {},
     "outputs": [
      {
       "metadata": {},
       "output_type": "display_data",
       "png": "[encoded data removed]",
       "text": [
        "<matplotlib.figure.Figure at 0x106173a10>"
       ]
      }
     ],
     "prompt_number": 25
    },
    {
     "cell_type": "heading",
     "level": 3,
     "metadata": {},
     "source": [
      "Question 3"
     ]
    },
    {
     "cell_type": "markdown",
     "metadata": {},
     "source": [
      "Consider a particle in a one-dimensional box of width L. The probability of finding the particle between a and b is given by\n",
      "\n",
      "P(a,b)=\u222bba|\u03c8(x)|2dx\n",
      "\n",
      "where\n",
      "\n",
      "\u03c8(x)=2L\u203e\u203e\u203e\u221asin(n\u03c0xL)\n",
      "\n",
      "is the wavefunction.\n",
      "\n",
      "**(a)** What is the probability of finding the particle between L/3 and L/2 for the ground state (n = 1) and for the first excited state (n = 2)? Let L = 1. Perform the integral using both scipy.integrate.trapz and scipy.integrate.quad with an accuracy of 6 sig figs. How many slices did you need to use for scipy.integrate.trapz?"
     ]
    },
    {
     "cell_type": "code",
     "collapsed": false,
     "input": [
      "L = 1.\n",
      "n = 1.\n",
      "n2 = 2.\n",
      "wave = lambda x: (np.sqrt(2./L) * np.sin(n * np.pi * x/ L)) ** 2.\n",
      "wave2 = lambda x: (np.sqrt(2./L) * np.sin(n2 * np.pi * x/ L)) ** 2.\n",
      "a = L/3.\n",
      "b = L/2.\n",
      "x = np.linspace(a, b, 40)\n",
      "print \"Proabability when n = 1: \",integrate.trapz(wave(x), x)\n",
      "print integrate.quad(wave, a, b)\n",
      "print \" \"\n",
      "print \"Probablility when n = 1: \", integrate.trapz(wave2(x), x)\n",
      "print integrate.quad(wave2, a, b)\n",
      "print \" \"\n",
      "print \"I had to use 40 slices\""
     ],
     "language": "python",
     "metadata": {},
     "outputs": [
      {
       "output_type": "stream",
       "stream": "stdout",
       "text": [
        "Proabability when n = 1:  0.304490609141\n",
        "(0.3044988905221147, 3.380616792304666e-15)\n",
        " \n",
        "Probablility when n = 1:  0.0977671180978\n",
        "(0.09775055473894276, 1.0852491654105595e-15)\n",
        " \n",
        "I had to use 40 slices\n"
       ]
      }
     ],
     "prompt_number": 49
    },
    {
     "cell_type": "markdown",
     "metadata": {},
     "source": [
      "**(b)** Make a plot of |\u03c8(x)|2 vs. x for the first two excited states with L=1.\n"
     ]
    },
    {
     "cell_type": "code",
     "collapsed": false,
     "input": [
      "probability1 = integrate.cumtrapz(wave(x), x)\n",
      "probability2 = integrate.cumtrapz(wave2(x), x)\n",
      "\n",
      "x2 = x[0:-1]\n",
      "\n",
      "plt.plot(x2, probability1)\n",
      "plt.plot(x2, probability2)\n",
      "plt.show()"
     ],
     "language": "python",
     "metadata": {},
     "outputs": [
      {
       "metadata": {},
       "output_type": "display_data",
       "png": "[encoded data removed]",
       "text": [
        "<matplotlib.figure.Figure at 0x10647ea90>"
       ]
      }
     ],
     "prompt_number": 11
    },
    {
     "cell_type": "heading",
     "level": 3,
     "metadata": {},
     "source": [
      "Question 4 "
     ]
    },
    {
     "cell_type": "markdown",
     "metadata": {},
     "source": [
      "**(a)** Use numerical integration to find M, r\u20d7 cm, and Icm. Note that you need M to compute r\u20d7 cm and r\u20d7 cm to compute Icm. The moments of inertia Icm are Ixx, Iyy, and Izz, where e.g. Ixx=\u222b((y\u2212ycm)2+(z\u2212zcm)2)\u03c1dV, etc."
     ]
    },
    {
     "cell_type": "code",
     "collapsed": false,
     "input": [
      "rho = lambda z, y, x: (100*(y+0.1)) + 100*z**2\n",
      "xintegrand = lambda z, y, x: x*rho(x, y, z)/mass\n",
      "yintegrand = lambda z, y, x: y*rho(x, y, z)/mass\n",
      "zintegrand = lambda z, y, x: z*rho(x, y, z)/mass\n",
      "Ixintegrand = lambda z, y, x: ((y - yc)**2 + (z - zc)**2)*rho(x,y,z)\n",
      "Iyintegrand = lambda z, y, x: ((x - xc)**2 + (z - zc)**2)*rho(x,y,z)\n",
      "Izintegrand = lambda z, y, x: ((y - yc)**2 + (x - xc)**2) *rho(x,y,z)\n",
      "\n",
      "xmin =  -0.1\n",
      "xmax = 0.1\n",
      "ymin = lambda x: -0.1\n",
      "ymax =  lambda x: 0.1\n",
      "zmin =  lambda y,x: -0.5\n",
      "zmax =  lambda y, x: 0.5\n",
      "\n",
      "mass, err = integrate.tplquad(rho, xmin, xmax, ymin, ymax, zmin, zmax)\n",
      "xc, err = integrate.tplquad(xintegrand, xmin, xmax, ymin, ymax, zmin, zmax)\n",
      "yc, err = integrate.tplquad(yintegrand, xmin, xmax, ymin, ymax, zmin, zmax)\n",
      "zc, err = integrate.tplquad(zintegrand, xmin, xmax, ymin, ymax, zmin, zmax)\n",
      "Ix, err = integrate.tplquad(Ixintegrand, xmin, xmax, ymin, ymax, zmin, zmax)\n",
      "Iy, err = integrate.tplquad(Iyintegrand, xmin, xmax, ymin, ymax, zmin, zmax)\n",
      "Iz, err = integrate.tplquad(Izintegrand, xmin, xmax, ymin, ymax, zmin, zmax)\n",
      "\n",
      "print \"M = \",mass\n",
      "print \"r = (\", xc,\",\", yc,\",\", zc, \")\"\n",
      "print \"I_cm = (\", Ix,\",\", Iy, \",\",Iz, \")\""
     ],
     "language": "python",
     "metadata": {},
     "outputs": [
      {
       "output_type": "stream",
       "stream": "stdout",
       "text": [
        "M =  0.733333333333\n",
        "r = ( 0.0 , 0.0181818181818 , 0.0 )\n",
        "I_cm = ( 0.0354740128558 , 0.0358577777778 , 0.00244290174472 )\n"
       ]
      }
     ],
     "prompt_number": 32
    },
    {
     "cell_type": "markdown",
     "metadata": {},
     "source": [
      "**(b)** The mass, center of mass, and moments of inertia can be easily computed analytically for a rectangular box of uniform density. (Compute them yourself or look them up). Verify your algorithm from part (a) works by having it compute the result for this test case. How accurate (how many sig figs?) is the numerical result?"
     ]
    },
    {
     "cell_type": "code",
     "collapsed": false,
     "input": [
      "rho2 = lambda z, y, x: 1\n",
      "\n",
      "xintegrand2 = lambda z, y, x: x*rho2(x, y, z)/mass2\n",
      "yintegrand2 = lambda z, y, x: y*rho2(x, y, z)/mass2\n",
      "zintegrand2 = lambda z, y, x: z*rho2(x, y, z)/mass2\n",
      "Ixintegrand2 = lambda z, y, x: ((y - yc2)**2 + (z - zc2)**2)*rho2(x,y,z)\n",
      "Iyintegrand2 = lambda z, y, x: ((x - xc2)**2 + (z - zc2)**2)*rho2(x,y,z)\n",
      "Izintegrand2 = lambda z, y, x: ((y - yc2)**2 + (x - xc2)**2) *rho2(x,y,z)\n",
      "\n",
      "mass2, err2 = integrate.tplquad(rho2, xmin, xmax, ymin, ymax, zmin, zmax)\n",
      "xc2, err2 = integrate.tplquad(xintegrand2, xmin, xmax, ymin, ymax, zmin, zmax)\n",
      "yc2, err2 = integrate.tplquad(yintegrand2, xmin, xmax, ymin, ymax, zmin, zmax)\n",
      "zc2, err2 = integrate.tplquad(zintegrand2, xmin, xmax, ymin, ymax, zmin, zmax)\n",
      "Ix2, err2 = integrate.tplquad(Ixintegrand2, xmin, xmax, ymin, ymax, zmin, zmax)\n",
      "Iy2, err2 = integrate.tplquad(Iyintegrand2, xmin, xmax, ymin, ymax, zmin, zmax)\n",
      "Iz2, err2 = integrate.tplquad(Izintegrand2, xmin, xmax, ymin, ymax, zmin, zmax)\n",
      "\n",
      "m = mass2\n",
      "xcom = 0.2\n",
      "ycom = 0.2\n",
      "zcom = 1.\n",
      "Izcom = (1./12.)*m*(ycom**2 + xcom**2)\n",
      "Ixcom = (1./12.)*m*(ycom**2 + zcom**2)\n",
      "Iycom = (1./12.)*m*(xcom**2 + zcom**2)\n",
      "\n",
      "print \"Icm (computational) = (\",Ixcom,\",\",Iycom,\",\", Izcom,\")\"\n",
      "print \"Icm = (\",Ix2,\",\", Iy2,\",\", Iz2,\")\"\n",
      "\n"
     ],
     "language": "python",
     "metadata": {},
     "outputs": [
      {
       "output_type": "stream",
       "stream": "stdout",
       "text": [
        "Icm (computational) = ( 0.00346666666667 , 0.00346666666667 , 0.000266666666667 )\n",
        "Icm = ( 0.00346666666667 , 0.00346666666667 , 0.000266666666667 )\n"
       ]
      }
     ],
     "prompt_number": 40
    },
    {
     "cell_type": "markdown",
     "metadata": {},
     "source": [
      "**(c)** Finally, change the density function to something of your choosing (different from that used in parts (a) and (b)) and recompute M, r\u20d7 cm and Icm for that case."
     ]
    },
    {
     "cell_type": "code",
     "collapsed": false,
     "input": [
      "rho3 = lambda z, y, x: x**2 + (y+2)**2 + z**2\n",
      "\n",
      "xmin =  -0.1\n",
      "xmax = 0.1\n",
      "ymin = lambda x: -0.1\n",
      "ymax =  lambda x: 0.1\n",
      "zmin =  lambda y,x: -0.5\n",
      "zmax =  lambda y, x: 0.5\n",
      "\n",
      "xintegrand3 = lambda z, y, x: x*rho3(x, y, z)/mass3\n",
      "yintegrand3 = lambda z, y, x: y*rho3(x, y, z)/mass3\n",
      "zintegrand3 = lambda z, y, x: z*rho3(x, y, z)/mass3\n",
      "Ixintegrand3 = lambda z, y, x: ((y - yc3)**2 + (z - zc3)**2)*rho3(x,y,z)\n",
      "Iyintegrand3 = lambda z, y, x: ((x - xc3)**2 + (z - zc3)**2)*rho3(x,y,z)\n",
      "Izintegrand3 = lambda z, y, x: ((y - yc3)**2 + (x - xc3)**2) *rho3(x,y,z)\n",
      "\n",
      "mass3, err3 = integrate.tplquad(rho3, xmin, xmax, ymin, ymax, zmin, zmax)\n",
      "xc3, err3 = integrate.tplquad(xintegrand3, xmin, xmax, ymin, ymax, zmin, zmax)\n",
      "yc3, err3 = integrate.tplquad(yintegrand3, xmin, xmax, ymin, ymax, zmin, zmax)\n",
      "zc3, err3 = integrate.tplquad(zintegrand3, xmin, xmax, ymin, ymax, zmin, zmax)\n",
      "Ix3, err3 = integrate.tplquad(Ixintegrand3, xmin, xmax, ymin, ymax, zmin, zmax)\n",
      "Iy3, err3 = integrate.tplquad(Iyintegrand3, xmin, xmax, ymin, ymax, zmin, zmax)\n",
      "Iz3, err3 = integrate.tplquad(Izintegrand3, xmin, xmax, ymin, ymax, zmin, zmax)\n",
      "\n",
      "\n",
      "print \"M =\",mass3\n",
      "print \"r = (\",xc3,\",\", yc3,\",\", zc3,\")\"\n",
      "print \"Icm = (\",Ix3,\",\", Iy3,\",\", Iz3, \")\""
     ],
     "language": "python",
     "metadata": {},
     "outputs": [
      {
       "output_type": "stream",
       "stream": "stdout",
       "text": [
        "M = 0.1636\n",
        "r = ( 0.0 , 0.00325998370008 , 0.0 )\n",
        "Icm = ( 0.0143995057865 , 0.0144012444444 , 0.0010896391198 )\n"
       ]
      }
     ],
     "prompt_number": 41
    },
    {
     "cell_type": "code",
     "collapsed": false,
     "input": [],
     "language": "python",
     "metadata": {},
     "outputs": []
    }
   ],
   "metadata": {}
  }
 ]
}