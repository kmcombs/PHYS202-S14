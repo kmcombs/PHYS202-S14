{
 "metadata": {
  "name": "",
  "signature": "sha256:aaf89a34209a826efb6504c9769090897265e8bb179bf7ec89235a18acff776c"
 },
 "nbformat": 3,
 "nbformat_minor": 0,
 "worksheets": [
  {
   "cells": [
    {
     "cell_type": "heading",
     "level": 1,
     "metadata": {},
     "source": [
      "Interpolation Exercises"
     ]
    },
    {
     "cell_type": "code",
     "collapsed": false,
     "input": [
      "%pylab inline"
     ],
     "language": "python",
     "metadata": {},
     "outputs": [
      {
       "output_type": "stream",
       "stream": "stdout",
       "text": [
        "Populating the interactive namespace from numpy and matplotlib\n"
       ]
      }
     ],
     "prompt_number": 4
    },
    {
     "cell_type": "markdown",
     "metadata": {},
     "source": [
      "**1.** It is common to test functions where you know the answer they should give. Let's test the dipolePotential() function that we previously saved in Electrostatics.py to see that the function is zero along the bisector between the charges.\n",
      "\n",
      "First, set up a grid and evaluate the function."
     ]
    },
    {
     "cell_type": "code",
     "collapsed": false,
     "input": [
      "from Electrostatics import *\n",
      "x,y = np.meshgrid(np.arange(-5,5.01,0.5),np.arange(-5,5.01,0.5))\n",
      "Vdipole = dipolePotential(x,y,1e-9,2.)\n",
      "plt.contour(x,y,Vdipole,cmap=cm.coolwarm)\n",
      "plt.show()"
     ],
     "language": "python",
     "metadata": {},
     "outputs": [
      {
       "output_type": "stream",
       "stream": "stderr",
       "text": [
        "Electrostatics.py:10: RuntimeWarning: divide by zero encountered in divide\n",
        "  Vxy = k * q / np.sqrt(((x - Xc)**2 + (y - Yc)**2))\n"
       ]
      },
      {
       "metadata": {},
       "output_type": "display_data",
       "png": "[encoded data removed]",
       "text": [
        "<matplotlib.figure.Figure at 0x106236ed0>"
       ]
      }
     ],
     "prompt_number": 2
    },
    {
     "cell_type": "markdown",
     "metadata": {},
     "source": [
      "**(a)** Use a boolean mask to locate the positions where x=0."
     ]
    },
    {
     "cell_type": "code",
     "collapsed": false,
     "input": [
      "ii = (x == 0)\n",
      "plt.plot(x[ii],y[ii])\n",
      "plt.show()"
     ],
     "language": "python",
     "metadata": {},
     "outputs": [
      {
       "metadata": {},
       "output_type": "display_data",
       "png": "[encoded data removed]",
       "text": [
        "<matplotlib.figure.Figure at 0x10658ca90>"
       ]
      }
     ],
     "prompt_number": 23
    },
    {
     "cell_type": "markdown",
     "metadata": {},
     "source": [
      "**(b)** Check that Vdipole for these locations is zero. i.e. print the value of Vdipole for these locations using your mask from part (a)."
     ]
    },
    {
     "cell_type": "code",
     "collapsed": false,
     "input": [
      "print Vdipole[ii]"
     ],
     "language": "python",
     "metadata": {},
     "outputs": [
      {
       "output_type": "stream",
       "stream": "stdout",
       "text": [
        "[ 0.  0.  0.  0.  0.  0.  0.  0.  0.  0.  0.  0.  0.  0.  0.  0.  0.  0.\n",
        "  0.  0.  0.]\n"
       ]
      }
     ],
     "prompt_number": 15
    },
    {
     "cell_type": "markdown",
     "metadata": {},
     "source": [
      "**2.** Thermistors are electrical devices that measure temperature. They are made out of a material whose resistance changes very predictably with temperature. In the lab we measure the resistance of the thermistor and then compute the temperature from the engineering data that the manufacturer sends with the devices. The table below is data for a set of thermistors used in PHYS 340. The temperature values are in \u2218C and the resistances in mega-Ohms, M\u03a9.\n",
      "\n",
      "\n",
      "\n",
      "**(a)** Let's turn this look-up table into a continuous function. Write a reusable function Temp(Resistance) that takes any value of Resistance and returns the interpolated temperature. Be sure to include a docstring in your function."
     ]
    },
    {
     "cell_type": "code",
     "collapsed": false,
     "input": [
      "def Temp(Resistance):\n",
      "    \"\"\"Input a thermistor's resistance value in mega-Ohmns (10 - 39), and the function will \n",
      "    give the temperature at which this resistance occurs in Celcius\"\"\"\n",
      "    from scipy.interpolate import interp1d \n",
      "    x = np.arange(10, 40)\n",
      "    y = [3.239, 3.118, 3.004, 2.897, 2.795, 2.700, 2.610, 2.526, 2.446, 2.371, 2.300, 2.233, 2.169, 2.110, 2.053, 2.000, 1.950, 1.902, 1.857, 1.815, 1.774, 1.736, 1.700, 1.666, 1.634, 1.603, 1.574, 1.547, 1.521, 1.496]\n",
      "    ResTemp = interp1d(x,y, 'linear')\n",
      "    ynew = ResTemp(Resistance)\n",
      "    return ynew\n"
     ],
     "language": "python",
     "metadata": {},
     "outputs": [],
     "prompt_number": 45
    },
    {
     "cell_type": "markdown",
     "metadata": {},
     "source": [
      "**(b)** Show that the function returns expected values, including some from the table for a few specific input resistances."
     ]
    },
    {
     "cell_type": "code",
     "collapsed": false,
     "input": [
      "print Temp(10)\n",
      "print Temp(15)\n",
      "print Temp(20)\n",
      "print Temp(13.7)\n",
      "print Temp(18.25)"
     ],
     "language": "python",
     "metadata": {},
     "outputs": [
      {
       "output_type": "stream",
       "stream": "stdout",
       "text": [
        "3.239\n",
        "2.7\n",
        "2.3\n",
        "2.8256\n",
        "2.42725\n"
       ]
      }
     ],
     "prompt_number": 51
    },
    {
     "cell_type": "markdown",
     "metadata": {},
     "source": [
      "***(c)*** Create a new array Resistance that spans the full range covered by the thermistor data and has reasonably fine sampling (number of elements). Plot the interpolated temperatures Temp(Resistance) as a function of Resistance. Include as an annotation on the plot the value of the temperature for a resistance of 1.75 M\u03a9.\n"
     ]
    },
    {
     "cell_type": "code",
     "collapsed": false,
     "input": [
      "Resistance = np.arange(10, 39.01, 0.01)\n",
      "plt.plot(Resistance, Temp(Resistance), label = 'Resistance vs. Temperature')\n",
      "plt.legend(loc = 'upper right')\n",
      "plt.xlabel(\"Resistance\", fontsize=20)\n",
      "plt.ylabel(\"Temperature\", fontsize = 20)\n",
      "plt.show()"
     ],
     "language": "python",
     "metadata": {},
     "outputs": [
      {
       "metadata": {},
       "output_type": "display_data",
       "png": "[encoded data removed]",
       "text": [
        "<matplotlib.figure.Figure at 0x106da2d50>"
       ]
      }
     ],
     "prompt_number": 54
    },
    {
     "cell_type": "code",
     "collapsed": false,
     "input": [],
     "language": "python",
     "metadata": {},
     "outputs": []
    }
   ],
   "metadata": {}
  }
 ]
}