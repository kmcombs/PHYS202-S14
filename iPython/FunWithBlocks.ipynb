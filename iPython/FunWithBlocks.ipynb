{
 "metadata": {
  "name": "",
  "signature": "sha256:28b24350784bdc719610a825ff4a4a264dd128c1514f58d337dda68502f6f02a"
 },
 "nbformat": 3,
 "nbformat_minor": 0,
 "worksheets": [
  {
   "cells": [
    {
     "cell_type": "heading",
     "level": 1,
     "metadata": {},
     "source": [
      "Fun with Blocks :)"
     ]
    },
    {
     "cell_type": "code",
     "collapsed": false,
     "input": [
      "from ipythonblocks import BlockGrid"
     ],
     "language": "python",
     "metadata": {},
     "outputs": [],
     "prompt_number": 1
    },
    {
     "cell_type": "code",
     "collapsed": false,
     "input": [
      "grid = BlockGrid(8,8, fill=(123, 234, 123))\n",
      "grid"
     ],
     "language": "python",
     "metadata": {},
     "outputs": [
      {
       "html": [
        "<style type=\"text/css\">table.blockgrid {border: none;} .blockgrid tr {border: none;} .blockgrid td {padding: 0px;} #blocks5cb4748a-2aaa-43fa-b098-62f1234a8fdb td {border: 1px solid white;}</style><table id=\"blocks5cb4748a-2aaa-43fa-b098-62f1234a8fdb\" class=\"blockgrid\"><tbody><tr><td title=\"Index: [0, 0]&#10;Color: (123, 234, 123)\" style=\"width: 20px; height: 20px;background-color: rgb(123, 234, 123);\"></td><td title=\"Index: [0, 1]&#10;Color: (123, 234, 123)\" style=\"width: 20px; height: 20px;background-color: rgb(123, 234, 123);\"></td><td title=\"Index: [0, 2]&#10;Color: (123, 234, 123)\" style=\"width: 20px; height: 20px;background-color: rgb(123, 234, 123);\"></td><td title=\"Index: [0, 3]&#10;Color: (123, 234, 123)\" style=\"width: 20px; height: 20px;background-color: rgb(123, 234, 123);\"></td><td title=\"Index: [0, 4]&#10;Color: (123, 234, 123)\" style=\"width: 20px; height: 20px;background-color: rgb(123, 234, 123);\"></td><td title=\"Index: [0, 5]&#10;Color: (123, 234, 123)\" style=\"width: 20px; height: 20px;background-color: rgb(123, 234, 123);\"></td><td title=\"Index: [0, 6]&#10;Color: (123, 234, 123)\" style=\"width: 20px; height: 20px;background-color: rgb(123, 234, 123);\"></td><td title=\"Index: [0, 7]&#10;Color: (123, 234, 123)\" style=\"width: 20px; height: 20px;background-color: rgb(123, 234, 123);\"></td></tr><tr><td title=\"Index: [1, 0]&#10;Color: (123, 234, 123)\" style=\"width: 20px; height: 20px;background-color: rgb(123, 234, 123);\"></td><td title=\"Index: [1, 1]&#10;Color: (123, 234, 123)\" style=\"width: 20px; height: 20px;background-color: rgb(123, 234, 123);\"></td><td title=\"Index: [1, 2]&#10;Color: (123, 234, 123)\" style=\"width: 20px; height: 20px;background-color: rgb(123, 234, 123);\"></td><td title=\"Index: [1, 3]&#10;Color: (123, 234, 123)\" style=\"width: 20px; height: 20px;background-color: rgb(123, 234, 123);\"></td><td title=\"Index: [1, 4]&#10;Color: (123, 234, 123)\" style=\"width: 20px; height: 20px;background-color: rgb(123, 234, 123);\"></td><td title=\"Index: [1, 5]&#10;Color: (123, 234, 123)\" style=\"width: 20px; height: 20px;background-color: rgb(123, 234, 123);\"></td><td title=\"Index: [1, 6]&#10;Color: (123, 234, 123)\" style=\"width: 20px; height: 20px;background-color: rgb(123, 234, 123);\"></td><td title=\"Index: [1, 7]&#10;Color: (123, 234, 123)\" style=\"width: 20px; height: 20px;background-color: rgb(123, 234, 123);\"></td></tr><tr><td title=\"Index: [2, 0]&#10;Color: (123, 234, 123)\" style=\"width: 20px; height: 20px;background-color: rgb(123, 234, 123);\"></td><td title=\"Index: [2, 1]&#10;Color: (123, 234, 123)\" style=\"width: 20px; height: 20px;background-color: rgb(123, 234, 123);\"></td><td title=\"Index: [2, 2]&#10;Color: (123, 234, 123)\" style=\"width: 20px; height: 20px;background-color: rgb(123, 234, 123);\"></td><td title=\"Index: [2, 3]&#10;Color: (123, 234, 123)\" style=\"width: 20px; height: 20px;background-color: rgb(123, 234, 123);\"></td><td title=\"Index: [2, 4]&#10;Color: (123, 234, 123)\" style=\"width: 20px; height: 20px;background-color: rgb(123, 234, 123);\"></td><td title=\"Index: [2, 5]&#10;Color: (123, 234, 123)\" style=\"width: 20px; height: 20px;background-color: rgb(123, 234, 123);\"></td><td title=\"Index: [2, 6]&#10;Color: (123, 234, 123)\" style=\"width: 20px; height: 20px;background-color: rgb(123, 234, 123);\"></td><td title=\"Index: [2, 7]&#10;Color: (123, 234, 123)\" style=\"width: 20px; height: 20px;background-color: rgb(123, 234, 123);\"></td></tr><tr><td title=\"Index: [3, 0]&#10;Color: (123, 234, 123)\" style=\"width: 20px; height: 20px;background-color: rgb(123, 234, 123);\"></td><td title=\"Index: [3, 1]&#10;Color: (123, 234, 123)\" style=\"width: 20px; height: 20px;background-color: rgb(123, 234, 123);\"></td><td title=\"Index: [3, 2]&#10;Color: (123, 234, 123)\" style=\"width: 20px; height: 20px;background-color: rgb(123, 234, 123);\"></td><td title=\"Index: [3, 3]&#10;Color: (123, 234, 123)\" style=\"width: 20px; height: 20px;background-color: rgb(123, 234, 123);\"></td><td title=\"Index: [3, 4]&#10;Color: (123, 234, 123)\" style=\"width: 20px; height: 20px;background-color: rgb(123, 234, 123);\"></td><td title=\"Index: [3, 5]&#10;Color: (123, 234, 123)\" style=\"width: 20px; height: 20px;background-color: rgb(123, 234, 123);\"></td><td title=\"Index: [3, 6]&#10;Color: (123, 234, 123)\" style=\"width: 20px; height: 20px;background-color: rgb(123, 234, 123);\"></td><td title=\"Index: [3, 7]&#10;Color: (123, 234, 123)\" style=\"width: 20px; height: 20px;background-color: rgb(123, 234, 123);\"></td></tr><tr><td title=\"Index: [4, 0]&#10;Color: (123, 234, 123)\" style=\"width: 20px; height: 20px;background-color: rgb(123, 234, 123);\"></td><td title=\"Index: [4, 1]&#10;Color: (123, 234, 123)\" style=\"width: 20px; height: 20px;background-color: rgb(123, 234, 123);\"></td><td title=\"Index: [4, 2]&#10;Color: (123, 234, 123)\" style=\"width: 20px; height: 20px;background-color: rgb(123, 234, 123);\"></td><td title=\"Index: [4, 3]&#10;Color: (123, 234, 123)\" style=\"width: 20px; height: 20px;background-color: rgb(123, 234, 123);\"></td><td title=\"Index: [4, 4]&#10;Color: (123, 234, 123)\" style=\"width: 20px; height: 20px;background-color: rgb(123, 234, 123);\"></td><td title=\"Index: [4, 5]&#10;Color: (123, 234, 123)\" style=\"width: 20px; height: 20px;background-color: rgb(123, 234, 123);\"></td><td title=\"Index: [4, 6]&#10;Color: (123, 234, 123)\" style=\"width: 20px; height: 20px;background-color: rgb(123, 234, 123);\"></td><td title=\"Index: [4, 7]&#10;Color: (123, 234, 123)\" style=\"width: 20px; height: 20px;background-color: rgb(123, 234, 123);\"></td></tr><tr><td title=\"Index: [5, 0]&#10;Color: (123, 234, 123)\" style=\"width: 20px; height: 20px;background-color: rgb(123, 234, 123);\"></td><td title=\"Index: [5, 1]&#10;Color: (123, 234, 123)\" style=\"width: 20px; height: 20px;background-color: rgb(123, 234, 123);\"></td><td title=\"Index: [5, 2]&#10;Color: (123, 234, 123)\" style=\"width: 20px; height: 20px;background-color: rgb(123, 234, 123);\"></td><td title=\"Index: [5, 3]&#10;Color: (123, 234, 123)\" style=\"width: 20px; height: 20px;background-color: rgb(123, 234, 123);\"></td><td title=\"Index: [5, 4]&#10;Color: (123, 234, 123)\" style=\"width: 20px; height: 20px;background-color: rgb(123, 234, 123);\"></td><td title=\"Index: [5, 5]&#10;Color: (123, 234, 123)\" style=\"width: 20px; height: 20px;background-color: rgb(123, 234, 123);\"></td><td title=\"Index: [5, 6]&#10;Color: (123, 234, 123)\" style=\"width: 20px; height: 20px;background-color: rgb(123, 234, 123);\"></td><td title=\"Index: [5, 7]&#10;Color: (123, 234, 123)\" style=\"width: 20px; height: 20px;background-color: rgb(123, 234, 123);\"></td></tr><tr><td title=\"Index: [6, 0]&#10;Color: (123, 234, 123)\" style=\"width: 20px; height: 20px;background-color: rgb(123, 234, 123);\"></td><td title=\"Index: [6, 1]&#10;Color: (123, 234, 123)\" style=\"width: 20px; height: 20px;background-color: rgb(123, 234, 123);\"></td><td title=\"Index: [6, 2]&#10;Color: (123, 234, 123)\" style=\"width: 20px; height: 20px;background-color: rgb(123, 234, 123);\"></td><td title=\"Index: [6, 3]&#10;Color: (123, 234, 123)\" style=\"width: 20px; height: 20px;background-color: rgb(123, 234, 123);\"></td><td title=\"Index: [6, 4]&#10;Color: (123, 234, 123)\" style=\"width: 20px; height: 20px;background-color: rgb(123, 234, 123);\"></td><td title=\"Index: [6, 5]&#10;Color: (123, 234, 123)\" style=\"width: 20px; height: 20px;background-color: rgb(123, 234, 123);\"></td><td title=\"Index: [6, 6]&#10;Color: (123, 234, 123)\" style=\"width: 20px; height: 20px;background-color: rgb(123, 234, 123);\"></td><td title=\"Index: [6, 7]&#10;Color: (123, 234, 123)\" style=\"width: 20px; height: 20px;background-color: rgb(123, 234, 123);\"></td></tr><tr><td title=\"Index: [7, 0]&#10;Color: (123, 234, 123)\" style=\"width: 20px; height: 20px;background-color: rgb(123, 234, 123);\"></td><td title=\"Index: [7, 1]&#10;Color: (123, 234, 123)\" style=\"width: 20px; height: 20px;background-color: rgb(123, 234, 123);\"></td><td title=\"Index: [7, 2]&#10;Color: (123, 234, 123)\" style=\"width: 20px; height: 20px;background-color: rgb(123, 234, 123);\"></td><td title=\"Index: [7, 3]&#10;Color: (123, 234, 123)\" style=\"width: 20px; height: 20px;background-color: rgb(123, 234, 123);\"></td><td title=\"Index: [7, 4]&#10;Color: (123, 234, 123)\" style=\"width: 20px; height: 20px;background-color: rgb(123, 234, 123);\"></td><td title=\"Index: [7, 5]&#10;Color: (123, 234, 123)\" style=\"width: 20px; height: 20px;background-color: rgb(123, 234, 123);\"></td><td title=\"Index: [7, 6]&#10;Color: (123, 234, 123)\" style=\"width: 20px; height: 20px;background-color: rgb(123, 234, 123);\"></td><td title=\"Index: [7, 7]&#10;Color: (123, 234, 123)\" style=\"width: 20px; height: 20px;background-color: rgb(123, 234, 123);\"></td></tr></tbody></table>"
       ],
       "metadata": {},
       "output_type": "pyout",
       "prompt_number": 2,
       "text": [
        "<ipythonblocks.ipythonblocks.BlockGrid at 0x101e98bd0>"
       ]
      }
     ],
     "prompt_number": 2
    },
    {
     "cell_type": "code",
     "collapsed": false,
     "input": [
      "grid[0,0]"
     ],
     "language": "python",
     "metadata": {},
     "outputs": [
      {
       "html": [
        "<style type=\"text/css\">table.blockgrid {border: none;} .blockgrid tr {border: none;} .blockgrid td {padding: 0px;} #blocks3cf3ed60-e00d-455a-bafe-2d139227e170 td {border: 0px solid white;}</style><table id=\"blocks3cf3ed60-e00d-455a-bafe-2d139227e170\" class=\"blockgrid\"><tbody><tr><td title=\"Index: [0, 0]&#10;Color: (0, 0, 0)\" style=\"width: 20px; height: 20px;background-color: rgb(0, 0, 0);\"></td></tr></tbody></table>"
       ],
       "metadata": {},
       "output_type": "pyout",
       "prompt_number": 5,
       "text": [
        "Block(0, 0, 0, size=20)"
       ]
      }
     ],
     "prompt_number": 5
    },
    {
     "cell_type": "code",
     "collapsed": false,
     "input": [
      "grid[0,0] = (0,0,0)\n",
      "grid[0,2] = (255, 0, 0)\n",
      "grid[0,4] = (255, 255, 255)\n",
      "grid[0, 6] = (0, 150, 150)\n",
      "grid.show()"
     ],
     "language": "python",
     "metadata": {},
     "outputs": [
      {
       "html": [
        "<style type=\"text/css\">table.blockgrid {border: none;} .blockgrid tr {border: none;} .blockgrid td {padding: 0px;} #blockseaa375c0-5922-4b81-9b8a-7c246e248150 td {border: 1px solid white;}</style><table id=\"blockseaa375c0-5922-4b81-9b8a-7c246e248150\" class=\"blockgrid\"><tbody><tr><td title=\"Index: [0, 0]&#10;Color: (0, 0, 0)\" style=\"width: 20px; height: 20px;background-color: rgb(0, 0, 0);\"></td><td title=\"Index: [0, 1]&#10;Color: (123, 234, 123)\" style=\"width: 20px; height: 20px;background-color: rgb(123, 234, 123);\"></td><td title=\"Index: [0, 2]&#10;Color: (255, 0, 0)\" style=\"width: 20px; height: 20px;background-color: rgb(255, 0, 0);\"></td><td title=\"Index: [0, 3]&#10;Color: (123, 234, 123)\" style=\"width: 20px; height: 20px;background-color: rgb(123, 234, 123);\"></td><td title=\"Index: [0, 4]&#10;Color: (255, 255, 255)\" style=\"width: 20px; height: 20px;background-color: rgb(255, 255, 255);\"></td><td title=\"Index: [0, 5]&#10;Color: (123, 234, 123)\" style=\"width: 20px; height: 20px;background-color: rgb(123, 234, 123);\"></td><td title=\"Index: [0, 6]&#10;Color: (0, 150, 150)\" style=\"width: 20px; height: 20px;background-color: rgb(0, 150, 150);\"></td><td title=\"Index: [0, 7]&#10;Color: (123, 234, 123)\" style=\"width: 20px; height: 20px;background-color: rgb(123, 234, 123);\"></td></tr><tr><td title=\"Index: [1, 0]&#10;Color: (123, 234, 123)\" style=\"width: 20px; height: 20px;background-color: rgb(123, 234, 123);\"></td><td title=\"Index: [1, 1]&#10;Color: (123, 234, 123)\" style=\"width: 20px; height: 20px;background-color: rgb(123, 234, 123);\"></td><td title=\"Index: [1, 2]&#10;Color: (123, 234, 123)\" style=\"width: 20px; height: 20px;background-color: rgb(123, 234, 123);\"></td><td title=\"Index: [1, 3]&#10;Color: (123, 234, 123)\" style=\"width: 20px; height: 20px;background-color: rgb(123, 234, 123);\"></td><td title=\"Index: [1, 4]&#10;Color: (123, 234, 123)\" style=\"width: 20px; height: 20px;background-color: rgb(123, 234, 123);\"></td><td title=\"Index: [1, 5]&#10;Color: (123, 234, 123)\" style=\"width: 20px; height: 20px;background-color: rgb(123, 234, 123);\"></td><td title=\"Index: [1, 6]&#10;Color: (123, 234, 123)\" style=\"width: 20px; height: 20px;background-color: rgb(123, 234, 123);\"></td><td title=\"Index: [1, 7]&#10;Color: (123, 234, 123)\" style=\"width: 20px; height: 20px;background-color: rgb(123, 234, 123);\"></td></tr><tr><td title=\"Index: [2, 0]&#10;Color: (123, 234, 123)\" style=\"width: 20px; height: 20px;background-color: rgb(123, 234, 123);\"></td><td title=\"Index: [2, 1]&#10;Color: (123, 234, 123)\" style=\"width: 20px; height: 20px;background-color: rgb(123, 234, 123);\"></td><td title=\"Index: [2, 2]&#10;Color: (123, 234, 123)\" style=\"width: 20px; height: 20px;background-color: rgb(123, 234, 123);\"></td><td title=\"Index: [2, 3]&#10;Color: (123, 234, 123)\" style=\"width: 20px; height: 20px;background-color: rgb(123, 234, 123);\"></td><td title=\"Index: [2, 4]&#10;Color: (123, 234, 123)\" style=\"width: 20px; height: 20px;background-color: rgb(123, 234, 123);\"></td><td title=\"Index: [2, 5]&#10;Color: (123, 234, 123)\" style=\"width: 20px; height: 20px;background-color: rgb(123, 234, 123);\"></td><td title=\"Index: [2, 6]&#10;Color: (123, 234, 123)\" style=\"width: 20px; height: 20px;background-color: rgb(123, 234, 123);\"></td><td title=\"Index: [2, 7]&#10;Color: (123, 234, 123)\" style=\"width: 20px; height: 20px;background-color: rgb(123, 234, 123);\"></td></tr><tr><td title=\"Index: [3, 0]&#10;Color: (123, 234, 123)\" style=\"width: 20px; height: 20px;background-color: rgb(123, 234, 123);\"></td><td title=\"Index: [3, 1]&#10;Color: (123, 234, 123)\" style=\"width: 20px; height: 20px;background-color: rgb(123, 234, 123);\"></td><td title=\"Index: [3, 2]&#10;Color: (123, 234, 123)\" style=\"width: 20px; height: 20px;background-color: rgb(123, 234, 123);\"></td><td title=\"Index: [3, 3]&#10;Color: (123, 234, 123)\" style=\"width: 20px; height: 20px;background-color: rgb(123, 234, 123);\"></td><td title=\"Index: [3, 4]&#10;Color: (123, 234, 123)\" style=\"width: 20px; height: 20px;background-color: rgb(123, 234, 123);\"></td><td title=\"Index: [3, 5]&#10;Color: (123, 234, 123)\" style=\"width: 20px; height: 20px;background-color: rgb(123, 234, 123);\"></td><td title=\"Index: [3, 6]&#10;Color: (123, 234, 123)\" style=\"width: 20px; height: 20px;background-color: rgb(123, 234, 123);\"></td><td title=\"Index: [3, 7]&#10;Color: (123, 234, 123)\" style=\"width: 20px; height: 20px;background-color: rgb(123, 234, 123);\"></td></tr><tr><td title=\"Index: [4, 0]&#10;Color: (123, 234, 123)\" style=\"width: 20px; height: 20px;background-color: rgb(123, 234, 123);\"></td><td title=\"Index: [4, 1]&#10;Color: (123, 234, 123)\" style=\"width: 20px; height: 20px;background-color: rgb(123, 234, 123);\"></td><td title=\"Index: [4, 2]&#10;Color: (123, 234, 123)\" style=\"width: 20px; height: 20px;background-color: rgb(123, 234, 123);\"></td><td title=\"Index: [4, 3]&#10;Color: (123, 234, 123)\" style=\"width: 20px; height: 20px;background-color: rgb(123, 234, 123);\"></td><td title=\"Index: [4, 4]&#10;Color: (123, 234, 123)\" style=\"width: 20px; height: 20px;background-color: rgb(123, 234, 123);\"></td><td title=\"Index: [4, 5]&#10;Color: (123, 234, 123)\" style=\"width: 20px; height: 20px;background-color: rgb(123, 234, 123);\"></td><td title=\"Index: [4, 6]&#10;Color: (123, 234, 123)\" style=\"width: 20px; height: 20px;background-color: rgb(123, 234, 123);\"></td><td title=\"Index: [4, 7]&#10;Color: (123, 234, 123)\" style=\"width: 20px; height: 20px;background-color: rgb(123, 234, 123);\"></td></tr><tr><td title=\"Index: [5, 0]&#10;Color: (123, 234, 123)\" style=\"width: 20px; height: 20px;background-color: rgb(123, 234, 123);\"></td><td title=\"Index: [5, 1]&#10;Color: (123, 234, 123)\" style=\"width: 20px; height: 20px;background-color: rgb(123, 234, 123);\"></td><td title=\"Index: [5, 2]&#10;Color: (123, 234, 123)\" style=\"width: 20px; height: 20px;background-color: rgb(123, 234, 123);\"></td><td title=\"Index: [5, 3]&#10;Color: (123, 234, 123)\" style=\"width: 20px; height: 20px;background-color: rgb(123, 234, 123);\"></td><td title=\"Index: [5, 4]&#10;Color: (123, 234, 123)\" style=\"width: 20px; height: 20px;background-color: rgb(123, 234, 123);\"></td><td title=\"Index: [5, 5]&#10;Color: (123, 234, 123)\" style=\"width: 20px; height: 20px;background-color: rgb(123, 234, 123);\"></td><td title=\"Index: [5, 6]&#10;Color: (123, 234, 123)\" style=\"width: 20px; height: 20px;background-color: rgb(123, 234, 123);\"></td><td title=\"Index: [5, 7]&#10;Color: (123, 234, 123)\" style=\"width: 20px; height: 20px;background-color: rgb(123, 234, 123);\"></td></tr><tr><td title=\"Index: [6, 0]&#10;Color: (123, 234, 123)\" style=\"width: 20px; height: 20px;background-color: rgb(123, 234, 123);\"></td><td title=\"Index: [6, 1]&#10;Color: (123, 234, 123)\" style=\"width: 20px; height: 20px;background-color: rgb(123, 234, 123);\"></td><td title=\"Index: [6, 2]&#10;Color: (123, 234, 123)\" style=\"width: 20px; height: 20px;background-color: rgb(123, 234, 123);\"></td><td title=\"Index: [6, 3]&#10;Color: (123, 234, 123)\" style=\"width: 20px; height: 20px;background-color: rgb(123, 234, 123);\"></td><td title=\"Index: [6, 4]&#10;Color: (123, 234, 123)\" style=\"width: 20px; height: 20px;background-color: rgb(123, 234, 123);\"></td><td title=\"Index: [6, 5]&#10;Color: (123, 234, 123)\" style=\"width: 20px; height: 20px;background-color: rgb(123, 234, 123);\"></td><td title=\"Index: [6, 6]&#10;Color: (123, 234, 123)\" style=\"width: 20px; height: 20px;background-color: rgb(123, 234, 123);\"></td><td title=\"Index: [6, 7]&#10;Color: (123, 234, 123)\" style=\"width: 20px; height: 20px;background-color: rgb(123, 234, 123);\"></td></tr><tr><td title=\"Index: [7, 0]&#10;Color: (123, 234, 123)\" style=\"width: 20px; height: 20px;background-color: rgb(123, 234, 123);\"></td><td title=\"Index: [7, 1]&#10;Color: (123, 234, 123)\" style=\"width: 20px; height: 20px;background-color: rgb(123, 234, 123);\"></td><td title=\"Index: [7, 2]&#10;Color: (123, 234, 123)\" style=\"width: 20px; height: 20px;background-color: rgb(123, 234, 123);\"></td><td title=\"Index: [7, 3]&#10;Color: (123, 234, 123)\" style=\"width: 20px; height: 20px;background-color: rgb(123, 234, 123);\"></td><td title=\"Index: [7, 4]&#10;Color: (123, 234, 123)\" style=\"width: 20px; height: 20px;background-color: rgb(123, 234, 123);\"></td><td title=\"Index: [7, 5]&#10;Color: (123, 234, 123)\" style=\"width: 20px; height: 20px;background-color: rgb(123, 234, 123);\"></td><td title=\"Index: [7, 6]&#10;Color: (123, 234, 123)\" style=\"width: 20px; height: 20px;background-color: rgb(123, 234, 123);\"></td><td title=\"Index: [7, 7]&#10;Color: (123, 234, 123)\" style=\"width: 20px; height: 20px;background-color: rgb(123, 234, 123);\"></td></tr></tbody></table>"
       ],
       "metadata": {},
       "output_type": "display_data",
       "text": [
        "<IPython.core.display.HTML at 0x100447a10>"
       ]
      }
     ],
     "prompt_number": 4
    },
    {
     "cell_type": "code",
     "collapsed": false,
     "input": [
      "for block in grid:\n",
      "    if block.row % 2 == 0 and block.col % 3 == 0:\n",
      "        block.red = 0\n",
      "        block.green = 0\n",
      "        block.blue = 0\n",
      "        \n",
      "grid.show()"
     ],
     "language": "python",
     "metadata": {},
     "outputs": [
      {
       "html": [
        "<style type=\"text/css\">table.blockgrid {border: none;} .blockgrid tr {border: none;} .blockgrid td {padding: 0px;} #blocks27d91d78-bed5-44fd-9905-0b30cfe39267 td {border: 1px solid white;}</style><table id=\"blocks27d91d78-bed5-44fd-9905-0b30cfe39267\" class=\"blockgrid\"><tbody><tr><td title=\"Index: [0, 0]&#10;Color: (0, 0, 0)\" style=\"width: 20px; height: 20px;background-color: rgb(0, 0, 0);\"></td><td title=\"Index: [0, 1]&#10;Color: (123, 234, 123)\" style=\"width: 20px; height: 20px;background-color: rgb(123, 234, 123);\"></td><td title=\"Index: [0, 2]&#10;Color: (255, 0, 0)\" style=\"width: 20px; height: 20px;background-color: rgb(255, 0, 0);\"></td><td title=\"Index: [0, 3]&#10;Color: (0, 0, 0)\" style=\"width: 20px; height: 20px;background-color: rgb(0, 0, 0);\"></td><td title=\"Index: [0, 4]&#10;Color: (255, 255, 255)\" style=\"width: 20px; height: 20px;background-color: rgb(255, 255, 255);\"></td><td title=\"Index: [0, 5]&#10;Color: (123, 234, 123)\" style=\"width: 20px; height: 20px;background-color: rgb(123, 234, 123);\"></td><td title=\"Index: [0, 6]&#10;Color: (0, 0, 0)\" style=\"width: 20px; height: 20px;background-color: rgb(0, 0, 0);\"></td><td title=\"Index: [0, 7]&#10;Color: (123, 234, 123)\" style=\"width: 20px; height: 20px;background-color: rgb(123, 234, 123);\"></td></tr><tr><td title=\"Index: [1, 0]&#10;Color: (123, 234, 123)\" style=\"width: 20px; height: 20px;background-color: rgb(123, 234, 123);\"></td><td title=\"Index: [1, 1]&#10;Color: (123, 234, 123)\" style=\"width: 20px; height: 20px;background-color: rgb(123, 234, 123);\"></td><td title=\"Index: [1, 2]&#10;Color: (123, 234, 123)\" style=\"width: 20px; height: 20px;background-color: rgb(123, 234, 123);\"></td><td title=\"Index: [1, 3]&#10;Color: (123, 234, 123)\" style=\"width: 20px; height: 20px;background-color: rgb(123, 234, 123);\"></td><td title=\"Index: [1, 4]&#10;Color: (123, 234, 123)\" style=\"width: 20px; height: 20px;background-color: rgb(123, 234, 123);\"></td><td title=\"Index: [1, 5]&#10;Color: (123, 234, 123)\" style=\"width: 20px; height: 20px;background-color: rgb(123, 234, 123);\"></td><td title=\"Index: [1, 6]&#10;Color: (123, 234, 123)\" style=\"width: 20px; height: 20px;background-color: rgb(123, 234, 123);\"></td><td title=\"Index: [1, 7]&#10;Color: (123, 234, 123)\" style=\"width: 20px; height: 20px;background-color: rgb(123, 234, 123);\"></td></tr><tr><td title=\"Index: [2, 0]&#10;Color: (0, 0, 0)\" style=\"width: 20px; height: 20px;background-color: rgb(0, 0, 0);\"></td><td title=\"Index: [2, 1]&#10;Color: (123, 234, 123)\" style=\"width: 20px; height: 20px;background-color: rgb(123, 234, 123);\"></td><td title=\"Index: [2, 2]&#10;Color: (123, 234, 123)\" style=\"width: 20px; height: 20px;background-color: rgb(123, 234, 123);\"></td><td title=\"Index: [2, 3]&#10;Color: (0, 0, 0)\" style=\"width: 20px; height: 20px;background-color: rgb(0, 0, 0);\"></td><td title=\"Index: [2, 4]&#10;Color: (123, 234, 123)\" style=\"width: 20px; height: 20px;background-color: rgb(123, 234, 123);\"></td><td title=\"Index: [2, 5]&#10;Color: (123, 234, 123)\" style=\"width: 20px; height: 20px;background-color: rgb(123, 234, 123);\"></td><td title=\"Index: [2, 6]&#10;Color: (0, 0, 0)\" style=\"width: 20px; height: 20px;background-color: rgb(0, 0, 0);\"></td><td title=\"Index: [2, 7]&#10;Color: (123, 234, 123)\" style=\"width: 20px; height: 20px;background-color: rgb(123, 234, 123);\"></td></tr><tr><td title=\"Index: [3, 0]&#10;Color: (123, 234, 123)\" style=\"width: 20px; height: 20px;background-color: rgb(123, 234, 123);\"></td><td title=\"Index: [3, 1]&#10;Color: (123, 234, 123)\" style=\"width: 20px; height: 20px;background-color: rgb(123, 234, 123);\"></td><td title=\"Index: [3, 2]&#10;Color: (123, 234, 123)\" style=\"width: 20px; height: 20px;background-color: rgb(123, 234, 123);\"></td><td title=\"Index: [3, 3]&#10;Color: (123, 234, 123)\" style=\"width: 20px; height: 20px;background-color: rgb(123, 234, 123);\"></td><td title=\"Index: [3, 4]&#10;Color: (123, 234, 123)\" style=\"width: 20px; height: 20px;background-color: rgb(123, 234, 123);\"></td><td title=\"Index: [3, 5]&#10;Color: (123, 234, 123)\" style=\"width: 20px; height: 20px;background-color: rgb(123, 234, 123);\"></td><td title=\"Index: [3, 6]&#10;Color: (123, 234, 123)\" style=\"width: 20px; height: 20px;background-color: rgb(123, 234, 123);\"></td><td title=\"Index: [3, 7]&#10;Color: (123, 234, 123)\" style=\"width: 20px; height: 20px;background-color: rgb(123, 234, 123);\"></td></tr><tr><td title=\"Index: [4, 0]&#10;Color: (0, 0, 0)\" style=\"width: 20px; height: 20px;background-color: rgb(0, 0, 0);\"></td><td title=\"Index: [4, 1]&#10;Color: (123, 234, 123)\" style=\"width: 20px; height: 20px;background-color: rgb(123, 234, 123);\"></td><td title=\"Index: [4, 2]&#10;Color: (123, 234, 123)\" style=\"width: 20px; height: 20px;background-color: rgb(123, 234, 123);\"></td><td title=\"Index: [4, 3]&#10;Color: (0, 0, 0)\" style=\"width: 20px; height: 20px;background-color: rgb(0, 0, 0);\"></td><td title=\"Index: [4, 4]&#10;Color: (123, 234, 123)\" style=\"width: 20px; height: 20px;background-color: rgb(123, 234, 123);\"></td><td title=\"Index: [4, 5]&#10;Color: (123, 234, 123)\" style=\"width: 20px; height: 20px;background-color: rgb(123, 234, 123);\"></td><td title=\"Index: [4, 6]&#10;Color: (0, 0, 0)\" style=\"width: 20px; height: 20px;background-color: rgb(0, 0, 0);\"></td><td title=\"Index: [4, 7]&#10;Color: (123, 234, 123)\" style=\"width: 20px; height: 20px;background-color: rgb(123, 234, 123);\"></td></tr><tr><td title=\"Index: [5, 0]&#10;Color: (123, 234, 123)\" style=\"width: 20px; height: 20px;background-color: rgb(123, 234, 123);\"></td><td title=\"Index: [5, 1]&#10;Color: (123, 234, 123)\" style=\"width: 20px; height: 20px;background-color: rgb(123, 234, 123);\"></td><td title=\"Index: [5, 2]&#10;Color: (123, 234, 123)\" style=\"width: 20px; height: 20px;background-color: rgb(123, 234, 123);\"></td><td title=\"Index: [5, 3]&#10;Color: (123, 234, 123)\" style=\"width: 20px; height: 20px;background-color: rgb(123, 234, 123);\"></td><td title=\"Index: [5, 4]&#10;Color: (123, 234, 123)\" style=\"width: 20px; height: 20px;background-color: rgb(123, 234, 123);\"></td><td title=\"Index: [5, 5]&#10;Color: (123, 234, 123)\" style=\"width: 20px; height: 20px;background-color: rgb(123, 234, 123);\"></td><td title=\"Index: [5, 6]&#10;Color: (123, 234, 123)\" style=\"width: 20px; height: 20px;background-color: rgb(123, 234, 123);\"></td><td title=\"Index: [5, 7]&#10;Color: (123, 234, 123)\" style=\"width: 20px; height: 20px;background-color: rgb(123, 234, 123);\"></td></tr><tr><td title=\"Index: [6, 0]&#10;Color: (0, 0, 0)\" style=\"width: 20px; height: 20px;background-color: rgb(0, 0, 0);\"></td><td title=\"Index: [6, 1]&#10;Color: (123, 234, 123)\" style=\"width: 20px; height: 20px;background-color: rgb(123, 234, 123);\"></td><td title=\"Index: [6, 2]&#10;Color: (123, 234, 123)\" style=\"width: 20px; height: 20px;background-color: rgb(123, 234, 123);\"></td><td title=\"Index: [6, 3]&#10;Color: (0, 0, 0)\" style=\"width: 20px; height: 20px;background-color: rgb(0, 0, 0);\"></td><td title=\"Index: [6, 4]&#10;Color: (123, 234, 123)\" style=\"width: 20px; height: 20px;background-color: rgb(123, 234, 123);\"></td><td title=\"Index: [6, 5]&#10;Color: (123, 234, 123)\" style=\"width: 20px; height: 20px;background-color: rgb(123, 234, 123);\"></td><td title=\"Index: [6, 6]&#10;Color: (0, 0, 0)\" style=\"width: 20px; height: 20px;background-color: rgb(0, 0, 0);\"></td><td title=\"Index: [6, 7]&#10;Color: (123, 234, 123)\" style=\"width: 20px; height: 20px;background-color: rgb(123, 234, 123);\"></td></tr><tr><td title=\"Index: [7, 0]&#10;Color: (123, 234, 123)\" style=\"width: 20px; height: 20px;background-color: rgb(123, 234, 123);\"></td><td title=\"Index: [7, 1]&#10;Color: (123, 234, 123)\" style=\"width: 20px; height: 20px;background-color: rgb(123, 234, 123);\"></td><td title=\"Index: [7, 2]&#10;Color: (123, 234, 123)\" style=\"width: 20px; height: 20px;background-color: rgb(123, 234, 123);\"></td><td title=\"Index: [7, 3]&#10;Color: (123, 234, 123)\" style=\"width: 20px; height: 20px;background-color: rgb(123, 234, 123);\"></td><td title=\"Index: [7, 4]&#10;Color: (123, 234, 123)\" style=\"width: 20px; height: 20px;background-color: rgb(123, 234, 123);\"></td><td title=\"Index: [7, 5]&#10;Color: (123, 234, 123)\" style=\"width: 20px; height: 20px;background-color: rgb(123, 234, 123);\"></td><td title=\"Index: [7, 6]&#10;Color: (123, 234, 123)\" style=\"width: 20px; height: 20px;background-color: rgb(123, 234, 123);\"></td><td title=\"Index: [7, 7]&#10;Color: (123, 234, 123)\" style=\"width: 20px; height: 20px;background-color: rgb(123, 234, 123);\"></td></tr></tbody></table>"
       ],
       "metadata": {},
       "output_type": "display_data",
       "text": [
        "<IPython.core.display.HTML at 0x1021c3cd0>"
       ]
      }
     ],
     "prompt_number": 6
    },
    {
     "cell_type": "code",
     "collapsed": false,
     "input": [
      "for row in range(grid.height):\n",
      "    for col in range(grid.width):\n",
      "        square = grid[row,col]\n",
      "        square.red = 100\n",
      "        \n",
      "        if row % 2 == 0:\n",
      "            square.green = 15\n",
      "        else:\n",
      "            square.green = 255\n",
      "        \n",
      "        if col % 2 == 0:\n",
      "            square.blue = 15\n",
      "        else:\n",
      "            square.blue = 255\n",
      "            \n",
      "grid.show()"
     ],
     "language": "python",
     "metadata": {},
     "outputs": [
      {
       "html": [
        "<style type=\"text/css\">table.blockgrid {border: none;} .blockgrid tr {border: none;} .blockgrid td {padding: 0px;} #blockse40b6dd3-be7f-4c0b-8663-95955401dfde td {border: 1px solid white;}</style><table id=\"blockse40b6dd3-be7f-4c0b-8663-95955401dfde\" class=\"blockgrid\"><tbody><tr><td title=\"Index: [0, 0]&#10;Color: (100, 15, 15)\" style=\"width: 20px; height: 20px;background-color: rgb(100, 15, 15);\"></td><td title=\"Index: [0, 1]&#10;Color: (100, 15, 255)\" style=\"width: 20px; height: 20px;background-color: rgb(100, 15, 255);\"></td><td title=\"Index: [0, 2]&#10;Color: (100, 15, 15)\" style=\"width: 20px; height: 20px;background-color: rgb(100, 15, 15);\"></td><td title=\"Index: [0, 3]&#10;Color: (100, 15, 255)\" style=\"width: 20px; height: 20px;background-color: rgb(100, 15, 255);\"></td><td title=\"Index: [0, 4]&#10;Color: (100, 15, 15)\" style=\"width: 20px; height: 20px;background-color: rgb(100, 15, 15);\"></td><td title=\"Index: [0, 5]&#10;Color: (100, 15, 255)\" style=\"width: 20px; height: 20px;background-color: rgb(100, 15, 255);\"></td><td title=\"Index: [0, 6]&#10;Color: (100, 15, 15)\" style=\"width: 20px; height: 20px;background-color: rgb(100, 15, 15);\"></td><td title=\"Index: [0, 7]&#10;Color: (100, 15, 255)\" style=\"width: 20px; height: 20px;background-color: rgb(100, 15, 255);\"></td></tr><tr><td title=\"Index: [1, 0]&#10;Color: (100, 255, 15)\" style=\"width: 20px; height: 20px;background-color: rgb(100, 255, 15);\"></td><td title=\"Index: [1, 1]&#10;Color: (100, 255, 255)\" style=\"width: 20px; height: 20px;background-color: rgb(100, 255, 255);\"></td><td title=\"Index: [1, 2]&#10;Color: (100, 255, 15)\" style=\"width: 20px; height: 20px;background-color: rgb(100, 255, 15);\"></td><td title=\"Index: [1, 3]&#10;Color: (100, 255, 255)\" style=\"width: 20px; height: 20px;background-color: rgb(100, 255, 255);\"></td><td title=\"Index: [1, 4]&#10;Color: (100, 255, 15)\" style=\"width: 20px; height: 20px;background-color: rgb(100, 255, 15);\"></td><td title=\"Index: [1, 5]&#10;Color: (100, 255, 255)\" style=\"width: 20px; height: 20px;background-color: rgb(100, 255, 255);\"></td><td title=\"Index: [1, 6]&#10;Color: (100, 255, 15)\" style=\"width: 20px; height: 20px;background-color: rgb(100, 255, 15);\"></td><td title=\"Index: [1, 7]&#10;Color: (100, 255, 255)\" style=\"width: 20px; height: 20px;background-color: rgb(100, 255, 255);\"></td></tr><tr><td title=\"Index: [2, 0]&#10;Color: (100, 15, 15)\" style=\"width: 20px; height: 20px;background-color: rgb(100, 15, 15);\"></td><td title=\"Index: [2, 1]&#10;Color: (100, 15, 255)\" style=\"width: 20px; height: 20px;background-color: rgb(100, 15, 255);\"></td><td title=\"Index: [2, 2]&#10;Color: (100, 15, 15)\" style=\"width: 20px; height: 20px;background-color: rgb(100, 15, 15);\"></td><td title=\"Index: [2, 3]&#10;Color: (100, 15, 255)\" style=\"width: 20px; height: 20px;background-color: rgb(100, 15, 255);\"></td><td title=\"Index: [2, 4]&#10;Color: (100, 15, 15)\" style=\"width: 20px; height: 20px;background-color: rgb(100, 15, 15);\"></td><td title=\"Index: [2, 5]&#10;Color: (100, 15, 255)\" style=\"width: 20px; height: 20px;background-color: rgb(100, 15, 255);\"></td><td title=\"Index: [2, 6]&#10;Color: (100, 15, 15)\" style=\"width: 20px; height: 20px;background-color: rgb(100, 15, 15);\"></td><td title=\"Index: [2, 7]&#10;Color: (100, 15, 255)\" style=\"width: 20px; height: 20px;background-color: rgb(100, 15, 255);\"></td></tr><tr><td title=\"Index: [3, 0]&#10;Color: (100, 255, 15)\" style=\"width: 20px; height: 20px;background-color: rgb(100, 255, 15);\"></td><td title=\"Index: [3, 1]&#10;Color: (100, 255, 255)\" style=\"width: 20px; height: 20px;background-color: rgb(100, 255, 255);\"></td><td title=\"Index: [3, 2]&#10;Color: (100, 255, 15)\" style=\"width: 20px; height: 20px;background-color: rgb(100, 255, 15);\"></td><td title=\"Index: [3, 3]&#10;Color: (100, 255, 255)\" style=\"width: 20px; height: 20px;background-color: rgb(100, 255, 255);\"></td><td title=\"Index: [3, 4]&#10;Color: (100, 255, 15)\" style=\"width: 20px; height: 20px;background-color: rgb(100, 255, 15);\"></td><td title=\"Index: [3, 5]&#10;Color: (100, 255, 255)\" style=\"width: 20px; height: 20px;background-color: rgb(100, 255, 255);\"></td><td title=\"Index: [3, 6]&#10;Color: (100, 255, 15)\" style=\"width: 20px; height: 20px;background-color: rgb(100, 255, 15);\"></td><td title=\"Index: [3, 7]&#10;Color: (100, 255, 255)\" style=\"width: 20px; height: 20px;background-color: rgb(100, 255, 255);\"></td></tr><tr><td title=\"Index: [4, 0]&#10;Color: (100, 15, 15)\" style=\"width: 20px; height: 20px;background-color: rgb(100, 15, 15);\"></td><td title=\"Index: [4, 1]&#10;Color: (100, 15, 255)\" style=\"width: 20px; height: 20px;background-color: rgb(100, 15, 255);\"></td><td title=\"Index: [4, 2]&#10;Color: (100, 15, 15)\" style=\"width: 20px; height: 20px;background-color: rgb(100, 15, 15);\"></td><td title=\"Index: [4, 3]&#10;Color: (100, 15, 255)\" style=\"width: 20px; height: 20px;background-color: rgb(100, 15, 255);\"></td><td title=\"Index: [4, 4]&#10;Color: (100, 15, 15)\" style=\"width: 20px; height: 20px;background-color: rgb(100, 15, 15);\"></td><td title=\"Index: [4, 5]&#10;Color: (100, 15, 255)\" style=\"width: 20px; height: 20px;background-color: rgb(100, 15, 255);\"></td><td title=\"Index: [4, 6]&#10;Color: (100, 15, 15)\" style=\"width: 20px; height: 20px;background-color: rgb(100, 15, 15);\"></td><td title=\"Index: [4, 7]&#10;Color: (100, 15, 255)\" style=\"width: 20px; height: 20px;background-color: rgb(100, 15, 255);\"></td></tr><tr><td title=\"Index: [5, 0]&#10;Color: (100, 255, 15)\" style=\"width: 20px; height: 20px;background-color: rgb(100, 255, 15);\"></td><td title=\"Index: [5, 1]&#10;Color: (100, 255, 255)\" style=\"width: 20px; height: 20px;background-color: rgb(100, 255, 255);\"></td><td title=\"Index: [5, 2]&#10;Color: (100, 255, 15)\" style=\"width: 20px; height: 20px;background-color: rgb(100, 255, 15);\"></td><td title=\"Index: [5, 3]&#10;Color: (100, 255, 255)\" style=\"width: 20px; height: 20px;background-color: rgb(100, 255, 255);\"></td><td title=\"Index: [5, 4]&#10;Color: (100, 255, 15)\" style=\"width: 20px; height: 20px;background-color: rgb(100, 255, 15);\"></td><td title=\"Index: [5, 5]&#10;Color: (100, 255, 255)\" style=\"width: 20px; height: 20px;background-color: rgb(100, 255, 255);\"></td><td title=\"Index: [5, 6]&#10;Color: (100, 255, 15)\" style=\"width: 20px; height: 20px;background-color: rgb(100, 255, 15);\"></td><td title=\"Index: [5, 7]&#10;Color: (100, 255, 255)\" style=\"width: 20px; height: 20px;background-color: rgb(100, 255, 255);\"></td></tr><tr><td title=\"Index: [6, 0]&#10;Color: (100, 15, 15)\" style=\"width: 20px; height: 20px;background-color: rgb(100, 15, 15);\"></td><td title=\"Index: [6, 1]&#10;Color: (100, 15, 255)\" style=\"width: 20px; height: 20px;background-color: rgb(100, 15, 255);\"></td><td title=\"Index: [6, 2]&#10;Color: (100, 15, 15)\" style=\"width: 20px; height: 20px;background-color: rgb(100, 15, 15);\"></td><td title=\"Index: [6, 3]&#10;Color: (100, 15, 255)\" style=\"width: 20px; height: 20px;background-color: rgb(100, 15, 255);\"></td><td title=\"Index: [6, 4]&#10;Color: (100, 15, 15)\" style=\"width: 20px; height: 20px;background-color: rgb(100, 15, 15);\"></td><td title=\"Index: [6, 5]&#10;Color: (100, 15, 255)\" style=\"width: 20px; height: 20px;background-color: rgb(100, 15, 255);\"></td><td title=\"Index: [6, 6]&#10;Color: (100, 15, 15)\" style=\"width: 20px; height: 20px;background-color: rgb(100, 15, 15);\"></td><td title=\"Index: [6, 7]&#10;Color: (100, 15, 255)\" style=\"width: 20px; height: 20px;background-color: rgb(100, 15, 255);\"></td></tr><tr><td title=\"Index: [7, 0]&#10;Color: (100, 255, 15)\" style=\"width: 20px; height: 20px;background-color: rgb(100, 255, 15);\"></td><td title=\"Index: [7, 1]&#10;Color: (100, 255, 255)\" style=\"width: 20px; height: 20px;background-color: rgb(100, 255, 255);\"></td><td title=\"Index: [7, 2]&#10;Color: (100, 255, 15)\" style=\"width: 20px; height: 20px;background-color: rgb(100, 255, 15);\"></td><td title=\"Index: [7, 3]&#10;Color: (100, 255, 255)\" style=\"width: 20px; height: 20px;background-color: rgb(100, 255, 255);\"></td><td title=\"Index: [7, 4]&#10;Color: (100, 255, 15)\" style=\"width: 20px; height: 20px;background-color: rgb(100, 255, 15);\"></td><td title=\"Index: [7, 5]&#10;Color: (100, 255, 255)\" style=\"width: 20px; height: 20px;background-color: rgb(100, 255, 255);\"></td><td title=\"Index: [7, 6]&#10;Color: (100, 255, 15)\" style=\"width: 20px; height: 20px;background-color: rgb(100, 255, 15);\"></td><td title=\"Index: [7, 7]&#10;Color: (100, 255, 255)\" style=\"width: 20px; height: 20px;background-color: rgb(100, 255, 255);\"></td></tr></tbody></table>"
       ],
       "metadata": {},
       "output_type": "display_data",
       "text": [
        "<IPython.core.display.HTML at 0x1024a83d0>"
       ]
      }
     ],
     "prompt_number": 8
    },
    {
     "cell_type": "code",
     "collapsed": false,
     "input": [
      "from ipythonblocks import colors"
     ],
     "language": "python",
     "metadata": {},
     "outputs": [],
     "prompt_number": 9
    },
    {
     "cell_type": "code",
     "collapsed": false,
     "input": [
      "colors"
     ],
     "language": "python",
     "metadata": {},
     "outputs": [
      {
       "metadata": {},
       "output_type": "pyout",
       "prompt_number": 10,
       "text": [
        "{'AliceBlue': (240, 248, 255),\n",
        " 'AntiqueWhite': (250, 235, 215),\n",
        " 'Aqua': (0, 255, 255),\n",
        " 'Aquamarine': (127, 255, 212),\n",
        " 'Azure': (240, 255, 255),\n",
        " 'Beige': (245, 245, 220),\n",
        " 'Bisque': (255, 228, 196),\n",
        " 'Black': (0, 0, 0),\n",
        " 'BlanchedAlmond': (255, 235, 205),\n",
        " 'Blue': (0, 0, 255),\n",
        " 'BlueViolet': (138, 43, 226),\n",
        " 'Brown': (165, 42, 42),\n",
        " 'BurlyWood': (222, 184, 135),\n",
        " 'CadetBlue': (95, 158, 160),\n",
        " 'Chartreuse': (127, 255, 0),\n",
        " 'Chocolate': (210, 105, 30),\n",
        " 'Coral': (255, 127, 80),\n",
        " 'CornflowerBlue': (100, 149, 237),\n",
        " 'Cornsilk': (255, 248, 220),\n",
        " 'Crimson': (220, 20, 60),\n",
        " 'Cyan': (0, 255, 255),\n",
        " 'DarkBlue': (0, 0, 139),\n",
        " 'DarkCyan': (0, 139, 139),\n",
        " 'DarkGoldenrod': (184, 134, 11),\n",
        " 'DarkGray': (169, 169, 169),\n",
        " 'DarkGreen': (0, 100, 0),\n",
        " 'DarkKhaki': (189, 183, 107),\n",
        " 'DarkMagenta': (139, 0, 139),\n",
        " 'DarkOliveGreen': (85, 107, 47),\n",
        " 'DarkOrange': (255, 140, 0),\n",
        " 'DarkOrchid': (153, 50, 204),\n",
        " 'DarkRed': (139, 0, 0),\n",
        " 'DarkSalmon': (233, 150, 122),\n",
        " 'DarkSeaGreen': (143, 188, 143),\n",
        " 'DarkSlateBlue': (72, 61, 139),\n",
        " 'DarkSlateGray': (47, 79, 79),\n",
        " 'DarkTurquoise': (0, 206, 209),\n",
        " 'DarkViolet': (148, 0, 211),\n",
        " 'DeepPink': (255, 20, 147),\n",
        " 'DeepSkyBlue': (0, 191, 255),\n",
        " 'DimGray': (105, 105, 105),\n",
        " 'DodgerBlue': (30, 144, 255),\n",
        " 'FireBrick': (178, 34, 34),\n",
        " 'FloralWhite': (255, 250, 240),\n",
        " 'ForestGreen': (34, 139, 34),\n",
        " 'Fuchsia': (255, 0, 255),\n",
        " 'Gainsboro': (220, 220, 220),\n",
        " 'GhostWhite': (248, 248, 255),\n",
        " 'Gold': (255, 215, 0),\n",
        " 'Goldenrod': (218, 165, 32),\n",
        " 'Gray': (128, 128, 128),\n",
        " 'Green': (0, 128, 0),\n",
        " 'GreenYellow': (173, 255, 47),\n",
        " 'Honeydew': (240, 255, 240),\n",
        " 'HotPink': (255, 105, 180),\n",
        " 'IndianRed': (205, 92, 92),\n",
        " 'Indigo': (75, 0, 130),\n",
        " 'Ivory': (255, 255, 240),\n",
        " 'Khaki': (240, 230, 140),\n",
        " 'Lavender': (230, 230, 250),\n",
        " 'LavenderBlush': (255, 240, 245),\n",
        " 'LawnGreen': (124, 252, 0),\n",
        " 'LemonChiffon': (255, 250, 205),\n",
        " 'LightBlue': (173, 216, 230),\n",
        " 'LightCoral': (240, 128, 128),\n",
        " 'LightCyan': (224, 255, 255),\n",
        " 'LightGoldenrodYellow': (250, 250, 210),\n",
        " 'LightGray': (211, 211, 211),\n",
        " 'LightGreen': (144, 238, 144),\n",
        " 'LightPink': (255, 182, 193),\n",
        " 'LightSalmon': (255, 160, 122),\n",
        " 'LightSeaGreen': (32, 178, 170),\n",
        " 'LightSkyBlue': (135, 206, 250),\n",
        " 'LightSlateGray': (119, 136, 153),\n",
        " 'LightSteelBlue': (176, 196, 222),\n",
        " 'LightYellow': (255, 255, 224),\n",
        " 'Lime': (0, 255, 0),\n",
        " 'LimeGreen': (50, 205, 50),\n",
        " 'Linen': (250, 240, 230),\n",
        " 'Magenta': (255, 0, 255),\n",
        " 'Maroon': (128, 0, 0),\n",
        " 'MediumAquamarine': (102, 205, 170),\n",
        " 'MediumBlue': (0, 0, 205),\n",
        " 'MediumOrchid': (186, 85, 211),\n",
        " 'MediumPurple': (147, 112, 219),\n",
        " 'MediumSeaGreen': (60, 179, 113),\n",
        " 'MediumSlateBlue': (123, 104, 238),\n",
        " 'MediumSpringGreen': (0, 250, 154),\n",
        " 'MediumTurquoise': (72, 209, 204),\n",
        " 'MediumVioletRed': (199, 21, 133),\n",
        " 'MidnightBlue': (25, 25, 112),\n",
        " 'MintCream': (245, 255, 250),\n",
        " 'MistyRose': (255, 228, 225),\n",
        " 'Moccasin': (255, 228, 181),\n",
        " 'NavajoWhite': (255, 222, 173),\n",
        " 'Navy': (0, 0, 128),\n",
        " 'OldLace': (253, 245, 230),\n",
        " 'Olive': (128, 128, 0),\n",
        " 'OliveDrab': (107, 142, 35),\n",
        " 'Orange': (255, 165, 0),\n",
        " 'OrangeRed': (255, 69, 0),\n",
        " 'Orchid': (218, 112, 214),\n",
        " 'PaleGoldenrod': (238, 232, 170),\n",
        " 'PaleGreen': (152, 251, 152),\n",
        " 'PaleTurquoise': (175, 238, 238),\n",
        " 'PaleVioletRed': (219, 112, 147),\n",
        " 'PapayaWhip': (255, 239, 213),\n",
        " 'PeachPuff': (255, 218, 185),\n",
        " 'Peru': (205, 133, 63),\n",
        " 'Pink': (255, 192, 203),\n",
        " 'Plum': (221, 160, 221),\n",
        " 'PowderBlue': (176, 224, 230),\n",
        " 'Purple': (128, 0, 128),\n",
        " 'Red': (255, 0, 0),\n",
        " 'RosyBrown': (188, 143, 143),\n",
        " 'RoyalBlue': (65, 105, 225),\n",
        " 'SaddleBrown': (139, 69, 19),\n",
        " 'Salmon': (250, 128, 114),\n",
        " 'SandyBrown': (244, 164, 96),\n",
        " 'SeaGreen': (46, 139, 87),\n",
        " 'Seashell': (255, 245, 238),\n",
        " 'Sienna': (160, 82, 45),\n",
        " 'Silver': (192, 192, 192),\n",
        " 'SkyBlue': (135, 206, 235),\n",
        " 'SlateBlue': (106, 90, 205),\n",
        " 'SlateGray': (112, 128, 144),\n",
        " 'Snow': (255, 250, 250),\n",
        " 'SpringGreen': (0, 255, 127),\n",
        " 'SteelBlue': (70, 130, 180),\n",
        " 'Tan': (210, 180, 140),\n",
        " 'Teal': (0, 128, 128),\n",
        " 'Thistle': (216, 191, 216),\n",
        " 'Tomato': (255, 99, 71),\n",
        " 'Turquoise': (64, 224, 208),\n",
        " 'Violet': (238, 130, 238),\n",
        " 'Wheat': (245, 222, 179),\n",
        " 'White': (255, 255, 255),\n",
        " 'WhiteSmoke': (245, 245, 245),\n",
        " 'Yellow': (255, 255, 0),\n",
        " 'YellowGreen': (154, 205, 50)}"
       ]
      }
     ],
     "prompt_number": 10
    },
    {
     "cell_type": "code",
     "collapsed": false,
     "input": [
      "grid[1,1] = colors['Teal']\n",
      "grid[1,2] = colors['Thistle']\n",
      "grid[1,3] = colors['Pink']\n",
      "grid"
     ],
     "language": "python",
     "metadata": {},
     "outputs": [
      {
       "html": [
        "<style type=\"text/css\">table.blockgrid {border: none;} .blockgrid tr {border: none;} .blockgrid td {padding: 0px;} #blocks0293b07b-133e-498c-b170-fc8e6a7a925e td {border: 1px solid white;}</style><table id=\"blocks0293b07b-133e-498c-b170-fc8e6a7a925e\" class=\"blockgrid\"><tbody><tr><td title=\"Index: [0, 0]&#10;Color: (100, 15, 15)\" style=\"width: 20px; height: 20px;background-color: rgb(100, 15, 15);\"></td><td title=\"Index: [0, 1]&#10;Color: (100, 15, 255)\" style=\"width: 20px; height: 20px;background-color: rgb(100, 15, 255);\"></td><td title=\"Index: [0, 2]&#10;Color: (100, 15, 15)\" style=\"width: 20px; height: 20px;background-color: rgb(100, 15, 15);\"></td><td title=\"Index: [0, 3]&#10;Color: (100, 15, 255)\" style=\"width: 20px; height: 20px;background-color: rgb(100, 15, 255);\"></td><td title=\"Index: [0, 4]&#10;Color: (100, 15, 15)\" style=\"width: 20px; height: 20px;background-color: rgb(100, 15, 15);\"></td><td title=\"Index: [0, 5]&#10;Color: (100, 15, 255)\" style=\"width: 20px; height: 20px;background-color: rgb(100, 15, 255);\"></td><td title=\"Index: [0, 6]&#10;Color: (100, 15, 15)\" style=\"width: 20px; height: 20px;background-color: rgb(100, 15, 15);\"></td><td title=\"Index: [0, 7]&#10;Color: (100, 15, 255)\" style=\"width: 20px; height: 20px;background-color: rgb(100, 15, 255);\"></td></tr><tr><td title=\"Index: [1, 0]&#10;Color: (100, 255, 15)\" style=\"width: 20px; height: 20px;background-color: rgb(100, 255, 15);\"></td><td title=\"Index: [1, 1]&#10;Color: (0, 128, 128)\" style=\"width: 20px; height: 20px;background-color: rgb(0, 128, 128);\"></td><td title=\"Index: [1, 2]&#10;Color: (216, 191, 216)\" style=\"width: 20px; height: 20px;background-color: rgb(216, 191, 216);\"></td><td title=\"Index: [1, 3]&#10;Color: (255, 192, 203)\" style=\"width: 20px; height: 20px;background-color: rgb(255, 192, 203);\"></td><td title=\"Index: [1, 4]&#10;Color: (100, 255, 15)\" style=\"width: 20px; height: 20px;background-color: rgb(100, 255, 15);\"></td><td title=\"Index: [1, 5]&#10;Color: (100, 255, 255)\" style=\"width: 20px; height: 20px;background-color: rgb(100, 255, 255);\"></td><td title=\"Index: [1, 6]&#10;Color: (100, 255, 15)\" style=\"width: 20px; height: 20px;background-color: rgb(100, 255, 15);\"></td><td title=\"Index: [1, 7]&#10;Color: (100, 255, 255)\" style=\"width: 20px; height: 20px;background-color: rgb(100, 255, 255);\"></td></tr><tr><td title=\"Index: [2, 0]&#10;Color: (100, 15, 15)\" style=\"width: 20px; height: 20px;background-color: rgb(100, 15, 15);\"></td><td title=\"Index: [2, 1]&#10;Color: (100, 15, 255)\" style=\"width: 20px; height: 20px;background-color: rgb(100, 15, 255);\"></td><td title=\"Index: [2, 2]&#10;Color: (100, 15, 15)\" style=\"width: 20px; height: 20px;background-color: rgb(100, 15, 15);\"></td><td title=\"Index: [2, 3]&#10;Color: (100, 15, 255)\" style=\"width: 20px; height: 20px;background-color: rgb(100, 15, 255);\"></td><td title=\"Index: [2, 4]&#10;Color: (100, 15, 15)\" style=\"width: 20px; height: 20px;background-color: rgb(100, 15, 15);\"></td><td title=\"Index: [2, 5]&#10;Color: (100, 15, 255)\" style=\"width: 20px; height: 20px;background-color: rgb(100, 15, 255);\"></td><td title=\"Index: [2, 6]&#10;Color: (100, 15, 15)\" style=\"width: 20px; height: 20px;background-color: rgb(100, 15, 15);\"></td><td title=\"Index: [2, 7]&#10;Color: (100, 15, 255)\" style=\"width: 20px; height: 20px;background-color: rgb(100, 15, 255);\"></td></tr><tr><td title=\"Index: [3, 0]&#10;Color: (100, 255, 15)\" style=\"width: 20px; height: 20px;background-color: rgb(100, 255, 15);\"></td><td title=\"Index: [3, 1]&#10;Color: (100, 255, 255)\" style=\"width: 20px; height: 20px;background-color: rgb(100, 255, 255);\"></td><td title=\"Index: [3, 2]&#10;Color: (100, 255, 15)\" style=\"width: 20px; height: 20px;background-color: rgb(100, 255, 15);\"></td><td title=\"Index: [3, 3]&#10;Color: (100, 255, 255)\" style=\"width: 20px; height: 20px;background-color: rgb(100, 255, 255);\"></td><td title=\"Index: [3, 4]&#10;Color: (100, 255, 15)\" style=\"width: 20px; height: 20px;background-color: rgb(100, 255, 15);\"></td><td title=\"Index: [3, 5]&#10;Color: (100, 255, 255)\" style=\"width: 20px; height: 20px;background-color: rgb(100, 255, 255);\"></td><td title=\"Index: [3, 6]&#10;Color: (100, 255, 15)\" style=\"width: 20px; height: 20px;background-color: rgb(100, 255, 15);\"></td><td title=\"Index: [3, 7]&#10;Color: (100, 255, 255)\" style=\"width: 20px; height: 20px;background-color: rgb(100, 255, 255);\"></td></tr><tr><td title=\"Index: [4, 0]&#10;Color: (100, 15, 15)\" style=\"width: 20px; height: 20px;background-color: rgb(100, 15, 15);\"></td><td title=\"Index: [4, 1]&#10;Color: (100, 15, 255)\" style=\"width: 20px; height: 20px;background-color: rgb(100, 15, 255);\"></td><td title=\"Index: [4, 2]&#10;Color: (100, 15, 15)\" style=\"width: 20px; height: 20px;background-color: rgb(100, 15, 15);\"></td><td title=\"Index: [4, 3]&#10;Color: (100, 15, 255)\" style=\"width: 20px; height: 20px;background-color: rgb(100, 15, 255);\"></td><td title=\"Index: [4, 4]&#10;Color: (100, 15, 15)\" style=\"width: 20px; height: 20px;background-color: rgb(100, 15, 15);\"></td><td title=\"Index: [4, 5]&#10;Color: (100, 15, 255)\" style=\"width: 20px; height: 20px;background-color: rgb(100, 15, 255);\"></td><td title=\"Index: [4, 6]&#10;Color: (100, 15, 15)\" style=\"width: 20px; height: 20px;background-color: rgb(100, 15, 15);\"></td><td title=\"Index: [4, 7]&#10;Color: (100, 15, 255)\" style=\"width: 20px; height: 20px;background-color: rgb(100, 15, 255);\"></td></tr><tr><td title=\"Index: [5, 0]&#10;Color: (100, 255, 15)\" style=\"width: 20px; height: 20px;background-color: rgb(100, 255, 15);\"></td><td title=\"Index: [5, 1]&#10;Color: (100, 255, 255)\" style=\"width: 20px; height: 20px;background-color: rgb(100, 255, 255);\"></td><td title=\"Index: [5, 2]&#10;Color: (100, 255, 15)\" style=\"width: 20px; height: 20px;background-color: rgb(100, 255, 15);\"></td><td title=\"Index: [5, 3]&#10;Color: (100, 255, 255)\" style=\"width: 20px; height: 20px;background-color: rgb(100, 255, 255);\"></td><td title=\"Index: [5, 4]&#10;Color: (100, 255, 15)\" style=\"width: 20px; height: 20px;background-color: rgb(100, 255, 15);\"></td><td title=\"Index: [5, 5]&#10;Color: (100, 255, 255)\" style=\"width: 20px; height: 20px;background-color: rgb(100, 255, 255);\"></td><td title=\"Index: [5, 6]&#10;Color: (100, 255, 15)\" style=\"width: 20px; height: 20px;background-color: rgb(100, 255, 15);\"></td><td title=\"Index: [5, 7]&#10;Color: (100, 255, 255)\" style=\"width: 20px; height: 20px;background-color: rgb(100, 255, 255);\"></td></tr><tr><td title=\"Index: [6, 0]&#10;Color: (100, 15, 15)\" style=\"width: 20px; height: 20px;background-color: rgb(100, 15, 15);\"></td><td title=\"Index: [6, 1]&#10;Color: (100, 15, 255)\" style=\"width: 20px; height: 20px;background-color: rgb(100, 15, 255);\"></td><td title=\"Index: [6, 2]&#10;Color: (100, 15, 15)\" style=\"width: 20px; height: 20px;background-color: rgb(100, 15, 15);\"></td><td title=\"Index: [6, 3]&#10;Color: (100, 15, 255)\" style=\"width: 20px; height: 20px;background-color: rgb(100, 15, 255);\"></td><td title=\"Index: [6, 4]&#10;Color: (100, 15, 15)\" style=\"width: 20px; height: 20px;background-color: rgb(100, 15, 15);\"></td><td title=\"Index: [6, 5]&#10;Color: (100, 15, 255)\" style=\"width: 20px; height: 20px;background-color: rgb(100, 15, 255);\"></td><td title=\"Index: [6, 6]&#10;Color: (100, 15, 15)\" style=\"width: 20px; height: 20px;background-color: rgb(100, 15, 15);\"></td><td title=\"Index: [6, 7]&#10;Color: (100, 15, 255)\" style=\"width: 20px; height: 20px;background-color: rgb(100, 15, 255);\"></td></tr><tr><td title=\"Index: [7, 0]&#10;Color: (100, 255, 15)\" style=\"width: 20px; height: 20px;background-color: rgb(100, 255, 15);\"></td><td title=\"Index: [7, 1]&#10;Color: (100, 255, 255)\" style=\"width: 20px; height: 20px;background-color: rgb(100, 255, 255);\"></td><td title=\"Index: [7, 2]&#10;Color: (100, 255, 15)\" style=\"width: 20px; height: 20px;background-color: rgb(100, 255, 15);\"></td><td title=\"Index: [7, 3]&#10;Color: (100, 255, 255)\" style=\"width: 20px; height: 20px;background-color: rgb(100, 255, 255);\"></td><td title=\"Index: [7, 4]&#10;Color: (100, 255, 15)\" style=\"width: 20px; height: 20px;background-color: rgb(100, 255, 15);\"></td><td title=\"Index: [7, 5]&#10;Color: (100, 255, 255)\" style=\"width: 20px; height: 20px;background-color: rgb(100, 255, 255);\"></td><td title=\"Index: [7, 6]&#10;Color: (100, 255, 15)\" style=\"width: 20px; height: 20px;background-color: rgb(100, 255, 15);\"></td><td title=\"Index: [7, 7]&#10;Color: (100, 255, 255)\" style=\"width: 20px; height: 20px;background-color: rgb(100, 255, 255);\"></td></tr></tbody></table>"
       ],
       "metadata": {},
       "output_type": "pyout",
       "prompt_number": 13,
       "text": [
        "<ipythonblocks.ipythonblocks.BlockGrid at 0x101e98bd0>"
       ]
      }
     ],
     "prompt_number": 13
    },
    {
     "cell_type": "code",
     "collapsed": false,
     "input": [
      "subgrid = grid[:,3]\n",
      "subgrid\n"
     ],
     "language": "python",
     "metadata": {},
     "outputs": [
      {
       "html": [
        "<style type=\"text/css\">table.blockgrid {border: none;} .blockgrid tr {border: none;} .blockgrid td {padding: 0px;} #blocks92961acb-8528-4d2c-8735-c285b8bdff55 td {border: 1px solid white;}</style><table id=\"blocks92961acb-8528-4d2c-8735-c285b8bdff55\" class=\"blockgrid\"><tbody><tr><td title=\"Index: [0, 0]&#10;Color: (100, 15, 255)\" style=\"width: 20px; height: 20px;background-color: rgb(100, 15, 255);\"></td></tr><tr><td title=\"Index: [1, 0]&#10;Color: (255, 192, 203)\" style=\"width: 20px; height: 20px;background-color: rgb(255, 192, 203);\"></td></tr><tr><td title=\"Index: [2, 0]&#10;Color: (100, 15, 255)\" style=\"width: 20px; height: 20px;background-color: rgb(100, 15, 255);\"></td></tr><tr><td title=\"Index: [3, 0]&#10;Color: (100, 255, 255)\" style=\"width: 20px; height: 20px;background-color: rgb(100, 255, 255);\"></td></tr><tr><td title=\"Index: [4, 0]&#10;Color: (100, 15, 255)\" style=\"width: 20px; height: 20px;background-color: rgb(100, 15, 255);\"></td></tr><tr><td title=\"Index: [5, 0]&#10;Color: (100, 255, 255)\" style=\"width: 20px; height: 20px;background-color: rgb(100, 255, 255);\"></td></tr><tr><td title=\"Index: [6, 0]&#10;Color: (100, 15, 255)\" style=\"width: 20px; height: 20px;background-color: rgb(100, 15, 255);\"></td></tr><tr><td title=\"Index: [7, 0]&#10;Color: (100, 255, 255)\" style=\"width: 20px; height: 20px;background-color: rgb(100, 255, 255);\"></td></tr></tbody></table>"
       ],
       "metadata": {},
       "output_type": "pyout",
       "prompt_number": 14,
       "text": [
        "<ipythonblocks.ipythonblocks.BlockGrid at 0x1024a2d50>"
       ]
      }
     ],
     "prompt_number": 14
    },
    {
     "cell_type": "code",
     "collapsed": false,
     "input": [
      "subgrid = grid[2:4,5:7]\n",
      "subgrid"
     ],
     "language": "python",
     "metadata": {},
     "outputs": [
      {
       "html": [
        "<style type=\"text/css\">table.blockgrid {border: none;} .blockgrid tr {border: none;} .blockgrid td {padding: 0px;} #blocks085cd32e-2642-444c-8e81-c58a3f0d0000 td {border: 1px solid white;}</style><table id=\"blocks085cd32e-2642-444c-8e81-c58a3f0d0000\" class=\"blockgrid\"><tbody><tr><td title=\"Index: [0, 0]&#10;Color: (100, 15, 255)\" style=\"width: 20px; height: 20px;background-color: rgb(100, 15, 255);\"></td><td title=\"Index: [0, 1]&#10;Color: (100, 15, 15)\" style=\"width: 20px; height: 20px;background-color: rgb(100, 15, 15);\"></td></tr><tr><td title=\"Index: [1, 0]&#10;Color: (100, 255, 255)\" style=\"width: 20px; height: 20px;background-color: rgb(100, 255, 255);\"></td><td title=\"Index: [1, 1]&#10;Color: (100, 255, 15)\" style=\"width: 20px; height: 20px;background-color: rgb(100, 255, 15);\"></td></tr></tbody></table>"
       ],
       "metadata": {},
       "output_type": "pyout",
       "prompt_number": 16,
       "text": [
        "<ipythonblocks.ipythonblocks.BlockGrid at 0x1024a2e10>"
       ]
      }
     ],
     "prompt_number": 16
    },
    {
     "cell_type": "heading",
     "level": 1,
     "metadata": {},
     "source": [
      "Battleship!"
     ]
    },
    {
     "cell_type": "code",
     "collapsed": false,
     "input": [
      "from random import randint\n",
      "\n",
      "board = []\n",
      "\n",
      "for x in range(5):\n",
      "    board.append([\"O\"] * 5)\n",
      "\n",
      "def print_board(board):\n",
      "    for row in board:\n",
      "        print \" \".join(row)\n",
      "\n",
      "print \"Let's play Battleship!\"\n",
      "print_board(board)\n",
      "\n",
      "def random_row(board):\n",
      "    return randint(0, len(board) - 1)\n",
      "\n",
      "def random_col(board):\n",
      "    return randint(0, len(board[0]) - 1)\n",
      "\n",
      "ship_row = random_row(board)\n",
      "ship_col = random_col(board)\n",
      "\n",
      "\n",
      "# Everything from here on should go in your for loop!\n",
      "# Be sure to indent four spaces!\n",
      "for turn in range(4):\n",
      "    print \"Turn\", turn +1\n",
      "    guess_row = int(raw_input(\"Guess Row:\"))\n",
      "    guess_col = int(raw_input(\"Guess Col:\"))\n",
      "\n",
      "    if guess_row == ship_row and guess_col == ship_col:\n",
      "        print \"Congratulations! You sunk my battleship!\"\n",
      "        break\n",
      "    else:\n",
      "        if (guess_row < 0 or guess_row > 4) or (guess_col < 0 or guess_col > 4):\n",
      "            print \"Oops, that's not even in the ocean.\"\n",
      "        elif(board[guess_row][guess_col] == \"X\"):\n",
      "            print \"You guessed that one already.\"\n",
      "        else:\n",
      "            print \"You missed my battleship!\"\n",
      "        board[guess_row][guess_col] = \"X\"\n",
      "    # Print (turn + 1) here!\n",
      "    print_board(board)\n",
      "    if turn == 3:\n",
      "        print \"Game Over\""
     ],
     "language": "python",
     "metadata": {},
     "outputs": [
      {
       "output_type": "stream",
       "stream": "stdout",
       "text": [
        "Let's play Battleship!\n",
        "O O O O O\n",
        "O O O O O\n",
        "O O O O O\n",
        "O O O O O\n",
        "O O O O O\n",
        "Turn 1\n"
       ]
      },
      {
       "name": "stdout",
       "output_type": "stream",
       "stream": "stdout",
       "text": [
        "Guess Row:2\n"
       ]
      },
      {
       "name": "stdout",
       "output_type": "stream",
       "stream": "stdout",
       "text": [
        "Guess Col:3\n"
       ]
      },
      {
       "output_type": "stream",
       "stream": "stdout",
       "text": [
        "You missed my battleship!\n",
        "O O O O O\n",
        "O O O O O\n",
        "O O O X O\n",
        "O O O O O\n",
        "O O O O O\n",
        "Turn 2\n"
       ]
      },
      {
       "name": "stdout",
       "output_type": "stream",
       "stream": "stdout",
       "text": [
        "Guess Row:1\n"
       ]
      },
      {
       "name": "stdout",
       "output_type": "stream",
       "stream": "stdout",
       "text": [
        "Guess Col:1\n"
       ]
      },
      {
       "output_type": "stream",
       "stream": "stdout",
       "text": [
        "You missed my battleship!\n",
        "O O O O O\n",
        "O X O O O\n",
        "O O O X O\n",
        "O O O O O\n",
        "O O O O O\n",
        "Turn 3\n"
       ]
      },
      {
       "name": "stdout",
       "output_type": "stream",
       "stream": "stdout",
       "text": [
        "Guess Row:4\n"
       ]
      },
      {
       "name": "stdout",
       "output_type": "stream",
       "stream": "stdout",
       "text": [
        "Guess Col:2\n"
       ]
      },
      {
       "output_type": "stream",
       "stream": "stdout",
       "text": [
        "You missed my battleship!\n",
        "O O O O O\n",
        "O X O O O\n",
        "O O O X O\n",
        "O O O O O\n",
        "O O X O O\n",
        "Turn 4\n"
       ]
      },
      {
       "name": "stdout",
       "output_type": "stream",
       "stream": "stdout",
       "text": [
        "Guess Row:2\n"
       ]
      },
      {
       "name": "stdout",
       "output_type": "stream",
       "stream": "stdout",
       "text": [
        "Guess Col:3\n"
       ]
      },
      {
       "output_type": "stream",
       "stream": "stdout",
       "text": [
        "You guessed that one already.\n",
        "O O O O O\n",
        "O X O O O\n",
        "O O O X O\n",
        "O O O O O\n",
        "O O X O O\n",
        "Game Over\n"
       ]
      }
     ],
     "prompt_number": 18
    },
    {
     "cell_type": "code",
     "collapsed": false,
     "input": [],
     "language": "python",
     "metadata": {},
     "outputs": []
    }
   ],
   "metadata": {}
  }
 ]
}