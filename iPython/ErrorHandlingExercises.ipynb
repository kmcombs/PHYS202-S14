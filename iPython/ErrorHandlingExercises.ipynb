{
 "metadata": {
  "name": "",
  "signature": "sha256:51fb831b1856e9bfa7dddebaa3d692c14e06bfd279bb1120535f571b48cda1a9"
 },
 "nbformat": 3,
 "nbformat_minor": 0,
 "worksheets": [
  {
   "cells": [
    {
     "cell_type": "heading",
     "level": 1,
     "metadata": {},
     "source": [
      "Error Handling Exercises"
     ]
    },
    {
     "cell_type": "markdown",
     "metadata": {},
     "source": [
      "**1.** Find a partner. Choose a driver and a navigator. The driver should copy their Battleship code to a cell in the driver's ErrorHandlingExercises notebook. The driver should explain to the navigator the basics of how their program works. Work together to add some error handling to the program. Include a markdown cell identifying the driver and navigator. When you are done, switch roles and let the navigator be the driver and vice versa. At the end you should both have a Battleship program that includes some error handling."
     ]
    },
    {
     "cell_type": "markdown",
     "metadata": {},
     "source": [
      "Driver: Katherine Combs\n",
      "\n",
      "Navigator: Masha Kourjanskaia"
     ]
    },
    {
     "cell_type": "code",
     "collapsed": false,
     "input": [
      "import random\n",
      "from random import randint\n",
      "from ipythonblocks import BlockGrid\n",
      "import numpy as np\n",
      "\n",
      "print \"Let's play Battleship!\"\n",
      "print \"Guess where the ship is located to sink it. It is three blocks long.\"\n",
      "\n",
      "print \"How big would you like your ocean? \"\n",
      "\n",
      "while True:\n",
      "    try:\n",
      "        grid_row = int(raw_input(\"   Length: \"))\n",
      "        grid_col = int(raw_input(\"   Width: \"))\n",
      "        break\n",
      "    except ValueError:\n",
      "        print \"Please put a whole number.\"\n",
      "        \n",
      "grid = BlockGrid(grid_col, grid_row, fill = (0, 150, 150)) \n",
      "board = np.zeros((grid_row, grid_col))\n",
      "grid.show()\n",
      "\n",
      "while True:\n",
      "    try:\n",
      "        turn_input = int(raw_input(\"How many turns would you like? \"))\n",
      "        break\n",
      "    except ValueError:\n",
      "        print \"Please put a whole number.\"\n",
      "\n",
      "orientation = randint(0,1)\n",
      "if orientation == 0: \n",
      "    ship_row = randint(0, (grid_row - 1))\n",
      "    ship_col1 = randint(0, (grid_col - 1))\n",
      "    if ship_col1 <= 1: \n",
      "        ship_col2 = ship_col1 + 1\n",
      "        ship_col3 = ship_col2 + 1\n",
      "    elif ship_col1 >= (grid_col - 2): \n",
      "        ship_col2 = ship_col1 - 1\n",
      "        ship_col3 = ship_col2 - 1\n",
      "    else:\n",
      "        r = random.choice([-1, 1]) \n",
      "        ship_col2 = ship_col1 + r\n",
      "        if r == -1:\n",
      "            ship_col3 = ship_col2 - 1\n",
      "        else:\n",
      "            ship_col3 = ship_col2 + 1\n",
      "    for turn in range(turn_input):\n",
      "        print \"Turn\", turn +1\n",
      "        while True:\n",
      "            try:\n",
      "                guess_row = int(raw_input(\"Guess Row: \")) - 1\n",
      "                guess_col = int(raw_input(\"Guess Col: \")) - 1\n",
      "                break\n",
      "            except ValueError:\n",
      "                \"Please guess a whole number.\"\n",
      "        if (guess_row == ship_row) and (guess_col == ship_col1 or \\\n",
      "            guess_col == ship_col2 or guess_col == ship_col3):\n",
      "            print \"You hit my battleship!\"\n",
      "            board[guess_row, guess_col] = 2\n",
      "            grid[guess_row, guess_col] = (255, 0, 0)\n",
      "            grid.show()\n",
      "        else:\n",
      "            if (guess_row < 0 or guess_row >= grid_row) or \\\n",
      "            (guess_col < 0 or guess_col >= grid_col):\n",
      "                print \"Oops, that's not even in the ocean.\"\n",
      "            if board[guess_row, guess_col] == 1:\n",
      "                print \"Oops! You guessed that one already.\"\n",
      "            else:\n",
      "                print \"You missed my battleship!\"\n",
      "                board[guess_row, guess_col] = 1\n",
      "                grid[guess_row, guess_col] = (0, 0, 0)\n",
      "            grid.show()\n",
      "        if (board == 2).sum() == 3:\n",
      "            print \"Congratulations! You sank my battleship!\"\n",
      "            break\n",
      "        if turn == turn_input - 1:\n",
      "            print \"Game Over :( \"\n",
      "            grid[ship_row, ship_col1] = (128, 128, 128)\n",
      "            grid[ship_row, ship_col2] = (128, 128, 128)\n",
      "            grid[ship_row, ship_col3] = (128, 128, 128)\n",
      "            grid.show()\n",
      "            \n",
      "if orientation == 1: \n",
      "    ship_row1 = randint(0, (grid_row - 1))\n",
      "    ship_col = randint(0, (grid_col - 1))\n",
      "    if ship_row1 <= 1: \n",
      "        ship_row2 = ship_row1 + 1\n",
      "        ship_row3 = ship_row2 + 1\n",
      "    elif ship_row1 >= (grid_row - 2):\n",
      "        ship_row2 = ship_row1 - 1\n",
      "        ship_row3 = ship_row2 - 1\n",
      "    else:\n",
      "        r = random.choice([-1, 1])\n",
      "        ship_row2 = ship_row1 + r\n",
      "        if r == -1:\n",
      "            ship_row3 = ship_row2 - 1\n",
      "        else: \n",
      "            ship_row3 = ship_row2 + 1\n",
      "    for turn in range(turn_input):\n",
      "        print \"Turn\", turn +1\n",
      "        while True:\n",
      "            try:\n",
      "                guess_row = int(raw_input(\"Guess Row:\")) - 1\n",
      "                guess_col = int(raw_input(\"Guess Col:\")) - 1\n",
      "                break\n",
      "            except ValueError:\n",
      "                print \"Please guess a whole number.\"\n",
      "        if (guess_row == ship_row1 or guess_row == ship_row2 or \\\n",
      "            guess_row == ship_row3) and (guess_col == ship_col):\n",
      "            print \"You hit my battleship!\"\n",
      "            board[guess_row, guess_col] = 2\n",
      "            grid[guess_row, guess_col] = (255, 0, 0)\n",
      "            grid.show()\n",
      "        else:\n",
      "            if (guess_row < 0 or guess_row >= grid_row) or\\\n",
      "            (guess_col < 0 or guess_col >= grid_col):\n",
      "                print \"Oops, that's not even in the ocean.\"\n",
      "            elif board[guess_row, guess_col] == 1:\n",
      "                print \"Oops! You guessed that one already.\"\n",
      "            else:\n",
      "                print \"You missed my battleship!\"\n",
      "                board[guess_row, guess_col] = 1\n",
      "                grid[guess_row, guess_col] = (0, 0, 0)\n",
      "            grid.show()\n",
      "        if (board == 2).sum() == 3:\n",
      "            print \"Congratulations! You sank my battleship!\"\n",
      "            break\n",
      "        if turn == turn_input - 1:\n",
      "            print \"Game Over :( \"\n",
      "            grid[ship_row1, ship_col] = (128, 128, 128)\n",
      "            grid[ship_row2, ship_col] = (128, 128, 128)\n",
      "            grid[ship_row3, ship_col] = (128, 128, 128)\n",
      "            grid.show()"
     ],
     "language": "python",
     "metadata": {},
     "outputs": [
      {
       "output_type": "stream",
       "stream": "stdout",
       "text": [
        "Let's play Battleship!\n",
        "Guess where the ship is located to sink it. It is three blocks long.\n",
        "How big would you like your ocean? \n"
       ]
      },
      {
       "name": "stdout",
       "output_type": "stream",
       "stream": "stdout",
       "text": [
        "   Length: 5\n"
       ]
      },
      {
       "name": "stdout",
       "output_type": "stream",
       "stream": "stdout",
       "text": [
        "   Width: 5\n"
       ]
      },
      {
       "html": [
        "<style type=\"text/css\">table.blockgrid {border: none;} .blockgrid tr {border: none;} .blockgrid td {padding: 0px;} #blocksd58b4d2a-73a1-4a7d-b3f9-9cfedaa73a75 td {border: 1px solid white;}</style><table id=\"blocksd58b4d2a-73a1-4a7d-b3f9-9cfedaa73a75\" class=\"blockgrid\"><tbody><tr><td title=\"Index: [0, 0]&#10;Color: (0, 150, 150)\" style=\"width: 20px; height: 20px;background-color: rgb(0, 150, 150);\"></td><td title=\"Index: [0, 1]&#10;Color: (0, 150, 150)\" style=\"width: 20px; height: 20px;background-color: rgb(0, 150, 150);\"></td><td title=\"Index: [0, 2]&#10;Color: (0, 150, 150)\" style=\"width: 20px; height: 20px;background-color: rgb(0, 150, 150);\"></td><td title=\"Index: [0, 3]&#10;Color: (0, 150, 150)\" style=\"width: 20px; height: 20px;background-color: rgb(0, 150, 150);\"></td><td title=\"Index: [0, 4]&#10;Color: (0, 150, 150)\" style=\"width: 20px; height: 20px;background-color: rgb(0, 150, 150);\"></td></tr><tr><td title=\"Index: [1, 0]&#10;Color: (0, 150, 150)\" style=\"width: 20px; height: 20px;background-color: rgb(0, 150, 150);\"></td><td title=\"Index: [1, 1]&#10;Color: (0, 150, 150)\" style=\"width: 20px; height: 20px;background-color: rgb(0, 150, 150);\"></td><td title=\"Index: [1, 2]&#10;Color: (0, 150, 150)\" style=\"width: 20px; height: 20px;background-color: rgb(0, 150, 150);\"></td><td title=\"Index: [1, 3]&#10;Color: (0, 150, 150)\" style=\"width: 20px; height: 20px;background-color: rgb(0, 150, 150);\"></td><td title=\"Index: [1, 4]&#10;Color: (0, 150, 150)\" style=\"width: 20px; height: 20px;background-color: rgb(0, 150, 150);\"></td></tr><tr><td title=\"Index: [2, 0]&#10;Color: (0, 150, 150)\" style=\"width: 20px; height: 20px;background-color: rgb(0, 150, 150);\"></td><td title=\"Index: [2, 1]&#10;Color: (0, 150, 150)\" style=\"width: 20px; height: 20px;background-color: rgb(0, 150, 150);\"></td><td title=\"Index: [2, 2]&#10;Color: (0, 150, 150)\" style=\"width: 20px; height: 20px;background-color: rgb(0, 150, 150);\"></td><td title=\"Index: [2, 3]&#10;Color: (0, 150, 150)\" style=\"width: 20px; height: 20px;background-color: rgb(0, 150, 150);\"></td><td title=\"Index: [2, 4]&#10;Color: (0, 150, 150)\" style=\"width: 20px; height: 20px;background-color: rgb(0, 150, 150);\"></td></tr><tr><td title=\"Index: [3, 0]&#10;Color: (0, 150, 150)\" style=\"width: 20px; height: 20px;background-color: rgb(0, 150, 150);\"></td><td title=\"Index: [3, 1]&#10;Color: (0, 150, 150)\" style=\"width: 20px; height: 20px;background-color: rgb(0, 150, 150);\"></td><td title=\"Index: [3, 2]&#10;Color: (0, 150, 150)\" style=\"width: 20px; height: 20px;background-color: rgb(0, 150, 150);\"></td><td title=\"Index: [3, 3]&#10;Color: (0, 150, 150)\" style=\"width: 20px; height: 20px;background-color: rgb(0, 150, 150);\"></td><td title=\"Index: [3, 4]&#10;Color: (0, 150, 150)\" style=\"width: 20px; height: 20px;background-color: rgb(0, 150, 150);\"></td></tr><tr><td title=\"Index: [4, 0]&#10;Color: (0, 150, 150)\" style=\"width: 20px; height: 20px;background-color: rgb(0, 150, 150);\"></td><td title=\"Index: [4, 1]&#10;Color: (0, 150, 150)\" style=\"width: 20px; height: 20px;background-color: rgb(0, 150, 150);\"></td><td title=\"Index: [4, 2]&#10;Color: (0, 150, 150)\" style=\"width: 20px; height: 20px;background-color: rgb(0, 150, 150);\"></td><td title=\"Index: [4, 3]&#10;Color: (0, 150, 150)\" style=\"width: 20px; height: 20px;background-color: rgb(0, 150, 150);\"></td><td title=\"Index: [4, 4]&#10;Color: (0, 150, 150)\" style=\"width: 20px; height: 20px;background-color: rgb(0, 150, 150);\"></td></tr></tbody></table>"
       ],
       "metadata": {},
       "output_type": "display_data",
       "text": [
        "<IPython.core.display.HTML at 0x103428190>"
       ]
      },
      {
       "name": "stdout",
       "output_type": "stream",
       "stream": "stdout",
       "text": [
        "How many turns would you like? 1\n"
       ]
      },
      {
       "output_type": "stream",
       "stream": "stdout",
       "text": [
        "Turn 1\n"
       ]
      },
      {
       "name": "stdout",
       "output_type": "stream",
       "stream": "stdout",
       "text": [
        "Guess Row:7\n"
       ]
      },
      {
       "name": "stdout",
       "output_type": "stream",
       "stream": "stdout",
       "text": [
        "Guess Col:6\n"
       ]
      },
      {
       "output_type": "stream",
       "stream": "stdout",
       "text": [
        "Oops, that's not even in the ocean.\n"
       ]
      },
      {
       "html": [
        "<style type=\"text/css\">table.blockgrid {border: none;} .blockgrid tr {border: none;} .blockgrid td {padding: 0px;} #blocks762c0eb0-5817-4500-8ab9-386ba584972d td {border: 1px solid white;}</style><table id=\"blocks762c0eb0-5817-4500-8ab9-386ba584972d\" class=\"blockgrid\"><tbody><tr><td title=\"Index: [0, 0]&#10;Color: (0, 150, 150)\" style=\"width: 20px; height: 20px;background-color: rgb(0, 150, 150);\"></td><td title=\"Index: [0, 1]&#10;Color: (0, 150, 150)\" style=\"width: 20px; height: 20px;background-color: rgb(0, 150, 150);\"></td><td title=\"Index: [0, 2]&#10;Color: (0, 150, 150)\" style=\"width: 20px; height: 20px;background-color: rgb(0, 150, 150);\"></td><td title=\"Index: [0, 3]&#10;Color: (0, 150, 150)\" style=\"width: 20px; height: 20px;background-color: rgb(0, 150, 150);\"></td><td title=\"Index: [0, 4]&#10;Color: (0, 150, 150)\" style=\"width: 20px; height: 20px;background-color: rgb(0, 150, 150);\"></td></tr><tr><td title=\"Index: [1, 0]&#10;Color: (0, 150, 150)\" style=\"width: 20px; height: 20px;background-color: rgb(0, 150, 150);\"></td><td title=\"Index: [1, 1]&#10;Color: (0, 150, 150)\" style=\"width: 20px; height: 20px;background-color: rgb(0, 150, 150);\"></td><td title=\"Index: [1, 2]&#10;Color: (0, 150, 150)\" style=\"width: 20px; height: 20px;background-color: rgb(0, 150, 150);\"></td><td title=\"Index: [1, 3]&#10;Color: (0, 150, 150)\" style=\"width: 20px; height: 20px;background-color: rgb(0, 150, 150);\"></td><td title=\"Index: [1, 4]&#10;Color: (0, 150, 150)\" style=\"width: 20px; height: 20px;background-color: rgb(0, 150, 150);\"></td></tr><tr><td title=\"Index: [2, 0]&#10;Color: (0, 150, 150)\" style=\"width: 20px; height: 20px;background-color: rgb(0, 150, 150);\"></td><td title=\"Index: [2, 1]&#10;Color: (0, 150, 150)\" style=\"width: 20px; height: 20px;background-color: rgb(0, 150, 150);\"></td><td title=\"Index: [2, 2]&#10;Color: (0, 150, 150)\" style=\"width: 20px; height: 20px;background-color: rgb(0, 150, 150);\"></td><td title=\"Index: [2, 3]&#10;Color: (0, 150, 150)\" style=\"width: 20px; height: 20px;background-color: rgb(0, 150, 150);\"></td><td title=\"Index: [2, 4]&#10;Color: (0, 150, 150)\" style=\"width: 20px; height: 20px;background-color: rgb(0, 150, 150);\"></td></tr><tr><td title=\"Index: [3, 0]&#10;Color: (0, 150, 150)\" style=\"width: 20px; height: 20px;background-color: rgb(0, 150, 150);\"></td><td title=\"Index: [3, 1]&#10;Color: (0, 150, 150)\" style=\"width: 20px; height: 20px;background-color: rgb(0, 150, 150);\"></td><td title=\"Index: [3, 2]&#10;Color: (0, 150, 150)\" style=\"width: 20px; height: 20px;background-color: rgb(0, 150, 150);\"></td><td title=\"Index: [3, 3]&#10;Color: (0, 150, 150)\" style=\"width: 20px; height: 20px;background-color: rgb(0, 150, 150);\"></td><td title=\"Index: [3, 4]&#10;Color: (0, 150, 150)\" style=\"width: 20px; height: 20px;background-color: rgb(0, 150, 150);\"></td></tr><tr><td title=\"Index: [4, 0]&#10;Color: (0, 150, 150)\" style=\"width: 20px; height: 20px;background-color: rgb(0, 150, 150);\"></td><td title=\"Index: [4, 1]&#10;Color: (0, 150, 150)\" style=\"width: 20px; height: 20px;background-color: rgb(0, 150, 150);\"></td><td title=\"Index: [4, 2]&#10;Color: (0, 150, 150)\" style=\"width: 20px; height: 20px;background-color: rgb(0, 150, 150);\"></td><td title=\"Index: [4, 3]&#10;Color: (0, 150, 150)\" style=\"width: 20px; height: 20px;background-color: rgb(0, 150, 150);\"></td><td title=\"Index: [4, 4]&#10;Color: (0, 150, 150)\" style=\"width: 20px; height: 20px;background-color: rgb(0, 150, 150);\"></td></tr></tbody></table>"
       ],
       "metadata": {},
       "output_type": "display_data",
       "text": [
        "<IPython.core.display.HTML at 0x103428150>"
       ]
      },
      {
       "output_type": "stream",
       "stream": "stdout",
       "text": [
        "Game Over :( \n"
       ]
      },
      {
       "html": [
        "<style type=\"text/css\">table.blockgrid {border: none;} .blockgrid tr {border: none;} .blockgrid td {padding: 0px;} #blocks0180424a-58ed-4821-bb9c-f6cb752ef7c3 td {border: 1px solid white;}</style><table id=\"blocks0180424a-58ed-4821-bb9c-f6cb752ef7c3\" class=\"blockgrid\"><tbody><tr><td title=\"Index: [0, 0]&#10;Color: (0, 150, 150)\" style=\"width: 20px; height: 20px;background-color: rgb(0, 150, 150);\"></td><td title=\"Index: [0, 1]&#10;Color: (0, 150, 150)\" style=\"width: 20px; height: 20px;background-color: rgb(0, 150, 150);\"></td><td title=\"Index: [0, 2]&#10;Color: (0, 150, 150)\" style=\"width: 20px; height: 20px;background-color: rgb(0, 150, 150);\"></td><td title=\"Index: [0, 3]&#10;Color: (0, 150, 150)\" style=\"width: 20px; height: 20px;background-color: rgb(0, 150, 150);\"></td><td title=\"Index: [0, 4]&#10;Color: (0, 150, 150)\" style=\"width: 20px; height: 20px;background-color: rgb(0, 150, 150);\"></td></tr><tr><td title=\"Index: [1, 0]&#10;Color: (0, 150, 150)\" style=\"width: 20px; height: 20px;background-color: rgb(0, 150, 150);\"></td><td title=\"Index: [1, 1]&#10;Color: (0, 150, 150)\" style=\"width: 20px; height: 20px;background-color: rgb(0, 150, 150);\"></td><td title=\"Index: [1, 2]&#10;Color: (128, 128, 128)\" style=\"width: 20px; height: 20px;background-color: rgb(128, 128, 128);\"></td><td title=\"Index: [1, 3]&#10;Color: (0, 150, 150)\" style=\"width: 20px; height: 20px;background-color: rgb(0, 150, 150);\"></td><td title=\"Index: [1, 4]&#10;Color: (0, 150, 150)\" style=\"width: 20px; height: 20px;background-color: rgb(0, 150, 150);\"></td></tr><tr><td title=\"Index: [2, 0]&#10;Color: (0, 150, 150)\" style=\"width: 20px; height: 20px;background-color: rgb(0, 150, 150);\"></td><td title=\"Index: [2, 1]&#10;Color: (0, 150, 150)\" style=\"width: 20px; height: 20px;background-color: rgb(0, 150, 150);\"></td><td title=\"Index: [2, 2]&#10;Color: (128, 128, 128)\" style=\"width: 20px; height: 20px;background-color: rgb(128, 128, 128);\"></td><td title=\"Index: [2, 3]&#10;Color: (0, 150, 150)\" style=\"width: 20px; height: 20px;background-color: rgb(0, 150, 150);\"></td><td title=\"Index: [2, 4]&#10;Color: (0, 150, 150)\" style=\"width: 20px; height: 20px;background-color: rgb(0, 150, 150);\"></td></tr><tr><td title=\"Index: [3, 0]&#10;Color: (0, 150, 150)\" style=\"width: 20px; height: 20px;background-color: rgb(0, 150, 150);\"></td><td title=\"Index: [3, 1]&#10;Color: (0, 150, 150)\" style=\"width: 20px; height: 20px;background-color: rgb(0, 150, 150);\"></td><td title=\"Index: [3, 2]&#10;Color: (128, 128, 128)\" style=\"width: 20px; height: 20px;background-color: rgb(128, 128, 128);\"></td><td title=\"Index: [3, 3]&#10;Color: (0, 150, 150)\" style=\"width: 20px; height: 20px;background-color: rgb(0, 150, 150);\"></td><td title=\"Index: [3, 4]&#10;Color: (0, 150, 150)\" style=\"width: 20px; height: 20px;background-color: rgb(0, 150, 150);\"></td></tr><tr><td title=\"Index: [4, 0]&#10;Color: (0, 150, 150)\" style=\"width: 20px; height: 20px;background-color: rgb(0, 150, 150);\"></td><td title=\"Index: [4, 1]&#10;Color: (0, 150, 150)\" style=\"width: 20px; height: 20px;background-color: rgb(0, 150, 150);\"></td><td title=\"Index: [4, 2]&#10;Color: (0, 150, 150)\" style=\"width: 20px; height: 20px;background-color: rgb(0, 150, 150);\"></td><td title=\"Index: [4, 3]&#10;Color: (0, 150, 150)\" style=\"width: 20px; height: 20px;background-color: rgb(0, 150, 150);\"></td><td title=\"Index: [4, 4]&#10;Color: (0, 150, 150)\" style=\"width: 20px; height: 20px;background-color: rgb(0, 150, 150);\"></td></tr></tbody></table>"
       ],
       "metadata": {},
       "output_type": "display_data",
       "text": [
        "<IPython.core.display.HTML at 0x10043c1d0>"
       ]
      }
     ],
     "prompt_number": 6
    },
    {
     "cell_type": "markdown",
     "metadata": {},
     "source": [
      "2. Here is a function which takes a filename, opens the file, reads the result, closes the file, and returns the contents. It should look something like this:"
     ]
    },
    {
     "cell_type": "code",
     "collapsed": false,
     "input": [
      "def read_all_from_file(filename, safe = False):\n",
      "    if safe == True:\n",
      "        print \"'  '\"\n",
      "    try:\n",
      "        f = open(filename)\n",
      "        contents = f.read()\n",
      "    except IOError as err:\n",
      "        print err\n",
      "        print \"This file doesn't exist.\", err.filename\n",
      "    else:\n",
      "        f.close()\n",
      "        return contents\n",
      "        \n",
      "read_all_from_file('file.which.does.not.exist', safe = True)\n",
      "\n",
      "read_all_from_file('file.which.does.not.exist')\n",
      "\n",
      "read_all_from_file('tmp.txt')"
     ],
     "language": "python",
     "metadata": {},
     "outputs": [
      {
       "output_type": "stream",
       "stream": "stdout",
       "text": [
        "'  '\n",
        "[Errno 2] No such file or directory: 'file.which.does.not.exist'\n",
        "This file doesn't exist. file.which.does.not.exist\n",
        "[Errno 2] No such file or directory: 'file.which.does.not.exist'\n",
        "This file doesn't exist. file.which.does.not.exist\n"
       ]
      },
      {
       "metadata": {},
       "output_type": "pyout",
       "prompt_number": 24,
       "text": [
        "'this is the contents of the file'"
       ]
      }
     ],
     "prompt_number": 24
    },
    {
     "cell_type": "code",
     "collapsed": false,
     "input": [],
     "language": "python",
     "metadata": {},
     "outputs": []
    }
   ],
   "metadata": {}
  }
 ]
}