{
 "metadata": {
  "name": "",
  "signature": "sha256:05321bc0e91ccfd049e1509750cfdec481f1d742844fdb981d68d07fd2386b11"
 },
 "nbformat": 3,
 "nbformat_minor": 0,
 "worksheets": [
  {
   "cells": [
    {
     "cell_type": "heading",
     "level": 1,
     "metadata": {},
     "source": [
      "Battleship"
     ]
    },
    {
     "cell_type": "code",
     "collapsed": false,
     "input": [
      "import random\n",
      "from ipythonblocks import BlockGrid\n",
      "import numpy as np"
     ],
     "language": "python",
     "metadata": {},
     "outputs": []
    },
    {
     "cell_type": "markdown",
     "metadata": {},
     "source": [
      "Three modules are used in this code: \n",
      "    * random\n",
      "    * ipythonblocks\n",
      "    * numpy"
     ]
    },
    {
     "cell_type": "code",
     "collapsed": false,
     "input": [
      "print \"Let's play Battleship!\"\n",
      "print \"Guess where the ship is located to sink it. It is three blocks long.\""
     ],
     "language": "python",
     "metadata": {},
     "outputs": []
    },
    {
     "cell_type": "markdown",
     "metadata": {},
     "source": [
      "This is an introduction to the game."
     ]
    },
    {
     "cell_type": "code",
     "collapsed": false,
     "input": [
      "print \"How big would you like your ocean? \"\n",
      "grid_row = int(raw_input(\"   Length: \"))\n",
      "grid_col = int(raw_input(\"   Width: \"))\n",
      "\n",
      "grid = BlockGrid(grid_col, grid_row, fill = (0, 150, 150)) \n",
      "board = np.zeros((grid_row, grid_col))\n",
      "grid.show()\n"
     ],
     "language": "python",
     "metadata": {},
     "outputs": []
    },
    {
     "cell_type": "markdown",
     "metadata": {},
     "source": [
      "Here is where the game board is made. The user gets to chose the size of their \"ocean\" and it will have a teal background. \n",
      "\n",
      "An array is created in order for the game to keep track of where the user has guessed. This will come in handy when the program checks to see if a square was already guessed or to know when the user has beat the game.\n",
      "\n",
      "Lastly, this shows the empty grid. This way the user can see how large it is and they will get to decide how many turns they will need."
     ]
    },
    {
     "cell_type": "code",
     "collapsed": false,
     "input": [
      "turn_input = int(raw_input(\"How many turns would you like? \"))"
     ],
     "language": "python",
     "metadata": {},
     "outputs": []
    },
    {
     "cell_type": "markdown",
     "metadata": {},
     "source": [
      "The user can control the amount of turns they get. The games ends if they cannot sink the ship before the amount of turns they chose."
     ]
    },
    {
     "cell_type": "code",
     "collapsed": false,
     "input": [
      "orientation = randint(0,1)"
     ],
     "language": "python",
     "metadata": {},
     "outputs": []
    },
    {
     "cell_type": "markdown",
     "metadata": {},
     "source": [
      "There are two possilbe oreientations for the ship, vertical or horizontal. This code generates a random number (either 0 or 1). If the number is 0, the ship is horizontal. If the number is 1, the ship is vertical."
     ]
    },
    {
     "cell_type": "code",
     "collapsed": false,
     "input": [
      "orientation = randint(0,1)\n",
      "if orientation == 0: \n",
      "    ship_row = randint(0, (grid_row - 1))\n",
      "    ship_col1 = randint(0, (grid_col - 1))\n",
      "    if ship_col1 <= 1: \n",
      "        ship_col2 = ship_col1 + 1\n",
      "        ship_col3 = ship_col2 + 1\n",
      "    elif ship_col1 >= (grid_col - 2): \n",
      "        ship_col2 = ship_col1 - 1\n",
      "        ship_col3 = ship_col2 - 1\n",
      "    else:\n",
      "        r = random.choice([-1, 1]) \n",
      "        ship_col2 = ship_col1 + r\n",
      "        if r == -1:\n",
      "            ship_col3 = ship_col2 - 1\n",
      "        else:\n",
      "            ship_col3 = ship_col2 + 1"
     ],
     "language": "python",
     "metadata": {},
     "outputs": [],
     "prompt_number": 12
    },
    {
     "cell_type": "markdown",
     "metadata": {},
     "source": [
      "This is the case where the ship is horizontal. This code will generate three squares in a horizontal series. One initial square was generated at the point (ship_row, ship_col1). If the square is too close to the left edge then the remaining two squares must be added the the right of that initial square. If the the square is too close to the right edge then the remaining two squares must be added to the left of that initial square. \n",
      "\n",
      "Finally if the initial square is not within two squares of the edge, then another square could be added to either side. One last if statement was needed in order to not place two blocks on top of each other. if a square was added to the left of the initial square, then the third block needed to be placed to the left of the second square. \n",
      "\n",
      "All these conditions were needed in order the generate the ships randomly. "
     ]
    },
    {
     "cell_type": "code",
     "collapsed": false,
     "input": [
      "    for turn in range(turn_input):\n",
      "        print \"Turn\", turn +1\n",
      "        guess_row = int(raw_input(\"Guess Row: \")) - 1\n",
      "        guess_col = int(raw_input(\"Guess Col: \")) - 1"
     ],
     "language": "python",
     "metadata": {},
     "outputs": []
    },
    {
     "cell_type": "markdown",
     "metadata": {},
     "source": [
      "Now after a horizontal ship is generated, it is time for the user to guess. The for loop is used so that the user can guess for however many turns they chose. At the beginning of each iteration, the turn is printed, as well as prompt for the user to input their guesses. The guesses have to be converted into integers so that they can be used to index the grid. "
     ]
    },
    {
     "cell_type": "code",
     "collapsed": false,
     "input": [
      "        if (guess_row == ship_row) and (guess_col == ship_col1 or \\\n",
      "            guess_col == ship_col2 or guess_col == ship_col3):\n",
      "            print \"You hit my battleship!\"\n",
      "            board[guess_row, guess_col] = 2\n",
      "            grid[guess_row, guess_col] = (255, 0, 0)\n",
      "            grid.show()"
     ],
     "language": "python",
     "metadata": {},
     "outputs": []
    },
    {
     "cell_type": "markdown",
     "metadata": {},
     "source": [
      "This code checks if the guess is a hit. There is only one row to check for the horizontal case, but to be a hit, the row and column have to match. There are 3 column options to guess. If a row and column match then the program will notify the user that they hit the battleship. Also, the square that was hit will turn red and a 2 will replace the 0 in the array. "
     ]
    },
    {
     "cell_type": "code",
     "collapsed": false,
     "input": [
      "        else:\n",
      "            if (guess_row < 0 or guess_row >= grid_row) or \\\n",
      "            (guess_col < 0 or guess_col >= grid_col):\n",
      "                print \"Oops, that's not even in the ocean.\"\n",
      "            if board[guess_row, guess_col] == 1:\n",
      "                print \"Oops! You guessed that one already.\"\n",
      "            else:\n",
      "                print \"You missed my battleship!\"\n",
      "                board[guess_row, guess_col] = 1\n",
      "                grid[guess_row, guess_col] = (0, 0, 0)\n",
      "            grid.show()"
     ],
     "language": "python",
     "metadata": {},
     "outputs": []
    },
    {
     "cell_type": "markdown",
     "metadata": {},
     "source": [
      "If the guess wasn't a hit, it isn't necissarily a miss. This code checks if the guess was even in the grid. It also checks if the guess was already guessed. If it was indeed a miss, then the user is notified and the square changes to black. The missed index also changes the zero in the array to a 1. The reason that the 1 is added, is so the code can easily check if the the index was already guessed by looking if a 1 is already at that index. "
     ]
    },
    {
     "cell_type": "code",
     "collapsed": false,
     "input": [
      "        if (board == 2).sum() == 3:\n",
      "            print \"Congratulations! You sank my battleship!\"\n",
      "            break"
     ],
     "language": "python",
     "metadata": {},
     "outputs": []
    },
    {
     "cell_type": "markdown",
     "metadata": {},
     "source": [
      "This code makes sure that when the user hits the battleship 3 times, they win the game. The reason a 2 was added for a hit was so this code could count how many twos were in the array. If there are 3 then the battleship was hit all three of the possible times. The user then wins and the game is ended."
     ]
    },
    {
     "cell_type": "code",
     "collapsed": false,
     "input": [
      "        if turn == turn_input - 1:\n",
      "            print \"Game Over :( \"\n",
      "            grid[ship_row, ship_col1] = (128, 128, 128)\n",
      "            grid[ship_row, ship_col2] = (128, 128, 128)\n",
      "            grid[ship_row, ship_col3] = (128, 128, 128)\n",
      "            grid.show()"
     ],
     "language": "python",
     "metadata": {},
     "outputs": []
    },
    {
     "cell_type": "markdown",
     "metadata": {},
     "source": [
      "This last bit of code for a horizontal ship makes sure the game is over after the amout of turns reaches the users input. The user is notified that the game is over and the ship's location is revealed by changing the squares to grey. "
     ]
    },
    {
     "cell_type": "code",
     "collapsed": false,
     "input": [
      "if orientation == 1: \n",
      "    ship_row1 = randint(0, (grid_row - 1))\n",
      "    ship_col = randint(0, (grid_col - 1))\n",
      "    if ship_row1 <= 1: \n",
      "        ship_row2 = ship_row1 + 1\n",
      "        ship_row3 = ship_row2 + 1\n",
      "    elif ship_row1 >= (grid_row - 2):\n",
      "        ship_row2 = ship_row1 - 1\n",
      "        ship_row3 = ship_row2 - 1\n",
      "    else:\n",
      "        r = random.choice([-1, 1])\n",
      "        ship_row2 = ship_row1 + r\n",
      "        if r == -1:\n",
      "            ship_row3 = ship_row2 - 1\n",
      "        else: \n",
      "            ship_row3 = ship_row2 + 1"
     ],
     "language": "python",
     "metadata": {},
     "outputs": []
    },
    {
     "cell_type": "markdown",
     "metadata": {},
     "source": [
      "This code is used if the random number in the beginning is a 1 and this means that the ship will be vertical. Now instead of one row and three columns, there will be three rows and one column. Just as before, this code checks to make sure that the initial square is not to close to the top or the bottom. In the end, there will be 3 points in a vertical series. "
     ]
    },
    {
     "cell_type": "code",
     "collapsed": false,
     "input": [
      "     for turn in range(turn_input):\n",
      "        print \"Turn\", turn +1\n",
      "        guess_row = int(raw_input(\"Guess Row:\")) - 1\n",
      "        guess_col = int(raw_input(\"Guess Col:\")) - 1\n",
      " \n",
      "        if (guess_row == ship_row1 or guess_row == ship_row2 or \\\n",
      "            guess_row == ship_row3) and (guess_col == ship_col):\n",
      "            print \"You hit my battleship!\"\n",
      "            board[guess_row, guess_col] = 2\n",
      "            grid[guess_row, guess_col] = (255, 0, 0)\n",
      "            grid.show()\n",
      "        else:\n",
      "            if (guess_row < 0 or guess_row >= grid_row) or\\\n",
      "            (guess_col < 0 or guess_col >= grid_col):\n",
      "                print \"Oops, that's not even in the ocean.\"\n",
      "            elif board[guess_row, guess_col] == 1:\n",
      "                print \"Oops! You guessed that one already.\"\n",
      "            else:\n",
      "                print \"You missed my battleship!\"\n",
      "                board[guess_row, guess_col] = 1\n",
      "                grid[guess_row, guess_col] = (0, 0, 0)\n",
      "            grid.show()\n",
      "        if (board == 2).sum() == 3:\n",
      "            print \"Congratulations! You sank my battleship!\"\n",
      "            break\n",
      "        if turn == turn_input - 1:\n",
      "            print \"Game Over :( \"\n",
      "            grid[ship_row1, ship_col] = (128, 128, 128)\n",
      "            grid[ship_row2, ship_col] = (128, 128, 128)\n",
      "            grid[ship_row3, ship_col] = (128, 128, 128)\n",
      "            grid.show()\n"
     ],
     "language": "python",
     "metadata": {},
     "outputs": []
    },
    {
     "cell_type": "markdown",
     "metadata": {},
     "source": [
      "The rest of the code is equivalent to the horizontal ship. The only differences are to account for the now verticle ship, but the logic is the same. "
     ]
    },
    {
     "cell_type": "heading",
     "level": 3,
     "metadata": {},
     "source": [
      "Here is the game:"
     ]
    },
    {
     "cell_type": "code",
     "collapsed": false,
     "input": [
      "import random\n",
      "from random import randint\n",
      "from ipythonblocks import BlockGrid\n",
      "import numpy as np\n",
      "\n",
      "print \"Let's play Battleship!\"\n",
      "print \"Guess where the ship is located to sink it. It is three blocks long.\"\n",
      "\n",
      "print \"How big would you like your ocean? \"\n",
      "grid_row = int(raw_input(\"   Length: \"))\n",
      "grid_col = int(raw_input(\"   Width: \"))\n",
      "\n",
      "grid = BlockGrid(grid_col, grid_row, fill = (0, 150, 150)) \n",
      "board = np.zeros((grid_row, grid_col))\n",
      "grid.show()\n",
      "\n",
      "turn_input = int(raw_input(\"How many turns would you like? \"))\n",
      "\n",
      "orientation = randint(0,1)\n",
      "if orientation == 0: \n",
      "    ship_row = randint(0, (grid_row - 1))\n",
      "    ship_col1 = randint(0, (grid_col - 1))\n",
      "    if ship_col1 <= 1: \n",
      "        ship_col2 = ship_col1 + 1\n",
      "        ship_col3 = ship_col2 + 1\n",
      "    elif ship_col1 >= (grid_col - 2): \n",
      "        ship_col2 = ship_col1 - 1\n",
      "        ship_col3 = ship_col2 - 1\n",
      "    else:\n",
      "        r = random.choice([-1, 1]) \n",
      "        ship_col2 = ship_col1 + r\n",
      "        if r == -1:\n",
      "            ship_col3 = ship_col2 - 1\n",
      "        else:\n",
      "            ship_col3 = ship_col2 + 1\n",
      "    for turn in range(turn_input):\n",
      "        print \"Turn\", turn +1\n",
      "        guess_row = int(raw_input(\"Guess Row: \")) - 1\n",
      "        guess_col = int(raw_input(\"Guess Col: \")) - 1\n",
      "        if (guess_row == ship_row) and (guess_col == ship_col1 or \\\n",
      "            guess_col == ship_col2 or guess_col == ship_col3):\n",
      "            print \"You hit my battleship!\"\n",
      "            board[guess_row, guess_col] = 2\n",
      "            grid[guess_row, guess_col] = (255, 0, 0)\n",
      "            grid.show()\n",
      "        else:\n",
      "            if (guess_row < 0 or guess_row >= grid_row) or \\\n",
      "            (guess_col < 0 or guess_col >= grid_col):\n",
      "                print \"Oops, that's not even in the ocean.\"\n",
      "            if board[guess_row, guess_col] == 1:\n",
      "                print \"Oops! You guessed that one already.\"\n",
      "            else:\n",
      "                print \"You missed my battleship!\"\n",
      "                board[guess_row, guess_col] = 1\n",
      "                grid[guess_row, guess_col] = (0, 0, 0)\n",
      "            grid.show()\n",
      "        if (board == 2).sum() == 3:\n",
      "            print \"Congratulations! You sank my battleship!\"\n",
      "            break\n",
      "        if turn == turn_input - 1:\n",
      "            print \"Game Over :( \"\n",
      "            grid[ship_row, ship_col1] = (128, 128, 128)\n",
      "            grid[ship_row, ship_col2] = (128, 128, 128)\n",
      "            grid[ship_row, ship_col3] = (128, 128, 128)\n",
      "            grid.show()\n",
      "            \n",
      "if orientation == 1: \n",
      "    ship_row1 = randint(0, (grid_row - 1))\n",
      "    ship_col = randint(0, (grid_col - 1))\n",
      "    if ship_row1 <= 1: \n",
      "        ship_row2 = ship_row1 + 1\n",
      "        ship_row3 = ship_row2 + 1\n",
      "    elif ship_row1 >= (grid_row - 2):\n",
      "        ship_row2 = ship_row1 - 1\n",
      "        ship_row3 = ship_row2 - 1\n",
      "    else:\n",
      "        r = random.choice([-1, 1])\n",
      "        ship_row2 = ship_row1 + r\n",
      "        if r == -1:\n",
      "            ship_row3 = ship_row2 - 1\n",
      "        else: \n",
      "            ship_row3 = ship_row2 + 1\n",
      "    for turn in range(turn_input):\n",
      "        print \"Turn\", turn +1\n",
      "        guess_row = int(raw_input(\"Guess Row:\")) - 1\n",
      "        guess_col = int(raw_input(\"Guess Col:\")) - 1\n",
      " \n",
      "        if (guess_row == ship_row1 or guess_row == ship_row2 or \\\n",
      "            guess_row == ship_row3) and (guess_col == ship_col):\n",
      "            print \"You hit my battleship!\"\n",
      "            board[guess_row, guess_col] = 2\n",
      "            grid[guess_row, guess_col] = (255, 0, 0)\n",
      "            grid.show()\n",
      "        else:\n",
      "            if (guess_row < 0 or guess_row >= grid_row) or\\\n",
      "            (guess_col < 0 or guess_col >= grid_col):\n",
      "                print \"Oops, that's not even in the ocean.\"\n",
      "            elif board[guess_row, guess_col] == 1:\n",
      "                print \"Oops! You guessed that one already.\"\n",
      "            else:\n",
      "                print \"You missed my battleship!\"\n",
      "                board[guess_row, guess_col] = 1\n",
      "                grid[guess_row, guess_col] = (0, 0, 0)\n",
      "            grid.show()\n",
      "        if (board == 2).sum() == 3:\n",
      "            print \"Congratulations! You sank my battleship!\"\n",
      "            break\n",
      "        if turn == turn_input - 1:\n",
      "            print \"Game Over :( \"\n",
      "            grid[ship_row1, ship_col] = (128, 128, 128)\n",
      "            grid[ship_row2, ship_col] = (128, 128, 128)\n",
      "            grid[ship_row3, ship_col] = (128, 128, 128)\n",
      "            grid.show()"
     ],
     "language": "python",
     "metadata": {},
     "outputs": [
      {
       "output_type": "stream",
       "stream": "stdout",
       "text": [
        "Let's play Battleship!\n",
        "Guess where the ship is located to sink it. It is three blocks long.\n",
        "How big would you like your ocean? \n"
       ]
      },
      {
       "name": "stdout",
       "output_type": "stream",
       "stream": "stdout",
       "text": [
        "   Length: 10\n"
       ]
      },
      {
       "name": "stdout",
       "output_type": "stream",
       "stream": "stdout",
       "text": [
        "   Width: 5\n"
       ]
      },
      {
       "html": [
        "<style type=\"text/css\">table.blockgrid {border: none;} .blockgrid tr {border: none;} .blockgrid td {padding: 0px;} #blocksf70321a3-1104-4cac-ac70-c4fe3f627c0f td {border: 1px solid white;}</style><table id=\"blocksf70321a3-1104-4cac-ac70-c4fe3f627c0f\" class=\"blockgrid\"><tbody><tr><td title=\"Index: [0, 0]&#10;Color: (0, 150, 150)\" style=\"width: 20px; height: 20px;background-color: rgb(0, 150, 150);\"></td><td title=\"Index: [0, 1]&#10;Color: (0, 150, 150)\" style=\"width: 20px; height: 20px;background-color: rgb(0, 150, 150);\"></td><td title=\"Index: [0, 2]&#10;Color: (0, 150, 150)\" style=\"width: 20px; height: 20px;background-color: rgb(0, 150, 150);\"></td><td title=\"Index: [0, 3]&#10;Color: (0, 150, 150)\" style=\"width: 20px; height: 20px;background-color: rgb(0, 150, 150);\"></td><td title=\"Index: [0, 4]&#10;Color: (0, 150, 150)\" style=\"width: 20px; height: 20px;background-color: rgb(0, 150, 150);\"></td></tr><tr><td title=\"Index: [1, 0]&#10;Color: (0, 150, 150)\" style=\"width: 20px; height: 20px;background-color: rgb(0, 150, 150);\"></td><td title=\"Index: [1, 1]&#10;Color: (0, 150, 150)\" style=\"width: 20px; height: 20px;background-color: rgb(0, 150, 150);\"></td><td title=\"Index: [1, 2]&#10;Color: (0, 150, 150)\" style=\"width: 20px; height: 20px;background-color: rgb(0, 150, 150);\"></td><td title=\"Index: [1, 3]&#10;Color: (0, 150, 150)\" style=\"width: 20px; height: 20px;background-color: rgb(0, 150, 150);\"></td><td title=\"Index: [1, 4]&#10;Color: (0, 150, 150)\" style=\"width: 20px; height: 20px;background-color: rgb(0, 150, 150);\"></td></tr><tr><td title=\"Index: [2, 0]&#10;Color: (0, 150, 150)\" style=\"width: 20px; height: 20px;background-color: rgb(0, 150, 150);\"></td><td title=\"Index: [2, 1]&#10;Color: (0, 150, 150)\" style=\"width: 20px; height: 20px;background-color: rgb(0, 150, 150);\"></td><td title=\"Index: [2, 2]&#10;Color: (0, 150, 150)\" style=\"width: 20px; height: 20px;background-color: rgb(0, 150, 150);\"></td><td title=\"Index: [2, 3]&#10;Color: (0, 150, 150)\" style=\"width: 20px; height: 20px;background-color: rgb(0, 150, 150);\"></td><td title=\"Index: [2, 4]&#10;Color: (0, 150, 150)\" style=\"width: 20px; height: 20px;background-color: rgb(0, 150, 150);\"></td></tr><tr><td title=\"Index: [3, 0]&#10;Color: (0, 150, 150)\" style=\"width: 20px; height: 20px;background-color: rgb(0, 150, 150);\"></td><td title=\"Index: [3, 1]&#10;Color: (0, 150, 150)\" style=\"width: 20px; height: 20px;background-color: rgb(0, 150, 150);\"></td><td title=\"Index: [3, 2]&#10;Color: (0, 150, 150)\" style=\"width: 20px; height: 20px;background-color: rgb(0, 150, 150);\"></td><td title=\"Index: [3, 3]&#10;Color: (0, 150, 150)\" style=\"width: 20px; height: 20px;background-color: rgb(0, 150, 150);\"></td><td title=\"Index: [3, 4]&#10;Color: (0, 150, 150)\" style=\"width: 20px; height: 20px;background-color: rgb(0, 150, 150);\"></td></tr><tr><td title=\"Index: [4, 0]&#10;Color: (0, 150, 150)\" style=\"width: 20px; height: 20px;background-color: rgb(0, 150, 150);\"></td><td title=\"Index: [4, 1]&#10;Color: (0, 150, 150)\" style=\"width: 20px; height: 20px;background-color: rgb(0, 150, 150);\"></td><td title=\"Index: [4, 2]&#10;Color: (0, 150, 150)\" style=\"width: 20px; height: 20px;background-color: rgb(0, 150, 150);\"></td><td title=\"Index: [4, 3]&#10;Color: (0, 150, 150)\" style=\"width: 20px; height: 20px;background-color: rgb(0, 150, 150);\"></td><td title=\"Index: [4, 4]&#10;Color: (0, 150, 150)\" style=\"width: 20px; height: 20px;background-color: rgb(0, 150, 150);\"></td></tr><tr><td title=\"Index: [5, 0]&#10;Color: (0, 150, 150)\" style=\"width: 20px; height: 20px;background-color: rgb(0, 150, 150);\"></td><td title=\"Index: [5, 1]&#10;Color: (0, 150, 150)\" style=\"width: 20px; height: 20px;background-color: rgb(0, 150, 150);\"></td><td title=\"Index: [5, 2]&#10;Color: (0, 150, 150)\" style=\"width: 20px; height: 20px;background-color: rgb(0, 150, 150);\"></td><td title=\"Index: [5, 3]&#10;Color: (0, 150, 150)\" style=\"width: 20px; height: 20px;background-color: rgb(0, 150, 150);\"></td><td title=\"Index: [5, 4]&#10;Color: (0, 150, 150)\" style=\"width: 20px; height: 20px;background-color: rgb(0, 150, 150);\"></td></tr><tr><td title=\"Index: [6, 0]&#10;Color: (0, 150, 150)\" style=\"width: 20px; height: 20px;background-color: rgb(0, 150, 150);\"></td><td title=\"Index: [6, 1]&#10;Color: (0, 150, 150)\" style=\"width: 20px; height: 20px;background-color: rgb(0, 150, 150);\"></td><td title=\"Index: [6, 2]&#10;Color: (0, 150, 150)\" style=\"width: 20px; height: 20px;background-color: rgb(0, 150, 150);\"></td><td title=\"Index: [6, 3]&#10;Color: (0, 150, 150)\" style=\"width: 20px; height: 20px;background-color: rgb(0, 150, 150);\"></td><td title=\"Index: [6, 4]&#10;Color: (0, 150, 150)\" style=\"width: 20px; height: 20px;background-color: rgb(0, 150, 150);\"></td></tr><tr><td title=\"Index: [7, 0]&#10;Color: (0, 150, 150)\" style=\"width: 20px; height: 20px;background-color: rgb(0, 150, 150);\"></td><td title=\"Index: [7, 1]&#10;Color: (0, 150, 150)\" style=\"width: 20px; height: 20px;background-color: rgb(0, 150, 150);\"></td><td title=\"Index: [7, 2]&#10;Color: (0, 150, 150)\" style=\"width: 20px; height: 20px;background-color: rgb(0, 150, 150);\"></td><td title=\"Index: [7, 3]&#10;Color: (0, 150, 150)\" style=\"width: 20px; height: 20px;background-color: rgb(0, 150, 150);\"></td><td title=\"Index: [7, 4]&#10;Color: (0, 150, 150)\" style=\"width: 20px; height: 20px;background-color: rgb(0, 150, 150);\"></td></tr><tr><td title=\"Index: [8, 0]&#10;Color: (0, 150, 150)\" style=\"width: 20px; height: 20px;background-color: rgb(0, 150, 150);\"></td><td title=\"Index: [8, 1]&#10;Color: (0, 150, 150)\" style=\"width: 20px; height: 20px;background-color: rgb(0, 150, 150);\"></td><td title=\"Index: [8, 2]&#10;Color: (0, 150, 150)\" style=\"width: 20px; height: 20px;background-color: rgb(0, 150, 150);\"></td><td title=\"Index: [8, 3]&#10;Color: (0, 150, 150)\" style=\"width: 20px; height: 20px;background-color: rgb(0, 150, 150);\"></td><td title=\"Index: [8, 4]&#10;Color: (0, 150, 150)\" style=\"width: 20px; height: 20px;background-color: rgb(0, 150, 150);\"></td></tr><tr><td title=\"Index: [9, 0]&#10;Color: (0, 150, 150)\" style=\"width: 20px; height: 20px;background-color: rgb(0, 150, 150);\"></td><td title=\"Index: [9, 1]&#10;Color: (0, 150, 150)\" style=\"width: 20px; height: 20px;background-color: rgb(0, 150, 150);\"></td><td title=\"Index: [9, 2]&#10;Color: (0, 150, 150)\" style=\"width: 20px; height: 20px;background-color: rgb(0, 150, 150);\"></td><td title=\"Index: [9, 3]&#10;Color: (0, 150, 150)\" style=\"width: 20px; height: 20px;background-color: rgb(0, 150, 150);\"></td><td title=\"Index: [9, 4]&#10;Color: (0, 150, 150)\" style=\"width: 20px; height: 20px;background-color: rgb(0, 150, 150);\"></td></tr></tbody></table>"
       ],
       "metadata": {},
       "output_type": "display_data",
       "text": [
        "<IPython.core.display.HTML at 0x104d86510>"
       ]
      },
      {
       "name": "stdout",
       "output_type": "stream",
       "stream": "stdout",
       "text": [
        "How many turns would you like? 20\n"
       ]
      },
      {
       "output_type": "stream",
       "stream": "stdout",
       "text": [
        "Turn 1\n"
       ]
      },
      {
       "name": "stdout",
       "output_type": "stream",
       "stream": "stdout",
       "text": [
        "Guess Row: 1\n"
       ]
      },
      {
       "name": "stdout",
       "output_type": "stream",
       "stream": "stdout",
       "text": [
        "Guess Col: 1\n"
       ]
      },
      {
       "output_type": "stream",
       "stream": "stdout",
       "text": [
        "You missed my battleship!\n"
       ]
      },
      {
       "html": [
        "<style type=\"text/css\">table.blockgrid {border: none;} .blockgrid tr {border: none;} .blockgrid td {padding: 0px;} #blocks3986c6ca-0d0a-48ab-990d-38599ca5109a td {border: 1px solid white;}</style><table id=\"blocks3986c6ca-0d0a-48ab-990d-38599ca5109a\" class=\"blockgrid\"><tbody><tr><td title=\"Index: [0, 0]&#10;Color: (0, 0, 0)\" style=\"width: 20px; height: 20px;background-color: rgb(0, 0, 0);\"></td><td title=\"Index: [0, 1]&#10;Color: (0, 150, 150)\" style=\"width: 20px; height: 20px;background-color: rgb(0, 150, 150);\"></td><td title=\"Index: [0, 2]&#10;Color: (0, 150, 150)\" style=\"width: 20px; height: 20px;background-color: rgb(0, 150, 150);\"></td><td title=\"Index: [0, 3]&#10;Color: (0, 150, 150)\" style=\"width: 20px; height: 20px;background-color: rgb(0, 150, 150);\"></td><td title=\"Index: [0, 4]&#10;Color: (0, 150, 150)\" style=\"width: 20px; height: 20px;background-color: rgb(0, 150, 150);\"></td></tr><tr><td title=\"Index: [1, 0]&#10;Color: (0, 150, 150)\" style=\"width: 20px; height: 20px;background-color: rgb(0, 150, 150);\"></td><td title=\"Index: [1, 1]&#10;Color: (0, 150, 150)\" style=\"width: 20px; height: 20px;background-color: rgb(0, 150, 150);\"></td><td title=\"Index: [1, 2]&#10;Color: (0, 150, 150)\" style=\"width: 20px; height: 20px;background-color: rgb(0, 150, 150);\"></td><td title=\"Index: [1, 3]&#10;Color: (0, 150, 150)\" style=\"width: 20px; height: 20px;background-color: rgb(0, 150, 150);\"></td><td title=\"Index: [1, 4]&#10;Color: (0, 150, 150)\" style=\"width: 20px; height: 20px;background-color: rgb(0, 150, 150);\"></td></tr><tr><td title=\"Index: [2, 0]&#10;Color: (0, 150, 150)\" style=\"width: 20px; height: 20px;background-color: rgb(0, 150, 150);\"></td><td title=\"Index: [2, 1]&#10;Color: (0, 150, 150)\" style=\"width: 20px; height: 20px;background-color: rgb(0, 150, 150);\"></td><td title=\"Index: [2, 2]&#10;Color: (0, 150, 150)\" style=\"width: 20px; height: 20px;background-color: rgb(0, 150, 150);\"></td><td title=\"Index: [2, 3]&#10;Color: (0, 150, 150)\" style=\"width: 20px; height: 20px;background-color: rgb(0, 150, 150);\"></td><td title=\"Index: [2, 4]&#10;Color: (0, 150, 150)\" style=\"width: 20px; height: 20px;background-color: rgb(0, 150, 150);\"></td></tr><tr><td title=\"Index: [3, 0]&#10;Color: (0, 150, 150)\" style=\"width: 20px; height: 20px;background-color: rgb(0, 150, 150);\"></td><td title=\"Index: [3, 1]&#10;Color: (0, 150, 150)\" style=\"width: 20px; height: 20px;background-color: rgb(0, 150, 150);\"></td><td title=\"Index: [3, 2]&#10;Color: (0, 150, 150)\" style=\"width: 20px; height: 20px;background-color: rgb(0, 150, 150);\"></td><td title=\"Index: [3, 3]&#10;Color: (0, 150, 150)\" style=\"width: 20px; height: 20px;background-color: rgb(0, 150, 150);\"></td><td title=\"Index: [3, 4]&#10;Color: (0, 150, 150)\" style=\"width: 20px; height: 20px;background-color: rgb(0, 150, 150);\"></td></tr><tr><td title=\"Index: [4, 0]&#10;Color: (0, 150, 150)\" style=\"width: 20px; height: 20px;background-color: rgb(0, 150, 150);\"></td><td title=\"Index: [4, 1]&#10;Color: (0, 150, 150)\" style=\"width: 20px; height: 20px;background-color: rgb(0, 150, 150);\"></td><td title=\"Index: [4, 2]&#10;Color: (0, 150, 150)\" style=\"width: 20px; height: 20px;background-color: rgb(0, 150, 150);\"></td><td title=\"Index: [4, 3]&#10;Color: (0, 150, 150)\" style=\"width: 20px; height: 20px;background-color: rgb(0, 150, 150);\"></td><td title=\"Index: [4, 4]&#10;Color: (0, 150, 150)\" style=\"width: 20px; height: 20px;background-color: rgb(0, 150, 150);\"></td></tr><tr><td title=\"Index: [5, 0]&#10;Color: (0, 150, 150)\" style=\"width: 20px; height: 20px;background-color: rgb(0, 150, 150);\"></td><td title=\"Index: [5, 1]&#10;Color: (0, 150, 150)\" style=\"width: 20px; height: 20px;background-color: rgb(0, 150, 150);\"></td><td title=\"Index: [5, 2]&#10;Color: (0, 150, 150)\" style=\"width: 20px; height: 20px;background-color: rgb(0, 150, 150);\"></td><td title=\"Index: [5, 3]&#10;Color: (0, 150, 150)\" style=\"width: 20px; height: 20px;background-color: rgb(0, 150, 150);\"></td><td title=\"Index: [5, 4]&#10;Color: (0, 150, 150)\" style=\"width: 20px; height: 20px;background-color: rgb(0, 150, 150);\"></td></tr><tr><td title=\"Index: [6, 0]&#10;Color: (0, 150, 150)\" style=\"width: 20px; height: 20px;background-color: rgb(0, 150, 150);\"></td><td title=\"Index: [6, 1]&#10;Color: (0, 150, 150)\" style=\"width: 20px; height: 20px;background-color: rgb(0, 150, 150);\"></td><td title=\"Index: [6, 2]&#10;Color: (0, 150, 150)\" style=\"width: 20px; height: 20px;background-color: rgb(0, 150, 150);\"></td><td title=\"Index: [6, 3]&#10;Color: (0, 150, 150)\" style=\"width: 20px; height: 20px;background-color: rgb(0, 150, 150);\"></td><td title=\"Index: [6, 4]&#10;Color: (0, 150, 150)\" style=\"width: 20px; height: 20px;background-color: rgb(0, 150, 150);\"></td></tr><tr><td title=\"Index: [7, 0]&#10;Color: (0, 150, 150)\" style=\"width: 20px; height: 20px;background-color: rgb(0, 150, 150);\"></td><td title=\"Index: [7, 1]&#10;Color: (0, 150, 150)\" style=\"width: 20px; height: 20px;background-color: rgb(0, 150, 150);\"></td><td title=\"Index: [7, 2]&#10;Color: (0, 150, 150)\" style=\"width: 20px; height: 20px;background-color: rgb(0, 150, 150);\"></td><td title=\"Index: [7, 3]&#10;Color: (0, 150, 150)\" style=\"width: 20px; height: 20px;background-color: rgb(0, 150, 150);\"></td><td title=\"Index: [7, 4]&#10;Color: (0, 150, 150)\" style=\"width: 20px; height: 20px;background-color: rgb(0, 150, 150);\"></td></tr><tr><td title=\"Index: [8, 0]&#10;Color: (0, 150, 150)\" style=\"width: 20px; height: 20px;background-color: rgb(0, 150, 150);\"></td><td title=\"Index: [8, 1]&#10;Color: (0, 150, 150)\" style=\"width: 20px; height: 20px;background-color: rgb(0, 150, 150);\"></td><td title=\"Index: [8, 2]&#10;Color: (0, 150, 150)\" style=\"width: 20px; height: 20px;background-color: rgb(0, 150, 150);\"></td><td title=\"Index: [8, 3]&#10;Color: (0, 150, 150)\" style=\"width: 20px; height: 20px;background-color: rgb(0, 150, 150);\"></td><td title=\"Index: [8, 4]&#10;Color: (0, 150, 150)\" style=\"width: 20px; height: 20px;background-color: rgb(0, 150, 150);\"></td></tr><tr><td title=\"Index: [9, 0]&#10;Color: (0, 150, 150)\" style=\"width: 20px; height: 20px;background-color: rgb(0, 150, 150);\"></td><td title=\"Index: [9, 1]&#10;Color: (0, 150, 150)\" style=\"width: 20px; height: 20px;background-color: rgb(0, 150, 150);\"></td><td title=\"Index: [9, 2]&#10;Color: (0, 150, 150)\" style=\"width: 20px; height: 20px;background-color: rgb(0, 150, 150);\"></td><td title=\"Index: [9, 3]&#10;Color: (0, 150, 150)\" style=\"width: 20px; height: 20px;background-color: rgb(0, 150, 150);\"></td><td title=\"Index: [9, 4]&#10;Color: (0, 150, 150)\" style=\"width: 20px; height: 20px;background-color: rgb(0, 150, 150);\"></td></tr></tbody></table>"
       ],
       "metadata": {},
       "output_type": "display_data",
       "text": [
        "<IPython.core.display.HTML at 0x104d85310>"
       ]
      },
      {
       "output_type": "stream",
       "stream": "stdout",
       "text": [
        "Turn 2\n"
       ]
      },
      {
       "name": "stdout",
       "output_type": "stream",
       "stream": "stdout",
       "text": [
        "Guess Row: 2\n"
       ]
      },
      {
       "name": "stdout",
       "output_type": "stream",
       "stream": "stdout",
       "text": [
        "Guess Col: 2\n"
       ]
      },
      {
       "output_type": "stream",
       "stream": "stdout",
       "text": [
        "You missed my battleship!\n"
       ]
      },
      {
       "html": [
        "<style type=\"text/css\">table.blockgrid {border: none;} .blockgrid tr {border: none;} .blockgrid td {padding: 0px;} #blocksfd06da7e-aef5-40fa-9fbb-ae44c2d7417b td {border: 1px solid white;}</style><table id=\"blocksfd06da7e-aef5-40fa-9fbb-ae44c2d7417b\" class=\"blockgrid\"><tbody><tr><td title=\"Index: [0, 0]&#10;Color: (0, 0, 0)\" style=\"width: 20px; height: 20px;background-color: rgb(0, 0, 0);\"></td><td title=\"Index: [0, 1]&#10;Color: (0, 150, 150)\" style=\"width: 20px; height: 20px;background-color: rgb(0, 150, 150);\"></td><td title=\"Index: [0, 2]&#10;Color: (0, 150, 150)\" style=\"width: 20px; height: 20px;background-color: rgb(0, 150, 150);\"></td><td title=\"Index: [0, 3]&#10;Color: (0, 150, 150)\" style=\"width: 20px; height: 20px;background-color: rgb(0, 150, 150);\"></td><td title=\"Index: [0, 4]&#10;Color: (0, 150, 150)\" style=\"width: 20px; height: 20px;background-color: rgb(0, 150, 150);\"></td></tr><tr><td title=\"Index: [1, 0]&#10;Color: (0, 150, 150)\" style=\"width: 20px; height: 20px;background-color: rgb(0, 150, 150);\"></td><td title=\"Index: [1, 1]&#10;Color: (0, 0, 0)\" style=\"width: 20px; height: 20px;background-color: rgb(0, 0, 0);\"></td><td title=\"Index: [1, 2]&#10;Color: (0, 150, 150)\" style=\"width: 20px; height: 20px;background-color: rgb(0, 150, 150);\"></td><td title=\"Index: [1, 3]&#10;Color: (0, 150, 150)\" style=\"width: 20px; height: 20px;background-color: rgb(0, 150, 150);\"></td><td title=\"Index: [1, 4]&#10;Color: (0, 150, 150)\" style=\"width: 20px; height: 20px;background-color: rgb(0, 150, 150);\"></td></tr><tr><td title=\"Index: [2, 0]&#10;Color: (0, 150, 150)\" style=\"width: 20px; height: 20px;background-color: rgb(0, 150, 150);\"></td><td title=\"Index: [2, 1]&#10;Color: (0, 150, 150)\" style=\"width: 20px; height: 20px;background-color: rgb(0, 150, 150);\"></td><td title=\"Index: [2, 2]&#10;Color: (0, 150, 150)\" style=\"width: 20px; height: 20px;background-color: rgb(0, 150, 150);\"></td><td title=\"Index: [2, 3]&#10;Color: (0, 150, 150)\" style=\"width: 20px; height: 20px;background-color: rgb(0, 150, 150);\"></td><td title=\"Index: [2, 4]&#10;Color: (0, 150, 150)\" style=\"width: 20px; height: 20px;background-color: rgb(0, 150, 150);\"></td></tr><tr><td title=\"Index: [3, 0]&#10;Color: (0, 150, 150)\" style=\"width: 20px; height: 20px;background-color: rgb(0, 150, 150);\"></td><td title=\"Index: [3, 1]&#10;Color: (0, 150, 150)\" style=\"width: 20px; height: 20px;background-color: rgb(0, 150, 150);\"></td><td title=\"Index: [3, 2]&#10;Color: (0, 150, 150)\" style=\"width: 20px; height: 20px;background-color: rgb(0, 150, 150);\"></td><td title=\"Index: [3, 3]&#10;Color: (0, 150, 150)\" style=\"width: 20px; height: 20px;background-color: rgb(0, 150, 150);\"></td><td title=\"Index: [3, 4]&#10;Color: (0, 150, 150)\" style=\"width: 20px; height: 20px;background-color: rgb(0, 150, 150);\"></td></tr><tr><td title=\"Index: [4, 0]&#10;Color: (0, 150, 150)\" style=\"width: 20px; height: 20px;background-color: rgb(0, 150, 150);\"></td><td title=\"Index: [4, 1]&#10;Color: (0, 150, 150)\" style=\"width: 20px; height: 20px;background-color: rgb(0, 150, 150);\"></td><td title=\"Index: [4, 2]&#10;Color: (0, 150, 150)\" style=\"width: 20px; height: 20px;background-color: rgb(0, 150, 150);\"></td><td title=\"Index: [4, 3]&#10;Color: (0, 150, 150)\" style=\"width: 20px; height: 20px;background-color: rgb(0, 150, 150);\"></td><td title=\"Index: [4, 4]&#10;Color: (0, 150, 150)\" style=\"width: 20px; height: 20px;background-color: rgb(0, 150, 150);\"></td></tr><tr><td title=\"Index: [5, 0]&#10;Color: (0, 150, 150)\" style=\"width: 20px; height: 20px;background-color: rgb(0, 150, 150);\"></td><td title=\"Index: [5, 1]&#10;Color: (0, 150, 150)\" style=\"width: 20px; height: 20px;background-color: rgb(0, 150, 150);\"></td><td title=\"Index: [5, 2]&#10;Color: (0, 150, 150)\" style=\"width: 20px; height: 20px;background-color: rgb(0, 150, 150);\"></td><td title=\"Index: [5, 3]&#10;Color: (0, 150, 150)\" style=\"width: 20px; height: 20px;background-color: rgb(0, 150, 150);\"></td><td title=\"Index: [5, 4]&#10;Color: (0, 150, 150)\" style=\"width: 20px; height: 20px;background-color: rgb(0, 150, 150);\"></td></tr><tr><td title=\"Index: [6, 0]&#10;Color: (0, 150, 150)\" style=\"width: 20px; height: 20px;background-color: rgb(0, 150, 150);\"></td><td title=\"Index: [6, 1]&#10;Color: (0, 150, 150)\" style=\"width: 20px; height: 20px;background-color: rgb(0, 150, 150);\"></td><td title=\"Index: [6, 2]&#10;Color: (0, 150, 150)\" style=\"width: 20px; height: 20px;background-color: rgb(0, 150, 150);\"></td><td title=\"Index: [6, 3]&#10;Color: (0, 150, 150)\" style=\"width: 20px; height: 20px;background-color: rgb(0, 150, 150);\"></td><td title=\"Index: [6, 4]&#10;Color: (0, 150, 150)\" style=\"width: 20px; height: 20px;background-color: rgb(0, 150, 150);\"></td></tr><tr><td title=\"Index: [7, 0]&#10;Color: (0, 150, 150)\" style=\"width: 20px; height: 20px;background-color: rgb(0, 150, 150);\"></td><td title=\"Index: [7, 1]&#10;Color: (0, 150, 150)\" style=\"width: 20px; height: 20px;background-color: rgb(0, 150, 150);\"></td><td title=\"Index: [7, 2]&#10;Color: (0, 150, 150)\" style=\"width: 20px; height: 20px;background-color: rgb(0, 150, 150);\"></td><td title=\"Index: [7, 3]&#10;Color: (0, 150, 150)\" style=\"width: 20px; height: 20px;background-color: rgb(0, 150, 150);\"></td><td title=\"Index: [7, 4]&#10;Color: (0, 150, 150)\" style=\"width: 20px; height: 20px;background-color: rgb(0, 150, 150);\"></td></tr><tr><td title=\"Index: [8, 0]&#10;Color: (0, 150, 150)\" style=\"width: 20px; height: 20px;background-color: rgb(0, 150, 150);\"></td><td title=\"Index: [8, 1]&#10;Color: (0, 150, 150)\" style=\"width: 20px; height: 20px;background-color: rgb(0, 150, 150);\"></td><td title=\"Index: [8, 2]&#10;Color: (0, 150, 150)\" style=\"width: 20px; height: 20px;background-color: rgb(0, 150, 150);\"></td><td title=\"Index: [8, 3]&#10;Color: (0, 150, 150)\" style=\"width: 20px; height: 20px;background-color: rgb(0, 150, 150);\"></td><td title=\"Index: [8, 4]&#10;Color: (0, 150, 150)\" style=\"width: 20px; height: 20px;background-color: rgb(0, 150, 150);\"></td></tr><tr><td title=\"Index: [9, 0]&#10;Color: (0, 150, 150)\" style=\"width: 20px; height: 20px;background-color: rgb(0, 150, 150);\"></td><td title=\"Index: [9, 1]&#10;Color: (0, 150, 150)\" style=\"width: 20px; height: 20px;background-color: rgb(0, 150, 150);\"></td><td title=\"Index: [9, 2]&#10;Color: (0, 150, 150)\" style=\"width: 20px; height: 20px;background-color: rgb(0, 150, 150);\"></td><td title=\"Index: [9, 3]&#10;Color: (0, 150, 150)\" style=\"width: 20px; height: 20px;background-color: rgb(0, 150, 150);\"></td><td title=\"Index: [9, 4]&#10;Color: (0, 150, 150)\" style=\"width: 20px; height: 20px;background-color: rgb(0, 150, 150);\"></td></tr></tbody></table>"
       ],
       "metadata": {},
       "output_type": "display_data",
       "text": [
        "<IPython.core.display.HTML at 0x104d85290>"
       ]
      },
      {
       "output_type": "stream",
       "stream": "stdout",
       "text": [
        "Turn 3\n"
       ]
      },
      {
       "name": "stdout",
       "output_type": "stream",
       "stream": "stdout",
       "text": [
        "Guess Row: 3\n"
       ]
      },
      {
       "name": "stdout",
       "output_type": "stream",
       "stream": "stdout",
       "text": [
        "Guess Col: 3\n"
       ]
      },
      {
       "output_type": "stream",
       "stream": "stdout",
       "text": [
        "You missed my battleship!\n"
       ]
      },
      {
       "html": [
        "<style type=\"text/css\">table.blockgrid {border: none;} .blockgrid tr {border: none;} .blockgrid td {padding: 0px;} #blocks6c39373e-28d8-4d98-9b0a-3e97ab761487 td {border: 1px solid white;}</style><table id=\"blocks6c39373e-28d8-4d98-9b0a-3e97ab761487\" class=\"blockgrid\"><tbody><tr><td title=\"Index: [0, 0]&#10;Color: (0, 0, 0)\" style=\"width: 20px; height: 20px;background-color: rgb(0, 0, 0);\"></td><td title=\"Index: [0, 1]&#10;Color: (0, 150, 150)\" style=\"width: 20px; height: 20px;background-color: rgb(0, 150, 150);\"></td><td title=\"Index: [0, 2]&#10;Color: (0, 150, 150)\" style=\"width: 20px; height: 20px;background-color: rgb(0, 150, 150);\"></td><td title=\"Index: [0, 3]&#10;Color: (0, 150, 150)\" style=\"width: 20px; height: 20px;background-color: rgb(0, 150, 150);\"></td><td title=\"Index: [0, 4]&#10;Color: (0, 150, 150)\" style=\"width: 20px; height: 20px;background-color: rgb(0, 150, 150);\"></td></tr><tr><td title=\"Index: [1, 0]&#10;Color: (0, 150, 150)\" style=\"width: 20px; height: 20px;background-color: rgb(0, 150, 150);\"></td><td title=\"Index: [1, 1]&#10;Color: (0, 0, 0)\" style=\"width: 20px; height: 20px;background-color: rgb(0, 0, 0);\"></td><td title=\"Index: [1, 2]&#10;Color: (0, 150, 150)\" style=\"width: 20px; height: 20px;background-color: rgb(0, 150, 150);\"></td><td title=\"Index: [1, 3]&#10;Color: (0, 150, 150)\" style=\"width: 20px; height: 20px;background-color: rgb(0, 150, 150);\"></td><td title=\"Index: [1, 4]&#10;Color: (0, 150, 150)\" style=\"width: 20px; height: 20px;background-color: rgb(0, 150, 150);\"></td></tr><tr><td title=\"Index: [2, 0]&#10;Color: (0, 150, 150)\" style=\"width: 20px; height: 20px;background-color: rgb(0, 150, 150);\"></td><td title=\"Index: [2, 1]&#10;Color: (0, 150, 150)\" style=\"width: 20px; height: 20px;background-color: rgb(0, 150, 150);\"></td><td title=\"Index: [2, 2]&#10;Color: (0, 0, 0)\" style=\"width: 20px; height: 20px;background-color: rgb(0, 0, 0);\"></td><td title=\"Index: [2, 3]&#10;Color: (0, 150, 150)\" style=\"width: 20px; height: 20px;background-color: rgb(0, 150, 150);\"></td><td title=\"Index: [2, 4]&#10;Color: (0, 150, 150)\" style=\"width: 20px; height: 20px;background-color: rgb(0, 150, 150);\"></td></tr><tr><td title=\"Index: [3, 0]&#10;Color: (0, 150, 150)\" style=\"width: 20px; height: 20px;background-color: rgb(0, 150, 150);\"></td><td title=\"Index: [3, 1]&#10;Color: (0, 150, 150)\" style=\"width: 20px; height: 20px;background-color: rgb(0, 150, 150);\"></td><td title=\"Index: [3, 2]&#10;Color: (0, 150, 150)\" style=\"width: 20px; height: 20px;background-color: rgb(0, 150, 150);\"></td><td title=\"Index: [3, 3]&#10;Color: (0, 150, 150)\" style=\"width: 20px; height: 20px;background-color: rgb(0, 150, 150);\"></td><td title=\"Index: [3, 4]&#10;Color: (0, 150, 150)\" style=\"width: 20px; height: 20px;background-color: rgb(0, 150, 150);\"></td></tr><tr><td title=\"Index: [4, 0]&#10;Color: (0, 150, 150)\" style=\"width: 20px; height: 20px;background-color: rgb(0, 150, 150);\"></td><td title=\"Index: [4, 1]&#10;Color: (0, 150, 150)\" style=\"width: 20px; height: 20px;background-color: rgb(0, 150, 150);\"></td><td title=\"Index: [4, 2]&#10;Color: (0, 150, 150)\" style=\"width: 20px; height: 20px;background-color: rgb(0, 150, 150);\"></td><td title=\"Index: [4, 3]&#10;Color: (0, 150, 150)\" style=\"width: 20px; height: 20px;background-color: rgb(0, 150, 150);\"></td><td title=\"Index: [4, 4]&#10;Color: (0, 150, 150)\" style=\"width: 20px; height: 20px;background-color: rgb(0, 150, 150);\"></td></tr><tr><td title=\"Index: [5, 0]&#10;Color: (0, 150, 150)\" style=\"width: 20px; height: 20px;background-color: rgb(0, 150, 150);\"></td><td title=\"Index: [5, 1]&#10;Color: (0, 150, 150)\" style=\"width: 20px; height: 20px;background-color: rgb(0, 150, 150);\"></td><td title=\"Index: [5, 2]&#10;Color: (0, 150, 150)\" style=\"width: 20px; height: 20px;background-color: rgb(0, 150, 150);\"></td><td title=\"Index: [5, 3]&#10;Color: (0, 150, 150)\" style=\"width: 20px; height: 20px;background-color: rgb(0, 150, 150);\"></td><td title=\"Index: [5, 4]&#10;Color: (0, 150, 150)\" style=\"width: 20px; height: 20px;background-color: rgb(0, 150, 150);\"></td></tr><tr><td title=\"Index: [6, 0]&#10;Color: (0, 150, 150)\" style=\"width: 20px; height: 20px;background-color: rgb(0, 150, 150);\"></td><td title=\"Index: [6, 1]&#10;Color: (0, 150, 150)\" style=\"width: 20px; height: 20px;background-color: rgb(0, 150, 150);\"></td><td title=\"Index: [6, 2]&#10;Color: (0, 150, 150)\" style=\"width: 20px; height: 20px;background-color: rgb(0, 150, 150);\"></td><td title=\"Index: [6, 3]&#10;Color: (0, 150, 150)\" style=\"width: 20px; height: 20px;background-color: rgb(0, 150, 150);\"></td><td title=\"Index: [6, 4]&#10;Color: (0, 150, 150)\" style=\"width: 20px; height: 20px;background-color: rgb(0, 150, 150);\"></td></tr><tr><td title=\"Index: [7, 0]&#10;Color: (0, 150, 150)\" style=\"width: 20px; height: 20px;background-color: rgb(0, 150, 150);\"></td><td title=\"Index: [7, 1]&#10;Color: (0, 150, 150)\" style=\"width: 20px; height: 20px;background-color: rgb(0, 150, 150);\"></td><td title=\"Index: [7, 2]&#10;Color: (0, 150, 150)\" style=\"width: 20px; height: 20px;background-color: rgb(0, 150, 150);\"></td><td title=\"Index: [7, 3]&#10;Color: (0, 150, 150)\" style=\"width: 20px; height: 20px;background-color: rgb(0, 150, 150);\"></td><td title=\"Index: [7, 4]&#10;Color: (0, 150, 150)\" style=\"width: 20px; height: 20px;background-color: rgb(0, 150, 150);\"></td></tr><tr><td title=\"Index: [8, 0]&#10;Color: (0, 150, 150)\" style=\"width: 20px; height: 20px;background-color: rgb(0, 150, 150);\"></td><td title=\"Index: [8, 1]&#10;Color: (0, 150, 150)\" style=\"width: 20px; height: 20px;background-color: rgb(0, 150, 150);\"></td><td title=\"Index: [8, 2]&#10;Color: (0, 150, 150)\" style=\"width: 20px; height: 20px;background-color: rgb(0, 150, 150);\"></td><td title=\"Index: [8, 3]&#10;Color: (0, 150, 150)\" style=\"width: 20px; height: 20px;background-color: rgb(0, 150, 150);\"></td><td title=\"Index: [8, 4]&#10;Color: (0, 150, 150)\" style=\"width: 20px; height: 20px;background-color: rgb(0, 150, 150);\"></td></tr><tr><td title=\"Index: [9, 0]&#10;Color: (0, 150, 150)\" style=\"width: 20px; height: 20px;background-color: rgb(0, 150, 150);\"></td><td title=\"Index: [9, 1]&#10;Color: (0, 150, 150)\" style=\"width: 20px; height: 20px;background-color: rgb(0, 150, 150);\"></td><td title=\"Index: [9, 2]&#10;Color: (0, 150, 150)\" style=\"width: 20px; height: 20px;background-color: rgb(0, 150, 150);\"></td><td title=\"Index: [9, 3]&#10;Color: (0, 150, 150)\" style=\"width: 20px; height: 20px;background-color: rgb(0, 150, 150);\"></td><td title=\"Index: [9, 4]&#10;Color: (0, 150, 150)\" style=\"width: 20px; height: 20px;background-color: rgb(0, 150, 150);\"></td></tr></tbody></table>"
       ],
       "metadata": {},
       "output_type": "display_data",
       "text": [
        "<IPython.core.display.HTML at 0x104d85390>"
       ]
      },
      {
       "output_type": "stream",
       "stream": "stdout",
       "text": [
        "Turn 4\n"
       ]
      },
      {
       "name": "stdout",
       "output_type": "stream",
       "stream": "stdout",
       "text": [
        "Guess Row: 4\n"
       ]
      },
      {
       "name": "stdout",
       "output_type": "stream",
       "stream": "stdout",
       "text": [
        "Guess Col: 4\n"
       ]
      },
      {
       "output_type": "stream",
       "stream": "stdout",
       "text": [
        "You missed my battleship!\n"
       ]
      },
      {
       "html": [
        "<style type=\"text/css\">table.blockgrid {border: none;} .blockgrid tr {border: none;} .blockgrid td {padding: 0px;} #blocks08f659da-9aa1-428c-8bbc-567d66e4d662 td {border: 1px solid white;}</style><table id=\"blocks08f659da-9aa1-428c-8bbc-567d66e4d662\" class=\"blockgrid\"><tbody><tr><td title=\"Index: [0, 0]&#10;Color: (0, 0, 0)\" style=\"width: 20px; height: 20px;background-color: rgb(0, 0, 0);\"></td><td title=\"Index: [0, 1]&#10;Color: (0, 150, 150)\" style=\"width: 20px; height: 20px;background-color: rgb(0, 150, 150);\"></td><td title=\"Index: [0, 2]&#10;Color: (0, 150, 150)\" style=\"width: 20px; height: 20px;background-color: rgb(0, 150, 150);\"></td><td title=\"Index: [0, 3]&#10;Color: (0, 150, 150)\" style=\"width: 20px; height: 20px;background-color: rgb(0, 150, 150);\"></td><td title=\"Index: [0, 4]&#10;Color: (0, 150, 150)\" style=\"width: 20px; height: 20px;background-color: rgb(0, 150, 150);\"></td></tr><tr><td title=\"Index: [1, 0]&#10;Color: (0, 150, 150)\" style=\"width: 20px; height: 20px;background-color: rgb(0, 150, 150);\"></td><td title=\"Index: [1, 1]&#10;Color: (0, 0, 0)\" style=\"width: 20px; height: 20px;background-color: rgb(0, 0, 0);\"></td><td title=\"Index: [1, 2]&#10;Color: (0, 150, 150)\" style=\"width: 20px; height: 20px;background-color: rgb(0, 150, 150);\"></td><td title=\"Index: [1, 3]&#10;Color: (0, 150, 150)\" style=\"width: 20px; height: 20px;background-color: rgb(0, 150, 150);\"></td><td title=\"Index: [1, 4]&#10;Color: (0, 150, 150)\" style=\"width: 20px; height: 20px;background-color: rgb(0, 150, 150);\"></td></tr><tr><td title=\"Index: [2, 0]&#10;Color: (0, 150, 150)\" style=\"width: 20px; height: 20px;background-color: rgb(0, 150, 150);\"></td><td title=\"Index: [2, 1]&#10;Color: (0, 150, 150)\" style=\"width: 20px; height: 20px;background-color: rgb(0, 150, 150);\"></td><td title=\"Index: [2, 2]&#10;Color: (0, 0, 0)\" style=\"width: 20px; height: 20px;background-color: rgb(0, 0, 0);\"></td><td title=\"Index: [2, 3]&#10;Color: (0, 150, 150)\" style=\"width: 20px; height: 20px;background-color: rgb(0, 150, 150);\"></td><td title=\"Index: [2, 4]&#10;Color: (0, 150, 150)\" style=\"width: 20px; height: 20px;background-color: rgb(0, 150, 150);\"></td></tr><tr><td title=\"Index: [3, 0]&#10;Color: (0, 150, 150)\" style=\"width: 20px; height: 20px;background-color: rgb(0, 150, 150);\"></td><td title=\"Index: [3, 1]&#10;Color: (0, 150, 150)\" style=\"width: 20px; height: 20px;background-color: rgb(0, 150, 150);\"></td><td title=\"Index: [3, 2]&#10;Color: (0, 150, 150)\" style=\"width: 20px; height: 20px;background-color: rgb(0, 150, 150);\"></td><td title=\"Index: [3, 3]&#10;Color: (0, 0, 0)\" style=\"width: 20px; height: 20px;background-color: rgb(0, 0, 0);\"></td><td title=\"Index: [3, 4]&#10;Color: (0, 150, 150)\" style=\"width: 20px; height: 20px;background-color: rgb(0, 150, 150);\"></td></tr><tr><td title=\"Index: [4, 0]&#10;Color: (0, 150, 150)\" style=\"width: 20px; height: 20px;background-color: rgb(0, 150, 150);\"></td><td title=\"Index: [4, 1]&#10;Color: (0, 150, 150)\" style=\"width: 20px; height: 20px;background-color: rgb(0, 150, 150);\"></td><td title=\"Index: [4, 2]&#10;Color: (0, 150, 150)\" style=\"width: 20px; height: 20px;background-color: rgb(0, 150, 150);\"></td><td title=\"Index: [4, 3]&#10;Color: (0, 150, 150)\" style=\"width: 20px; height: 20px;background-color: rgb(0, 150, 150);\"></td><td title=\"Index: [4, 4]&#10;Color: (0, 150, 150)\" style=\"width: 20px; height: 20px;background-color: rgb(0, 150, 150);\"></td></tr><tr><td title=\"Index: [5, 0]&#10;Color: (0, 150, 150)\" style=\"width: 20px; height: 20px;background-color: rgb(0, 150, 150);\"></td><td title=\"Index: [5, 1]&#10;Color: (0, 150, 150)\" style=\"width: 20px; height: 20px;background-color: rgb(0, 150, 150);\"></td><td title=\"Index: [5, 2]&#10;Color: (0, 150, 150)\" style=\"width: 20px; height: 20px;background-color: rgb(0, 150, 150);\"></td><td title=\"Index: [5, 3]&#10;Color: (0, 150, 150)\" style=\"width: 20px; height: 20px;background-color: rgb(0, 150, 150);\"></td><td title=\"Index: [5, 4]&#10;Color: (0, 150, 150)\" style=\"width: 20px; height: 20px;background-color: rgb(0, 150, 150);\"></td></tr><tr><td title=\"Index: [6, 0]&#10;Color: (0, 150, 150)\" style=\"width: 20px; height: 20px;background-color: rgb(0, 150, 150);\"></td><td title=\"Index: [6, 1]&#10;Color: (0, 150, 150)\" style=\"width: 20px; height: 20px;background-color: rgb(0, 150, 150);\"></td><td title=\"Index: [6, 2]&#10;Color: (0, 150, 150)\" style=\"width: 20px; height: 20px;background-color: rgb(0, 150, 150);\"></td><td title=\"Index: [6, 3]&#10;Color: (0, 150, 150)\" style=\"width: 20px; height: 20px;background-color: rgb(0, 150, 150);\"></td><td title=\"Index: [6, 4]&#10;Color: (0, 150, 150)\" style=\"width: 20px; height: 20px;background-color: rgb(0, 150, 150);\"></td></tr><tr><td title=\"Index: [7, 0]&#10;Color: (0, 150, 150)\" style=\"width: 20px; height: 20px;background-color: rgb(0, 150, 150);\"></td><td title=\"Index: [7, 1]&#10;Color: (0, 150, 150)\" style=\"width: 20px; height: 20px;background-color: rgb(0, 150, 150);\"></td><td title=\"Index: [7, 2]&#10;Color: (0, 150, 150)\" style=\"width: 20px; height: 20px;background-color: rgb(0, 150, 150);\"></td><td title=\"Index: [7, 3]&#10;Color: (0, 150, 150)\" style=\"width: 20px; height: 20px;background-color: rgb(0, 150, 150);\"></td><td title=\"Index: [7, 4]&#10;Color: (0, 150, 150)\" style=\"width: 20px; height: 20px;background-color: rgb(0, 150, 150);\"></td></tr><tr><td title=\"Index: [8, 0]&#10;Color: (0, 150, 150)\" style=\"width: 20px; height: 20px;background-color: rgb(0, 150, 150);\"></td><td title=\"Index: [8, 1]&#10;Color: (0, 150, 150)\" style=\"width: 20px; height: 20px;background-color: rgb(0, 150, 150);\"></td><td title=\"Index: [8, 2]&#10;Color: (0, 150, 150)\" style=\"width: 20px; height: 20px;background-color: rgb(0, 150, 150);\"></td><td title=\"Index: [8, 3]&#10;Color: (0, 150, 150)\" style=\"width: 20px; height: 20px;background-color: rgb(0, 150, 150);\"></td><td title=\"Index: [8, 4]&#10;Color: (0, 150, 150)\" style=\"width: 20px; height: 20px;background-color: rgb(0, 150, 150);\"></td></tr><tr><td title=\"Index: [9, 0]&#10;Color: (0, 150, 150)\" style=\"width: 20px; height: 20px;background-color: rgb(0, 150, 150);\"></td><td title=\"Index: [9, 1]&#10;Color: (0, 150, 150)\" style=\"width: 20px; height: 20px;background-color: rgb(0, 150, 150);\"></td><td title=\"Index: [9, 2]&#10;Color: (0, 150, 150)\" style=\"width: 20px; height: 20px;background-color: rgb(0, 150, 150);\"></td><td title=\"Index: [9, 3]&#10;Color: (0, 150, 150)\" style=\"width: 20px; height: 20px;background-color: rgb(0, 150, 150);\"></td><td title=\"Index: [9, 4]&#10;Color: (0, 150, 150)\" style=\"width: 20px; height: 20px;background-color: rgb(0, 150, 150);\"></td></tr></tbody></table>"
       ],
       "metadata": {},
       "output_type": "display_data",
       "text": [
        "<IPython.core.display.HTML at 0x104d85350>"
       ]
      },
      {
       "output_type": "stream",
       "stream": "stdout",
       "text": [
        "Turn 5\n"
       ]
      },
      {
       "name": "stdout",
       "output_type": "stream",
       "stream": "stdout",
       "text": [
        "Guess Row: 5\n"
       ]
      },
      {
       "name": "stdout",
       "output_type": "stream",
       "stream": "stdout",
       "text": [
        "Guess Col: 5\n"
       ]
      },
      {
       "output_type": "stream",
       "stream": "stdout",
       "text": [
        "You missed my battleship!\n"
       ]
      },
      {
       "html": [
        "<style type=\"text/css\">table.blockgrid {border: none;} .blockgrid tr {border: none;} .blockgrid td {padding: 0px;} #blocksa56666af-fdc5-41ab-845e-4fcefee692a0 td {border: 1px solid white;}</style><table id=\"blocksa56666af-fdc5-41ab-845e-4fcefee692a0\" class=\"blockgrid\"><tbody><tr><td title=\"Index: [0, 0]&#10;Color: (0, 0, 0)\" style=\"width: 20px; height: 20px;background-color: rgb(0, 0, 0);\"></td><td title=\"Index: [0, 1]&#10;Color: (0, 150, 150)\" style=\"width: 20px; height: 20px;background-color: rgb(0, 150, 150);\"></td><td title=\"Index: [0, 2]&#10;Color: (0, 150, 150)\" style=\"width: 20px; height: 20px;background-color: rgb(0, 150, 150);\"></td><td title=\"Index: [0, 3]&#10;Color: (0, 150, 150)\" style=\"width: 20px; height: 20px;background-color: rgb(0, 150, 150);\"></td><td title=\"Index: [0, 4]&#10;Color: (0, 150, 150)\" style=\"width: 20px; height: 20px;background-color: rgb(0, 150, 150);\"></td></tr><tr><td title=\"Index: [1, 0]&#10;Color: (0, 150, 150)\" style=\"width: 20px; height: 20px;background-color: rgb(0, 150, 150);\"></td><td title=\"Index: [1, 1]&#10;Color: (0, 0, 0)\" style=\"width: 20px; height: 20px;background-color: rgb(0, 0, 0);\"></td><td title=\"Index: [1, 2]&#10;Color: (0, 150, 150)\" style=\"width: 20px; height: 20px;background-color: rgb(0, 150, 150);\"></td><td title=\"Index: [1, 3]&#10;Color: (0, 150, 150)\" style=\"width: 20px; height: 20px;background-color: rgb(0, 150, 150);\"></td><td title=\"Index: [1, 4]&#10;Color: (0, 150, 150)\" style=\"width: 20px; height: 20px;background-color: rgb(0, 150, 150);\"></td></tr><tr><td title=\"Index: [2, 0]&#10;Color: (0, 150, 150)\" style=\"width: 20px; height: 20px;background-color: rgb(0, 150, 150);\"></td><td title=\"Index: [2, 1]&#10;Color: (0, 150, 150)\" style=\"width: 20px; height: 20px;background-color: rgb(0, 150, 150);\"></td><td title=\"Index: [2, 2]&#10;Color: (0, 0, 0)\" style=\"width: 20px; height: 20px;background-color: rgb(0, 0, 0);\"></td><td title=\"Index: [2, 3]&#10;Color: (0, 150, 150)\" style=\"width: 20px; height: 20px;background-color: rgb(0, 150, 150);\"></td><td title=\"Index: [2, 4]&#10;Color: (0, 150, 150)\" style=\"width: 20px; height: 20px;background-color: rgb(0, 150, 150);\"></td></tr><tr><td title=\"Index: [3, 0]&#10;Color: (0, 150, 150)\" style=\"width: 20px; height: 20px;background-color: rgb(0, 150, 150);\"></td><td title=\"Index: [3, 1]&#10;Color: (0, 150, 150)\" style=\"width: 20px; height: 20px;background-color: rgb(0, 150, 150);\"></td><td title=\"Index: [3, 2]&#10;Color: (0, 150, 150)\" style=\"width: 20px; height: 20px;background-color: rgb(0, 150, 150);\"></td><td title=\"Index: [3, 3]&#10;Color: (0, 0, 0)\" style=\"width: 20px; height: 20px;background-color: rgb(0, 0, 0);\"></td><td title=\"Index: [3, 4]&#10;Color: (0, 150, 150)\" style=\"width: 20px; height: 20px;background-color: rgb(0, 150, 150);\"></td></tr><tr><td title=\"Index: [4, 0]&#10;Color: (0, 150, 150)\" style=\"width: 20px; height: 20px;background-color: rgb(0, 150, 150);\"></td><td title=\"Index: [4, 1]&#10;Color: (0, 150, 150)\" style=\"width: 20px; height: 20px;background-color: rgb(0, 150, 150);\"></td><td title=\"Index: [4, 2]&#10;Color: (0, 150, 150)\" style=\"width: 20px; height: 20px;background-color: rgb(0, 150, 150);\"></td><td title=\"Index: [4, 3]&#10;Color: (0, 150, 150)\" style=\"width: 20px; height: 20px;background-color: rgb(0, 150, 150);\"></td><td title=\"Index: [4, 4]&#10;Color: (0, 0, 0)\" style=\"width: 20px; height: 20px;background-color: rgb(0, 0, 0);\"></td></tr><tr><td title=\"Index: [5, 0]&#10;Color: (0, 150, 150)\" style=\"width: 20px; height: 20px;background-color: rgb(0, 150, 150);\"></td><td title=\"Index: [5, 1]&#10;Color: (0, 150, 150)\" style=\"width: 20px; height: 20px;background-color: rgb(0, 150, 150);\"></td><td title=\"Index: [5, 2]&#10;Color: (0, 150, 150)\" style=\"width: 20px; height: 20px;background-color: rgb(0, 150, 150);\"></td><td title=\"Index: [5, 3]&#10;Color: (0, 150, 150)\" style=\"width: 20px; height: 20px;background-color: rgb(0, 150, 150);\"></td><td title=\"Index: [5, 4]&#10;Color: (0, 150, 150)\" style=\"width: 20px; height: 20px;background-color: rgb(0, 150, 150);\"></td></tr><tr><td title=\"Index: [6, 0]&#10;Color: (0, 150, 150)\" style=\"width: 20px; height: 20px;background-color: rgb(0, 150, 150);\"></td><td title=\"Index: [6, 1]&#10;Color: (0, 150, 150)\" style=\"width: 20px; height: 20px;background-color: rgb(0, 150, 150);\"></td><td title=\"Index: [6, 2]&#10;Color: (0, 150, 150)\" style=\"width: 20px; height: 20px;background-color: rgb(0, 150, 150);\"></td><td title=\"Index: [6, 3]&#10;Color: (0, 150, 150)\" style=\"width: 20px; height: 20px;background-color: rgb(0, 150, 150);\"></td><td title=\"Index: [6, 4]&#10;Color: (0, 150, 150)\" style=\"width: 20px; height: 20px;background-color: rgb(0, 150, 150);\"></td></tr><tr><td title=\"Index: [7, 0]&#10;Color: (0, 150, 150)\" style=\"width: 20px; height: 20px;background-color: rgb(0, 150, 150);\"></td><td title=\"Index: [7, 1]&#10;Color: (0, 150, 150)\" style=\"width: 20px; height: 20px;background-color: rgb(0, 150, 150);\"></td><td title=\"Index: [7, 2]&#10;Color: (0, 150, 150)\" style=\"width: 20px; height: 20px;background-color: rgb(0, 150, 150);\"></td><td title=\"Index: [7, 3]&#10;Color: (0, 150, 150)\" style=\"width: 20px; height: 20px;background-color: rgb(0, 150, 150);\"></td><td title=\"Index: [7, 4]&#10;Color: (0, 150, 150)\" style=\"width: 20px; height: 20px;background-color: rgb(0, 150, 150);\"></td></tr><tr><td title=\"Index: [8, 0]&#10;Color: (0, 150, 150)\" style=\"width: 20px; height: 20px;background-color: rgb(0, 150, 150);\"></td><td title=\"Index: [8, 1]&#10;Color: (0, 150, 150)\" style=\"width: 20px; height: 20px;background-color: rgb(0, 150, 150);\"></td><td title=\"Index: [8, 2]&#10;Color: (0, 150, 150)\" style=\"width: 20px; height: 20px;background-color: rgb(0, 150, 150);\"></td><td title=\"Index: [8, 3]&#10;Color: (0, 150, 150)\" style=\"width: 20px; height: 20px;background-color: rgb(0, 150, 150);\"></td><td title=\"Index: [8, 4]&#10;Color: (0, 150, 150)\" style=\"width: 20px; height: 20px;background-color: rgb(0, 150, 150);\"></td></tr><tr><td title=\"Index: [9, 0]&#10;Color: (0, 150, 150)\" style=\"width: 20px; height: 20px;background-color: rgb(0, 150, 150);\"></td><td title=\"Index: [9, 1]&#10;Color: (0, 150, 150)\" style=\"width: 20px; height: 20px;background-color: rgb(0, 150, 150);\"></td><td title=\"Index: [9, 2]&#10;Color: (0, 150, 150)\" style=\"width: 20px; height: 20px;background-color: rgb(0, 150, 150);\"></td><td title=\"Index: [9, 3]&#10;Color: (0, 150, 150)\" style=\"width: 20px; height: 20px;background-color: rgb(0, 150, 150);\"></td><td title=\"Index: [9, 4]&#10;Color: (0, 150, 150)\" style=\"width: 20px; height: 20px;background-color: rgb(0, 150, 150);\"></td></tr></tbody></table>"
       ],
       "metadata": {},
       "output_type": "display_data",
       "text": [
        "<IPython.core.display.HTML at 0x104d853d0>"
       ]
      },
      {
       "output_type": "stream",
       "stream": "stdout",
       "text": [
        "Turn 6\n"
       ]
      },
      {
       "name": "stdout",
       "output_type": "stream",
       "stream": "stdout",
       "text": [
        "Guess Row: 6\n"
       ]
      },
      {
       "name": "stdout",
       "output_type": "stream",
       "stream": "stdout",
       "text": [
        "Guess Col: 5\n"
       ]
      },
      {
       "output_type": "stream",
       "stream": "stdout",
       "text": [
        "You missed my battleship!\n"
       ]
      },
      {
       "html": [
        "<style type=\"text/css\">table.blockgrid {border: none;} .blockgrid tr {border: none;} .blockgrid td {padding: 0px;} #blocks2872cf34-3de8-46a2-afd3-2f25f2f5ac66 td {border: 1px solid white;}</style><table id=\"blocks2872cf34-3de8-46a2-afd3-2f25f2f5ac66\" class=\"blockgrid\"><tbody><tr><td title=\"Index: [0, 0]&#10;Color: (0, 0, 0)\" style=\"width: 20px; height: 20px;background-color: rgb(0, 0, 0);\"></td><td title=\"Index: [0, 1]&#10;Color: (0, 150, 150)\" style=\"width: 20px; height: 20px;background-color: rgb(0, 150, 150);\"></td><td title=\"Index: [0, 2]&#10;Color: (0, 150, 150)\" style=\"width: 20px; height: 20px;background-color: rgb(0, 150, 150);\"></td><td title=\"Index: [0, 3]&#10;Color: (0, 150, 150)\" style=\"width: 20px; height: 20px;background-color: rgb(0, 150, 150);\"></td><td title=\"Index: [0, 4]&#10;Color: (0, 150, 150)\" style=\"width: 20px; height: 20px;background-color: rgb(0, 150, 150);\"></td></tr><tr><td title=\"Index: [1, 0]&#10;Color: (0, 150, 150)\" style=\"width: 20px; height: 20px;background-color: rgb(0, 150, 150);\"></td><td title=\"Index: [1, 1]&#10;Color: (0, 0, 0)\" style=\"width: 20px; height: 20px;background-color: rgb(0, 0, 0);\"></td><td title=\"Index: [1, 2]&#10;Color: (0, 150, 150)\" style=\"width: 20px; height: 20px;background-color: rgb(0, 150, 150);\"></td><td title=\"Index: [1, 3]&#10;Color: (0, 150, 150)\" style=\"width: 20px; height: 20px;background-color: rgb(0, 150, 150);\"></td><td title=\"Index: [1, 4]&#10;Color: (0, 150, 150)\" style=\"width: 20px; height: 20px;background-color: rgb(0, 150, 150);\"></td></tr><tr><td title=\"Index: [2, 0]&#10;Color: (0, 150, 150)\" style=\"width: 20px; height: 20px;background-color: rgb(0, 150, 150);\"></td><td title=\"Index: [2, 1]&#10;Color: (0, 150, 150)\" style=\"width: 20px; height: 20px;background-color: rgb(0, 150, 150);\"></td><td title=\"Index: [2, 2]&#10;Color: (0, 0, 0)\" style=\"width: 20px; height: 20px;background-color: rgb(0, 0, 0);\"></td><td title=\"Index: [2, 3]&#10;Color: (0, 150, 150)\" style=\"width: 20px; height: 20px;background-color: rgb(0, 150, 150);\"></td><td title=\"Index: [2, 4]&#10;Color: (0, 150, 150)\" style=\"width: 20px; height: 20px;background-color: rgb(0, 150, 150);\"></td></tr><tr><td title=\"Index: [3, 0]&#10;Color: (0, 150, 150)\" style=\"width: 20px; height: 20px;background-color: rgb(0, 150, 150);\"></td><td title=\"Index: [3, 1]&#10;Color: (0, 150, 150)\" style=\"width: 20px; height: 20px;background-color: rgb(0, 150, 150);\"></td><td title=\"Index: [3, 2]&#10;Color: (0, 150, 150)\" style=\"width: 20px; height: 20px;background-color: rgb(0, 150, 150);\"></td><td title=\"Index: [3, 3]&#10;Color: (0, 0, 0)\" style=\"width: 20px; height: 20px;background-color: rgb(0, 0, 0);\"></td><td title=\"Index: [3, 4]&#10;Color: (0, 150, 150)\" style=\"width: 20px; height: 20px;background-color: rgb(0, 150, 150);\"></td></tr><tr><td title=\"Index: [4, 0]&#10;Color: (0, 150, 150)\" style=\"width: 20px; height: 20px;background-color: rgb(0, 150, 150);\"></td><td title=\"Index: [4, 1]&#10;Color: (0, 150, 150)\" style=\"width: 20px; height: 20px;background-color: rgb(0, 150, 150);\"></td><td title=\"Index: [4, 2]&#10;Color: (0, 150, 150)\" style=\"width: 20px; height: 20px;background-color: rgb(0, 150, 150);\"></td><td title=\"Index: [4, 3]&#10;Color: (0, 150, 150)\" style=\"width: 20px; height: 20px;background-color: rgb(0, 150, 150);\"></td><td title=\"Index: [4, 4]&#10;Color: (0, 0, 0)\" style=\"width: 20px; height: 20px;background-color: rgb(0, 0, 0);\"></td></tr><tr><td title=\"Index: [5, 0]&#10;Color: (0, 150, 150)\" style=\"width: 20px; height: 20px;background-color: rgb(0, 150, 150);\"></td><td title=\"Index: [5, 1]&#10;Color: (0, 150, 150)\" style=\"width: 20px; height: 20px;background-color: rgb(0, 150, 150);\"></td><td title=\"Index: [5, 2]&#10;Color: (0, 150, 150)\" style=\"width: 20px; height: 20px;background-color: rgb(0, 150, 150);\"></td><td title=\"Index: [5, 3]&#10;Color: (0, 150, 150)\" style=\"width: 20px; height: 20px;background-color: rgb(0, 150, 150);\"></td><td title=\"Index: [5, 4]&#10;Color: (0, 0, 0)\" style=\"width: 20px; height: 20px;background-color: rgb(0, 0, 0);\"></td></tr><tr><td title=\"Index: [6, 0]&#10;Color: (0, 150, 150)\" style=\"width: 20px; height: 20px;background-color: rgb(0, 150, 150);\"></td><td title=\"Index: [6, 1]&#10;Color: (0, 150, 150)\" style=\"width: 20px; height: 20px;background-color: rgb(0, 150, 150);\"></td><td title=\"Index: [6, 2]&#10;Color: (0, 150, 150)\" style=\"width: 20px; height: 20px;background-color: rgb(0, 150, 150);\"></td><td title=\"Index: [6, 3]&#10;Color: (0, 150, 150)\" style=\"width: 20px; height: 20px;background-color: rgb(0, 150, 150);\"></td><td title=\"Index: [6, 4]&#10;Color: (0, 150, 150)\" style=\"width: 20px; height: 20px;background-color: rgb(0, 150, 150);\"></td></tr><tr><td title=\"Index: [7, 0]&#10;Color: (0, 150, 150)\" style=\"width: 20px; height: 20px;background-color: rgb(0, 150, 150);\"></td><td title=\"Index: [7, 1]&#10;Color: (0, 150, 150)\" style=\"width: 20px; height: 20px;background-color: rgb(0, 150, 150);\"></td><td title=\"Index: [7, 2]&#10;Color: (0, 150, 150)\" style=\"width: 20px; height: 20px;background-color: rgb(0, 150, 150);\"></td><td title=\"Index: [7, 3]&#10;Color: (0, 150, 150)\" style=\"width: 20px; height: 20px;background-color: rgb(0, 150, 150);\"></td><td title=\"Index: [7, 4]&#10;Color: (0, 150, 150)\" style=\"width: 20px; height: 20px;background-color: rgb(0, 150, 150);\"></td></tr><tr><td title=\"Index: [8, 0]&#10;Color: (0, 150, 150)\" style=\"width: 20px; height: 20px;background-color: rgb(0, 150, 150);\"></td><td title=\"Index: [8, 1]&#10;Color: (0, 150, 150)\" style=\"width: 20px; height: 20px;background-color: rgb(0, 150, 150);\"></td><td title=\"Index: [8, 2]&#10;Color: (0, 150, 150)\" style=\"width: 20px; height: 20px;background-color: rgb(0, 150, 150);\"></td><td title=\"Index: [8, 3]&#10;Color: (0, 150, 150)\" style=\"width: 20px; height: 20px;background-color: rgb(0, 150, 150);\"></td><td title=\"Index: [8, 4]&#10;Color: (0, 150, 150)\" style=\"width: 20px; height: 20px;background-color: rgb(0, 150, 150);\"></td></tr><tr><td title=\"Index: [9, 0]&#10;Color: (0, 150, 150)\" style=\"width: 20px; height: 20px;background-color: rgb(0, 150, 150);\"></td><td title=\"Index: [9, 1]&#10;Color: (0, 150, 150)\" style=\"width: 20px; height: 20px;background-color: rgb(0, 150, 150);\"></td><td title=\"Index: [9, 2]&#10;Color: (0, 150, 150)\" style=\"width: 20px; height: 20px;background-color: rgb(0, 150, 150);\"></td><td title=\"Index: [9, 3]&#10;Color: (0, 150, 150)\" style=\"width: 20px; height: 20px;background-color: rgb(0, 150, 150);\"></td><td title=\"Index: [9, 4]&#10;Color: (0, 150, 150)\" style=\"width: 20px; height: 20px;background-color: rgb(0, 150, 150);\"></td></tr></tbody></table>"
       ],
       "metadata": {},
       "output_type": "display_data",
       "text": [
        "<IPython.core.display.HTML at 0x104d85550>"
       ]
      },
      {
       "output_type": "stream",
       "stream": "stdout",
       "text": [
        "Turn 7\n"
       ]
      },
      {
       "name": "stdout",
       "output_type": "stream",
       "stream": "stdout",
       "text": [
        "Guess Row: 7\n"
       ]
      },
      {
       "name": "stdout",
       "output_type": "stream",
       "stream": "stdout",
       "text": [
        "Guess Col: 4\n"
       ]
      },
      {
       "output_type": "stream",
       "stream": "stdout",
       "text": [
        "You missed my battleship!\n"
       ]
      },
      {
       "html": [
        "<style type=\"text/css\">table.blockgrid {border: none;} .blockgrid tr {border: none;} .blockgrid td {padding: 0px;} #blocks87336cc8-bfe3-4c10-ad8e-a3578b6e54f2 td {border: 1px solid white;}</style><table id=\"blocks87336cc8-bfe3-4c10-ad8e-a3578b6e54f2\" class=\"blockgrid\"><tbody><tr><td title=\"Index: [0, 0]&#10;Color: (0, 0, 0)\" style=\"width: 20px; height: 20px;background-color: rgb(0, 0, 0);\"></td><td title=\"Index: [0, 1]&#10;Color: (0, 150, 150)\" style=\"width: 20px; height: 20px;background-color: rgb(0, 150, 150);\"></td><td title=\"Index: [0, 2]&#10;Color: (0, 150, 150)\" style=\"width: 20px; height: 20px;background-color: rgb(0, 150, 150);\"></td><td title=\"Index: [0, 3]&#10;Color: (0, 150, 150)\" style=\"width: 20px; height: 20px;background-color: rgb(0, 150, 150);\"></td><td title=\"Index: [0, 4]&#10;Color: (0, 150, 150)\" style=\"width: 20px; height: 20px;background-color: rgb(0, 150, 150);\"></td></tr><tr><td title=\"Index: [1, 0]&#10;Color: (0, 150, 150)\" style=\"width: 20px; height: 20px;background-color: rgb(0, 150, 150);\"></td><td title=\"Index: [1, 1]&#10;Color: (0, 0, 0)\" style=\"width: 20px; height: 20px;background-color: rgb(0, 0, 0);\"></td><td title=\"Index: [1, 2]&#10;Color: (0, 150, 150)\" style=\"width: 20px; height: 20px;background-color: rgb(0, 150, 150);\"></td><td title=\"Index: [1, 3]&#10;Color: (0, 150, 150)\" style=\"width: 20px; height: 20px;background-color: rgb(0, 150, 150);\"></td><td title=\"Index: [1, 4]&#10;Color: (0, 150, 150)\" style=\"width: 20px; height: 20px;background-color: rgb(0, 150, 150);\"></td></tr><tr><td title=\"Index: [2, 0]&#10;Color: (0, 150, 150)\" style=\"width: 20px; height: 20px;background-color: rgb(0, 150, 150);\"></td><td title=\"Index: [2, 1]&#10;Color: (0, 150, 150)\" style=\"width: 20px; height: 20px;background-color: rgb(0, 150, 150);\"></td><td title=\"Index: [2, 2]&#10;Color: (0, 0, 0)\" style=\"width: 20px; height: 20px;background-color: rgb(0, 0, 0);\"></td><td title=\"Index: [2, 3]&#10;Color: (0, 150, 150)\" style=\"width: 20px; height: 20px;background-color: rgb(0, 150, 150);\"></td><td title=\"Index: [2, 4]&#10;Color: (0, 150, 150)\" style=\"width: 20px; height: 20px;background-color: rgb(0, 150, 150);\"></td></tr><tr><td title=\"Index: [3, 0]&#10;Color: (0, 150, 150)\" style=\"width: 20px; height: 20px;background-color: rgb(0, 150, 150);\"></td><td title=\"Index: [3, 1]&#10;Color: (0, 150, 150)\" style=\"width: 20px; height: 20px;background-color: rgb(0, 150, 150);\"></td><td title=\"Index: [3, 2]&#10;Color: (0, 150, 150)\" style=\"width: 20px; height: 20px;background-color: rgb(0, 150, 150);\"></td><td title=\"Index: [3, 3]&#10;Color: (0, 0, 0)\" style=\"width: 20px; height: 20px;background-color: rgb(0, 0, 0);\"></td><td title=\"Index: [3, 4]&#10;Color: (0, 150, 150)\" style=\"width: 20px; height: 20px;background-color: rgb(0, 150, 150);\"></td></tr><tr><td title=\"Index: [4, 0]&#10;Color: (0, 150, 150)\" style=\"width: 20px; height: 20px;background-color: rgb(0, 150, 150);\"></td><td title=\"Index: [4, 1]&#10;Color: (0, 150, 150)\" style=\"width: 20px; height: 20px;background-color: rgb(0, 150, 150);\"></td><td title=\"Index: [4, 2]&#10;Color: (0, 150, 150)\" style=\"width: 20px; height: 20px;background-color: rgb(0, 150, 150);\"></td><td title=\"Index: [4, 3]&#10;Color: (0, 150, 150)\" style=\"width: 20px; height: 20px;background-color: rgb(0, 150, 150);\"></td><td title=\"Index: [4, 4]&#10;Color: (0, 0, 0)\" style=\"width: 20px; height: 20px;background-color: rgb(0, 0, 0);\"></td></tr><tr><td title=\"Index: [5, 0]&#10;Color: (0, 150, 150)\" style=\"width: 20px; height: 20px;background-color: rgb(0, 150, 150);\"></td><td title=\"Index: [5, 1]&#10;Color: (0, 150, 150)\" style=\"width: 20px; height: 20px;background-color: rgb(0, 150, 150);\"></td><td title=\"Index: [5, 2]&#10;Color: (0, 150, 150)\" style=\"width: 20px; height: 20px;background-color: rgb(0, 150, 150);\"></td><td title=\"Index: [5, 3]&#10;Color: (0, 150, 150)\" style=\"width: 20px; height: 20px;background-color: rgb(0, 150, 150);\"></td><td title=\"Index: [5, 4]&#10;Color: (0, 0, 0)\" style=\"width: 20px; height: 20px;background-color: rgb(0, 0, 0);\"></td></tr><tr><td title=\"Index: [6, 0]&#10;Color: (0, 150, 150)\" style=\"width: 20px; height: 20px;background-color: rgb(0, 150, 150);\"></td><td title=\"Index: [6, 1]&#10;Color: (0, 150, 150)\" style=\"width: 20px; height: 20px;background-color: rgb(0, 150, 150);\"></td><td title=\"Index: [6, 2]&#10;Color: (0, 150, 150)\" style=\"width: 20px; height: 20px;background-color: rgb(0, 150, 150);\"></td><td title=\"Index: [6, 3]&#10;Color: (0, 0, 0)\" style=\"width: 20px; height: 20px;background-color: rgb(0, 0, 0);\"></td><td title=\"Index: [6, 4]&#10;Color: (0, 150, 150)\" style=\"width: 20px; height: 20px;background-color: rgb(0, 150, 150);\"></td></tr><tr><td title=\"Index: [7, 0]&#10;Color: (0, 150, 150)\" style=\"width: 20px; height: 20px;background-color: rgb(0, 150, 150);\"></td><td title=\"Index: [7, 1]&#10;Color: (0, 150, 150)\" style=\"width: 20px; height: 20px;background-color: rgb(0, 150, 150);\"></td><td title=\"Index: [7, 2]&#10;Color: (0, 150, 150)\" style=\"width: 20px; height: 20px;background-color: rgb(0, 150, 150);\"></td><td title=\"Index: [7, 3]&#10;Color: (0, 150, 150)\" style=\"width: 20px; height: 20px;background-color: rgb(0, 150, 150);\"></td><td title=\"Index: [7, 4]&#10;Color: (0, 150, 150)\" style=\"width: 20px; height: 20px;background-color: rgb(0, 150, 150);\"></td></tr><tr><td title=\"Index: [8, 0]&#10;Color: (0, 150, 150)\" style=\"width: 20px; height: 20px;background-color: rgb(0, 150, 150);\"></td><td title=\"Index: [8, 1]&#10;Color: (0, 150, 150)\" style=\"width: 20px; height: 20px;background-color: rgb(0, 150, 150);\"></td><td title=\"Index: [8, 2]&#10;Color: (0, 150, 150)\" style=\"width: 20px; height: 20px;background-color: rgb(0, 150, 150);\"></td><td title=\"Index: [8, 3]&#10;Color: (0, 150, 150)\" style=\"width: 20px; height: 20px;background-color: rgb(0, 150, 150);\"></td><td title=\"Index: [8, 4]&#10;Color: (0, 150, 150)\" style=\"width: 20px; height: 20px;background-color: rgb(0, 150, 150);\"></td></tr><tr><td title=\"Index: [9, 0]&#10;Color: (0, 150, 150)\" style=\"width: 20px; height: 20px;background-color: rgb(0, 150, 150);\"></td><td title=\"Index: [9, 1]&#10;Color: (0, 150, 150)\" style=\"width: 20px; height: 20px;background-color: rgb(0, 150, 150);\"></td><td title=\"Index: [9, 2]&#10;Color: (0, 150, 150)\" style=\"width: 20px; height: 20px;background-color: rgb(0, 150, 150);\"></td><td title=\"Index: [9, 3]&#10;Color: (0, 150, 150)\" style=\"width: 20px; height: 20px;background-color: rgb(0, 150, 150);\"></td><td title=\"Index: [9, 4]&#10;Color: (0, 150, 150)\" style=\"width: 20px; height: 20px;background-color: rgb(0, 150, 150);\"></td></tr></tbody></table>"
       ],
       "metadata": {},
       "output_type": "display_data",
       "text": [
        "<IPython.core.display.HTML at 0x104d85590>"
       ]
      },
      {
       "output_type": "stream",
       "stream": "stdout",
       "text": [
        "Turn 8\n"
       ]
      },
      {
       "name": "stdout",
       "output_type": "stream",
       "stream": "stdout",
       "text": [
        "Guess Row: 8\n"
       ]
      },
      {
       "name": "stdout",
       "output_type": "stream",
       "stream": "stdout",
       "text": [
        "Guess Col: 3\n"
       ]
      },
      {
       "output_type": "stream",
       "stream": "stdout",
       "text": [
        "You hit my battleship!\n"
       ]
      },
      {
       "html": [
        "<style type=\"text/css\">table.blockgrid {border: none;} .blockgrid tr {border: none;} .blockgrid td {padding: 0px;} #blocks821ae3f0-e8ae-4be5-a682-9233405fb01c td {border: 1px solid white;}</style><table id=\"blocks821ae3f0-e8ae-4be5-a682-9233405fb01c\" class=\"blockgrid\"><tbody><tr><td title=\"Index: [0, 0]&#10;Color: (0, 0, 0)\" style=\"width: 20px; height: 20px;background-color: rgb(0, 0, 0);\"></td><td title=\"Index: [0, 1]&#10;Color: (0, 150, 150)\" style=\"width: 20px; height: 20px;background-color: rgb(0, 150, 150);\"></td><td title=\"Index: [0, 2]&#10;Color: (0, 150, 150)\" style=\"width: 20px; height: 20px;background-color: rgb(0, 150, 150);\"></td><td title=\"Index: [0, 3]&#10;Color: (0, 150, 150)\" style=\"width: 20px; height: 20px;background-color: rgb(0, 150, 150);\"></td><td title=\"Index: [0, 4]&#10;Color: (0, 150, 150)\" style=\"width: 20px; height: 20px;background-color: rgb(0, 150, 150);\"></td></tr><tr><td title=\"Index: [1, 0]&#10;Color: (0, 150, 150)\" style=\"width: 20px; height: 20px;background-color: rgb(0, 150, 150);\"></td><td title=\"Index: [1, 1]&#10;Color: (0, 0, 0)\" style=\"width: 20px; height: 20px;background-color: rgb(0, 0, 0);\"></td><td title=\"Index: [1, 2]&#10;Color: (0, 150, 150)\" style=\"width: 20px; height: 20px;background-color: rgb(0, 150, 150);\"></td><td title=\"Index: [1, 3]&#10;Color: (0, 150, 150)\" style=\"width: 20px; height: 20px;background-color: rgb(0, 150, 150);\"></td><td title=\"Index: [1, 4]&#10;Color: (0, 150, 150)\" style=\"width: 20px; height: 20px;background-color: rgb(0, 150, 150);\"></td></tr><tr><td title=\"Index: [2, 0]&#10;Color: (0, 150, 150)\" style=\"width: 20px; height: 20px;background-color: rgb(0, 150, 150);\"></td><td title=\"Index: [2, 1]&#10;Color: (0, 150, 150)\" style=\"width: 20px; height: 20px;background-color: rgb(0, 150, 150);\"></td><td title=\"Index: [2, 2]&#10;Color: (0, 0, 0)\" style=\"width: 20px; height: 20px;background-color: rgb(0, 0, 0);\"></td><td title=\"Index: [2, 3]&#10;Color: (0, 150, 150)\" style=\"width: 20px; height: 20px;background-color: rgb(0, 150, 150);\"></td><td title=\"Index: [2, 4]&#10;Color: (0, 150, 150)\" style=\"width: 20px; height: 20px;background-color: rgb(0, 150, 150);\"></td></tr><tr><td title=\"Index: [3, 0]&#10;Color: (0, 150, 150)\" style=\"width: 20px; height: 20px;background-color: rgb(0, 150, 150);\"></td><td title=\"Index: [3, 1]&#10;Color: (0, 150, 150)\" style=\"width: 20px; height: 20px;background-color: rgb(0, 150, 150);\"></td><td title=\"Index: [3, 2]&#10;Color: (0, 150, 150)\" style=\"width: 20px; height: 20px;background-color: rgb(0, 150, 150);\"></td><td title=\"Index: [3, 3]&#10;Color: (0, 0, 0)\" style=\"width: 20px; height: 20px;background-color: rgb(0, 0, 0);\"></td><td title=\"Index: [3, 4]&#10;Color: (0, 150, 150)\" style=\"width: 20px; height: 20px;background-color: rgb(0, 150, 150);\"></td></tr><tr><td title=\"Index: [4, 0]&#10;Color: (0, 150, 150)\" style=\"width: 20px; height: 20px;background-color: rgb(0, 150, 150);\"></td><td title=\"Index: [4, 1]&#10;Color: (0, 150, 150)\" style=\"width: 20px; height: 20px;background-color: rgb(0, 150, 150);\"></td><td title=\"Index: [4, 2]&#10;Color: (0, 150, 150)\" style=\"width: 20px; height: 20px;background-color: rgb(0, 150, 150);\"></td><td title=\"Index: [4, 3]&#10;Color: (0, 150, 150)\" style=\"width: 20px; height: 20px;background-color: rgb(0, 150, 150);\"></td><td title=\"Index: [4, 4]&#10;Color: (0, 0, 0)\" style=\"width: 20px; height: 20px;background-color: rgb(0, 0, 0);\"></td></tr><tr><td title=\"Index: [5, 0]&#10;Color: (0, 150, 150)\" style=\"width: 20px; height: 20px;background-color: rgb(0, 150, 150);\"></td><td title=\"Index: [5, 1]&#10;Color: (0, 150, 150)\" style=\"width: 20px; height: 20px;background-color: rgb(0, 150, 150);\"></td><td title=\"Index: [5, 2]&#10;Color: (0, 150, 150)\" style=\"width: 20px; height: 20px;background-color: rgb(0, 150, 150);\"></td><td title=\"Index: [5, 3]&#10;Color: (0, 150, 150)\" style=\"width: 20px; height: 20px;background-color: rgb(0, 150, 150);\"></td><td title=\"Index: [5, 4]&#10;Color: (0, 0, 0)\" style=\"width: 20px; height: 20px;background-color: rgb(0, 0, 0);\"></td></tr><tr><td title=\"Index: [6, 0]&#10;Color: (0, 150, 150)\" style=\"width: 20px; height: 20px;background-color: rgb(0, 150, 150);\"></td><td title=\"Index: [6, 1]&#10;Color: (0, 150, 150)\" style=\"width: 20px; height: 20px;background-color: rgb(0, 150, 150);\"></td><td title=\"Index: [6, 2]&#10;Color: (0, 150, 150)\" style=\"width: 20px; height: 20px;background-color: rgb(0, 150, 150);\"></td><td title=\"Index: [6, 3]&#10;Color: (0, 0, 0)\" style=\"width: 20px; height: 20px;background-color: rgb(0, 0, 0);\"></td><td title=\"Index: [6, 4]&#10;Color: (0, 150, 150)\" style=\"width: 20px; height: 20px;background-color: rgb(0, 150, 150);\"></td></tr><tr><td title=\"Index: [7, 0]&#10;Color: (0, 150, 150)\" style=\"width: 20px; height: 20px;background-color: rgb(0, 150, 150);\"></td><td title=\"Index: [7, 1]&#10;Color: (0, 150, 150)\" style=\"width: 20px; height: 20px;background-color: rgb(0, 150, 150);\"></td><td title=\"Index: [7, 2]&#10;Color: (255, 0, 0)\" style=\"width: 20px; height: 20px;background-color: rgb(255, 0, 0);\"></td><td title=\"Index: [7, 3]&#10;Color: (0, 150, 150)\" style=\"width: 20px; height: 20px;background-color: rgb(0, 150, 150);\"></td><td title=\"Index: [7, 4]&#10;Color: (0, 150, 150)\" style=\"width: 20px; height: 20px;background-color: rgb(0, 150, 150);\"></td></tr><tr><td title=\"Index: [8, 0]&#10;Color: (0, 150, 150)\" style=\"width: 20px; height: 20px;background-color: rgb(0, 150, 150);\"></td><td title=\"Index: [8, 1]&#10;Color: (0, 150, 150)\" style=\"width: 20px; height: 20px;background-color: rgb(0, 150, 150);\"></td><td title=\"Index: [8, 2]&#10;Color: (0, 150, 150)\" style=\"width: 20px; height: 20px;background-color: rgb(0, 150, 150);\"></td><td title=\"Index: [8, 3]&#10;Color: (0, 150, 150)\" style=\"width: 20px; height: 20px;background-color: rgb(0, 150, 150);\"></td><td title=\"Index: [8, 4]&#10;Color: (0, 150, 150)\" style=\"width: 20px; height: 20px;background-color: rgb(0, 150, 150);\"></td></tr><tr><td title=\"Index: [9, 0]&#10;Color: (0, 150, 150)\" style=\"width: 20px; height: 20px;background-color: rgb(0, 150, 150);\"></td><td title=\"Index: [9, 1]&#10;Color: (0, 150, 150)\" style=\"width: 20px; height: 20px;background-color: rgb(0, 150, 150);\"></td><td title=\"Index: [9, 2]&#10;Color: (0, 150, 150)\" style=\"width: 20px; height: 20px;background-color: rgb(0, 150, 150);\"></td><td title=\"Index: [9, 3]&#10;Color: (0, 150, 150)\" style=\"width: 20px; height: 20px;background-color: rgb(0, 150, 150);\"></td><td title=\"Index: [9, 4]&#10;Color: (0, 150, 150)\" style=\"width: 20px; height: 20px;background-color: rgb(0, 150, 150);\"></td></tr></tbody></table>"
       ],
       "metadata": {},
       "output_type": "display_data",
       "text": [
        "<IPython.core.display.HTML at 0x104d855d0>"
       ]
      },
      {
       "output_type": "stream",
       "stream": "stdout",
       "text": [
        "Turn 9\n"
       ]
      },
      {
       "name": "stdout",
       "output_type": "stream",
       "stream": "stdout",
       "text": [
        "Guess Row: 7\n"
       ]
      },
      {
       "name": "stdout",
       "output_type": "stream",
       "stream": "stdout",
       "text": [
        "Guess Col: 3\n"
       ]
      },
      {
       "output_type": "stream",
       "stream": "stdout",
       "text": [
        "You missed my battleship!\n"
       ]
      },
      {
       "html": [
        "<style type=\"text/css\">table.blockgrid {border: none;} .blockgrid tr {border: none;} .blockgrid td {padding: 0px;} #blocksf6d7fd8b-3b29-4ffd-8ed8-e5e61071a103 td {border: 1px solid white;}</style><table id=\"blocksf6d7fd8b-3b29-4ffd-8ed8-e5e61071a103\" class=\"blockgrid\"><tbody><tr><td title=\"Index: [0, 0]&#10;Color: (0, 0, 0)\" style=\"width: 20px; height: 20px;background-color: rgb(0, 0, 0);\"></td><td title=\"Index: [0, 1]&#10;Color: (0, 150, 150)\" style=\"width: 20px; height: 20px;background-color: rgb(0, 150, 150);\"></td><td title=\"Index: [0, 2]&#10;Color: (0, 150, 150)\" style=\"width: 20px; height: 20px;background-color: rgb(0, 150, 150);\"></td><td title=\"Index: [0, 3]&#10;Color: (0, 150, 150)\" style=\"width: 20px; height: 20px;background-color: rgb(0, 150, 150);\"></td><td title=\"Index: [0, 4]&#10;Color: (0, 150, 150)\" style=\"width: 20px; height: 20px;background-color: rgb(0, 150, 150);\"></td></tr><tr><td title=\"Index: [1, 0]&#10;Color: (0, 150, 150)\" style=\"width: 20px; height: 20px;background-color: rgb(0, 150, 150);\"></td><td title=\"Index: [1, 1]&#10;Color: (0, 0, 0)\" style=\"width: 20px; height: 20px;background-color: rgb(0, 0, 0);\"></td><td title=\"Index: [1, 2]&#10;Color: (0, 150, 150)\" style=\"width: 20px; height: 20px;background-color: rgb(0, 150, 150);\"></td><td title=\"Index: [1, 3]&#10;Color: (0, 150, 150)\" style=\"width: 20px; height: 20px;background-color: rgb(0, 150, 150);\"></td><td title=\"Index: [1, 4]&#10;Color: (0, 150, 150)\" style=\"width: 20px; height: 20px;background-color: rgb(0, 150, 150);\"></td></tr><tr><td title=\"Index: [2, 0]&#10;Color: (0, 150, 150)\" style=\"width: 20px; height: 20px;background-color: rgb(0, 150, 150);\"></td><td title=\"Index: [2, 1]&#10;Color: (0, 150, 150)\" style=\"width: 20px; height: 20px;background-color: rgb(0, 150, 150);\"></td><td title=\"Index: [2, 2]&#10;Color: (0, 0, 0)\" style=\"width: 20px; height: 20px;background-color: rgb(0, 0, 0);\"></td><td title=\"Index: [2, 3]&#10;Color: (0, 150, 150)\" style=\"width: 20px; height: 20px;background-color: rgb(0, 150, 150);\"></td><td title=\"Index: [2, 4]&#10;Color: (0, 150, 150)\" style=\"width: 20px; height: 20px;background-color: rgb(0, 150, 150);\"></td></tr><tr><td title=\"Index: [3, 0]&#10;Color: (0, 150, 150)\" style=\"width: 20px; height: 20px;background-color: rgb(0, 150, 150);\"></td><td title=\"Index: [3, 1]&#10;Color: (0, 150, 150)\" style=\"width: 20px; height: 20px;background-color: rgb(0, 150, 150);\"></td><td title=\"Index: [3, 2]&#10;Color: (0, 150, 150)\" style=\"width: 20px; height: 20px;background-color: rgb(0, 150, 150);\"></td><td title=\"Index: [3, 3]&#10;Color: (0, 0, 0)\" style=\"width: 20px; height: 20px;background-color: rgb(0, 0, 0);\"></td><td title=\"Index: [3, 4]&#10;Color: (0, 150, 150)\" style=\"width: 20px; height: 20px;background-color: rgb(0, 150, 150);\"></td></tr><tr><td title=\"Index: [4, 0]&#10;Color: (0, 150, 150)\" style=\"width: 20px; height: 20px;background-color: rgb(0, 150, 150);\"></td><td title=\"Index: [4, 1]&#10;Color: (0, 150, 150)\" style=\"width: 20px; height: 20px;background-color: rgb(0, 150, 150);\"></td><td title=\"Index: [4, 2]&#10;Color: (0, 150, 150)\" style=\"width: 20px; height: 20px;background-color: rgb(0, 150, 150);\"></td><td title=\"Index: [4, 3]&#10;Color: (0, 150, 150)\" style=\"width: 20px; height: 20px;background-color: rgb(0, 150, 150);\"></td><td title=\"Index: [4, 4]&#10;Color: (0, 0, 0)\" style=\"width: 20px; height: 20px;background-color: rgb(0, 0, 0);\"></td></tr><tr><td title=\"Index: [5, 0]&#10;Color: (0, 150, 150)\" style=\"width: 20px; height: 20px;background-color: rgb(0, 150, 150);\"></td><td title=\"Index: [5, 1]&#10;Color: (0, 150, 150)\" style=\"width: 20px; height: 20px;background-color: rgb(0, 150, 150);\"></td><td title=\"Index: [5, 2]&#10;Color: (0, 150, 150)\" style=\"width: 20px; height: 20px;background-color: rgb(0, 150, 150);\"></td><td title=\"Index: [5, 3]&#10;Color: (0, 150, 150)\" style=\"width: 20px; height: 20px;background-color: rgb(0, 150, 150);\"></td><td title=\"Index: [5, 4]&#10;Color: (0, 0, 0)\" style=\"width: 20px; height: 20px;background-color: rgb(0, 0, 0);\"></td></tr><tr><td title=\"Index: [6, 0]&#10;Color: (0, 150, 150)\" style=\"width: 20px; height: 20px;background-color: rgb(0, 150, 150);\"></td><td title=\"Index: [6, 1]&#10;Color: (0, 150, 150)\" style=\"width: 20px; height: 20px;background-color: rgb(0, 150, 150);\"></td><td title=\"Index: [6, 2]&#10;Color: (0, 0, 0)\" style=\"width: 20px; height: 20px;background-color: rgb(0, 0, 0);\"></td><td title=\"Index: [6, 3]&#10;Color: (0, 0, 0)\" style=\"width: 20px; height: 20px;background-color: rgb(0, 0, 0);\"></td><td title=\"Index: [6, 4]&#10;Color: (0, 150, 150)\" style=\"width: 20px; height: 20px;background-color: rgb(0, 150, 150);\"></td></tr><tr><td title=\"Index: [7, 0]&#10;Color: (0, 150, 150)\" style=\"width: 20px; height: 20px;background-color: rgb(0, 150, 150);\"></td><td title=\"Index: [7, 1]&#10;Color: (0, 150, 150)\" style=\"width: 20px; height: 20px;background-color: rgb(0, 150, 150);\"></td><td title=\"Index: [7, 2]&#10;Color: (255, 0, 0)\" style=\"width: 20px; height: 20px;background-color: rgb(255, 0, 0);\"></td><td title=\"Index: [7, 3]&#10;Color: (0, 150, 150)\" style=\"width: 20px; height: 20px;background-color: rgb(0, 150, 150);\"></td><td title=\"Index: [7, 4]&#10;Color: (0, 150, 150)\" style=\"width: 20px; height: 20px;background-color: rgb(0, 150, 150);\"></td></tr><tr><td title=\"Index: [8, 0]&#10;Color: (0, 150, 150)\" style=\"width: 20px; height: 20px;background-color: rgb(0, 150, 150);\"></td><td title=\"Index: [8, 1]&#10;Color: (0, 150, 150)\" style=\"width: 20px; height: 20px;background-color: rgb(0, 150, 150);\"></td><td title=\"Index: [8, 2]&#10;Color: (0, 150, 150)\" style=\"width: 20px; height: 20px;background-color: rgb(0, 150, 150);\"></td><td title=\"Index: [8, 3]&#10;Color: (0, 150, 150)\" style=\"width: 20px; height: 20px;background-color: rgb(0, 150, 150);\"></td><td title=\"Index: [8, 4]&#10;Color: (0, 150, 150)\" style=\"width: 20px; height: 20px;background-color: rgb(0, 150, 150);\"></td></tr><tr><td title=\"Index: [9, 0]&#10;Color: (0, 150, 150)\" style=\"width: 20px; height: 20px;background-color: rgb(0, 150, 150);\"></td><td title=\"Index: [9, 1]&#10;Color: (0, 150, 150)\" style=\"width: 20px; height: 20px;background-color: rgb(0, 150, 150);\"></td><td title=\"Index: [9, 2]&#10;Color: (0, 150, 150)\" style=\"width: 20px; height: 20px;background-color: rgb(0, 150, 150);\"></td><td title=\"Index: [9, 3]&#10;Color: (0, 150, 150)\" style=\"width: 20px; height: 20px;background-color: rgb(0, 150, 150);\"></td><td title=\"Index: [9, 4]&#10;Color: (0, 150, 150)\" style=\"width: 20px; height: 20px;background-color: rgb(0, 150, 150);\"></td></tr></tbody></table>"
       ],
       "metadata": {},
       "output_type": "display_data",
       "text": [
        "<IPython.core.display.HTML at 0x104d85610>"
       ]
      },
      {
       "output_type": "stream",
       "stream": "stdout",
       "text": [
        "Turn 10\n"
       ]
      },
      {
       "name": "stdout",
       "output_type": "stream",
       "stream": "stdout",
       "text": [
        "Guess Row: 7\n"
       ]
      },
      {
       "name": "stdout",
       "output_type": "stream",
       "stream": "stdout",
       "text": [
        "Guess Col: 2\n"
       ]
      },
      {
       "output_type": "stream",
       "stream": "stdout",
       "text": [
        "You missed my battleship!\n"
       ]
      },
      {
       "html": [
        "<style type=\"text/css\">table.blockgrid {border: none;} .blockgrid tr {border: none;} .blockgrid td {padding: 0px;} #blocks91d822d4-55e9-4979-af7a-d436f2c284c3 td {border: 1px solid white;}</style><table id=\"blocks91d822d4-55e9-4979-af7a-d436f2c284c3\" class=\"blockgrid\"><tbody><tr><td title=\"Index: [0, 0]&#10;Color: (0, 0, 0)\" style=\"width: 20px; height: 20px;background-color: rgb(0, 0, 0);\"></td><td title=\"Index: [0, 1]&#10;Color: (0, 150, 150)\" style=\"width: 20px; height: 20px;background-color: rgb(0, 150, 150);\"></td><td title=\"Index: [0, 2]&#10;Color: (0, 150, 150)\" style=\"width: 20px; height: 20px;background-color: rgb(0, 150, 150);\"></td><td title=\"Index: [0, 3]&#10;Color: (0, 150, 150)\" style=\"width: 20px; height: 20px;background-color: rgb(0, 150, 150);\"></td><td title=\"Index: [0, 4]&#10;Color: (0, 150, 150)\" style=\"width: 20px; height: 20px;background-color: rgb(0, 150, 150);\"></td></tr><tr><td title=\"Index: [1, 0]&#10;Color: (0, 150, 150)\" style=\"width: 20px; height: 20px;background-color: rgb(0, 150, 150);\"></td><td title=\"Index: [1, 1]&#10;Color: (0, 0, 0)\" style=\"width: 20px; height: 20px;background-color: rgb(0, 0, 0);\"></td><td title=\"Index: [1, 2]&#10;Color: (0, 150, 150)\" style=\"width: 20px; height: 20px;background-color: rgb(0, 150, 150);\"></td><td title=\"Index: [1, 3]&#10;Color: (0, 150, 150)\" style=\"width: 20px; height: 20px;background-color: rgb(0, 150, 150);\"></td><td title=\"Index: [1, 4]&#10;Color: (0, 150, 150)\" style=\"width: 20px; height: 20px;background-color: rgb(0, 150, 150);\"></td></tr><tr><td title=\"Index: [2, 0]&#10;Color: (0, 150, 150)\" style=\"width: 20px; height: 20px;background-color: rgb(0, 150, 150);\"></td><td title=\"Index: [2, 1]&#10;Color: (0, 150, 150)\" style=\"width: 20px; height: 20px;background-color: rgb(0, 150, 150);\"></td><td title=\"Index: [2, 2]&#10;Color: (0, 0, 0)\" style=\"width: 20px; height: 20px;background-color: rgb(0, 0, 0);\"></td><td title=\"Index: [2, 3]&#10;Color: (0, 150, 150)\" style=\"width: 20px; height: 20px;background-color: rgb(0, 150, 150);\"></td><td title=\"Index: [2, 4]&#10;Color: (0, 150, 150)\" style=\"width: 20px; height: 20px;background-color: rgb(0, 150, 150);\"></td></tr><tr><td title=\"Index: [3, 0]&#10;Color: (0, 150, 150)\" style=\"width: 20px; height: 20px;background-color: rgb(0, 150, 150);\"></td><td title=\"Index: [3, 1]&#10;Color: (0, 150, 150)\" style=\"width: 20px; height: 20px;background-color: rgb(0, 150, 150);\"></td><td title=\"Index: [3, 2]&#10;Color: (0, 150, 150)\" style=\"width: 20px; height: 20px;background-color: rgb(0, 150, 150);\"></td><td title=\"Index: [3, 3]&#10;Color: (0, 0, 0)\" style=\"width: 20px; height: 20px;background-color: rgb(0, 0, 0);\"></td><td title=\"Index: [3, 4]&#10;Color: (0, 150, 150)\" style=\"width: 20px; height: 20px;background-color: rgb(0, 150, 150);\"></td></tr><tr><td title=\"Index: [4, 0]&#10;Color: (0, 150, 150)\" style=\"width: 20px; height: 20px;background-color: rgb(0, 150, 150);\"></td><td title=\"Index: [4, 1]&#10;Color: (0, 150, 150)\" style=\"width: 20px; height: 20px;background-color: rgb(0, 150, 150);\"></td><td title=\"Index: [4, 2]&#10;Color: (0, 150, 150)\" style=\"width: 20px; height: 20px;background-color: rgb(0, 150, 150);\"></td><td title=\"Index: [4, 3]&#10;Color: (0, 150, 150)\" style=\"width: 20px; height: 20px;background-color: rgb(0, 150, 150);\"></td><td title=\"Index: [4, 4]&#10;Color: (0, 0, 0)\" style=\"width: 20px; height: 20px;background-color: rgb(0, 0, 0);\"></td></tr><tr><td title=\"Index: [5, 0]&#10;Color: (0, 150, 150)\" style=\"width: 20px; height: 20px;background-color: rgb(0, 150, 150);\"></td><td title=\"Index: [5, 1]&#10;Color: (0, 150, 150)\" style=\"width: 20px; height: 20px;background-color: rgb(0, 150, 150);\"></td><td title=\"Index: [5, 2]&#10;Color: (0, 150, 150)\" style=\"width: 20px; height: 20px;background-color: rgb(0, 150, 150);\"></td><td title=\"Index: [5, 3]&#10;Color: (0, 150, 150)\" style=\"width: 20px; height: 20px;background-color: rgb(0, 150, 150);\"></td><td title=\"Index: [5, 4]&#10;Color: (0, 0, 0)\" style=\"width: 20px; height: 20px;background-color: rgb(0, 0, 0);\"></td></tr><tr><td title=\"Index: [6, 0]&#10;Color: (0, 150, 150)\" style=\"width: 20px; height: 20px;background-color: rgb(0, 150, 150);\"></td><td title=\"Index: [6, 1]&#10;Color: (0, 0, 0)\" style=\"width: 20px; height: 20px;background-color: rgb(0, 0, 0);\"></td><td title=\"Index: [6, 2]&#10;Color: (0, 0, 0)\" style=\"width: 20px; height: 20px;background-color: rgb(0, 0, 0);\"></td><td title=\"Index: [6, 3]&#10;Color: (0, 0, 0)\" style=\"width: 20px; height: 20px;background-color: rgb(0, 0, 0);\"></td><td title=\"Index: [6, 4]&#10;Color: (0, 150, 150)\" style=\"width: 20px; height: 20px;background-color: rgb(0, 150, 150);\"></td></tr><tr><td title=\"Index: [7, 0]&#10;Color: (0, 150, 150)\" style=\"width: 20px; height: 20px;background-color: rgb(0, 150, 150);\"></td><td title=\"Index: [7, 1]&#10;Color: (0, 150, 150)\" style=\"width: 20px; height: 20px;background-color: rgb(0, 150, 150);\"></td><td title=\"Index: [7, 2]&#10;Color: (255, 0, 0)\" style=\"width: 20px; height: 20px;background-color: rgb(255, 0, 0);\"></td><td title=\"Index: [7, 3]&#10;Color: (0, 150, 150)\" style=\"width: 20px; height: 20px;background-color: rgb(0, 150, 150);\"></td><td title=\"Index: [7, 4]&#10;Color: (0, 150, 150)\" style=\"width: 20px; height: 20px;background-color: rgb(0, 150, 150);\"></td></tr><tr><td title=\"Index: [8, 0]&#10;Color: (0, 150, 150)\" style=\"width: 20px; height: 20px;background-color: rgb(0, 150, 150);\"></td><td title=\"Index: [8, 1]&#10;Color: (0, 150, 150)\" style=\"width: 20px; height: 20px;background-color: rgb(0, 150, 150);\"></td><td title=\"Index: [8, 2]&#10;Color: (0, 150, 150)\" style=\"width: 20px; height: 20px;background-color: rgb(0, 150, 150);\"></td><td title=\"Index: [8, 3]&#10;Color: (0, 150, 150)\" style=\"width: 20px; height: 20px;background-color: rgb(0, 150, 150);\"></td><td title=\"Index: [8, 4]&#10;Color: (0, 150, 150)\" style=\"width: 20px; height: 20px;background-color: rgb(0, 150, 150);\"></td></tr><tr><td title=\"Index: [9, 0]&#10;Color: (0, 150, 150)\" style=\"width: 20px; height: 20px;background-color: rgb(0, 150, 150);\"></td><td title=\"Index: [9, 1]&#10;Color: (0, 150, 150)\" style=\"width: 20px; height: 20px;background-color: rgb(0, 150, 150);\"></td><td title=\"Index: [9, 2]&#10;Color: (0, 150, 150)\" style=\"width: 20px; height: 20px;background-color: rgb(0, 150, 150);\"></td><td title=\"Index: [9, 3]&#10;Color: (0, 150, 150)\" style=\"width: 20px; height: 20px;background-color: rgb(0, 150, 150);\"></td><td title=\"Index: [9, 4]&#10;Color: (0, 150, 150)\" style=\"width: 20px; height: 20px;background-color: rgb(0, 150, 150);\"></td></tr></tbody></table>"
       ],
       "metadata": {},
       "output_type": "display_data",
       "text": [
        "<IPython.core.display.HTML at 0x104d85650>"
       ]
      },
      {
       "output_type": "stream",
       "stream": "stdout",
       "text": [
        "Turn 11\n"
       ]
      },
      {
       "name": "stdout",
       "output_type": "stream",
       "stream": "stdout",
       "text": [
        "Guess Row: 8\n"
       ]
      },
      {
       "name": "stdout",
       "output_type": "stream",
       "stream": "stdout",
       "text": [
        "Guess Col: 2\n"
       ]
      },
      {
       "output_type": "stream",
       "stream": "stdout",
       "text": [
        "You hit my battleship!\n"
       ]
      },
      {
       "html": [
        "<style type=\"text/css\">table.blockgrid {border: none;} .blockgrid tr {border: none;} .blockgrid td {padding: 0px;} #blocksf9b6385c-ed8e-4cd7-8e9c-bd6acb5867dd td {border: 1px solid white;}</style><table id=\"blocksf9b6385c-ed8e-4cd7-8e9c-bd6acb5867dd\" class=\"blockgrid\"><tbody><tr><td title=\"Index: [0, 0]&#10;Color: (0, 0, 0)\" style=\"width: 20px; height: 20px;background-color: rgb(0, 0, 0);\"></td><td title=\"Index: [0, 1]&#10;Color: (0, 150, 150)\" style=\"width: 20px; height: 20px;background-color: rgb(0, 150, 150);\"></td><td title=\"Index: [0, 2]&#10;Color: (0, 150, 150)\" style=\"width: 20px; height: 20px;background-color: rgb(0, 150, 150);\"></td><td title=\"Index: [0, 3]&#10;Color: (0, 150, 150)\" style=\"width: 20px; height: 20px;background-color: rgb(0, 150, 150);\"></td><td title=\"Index: [0, 4]&#10;Color: (0, 150, 150)\" style=\"width: 20px; height: 20px;background-color: rgb(0, 150, 150);\"></td></tr><tr><td title=\"Index: [1, 0]&#10;Color: (0, 150, 150)\" style=\"width: 20px; height: 20px;background-color: rgb(0, 150, 150);\"></td><td title=\"Index: [1, 1]&#10;Color: (0, 0, 0)\" style=\"width: 20px; height: 20px;background-color: rgb(0, 0, 0);\"></td><td title=\"Index: [1, 2]&#10;Color: (0, 150, 150)\" style=\"width: 20px; height: 20px;background-color: rgb(0, 150, 150);\"></td><td title=\"Index: [1, 3]&#10;Color: (0, 150, 150)\" style=\"width: 20px; height: 20px;background-color: rgb(0, 150, 150);\"></td><td title=\"Index: [1, 4]&#10;Color: (0, 150, 150)\" style=\"width: 20px; height: 20px;background-color: rgb(0, 150, 150);\"></td></tr><tr><td title=\"Index: [2, 0]&#10;Color: (0, 150, 150)\" style=\"width: 20px; height: 20px;background-color: rgb(0, 150, 150);\"></td><td title=\"Index: [2, 1]&#10;Color: (0, 150, 150)\" style=\"width: 20px; height: 20px;background-color: rgb(0, 150, 150);\"></td><td title=\"Index: [2, 2]&#10;Color: (0, 0, 0)\" style=\"width: 20px; height: 20px;background-color: rgb(0, 0, 0);\"></td><td title=\"Index: [2, 3]&#10;Color: (0, 150, 150)\" style=\"width: 20px; height: 20px;background-color: rgb(0, 150, 150);\"></td><td title=\"Index: [2, 4]&#10;Color: (0, 150, 150)\" style=\"width: 20px; height: 20px;background-color: rgb(0, 150, 150);\"></td></tr><tr><td title=\"Index: [3, 0]&#10;Color: (0, 150, 150)\" style=\"width: 20px; height: 20px;background-color: rgb(0, 150, 150);\"></td><td title=\"Index: [3, 1]&#10;Color: (0, 150, 150)\" style=\"width: 20px; height: 20px;background-color: rgb(0, 150, 150);\"></td><td title=\"Index: [3, 2]&#10;Color: (0, 150, 150)\" style=\"width: 20px; height: 20px;background-color: rgb(0, 150, 150);\"></td><td title=\"Index: [3, 3]&#10;Color: (0, 0, 0)\" style=\"width: 20px; height: 20px;background-color: rgb(0, 0, 0);\"></td><td title=\"Index: [3, 4]&#10;Color: (0, 150, 150)\" style=\"width: 20px; height: 20px;background-color: rgb(0, 150, 150);\"></td></tr><tr><td title=\"Index: [4, 0]&#10;Color: (0, 150, 150)\" style=\"width: 20px; height: 20px;background-color: rgb(0, 150, 150);\"></td><td title=\"Index: [4, 1]&#10;Color: (0, 150, 150)\" style=\"width: 20px; height: 20px;background-color: rgb(0, 150, 150);\"></td><td title=\"Index: [4, 2]&#10;Color: (0, 150, 150)\" style=\"width: 20px; height: 20px;background-color: rgb(0, 150, 150);\"></td><td title=\"Index: [4, 3]&#10;Color: (0, 150, 150)\" style=\"width: 20px; height: 20px;background-color: rgb(0, 150, 150);\"></td><td title=\"Index: [4, 4]&#10;Color: (0, 0, 0)\" style=\"width: 20px; height: 20px;background-color: rgb(0, 0, 0);\"></td></tr><tr><td title=\"Index: [5, 0]&#10;Color: (0, 150, 150)\" style=\"width: 20px; height: 20px;background-color: rgb(0, 150, 150);\"></td><td title=\"Index: [5, 1]&#10;Color: (0, 150, 150)\" style=\"width: 20px; height: 20px;background-color: rgb(0, 150, 150);\"></td><td title=\"Index: [5, 2]&#10;Color: (0, 150, 150)\" style=\"width: 20px; height: 20px;background-color: rgb(0, 150, 150);\"></td><td title=\"Index: [5, 3]&#10;Color: (0, 150, 150)\" style=\"width: 20px; height: 20px;background-color: rgb(0, 150, 150);\"></td><td title=\"Index: [5, 4]&#10;Color: (0, 0, 0)\" style=\"width: 20px; height: 20px;background-color: rgb(0, 0, 0);\"></td></tr><tr><td title=\"Index: [6, 0]&#10;Color: (0, 150, 150)\" style=\"width: 20px; height: 20px;background-color: rgb(0, 150, 150);\"></td><td title=\"Index: [6, 1]&#10;Color: (0, 0, 0)\" style=\"width: 20px; height: 20px;background-color: rgb(0, 0, 0);\"></td><td title=\"Index: [6, 2]&#10;Color: (0, 0, 0)\" style=\"width: 20px; height: 20px;background-color: rgb(0, 0, 0);\"></td><td title=\"Index: [6, 3]&#10;Color: (0, 0, 0)\" style=\"width: 20px; height: 20px;background-color: rgb(0, 0, 0);\"></td><td title=\"Index: [6, 4]&#10;Color: (0, 150, 150)\" style=\"width: 20px; height: 20px;background-color: rgb(0, 150, 150);\"></td></tr><tr><td title=\"Index: [7, 0]&#10;Color: (0, 150, 150)\" style=\"width: 20px; height: 20px;background-color: rgb(0, 150, 150);\"></td><td title=\"Index: [7, 1]&#10;Color: (255, 0, 0)\" style=\"width: 20px; height: 20px;background-color: rgb(255, 0, 0);\"></td><td title=\"Index: [7, 2]&#10;Color: (255, 0, 0)\" style=\"width: 20px; height: 20px;background-color: rgb(255, 0, 0);\"></td><td title=\"Index: [7, 3]&#10;Color: (0, 150, 150)\" style=\"width: 20px; height: 20px;background-color: rgb(0, 150, 150);\"></td><td title=\"Index: [7, 4]&#10;Color: (0, 150, 150)\" style=\"width: 20px; height: 20px;background-color: rgb(0, 150, 150);\"></td></tr><tr><td title=\"Index: [8, 0]&#10;Color: (0, 150, 150)\" style=\"width: 20px; height: 20px;background-color: rgb(0, 150, 150);\"></td><td title=\"Index: [8, 1]&#10;Color: (0, 150, 150)\" style=\"width: 20px; height: 20px;background-color: rgb(0, 150, 150);\"></td><td title=\"Index: [8, 2]&#10;Color: (0, 150, 150)\" style=\"width: 20px; height: 20px;background-color: rgb(0, 150, 150);\"></td><td title=\"Index: [8, 3]&#10;Color: (0, 150, 150)\" style=\"width: 20px; height: 20px;background-color: rgb(0, 150, 150);\"></td><td title=\"Index: [8, 4]&#10;Color: (0, 150, 150)\" style=\"width: 20px; height: 20px;background-color: rgb(0, 150, 150);\"></td></tr><tr><td title=\"Index: [9, 0]&#10;Color: (0, 150, 150)\" style=\"width: 20px; height: 20px;background-color: rgb(0, 150, 150);\"></td><td title=\"Index: [9, 1]&#10;Color: (0, 150, 150)\" style=\"width: 20px; height: 20px;background-color: rgb(0, 150, 150);\"></td><td title=\"Index: [9, 2]&#10;Color: (0, 150, 150)\" style=\"width: 20px; height: 20px;background-color: rgb(0, 150, 150);\"></td><td title=\"Index: [9, 3]&#10;Color: (0, 150, 150)\" style=\"width: 20px; height: 20px;background-color: rgb(0, 150, 150);\"></td><td title=\"Index: [9, 4]&#10;Color: (0, 150, 150)\" style=\"width: 20px; height: 20px;background-color: rgb(0, 150, 150);\"></td></tr></tbody></table>"
       ],
       "metadata": {},
       "output_type": "display_data",
       "text": [
        "<IPython.core.display.HTML at 0x104d85690>"
       ]
      },
      {
       "output_type": "stream",
       "stream": "stdout",
       "text": [
        "Turn 12\n"
       ]
      },
      {
       "name": "stdout",
       "output_type": "stream",
       "stream": "stdout",
       "text": [
        "Guess Row: 8\n"
       ]
      },
      {
       "name": "stdout",
       "output_type": "stream",
       "stream": "stdout",
       "text": [
        "Guess Col: 1\n"
       ]
      },
      {
       "output_type": "stream",
       "stream": "stdout",
       "text": [
        "You missed my battleship!\n"
       ]
      },
      {
       "html": [
        "<style type=\"text/css\">table.blockgrid {border: none;} .blockgrid tr {border: none;} .blockgrid td {padding: 0px;} #blocks38da0702-8481-49d4-9c45-79b1767b72a9 td {border: 1px solid white;}</style><table id=\"blocks38da0702-8481-49d4-9c45-79b1767b72a9\" class=\"blockgrid\"><tbody><tr><td title=\"Index: [0, 0]&#10;Color: (0, 0, 0)\" style=\"width: 20px; height: 20px;background-color: rgb(0, 0, 0);\"></td><td title=\"Index: [0, 1]&#10;Color: (0, 150, 150)\" style=\"width: 20px; height: 20px;background-color: rgb(0, 150, 150);\"></td><td title=\"Index: [0, 2]&#10;Color: (0, 150, 150)\" style=\"width: 20px; height: 20px;background-color: rgb(0, 150, 150);\"></td><td title=\"Index: [0, 3]&#10;Color: (0, 150, 150)\" style=\"width: 20px; height: 20px;background-color: rgb(0, 150, 150);\"></td><td title=\"Index: [0, 4]&#10;Color: (0, 150, 150)\" style=\"width: 20px; height: 20px;background-color: rgb(0, 150, 150);\"></td></tr><tr><td title=\"Index: [1, 0]&#10;Color: (0, 150, 150)\" style=\"width: 20px; height: 20px;background-color: rgb(0, 150, 150);\"></td><td title=\"Index: [1, 1]&#10;Color: (0, 0, 0)\" style=\"width: 20px; height: 20px;background-color: rgb(0, 0, 0);\"></td><td title=\"Index: [1, 2]&#10;Color: (0, 150, 150)\" style=\"width: 20px; height: 20px;background-color: rgb(0, 150, 150);\"></td><td title=\"Index: [1, 3]&#10;Color: (0, 150, 150)\" style=\"width: 20px; height: 20px;background-color: rgb(0, 150, 150);\"></td><td title=\"Index: [1, 4]&#10;Color: (0, 150, 150)\" style=\"width: 20px; height: 20px;background-color: rgb(0, 150, 150);\"></td></tr><tr><td title=\"Index: [2, 0]&#10;Color: (0, 150, 150)\" style=\"width: 20px; height: 20px;background-color: rgb(0, 150, 150);\"></td><td title=\"Index: [2, 1]&#10;Color: (0, 150, 150)\" style=\"width: 20px; height: 20px;background-color: rgb(0, 150, 150);\"></td><td title=\"Index: [2, 2]&#10;Color: (0, 0, 0)\" style=\"width: 20px; height: 20px;background-color: rgb(0, 0, 0);\"></td><td title=\"Index: [2, 3]&#10;Color: (0, 150, 150)\" style=\"width: 20px; height: 20px;background-color: rgb(0, 150, 150);\"></td><td title=\"Index: [2, 4]&#10;Color: (0, 150, 150)\" style=\"width: 20px; height: 20px;background-color: rgb(0, 150, 150);\"></td></tr><tr><td title=\"Index: [3, 0]&#10;Color: (0, 150, 150)\" style=\"width: 20px; height: 20px;background-color: rgb(0, 150, 150);\"></td><td title=\"Index: [3, 1]&#10;Color: (0, 150, 150)\" style=\"width: 20px; height: 20px;background-color: rgb(0, 150, 150);\"></td><td title=\"Index: [3, 2]&#10;Color: (0, 150, 150)\" style=\"width: 20px; height: 20px;background-color: rgb(0, 150, 150);\"></td><td title=\"Index: [3, 3]&#10;Color: (0, 0, 0)\" style=\"width: 20px; height: 20px;background-color: rgb(0, 0, 0);\"></td><td title=\"Index: [3, 4]&#10;Color: (0, 150, 150)\" style=\"width: 20px; height: 20px;background-color: rgb(0, 150, 150);\"></td></tr><tr><td title=\"Index: [4, 0]&#10;Color: (0, 150, 150)\" style=\"width: 20px; height: 20px;background-color: rgb(0, 150, 150);\"></td><td title=\"Index: [4, 1]&#10;Color: (0, 150, 150)\" style=\"width: 20px; height: 20px;background-color: rgb(0, 150, 150);\"></td><td title=\"Index: [4, 2]&#10;Color: (0, 150, 150)\" style=\"width: 20px; height: 20px;background-color: rgb(0, 150, 150);\"></td><td title=\"Index: [4, 3]&#10;Color: (0, 150, 150)\" style=\"width: 20px; height: 20px;background-color: rgb(0, 150, 150);\"></td><td title=\"Index: [4, 4]&#10;Color: (0, 0, 0)\" style=\"width: 20px; height: 20px;background-color: rgb(0, 0, 0);\"></td></tr><tr><td title=\"Index: [5, 0]&#10;Color: (0, 150, 150)\" style=\"width: 20px; height: 20px;background-color: rgb(0, 150, 150);\"></td><td title=\"Index: [5, 1]&#10;Color: (0, 150, 150)\" style=\"width: 20px; height: 20px;background-color: rgb(0, 150, 150);\"></td><td title=\"Index: [5, 2]&#10;Color: (0, 150, 150)\" style=\"width: 20px; height: 20px;background-color: rgb(0, 150, 150);\"></td><td title=\"Index: [5, 3]&#10;Color: (0, 150, 150)\" style=\"width: 20px; height: 20px;background-color: rgb(0, 150, 150);\"></td><td title=\"Index: [5, 4]&#10;Color: (0, 0, 0)\" style=\"width: 20px; height: 20px;background-color: rgb(0, 0, 0);\"></td></tr><tr><td title=\"Index: [6, 0]&#10;Color: (0, 150, 150)\" style=\"width: 20px; height: 20px;background-color: rgb(0, 150, 150);\"></td><td title=\"Index: [6, 1]&#10;Color: (0, 0, 0)\" style=\"width: 20px; height: 20px;background-color: rgb(0, 0, 0);\"></td><td title=\"Index: [6, 2]&#10;Color: (0, 0, 0)\" style=\"width: 20px; height: 20px;background-color: rgb(0, 0, 0);\"></td><td title=\"Index: [6, 3]&#10;Color: (0, 0, 0)\" style=\"width: 20px; height: 20px;background-color: rgb(0, 0, 0);\"></td><td title=\"Index: [6, 4]&#10;Color: (0, 150, 150)\" style=\"width: 20px; height: 20px;background-color: rgb(0, 150, 150);\"></td></tr><tr><td title=\"Index: [7, 0]&#10;Color: (0, 0, 0)\" style=\"width: 20px; height: 20px;background-color: rgb(0, 0, 0);\"></td><td title=\"Index: [7, 1]&#10;Color: (255, 0, 0)\" style=\"width: 20px; height: 20px;background-color: rgb(255, 0, 0);\"></td><td title=\"Index: [7, 2]&#10;Color: (255, 0, 0)\" style=\"width: 20px; height: 20px;background-color: rgb(255, 0, 0);\"></td><td title=\"Index: [7, 3]&#10;Color: (0, 150, 150)\" style=\"width: 20px; height: 20px;background-color: rgb(0, 150, 150);\"></td><td title=\"Index: [7, 4]&#10;Color: (0, 150, 150)\" style=\"width: 20px; height: 20px;background-color: rgb(0, 150, 150);\"></td></tr><tr><td title=\"Index: [8, 0]&#10;Color: (0, 150, 150)\" style=\"width: 20px; height: 20px;background-color: rgb(0, 150, 150);\"></td><td title=\"Index: [8, 1]&#10;Color: (0, 150, 150)\" style=\"width: 20px; height: 20px;background-color: rgb(0, 150, 150);\"></td><td title=\"Index: [8, 2]&#10;Color: (0, 150, 150)\" style=\"width: 20px; height: 20px;background-color: rgb(0, 150, 150);\"></td><td title=\"Index: [8, 3]&#10;Color: (0, 150, 150)\" style=\"width: 20px; height: 20px;background-color: rgb(0, 150, 150);\"></td><td title=\"Index: [8, 4]&#10;Color: (0, 150, 150)\" style=\"width: 20px; height: 20px;background-color: rgb(0, 150, 150);\"></td></tr><tr><td title=\"Index: [9, 0]&#10;Color: (0, 150, 150)\" style=\"width: 20px; height: 20px;background-color: rgb(0, 150, 150);\"></td><td title=\"Index: [9, 1]&#10;Color: (0, 150, 150)\" style=\"width: 20px; height: 20px;background-color: rgb(0, 150, 150);\"></td><td title=\"Index: [9, 2]&#10;Color: (0, 150, 150)\" style=\"width: 20px; height: 20px;background-color: rgb(0, 150, 150);\"></td><td title=\"Index: [9, 3]&#10;Color: (0, 150, 150)\" style=\"width: 20px; height: 20px;background-color: rgb(0, 150, 150);\"></td><td title=\"Index: [9, 4]&#10;Color: (0, 150, 150)\" style=\"width: 20px; height: 20px;background-color: rgb(0, 150, 150);\"></td></tr></tbody></table>"
       ],
       "metadata": {},
       "output_type": "display_data",
       "text": [
        "<IPython.core.display.HTML at 0x104d856d0>"
       ]
      },
      {
       "output_type": "stream",
       "stream": "stdout",
       "text": [
        "Turn 13\n"
       ]
      },
      {
       "name": "stdout",
       "output_type": "stream",
       "stream": "stdout",
       "text": [
        "Guess Row: 8\n"
       ]
      },
      {
       "name": "stdout",
       "output_type": "stream",
       "stream": "stdout",
       "text": [
        "Guess Col: 4\n"
       ]
      },
      {
       "output_type": "stream",
       "stream": "stdout",
       "text": [
        "You hit my battleship!\n"
       ]
      },
      {
       "html": [
        "<style type=\"text/css\">table.blockgrid {border: none;} .blockgrid tr {border: none;} .blockgrid td {padding: 0px;} #blocks0e35ba4c-5961-4d59-b76f-73c946e910c9 td {border: 1px solid white;}</style><table id=\"blocks0e35ba4c-5961-4d59-b76f-73c946e910c9\" class=\"blockgrid\"><tbody><tr><td title=\"Index: [0, 0]&#10;Color: (0, 0, 0)\" style=\"width: 20px; height: 20px;background-color: rgb(0, 0, 0);\"></td><td title=\"Index: [0, 1]&#10;Color: (0, 150, 150)\" style=\"width: 20px; height: 20px;background-color: rgb(0, 150, 150);\"></td><td title=\"Index: [0, 2]&#10;Color: (0, 150, 150)\" style=\"width: 20px; height: 20px;background-color: rgb(0, 150, 150);\"></td><td title=\"Index: [0, 3]&#10;Color: (0, 150, 150)\" style=\"width: 20px; height: 20px;background-color: rgb(0, 150, 150);\"></td><td title=\"Index: [0, 4]&#10;Color: (0, 150, 150)\" style=\"width: 20px; height: 20px;background-color: rgb(0, 150, 150);\"></td></tr><tr><td title=\"Index: [1, 0]&#10;Color: (0, 150, 150)\" style=\"width: 20px; height: 20px;background-color: rgb(0, 150, 150);\"></td><td title=\"Index: [1, 1]&#10;Color: (0, 0, 0)\" style=\"width: 20px; height: 20px;background-color: rgb(0, 0, 0);\"></td><td title=\"Index: [1, 2]&#10;Color: (0, 150, 150)\" style=\"width: 20px; height: 20px;background-color: rgb(0, 150, 150);\"></td><td title=\"Index: [1, 3]&#10;Color: (0, 150, 150)\" style=\"width: 20px; height: 20px;background-color: rgb(0, 150, 150);\"></td><td title=\"Index: [1, 4]&#10;Color: (0, 150, 150)\" style=\"width: 20px; height: 20px;background-color: rgb(0, 150, 150);\"></td></tr><tr><td title=\"Index: [2, 0]&#10;Color: (0, 150, 150)\" style=\"width: 20px; height: 20px;background-color: rgb(0, 150, 150);\"></td><td title=\"Index: [2, 1]&#10;Color: (0, 150, 150)\" style=\"width: 20px; height: 20px;background-color: rgb(0, 150, 150);\"></td><td title=\"Index: [2, 2]&#10;Color: (0, 0, 0)\" style=\"width: 20px; height: 20px;background-color: rgb(0, 0, 0);\"></td><td title=\"Index: [2, 3]&#10;Color: (0, 150, 150)\" style=\"width: 20px; height: 20px;background-color: rgb(0, 150, 150);\"></td><td title=\"Index: [2, 4]&#10;Color: (0, 150, 150)\" style=\"width: 20px; height: 20px;background-color: rgb(0, 150, 150);\"></td></tr><tr><td title=\"Index: [3, 0]&#10;Color: (0, 150, 150)\" style=\"width: 20px; height: 20px;background-color: rgb(0, 150, 150);\"></td><td title=\"Index: [3, 1]&#10;Color: (0, 150, 150)\" style=\"width: 20px; height: 20px;background-color: rgb(0, 150, 150);\"></td><td title=\"Index: [3, 2]&#10;Color: (0, 150, 150)\" style=\"width: 20px; height: 20px;background-color: rgb(0, 150, 150);\"></td><td title=\"Index: [3, 3]&#10;Color: (0, 0, 0)\" style=\"width: 20px; height: 20px;background-color: rgb(0, 0, 0);\"></td><td title=\"Index: [3, 4]&#10;Color: (0, 150, 150)\" style=\"width: 20px; height: 20px;background-color: rgb(0, 150, 150);\"></td></tr><tr><td title=\"Index: [4, 0]&#10;Color: (0, 150, 150)\" style=\"width: 20px; height: 20px;background-color: rgb(0, 150, 150);\"></td><td title=\"Index: [4, 1]&#10;Color: (0, 150, 150)\" style=\"width: 20px; height: 20px;background-color: rgb(0, 150, 150);\"></td><td title=\"Index: [4, 2]&#10;Color: (0, 150, 150)\" style=\"width: 20px; height: 20px;background-color: rgb(0, 150, 150);\"></td><td title=\"Index: [4, 3]&#10;Color: (0, 150, 150)\" style=\"width: 20px; height: 20px;background-color: rgb(0, 150, 150);\"></td><td title=\"Index: [4, 4]&#10;Color: (0, 0, 0)\" style=\"width: 20px; height: 20px;background-color: rgb(0, 0, 0);\"></td></tr><tr><td title=\"Index: [5, 0]&#10;Color: (0, 150, 150)\" style=\"width: 20px; height: 20px;background-color: rgb(0, 150, 150);\"></td><td title=\"Index: [5, 1]&#10;Color: (0, 150, 150)\" style=\"width: 20px; height: 20px;background-color: rgb(0, 150, 150);\"></td><td title=\"Index: [5, 2]&#10;Color: (0, 150, 150)\" style=\"width: 20px; height: 20px;background-color: rgb(0, 150, 150);\"></td><td title=\"Index: [5, 3]&#10;Color: (0, 150, 150)\" style=\"width: 20px; height: 20px;background-color: rgb(0, 150, 150);\"></td><td title=\"Index: [5, 4]&#10;Color: (0, 0, 0)\" style=\"width: 20px; height: 20px;background-color: rgb(0, 0, 0);\"></td></tr><tr><td title=\"Index: [6, 0]&#10;Color: (0, 150, 150)\" style=\"width: 20px; height: 20px;background-color: rgb(0, 150, 150);\"></td><td title=\"Index: [6, 1]&#10;Color: (0, 0, 0)\" style=\"width: 20px; height: 20px;background-color: rgb(0, 0, 0);\"></td><td title=\"Index: [6, 2]&#10;Color: (0, 0, 0)\" style=\"width: 20px; height: 20px;background-color: rgb(0, 0, 0);\"></td><td title=\"Index: [6, 3]&#10;Color: (0, 0, 0)\" style=\"width: 20px; height: 20px;background-color: rgb(0, 0, 0);\"></td><td title=\"Index: [6, 4]&#10;Color: (0, 150, 150)\" style=\"width: 20px; height: 20px;background-color: rgb(0, 150, 150);\"></td></tr><tr><td title=\"Index: [7, 0]&#10;Color: (0, 0, 0)\" style=\"width: 20px; height: 20px;background-color: rgb(0, 0, 0);\"></td><td title=\"Index: [7, 1]&#10;Color: (255, 0, 0)\" style=\"width: 20px; height: 20px;background-color: rgb(255, 0, 0);\"></td><td title=\"Index: [7, 2]&#10;Color: (255, 0, 0)\" style=\"width: 20px; height: 20px;background-color: rgb(255, 0, 0);\"></td><td title=\"Index: [7, 3]&#10;Color: (255, 0, 0)\" style=\"width: 20px; height: 20px;background-color: rgb(255, 0, 0);\"></td><td title=\"Index: [7, 4]&#10;Color: (0, 150, 150)\" style=\"width: 20px; height: 20px;background-color: rgb(0, 150, 150);\"></td></tr><tr><td title=\"Index: [8, 0]&#10;Color: (0, 150, 150)\" style=\"width: 20px; height: 20px;background-color: rgb(0, 150, 150);\"></td><td title=\"Index: [8, 1]&#10;Color: (0, 150, 150)\" style=\"width: 20px; height: 20px;background-color: rgb(0, 150, 150);\"></td><td title=\"Index: [8, 2]&#10;Color: (0, 150, 150)\" style=\"width: 20px; height: 20px;background-color: rgb(0, 150, 150);\"></td><td title=\"Index: [8, 3]&#10;Color: (0, 150, 150)\" style=\"width: 20px; height: 20px;background-color: rgb(0, 150, 150);\"></td><td title=\"Index: [8, 4]&#10;Color: (0, 150, 150)\" style=\"width: 20px; height: 20px;background-color: rgb(0, 150, 150);\"></td></tr><tr><td title=\"Index: [9, 0]&#10;Color: (0, 150, 150)\" style=\"width: 20px; height: 20px;background-color: rgb(0, 150, 150);\"></td><td title=\"Index: [9, 1]&#10;Color: (0, 150, 150)\" style=\"width: 20px; height: 20px;background-color: rgb(0, 150, 150);\"></td><td title=\"Index: [9, 2]&#10;Color: (0, 150, 150)\" style=\"width: 20px; height: 20px;background-color: rgb(0, 150, 150);\"></td><td title=\"Index: [9, 3]&#10;Color: (0, 150, 150)\" style=\"width: 20px; height: 20px;background-color: rgb(0, 150, 150);\"></td><td title=\"Index: [9, 4]&#10;Color: (0, 150, 150)\" style=\"width: 20px; height: 20px;background-color: rgb(0, 150, 150);\"></td></tr></tbody></table>"
       ],
       "metadata": {},
       "output_type": "display_data",
       "text": [
        "<IPython.core.display.HTML at 0x104d85710>"
       ]
      },
      {
       "output_type": "stream",
       "stream": "stdout",
       "text": [
        "Congratulations! You sank my battleship!\n"
       ]
      }
     ],
     "prompt_number": 20
    },
    {
     "cell_type": "code",
     "collapsed": false,
     "input": [
      "\n",
      "    "
     ],
     "language": "python",
     "metadata": {},
     "outputs": [],
     "prompt_number": 10
    },
    {
     "cell_type": "code",
     "collapsed": false,
     "input": [],
     "language": "python",
     "metadata": {},
     "outputs": []
    }
   ],
   "metadata": {}
  }
 ]
}