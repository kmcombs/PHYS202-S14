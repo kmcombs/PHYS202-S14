{
 "metadata": {
  "name": "",
  "signature": "sha256:10a723d7f95b7afdd1580cdc59b7609f42e0446757a4d9d7b30684a2054ca892"
 },
 "nbformat": 3,
 "nbformat_minor": 0,
 "worksheets": [
  {
   "cells": [
    {
     "cell_type": "heading",
     "level": 1,
     "metadata": {},
     "source": [
      "Battleship"
     ]
    },
    {
     "cell_type": "code",
     "collapsed": false,
     "input": [
      "import random\n",
      "from ipythonblocks import BlockGrid\n",
      "import numpy as np"
     ],
     "language": "python",
     "metadata": {},
     "outputs": []
    },
    {
     "cell_type": "markdown",
     "metadata": {},
     "source": [
      "Three modules are used in this code: \n",
      "    * random\n",
      "    * ipythonblocks\n",
      "    * numpy"
     ]
    },
    {
     "cell_type": "code",
     "collapsed": false,
     "input": [
      "print \"Let's play Battleship!\"\n",
      "print \"Guess where the ship is located to sink it. It is three blocks long.\""
     ],
     "language": "python",
     "metadata": {},
     "outputs": []
    },
    {
     "cell_type": "markdown",
     "metadata": {},
     "source": [
      "This is an introduction to the game."
     ]
    },
    {
     "cell_type": "code",
     "collapsed": false,
     "input": [
      "print \"How big would you like your ocean? \"\n",
      "grid_row = int(raw_input(\"   Length: \"))\n",
      "grid_col = int(raw_input(\"   Width: \"))\n",
      "\n",
      "grid = BlockGrid(grid_col, grid_row, fill = (0, 150, 150)) \n",
      "board = np.zeros((grid_row, grid_col))\n",
      "grid.show()\n"
     ],
     "language": "python",
     "metadata": {},
     "outputs": []
    },
    {
     "cell_type": "markdown",
     "metadata": {},
     "source": [
      "Here is where the game board is made. The user gets to chose the size of their \"ocean\" and it will have a teal background. \n",
      "\n",
      "An array is created in order for the game to keep track of where the user has guessed. This will come in handy when the program checks to see if a square was already guessed or to know when the user has beat the game.\n",
      "\n",
      "Lastly, this shows the empty grid. This way the user can see how large it is and they will get to decide how many turns they will need."
     ]
    },
    {
     "cell_type": "code",
     "collapsed": false,
     "input": [
      "turn_input = int(raw_input(\"How many turns would you like? \"))"
     ],
     "language": "python",
     "metadata": {},
     "outputs": []
    },
    {
     "cell_type": "markdown",
     "metadata": {},
     "source": [
      "The user can control the amount of turns they get. The games ends if they cannot sink the ship before the amount of turns they chose."
     ]
    },
    {
     "cell_type": "code",
     "collapsed": false,
     "input": [
      "orientation = randint(0,1)"
     ],
     "language": "python",
     "metadata": {},
     "outputs": []
    },
    {
     "cell_type": "markdown",
     "metadata": {},
     "source": [
      "There are two possilbe oreientations for the ship, vertical or horizontal. This code generates a random number (either 0 or 1). If the number is 0, the ship is horizontal. If the number is 1, the ship is vertical."
     ]
    },
    {
     "cell_type": "code",
     "collapsed": false,
     "input": [
      "orientation = randint(0,1)\n",
      "if orientation == 0: \n",
      "    ship_row = randint(0, (grid_row - 1))\n",
      "    ship_col1 = randint(0, (grid_col - 1))\n",
      "    if ship_col1 <= 1: \n",
      "        ship_col2 = ship_col1 + 1\n",
      "        ship_col3 = ship_col2 + 1\n",
      "    elif ship_col1 >= (grid_col - 2): \n",
      "        ship_col2 = ship_col1 - 1\n",
      "        ship_col3 = ship_col2 - 1\n",
      "    else:\n",
      "        r = random.choice([-1, 1]) \n",
      "        ship_col2 = ship_col1 + r\n",
      "        if r == -1:\n",
      "            ship_col3 = ship_col2 - 1\n",
      "        else:\n",
      "            ship_col3 = ship_col2 + 1"
     ],
     "language": "python",
     "metadata": {},
     "outputs": [],
     "prompt_number": 12
    },
    {
     "cell_type": "markdown",
     "metadata": {},
     "source": [
      "This is the case where the ship is horizontal. This code will generate three squares in a horizontal series. One initial square was generated at the point (ship_row, ship_col1). If the square is too close to the left edge then the remaining two squares must be added the the right of that initial square. If the the square is too close to the right edge then the remaining two squares must be added to the left of that initial square. \n",
      "\n",
      "Finally if the initial square is not within two squares of the edge, then another square could be added to either side. One last if statement was needed in order to not place two blocks on top of each other. if a square was added to the left of the initial square, then the third block needed to be placed to the left of the second square. \n",
      "\n",
      "All these conditions were needed in order the generate the ships randomly. "
     ]
    },
    {
     "cell_type": "code",
     "collapsed": false,
     "input": [
      "    for turn in range(turn_input):\n",
      "        print \"Turn\", turn +1\n",
      "        guess_row = int(raw_input(\"Guess Row: \")) - 1\n",
      "        guess_col = int(raw_input(\"Guess Col: \")) - 1"
     ],
     "language": "python",
     "metadata": {},
     "outputs": []
    },
    {
     "cell_type": "markdown",
     "metadata": {},
     "source": [
      "Now after a horizontal ship is generated, it is time for the user to guess. The for loop is used so that the user can guess for however many turns they chose. At the beginning of each iteration, the turn is printed, as well as prompt for the user to input their guesses. The guesses have to be converted into integers so that they can be used to index the grid. "
     ]
    },
    {
     "cell_type": "code",
     "collapsed": false,
     "input": [
      "        if (guess_row == ship_row) and (guess_col == ship_col1 or \\\n",
      "            guess_col == ship_col2 or guess_col == ship_col3):\n",
      "            print \"You hit my battleship!\"\n",
      "            board[guess_row, guess_col] = 2\n",
      "            grid[guess_row, guess_col] = (255, 0, 0)\n",
      "            grid.show()"
     ],
     "language": "python",
     "metadata": {},
     "outputs": []
    },
    {
     "cell_type": "markdown",
     "metadata": {},
     "source": [
      "This code checks if the guess is a hit. There is only one row to check for the horizontal case, but to be a hit, the row and column have to match. There are 3 column options to guess. If a row and column match then the program will notify the user that they hit the battleship. Also, the square that was hit will turn red and a 2 will replace the 0 in the array. "
     ]
    },
    {
     "cell_type": "code",
     "collapsed": false,
     "input": [
      "        else:\n",
      "            if (guess_row < 0 or guess_row >= grid_row) or \\\n",
      "            (guess_col < 0 or guess_col >= grid_col):\n",
      "                print \"Oops, that's not even in the ocean.\"\n",
      "            if board[guess_row, guess_col] == 1:\n",
      "                print \"Oops! You guessed that one already.\"\n",
      "            else:\n",
      "                print \"You missed my battleship!\"\n",
      "                board[guess_row, guess_col] = 1\n",
      "                grid[guess_row, guess_col] = (0, 0, 0)\n",
      "            grid.show()"
     ],
     "language": "python",
     "metadata": {},
     "outputs": []
    },
    {
     "cell_type": "markdown",
     "metadata": {},
     "source": [
      "If the guess wasn't a hit, it isn't necissarily a miss. This code checks if the guess was even in the grid. It also checks if the guess was already guessed. If it was indeed a miss, then the user is notified and the square changes to black. The missed index also changes the zero in the array to a 1. The reason that the 1 is added, is so the code can easily check if the the index was already guessed by looking if a 1 is already at that index. "
     ]
    },
    {
     "cell_type": "code",
     "collapsed": false,
     "input": [
      "        if (board == 2).sum() == 3:\n",
      "            print \"Congratulations! You sank my battleship!\"\n",
      "            break"
     ],
     "language": "python",
     "metadata": {},
     "outputs": []
    },
    {
     "cell_type": "markdown",
     "metadata": {},
     "source": [
      "This code makes sure that when the user hits the battleship 3 times, they win the game. The reason a 2 was added for a hit was so this code could count how many twos were in the array. If there are 3 then the battleship was hit all three of the possible times. The user then wins and the game is ended."
     ]
    },
    {
     "cell_type": "code",
     "collapsed": false,
     "input": [
      "        if turn == turn_input - 1:\n",
      "            print \"Game Over :( \"\n",
      "            grid[ship_row, ship_col1] = (128, 128, 128)\n",
      "            grid[ship_row, ship_col2] = (128, 128, 128)\n",
      "            grid[ship_row, ship_col3] = (128, 128, 128)\n",
      "            grid.show()"
     ],
     "language": "python",
     "metadata": {},
     "outputs": []
    },
    {
     "cell_type": "markdown",
     "metadata": {},
     "source": [
      "This last bit of code for a horizontal ship makes sure the game is over after the amout of turns reaches the users input. The user is notified that the game is over and the ship's location is revealed by changing the squares to grey. "
     ]
    },
    {
     "cell_type": "code",
     "collapsed": false,
     "input": [
      "if orientation == 1: \n",
      "    ship_row1 = randint(0, (grid_row - 1))\n",
      "    ship_col = randint(0, (grid_col - 1))\n",
      "    if ship_row1 <= 1: \n",
      "        ship_row2 = ship_row1 + 1\n",
      "        ship_row3 = ship_row2 + 1\n",
      "    elif ship_row1 >= (grid_row - 2):\n",
      "        ship_row2 = ship_row1 - 1\n",
      "        ship_row3 = ship_row2 - 1\n",
      "    else:\n",
      "        r = random.choice([-1, 1])\n",
      "        ship_row2 = ship_row1 + r\n",
      "        if r == -1:\n",
      "            ship_row3 = ship_row2 - 1\n",
      "        else: \n",
      "            ship_row3 = ship_row2 + 1"
     ],
     "language": "python",
     "metadata": {},
     "outputs": []
    },
    {
     "cell_type": "markdown",
     "metadata": {},
     "source": [
      "This code is used if the random number in the beginning is a 1 and this means that the ship will be vertical. Now instead of one row and three columns, there will be three rows and one column. Just as before, this code checks to make sure that the initial square is not to close to the top or the bottom. In the end, there will be 3 points in a vertical series. "
     ]
    },
    {
     "cell_type": "code",
     "collapsed": false,
     "input": [
      "     for turn in range(turn_input):\n",
      "        print \"Turn\", turn +1\n",
      "        guess_row = int(raw_input(\"Guess Row:\")) - 1\n",
      "        guess_col = int(raw_input(\"Guess Col:\")) - 1\n",
      " \n",
      "        if (guess_row == ship_row1 or guess_row == ship_row2 or \\\n",
      "            guess_row == ship_row3) and (guess_col == ship_col):\n",
      "            print \"You hit my battleship!\"\n",
      "            board[guess_row, guess_col] = 2\n",
      "            grid[guess_row, guess_col] = (255, 0, 0)\n",
      "            grid.show()\n",
      "        else:\n",
      "            if (guess_row < 0 or guess_row >= grid_row) or\\\n",
      "            (guess_col < 0 or guess_col >= grid_col):\n",
      "                print \"Oops, that's not even in the ocean.\"\n",
      "            elif board[guess_row, guess_col] == 1:\n",
      "                print \"Oops! You guessed that one already.\"\n",
      "            else:\n",
      "                print \"You missed my battleship!\"\n",
      "                board[guess_row, guess_col] = 1\n",
      "                grid[guess_row, guess_col] = (0, 0, 0)\n",
      "            grid.show()\n",
      "        if (board == 2).sum() == 3:\n",
      "            print \"Congratulations! You sank my battleship!\"\n",
      "            break\n",
      "        if turn == turn_input - 1:\n",
      "            print \"Game Over :( \"\n",
      "            grid[ship_row1, ship_col] = (128, 128, 128)\n",
      "            grid[ship_row2, ship_col] = (128, 128, 128)\n",
      "            grid[ship_row3, ship_col] = (128, 128, 128)\n",
      "            grid.show()\n"
     ],
     "language": "python",
     "metadata": {},
     "outputs": []
    },
    {
     "cell_type": "markdown",
     "metadata": {},
     "source": [
      "The rest of the code is equivalent to the horizontal ship. The only differences are to account for the now verticle ship, but the logic is the same. "
     ]
    },
    {
     "cell_type": "heading",
     "level": 3,
     "metadata": {},
     "source": [
      "Here is the game:"
     ]
    },
    {
     "cell_type": "code",
     "collapsed": false,
     "input": [
      "import random\n",
      "from random import randint\n",
      "from ipythonblocks import BlockGrid\n",
      "import numpy as np\n",
      "\n",
      "print \"Let's play Battleship!\"\n",
      "print \"Guess where the ship is located to sink it. It is three blocks long.\"\n",
      "\n",
      "print \"How big would you like your ocean? \"\n",
      "grid_row = int(raw_input(\"   Length: \"))\n",
      "grid_col = int(raw_input(\"   Width: \"))\n",
      "\n",
      "grid = BlockGrid(grid_col, grid_row, fill = (0, 150, 150)) \n",
      "board = np.zeros((grid_row, grid_col))\n",
      "grid.show()\n",
      "\n",
      "turn_input = int(raw_input(\"How many turns would you like? \"))\n",
      "\n",
      "orientation = randint(0,1)\n",
      "if orientation == 0: \n",
      "    ship_row = randint(0, (grid_row - 1))\n",
      "    ship_col1 = randint(0, (grid_col - 1))\n",
      "    if ship_col1 <= 1: \n",
      "        ship_col2 = ship_col1 + 1\n",
      "        ship_col3 = ship_col2 + 1\n",
      "    elif ship_col1 >= (grid_col - 2): \n",
      "        ship_col2 = ship_col1 - 1\n",
      "        ship_col3 = ship_col2 - 1\n",
      "    else:\n",
      "        r = random.choice([-1, 1]) \n",
      "        ship_col2 = ship_col1 + r\n",
      "        if r == -1:\n",
      "            ship_col3 = ship_col2 - 1\n",
      "        else:\n",
      "            ship_col3 = ship_col2 + 1\n",
      "    for turn in range(turn_input):\n",
      "        print \"Turn\", turn +1\n",
      "        guess_row = int(raw_input(\"Guess Row: \")) - 1\n",
      "        guess_col = int(raw_input(\"Guess Col: \")) - 1\n",
      "        if (guess_row == ship_row) and (guess_col == ship_col1 or \\\n",
      "            guess_col == ship_col2 or guess_col == ship_col3):\n",
      "            print \"You hit my battleship!\"\n",
      "            board[guess_row, guess_col] = 2\n",
      "            grid[guess_row, guess_col] = (255, 0, 0)\n",
      "            grid.show()\n",
      "        else:\n",
      "            if (guess_row < 0 or guess_row >= grid_row) or \\\n",
      "            (guess_col < 0 or guess_col >= grid_col):\n",
      "                print \"Oops, that's not even in the ocean.\"\n",
      "            if board[guess_row, guess_col] == 1:\n",
      "                print \"Oops! You guessed that one already.\"\n",
      "            else:\n",
      "                print \"You missed my battleship!\"\n",
      "                board[guess_row, guess_col] = 1\n",
      "                grid[guess_row, guess_col] = (0, 0, 0)\n",
      "            grid.show()\n",
      "        if (board == 2).sum() == 3:\n",
      "            print \"Congratulations! You sank my battleship!\"\n",
      "            break\n",
      "        if turn == turn_input - 1:\n",
      "            print \"Game Over :( \"\n",
      "            grid[ship_row, ship_col1] = (128, 128, 128)\n",
      "            grid[ship_row, ship_col2] = (128, 128, 128)\n",
      "            grid[ship_row, ship_col3] = (128, 128, 128)\n",
      "            grid.show()\n",
      "            \n",
      "if orientation == 1: \n",
      "    ship_row1 = randint(0, (grid_row - 1))\n",
      "    ship_col = randint(0, (grid_col - 1))\n",
      "    if ship_row1 <= 1: \n",
      "        ship_row2 = ship_row1 + 1\n",
      "        ship_row3 = ship_row2 + 1\n",
      "    elif ship_row1 >= (grid_row - 2):\n",
      "        ship_row2 = ship_row1 - 1\n",
      "        ship_row3 = ship_row2 - 1\n",
      "    else:\n",
      "        r = random.choice([-1, 1])\n",
      "        ship_row2 = ship_row1 + r\n",
      "        if r == -1:\n",
      "            ship_row3 = ship_row2 - 1\n",
      "        else: \n",
      "            ship_row3 = ship_row2 + 1\n",
      "    for turn in range(turn_input):\n",
      "        print \"Turn\", turn +1\n",
      "        guess_row = int(raw_input(\"Guess Row:\")) - 1\n",
      "        guess_col = int(raw_input(\"Guess Col:\")) - 1\n",
      " \n",
      "        if (guess_row == ship_row1 or guess_row == ship_row2 or \\\n",
      "            guess_row == ship_row3) and (guess_col == ship_col):\n",
      "            print \"You hit my battleship!\"\n",
      "            board[guess_row, guess_col] = 2\n",
      "            grid[guess_row, guess_col] = (255, 0, 0)\n",
      "            grid.show()\n",
      "        else:\n",
      "            if (guess_row < 0 or guess_row >= grid_row) or\\\n",
      "            (guess_col < 0 or guess_col >= grid_col):\n",
      "                print \"Oops, that's not even in the ocean.\"\n",
      "            elif board[guess_row, guess_col] == 1:\n",
      "                print \"Oops! You guessed that one already.\"\n",
      "            else:\n",
      "                print \"You missed my battleship!\"\n",
      "                board[guess_row, guess_col] = 1\n",
      "                grid[guess_row, guess_col] = (0, 0, 0)\n",
      "            grid.show()\n",
      "        if (board == 2).sum() == 3:\n",
      "            print \"Congratulations! You sank my battleship!\"\n",
      "            break\n",
      "        if turn == turn_input - 1:\n",
      "            print \"Game Over :( \"\n",
      "            grid[ship_row1, ship_col] = (128, 128, 128)\n",
      "            grid[ship_row2, ship_col] = (128, 128, 128)\n",
      "            grid[ship_row3, ship_col] = (128, 128, 128)\n",
      "            grid.show()"
     ],
     "language": "python",
     "metadata": {},
     "outputs": [
      {
       "output_type": "stream",
       "stream": "stdout",
       "text": [
        "Let's play Battleship!\n",
        "Guess where the ship is located to sink it. It is three blocks long.\n",
        "How big would you like your ocean? \n"
       ]
      },
      {
       "name": "stdout",
       "output_type": "stream",
       "stream": "stdout",
       "text": [
        "   Length: 5\n"
       ]
      },
      {
       "name": "stdout",
       "output_type": "stream",
       "stream": "stdout",
       "text": [
        "   Width: 5\n"
       ]
      },
      {
       "html": [
        "<style type=\"text/css\">table.blockgrid {border: none;} .blockgrid tr {border: none;} .blockgrid td {padding: 0px;} #blocksc3855c90-987d-4fd4-8cee-bacb0e090aef td {border: 1px solid white;}</style><table id=\"blocksc3855c90-987d-4fd4-8cee-bacb0e090aef\" class=\"blockgrid\"><tbody><tr><td title=\"Index: [0, 0]&#10;Color: (0, 150, 150)\" style=\"width: 20px; height: 20px;background-color: rgb(0, 150, 150);\"></td><td title=\"Index: [0, 1]&#10;Color: (0, 150, 150)\" style=\"width: 20px; height: 20px;background-color: rgb(0, 150, 150);\"></td><td title=\"Index: [0, 2]&#10;Color: (0, 150, 150)\" style=\"width: 20px; height: 20px;background-color: rgb(0, 150, 150);\"></td><td title=\"Index: [0, 3]&#10;Color: (0, 150, 150)\" style=\"width: 20px; height: 20px;background-color: rgb(0, 150, 150);\"></td><td title=\"Index: [0, 4]&#10;Color: (0, 150, 150)\" style=\"width: 20px; height: 20px;background-color: rgb(0, 150, 150);\"></td></tr><tr><td title=\"Index: [1, 0]&#10;Color: (0, 150, 150)\" style=\"width: 20px; height: 20px;background-color: rgb(0, 150, 150);\"></td><td title=\"Index: [1, 1]&#10;Color: (0, 150, 150)\" style=\"width: 20px; height: 20px;background-color: rgb(0, 150, 150);\"></td><td title=\"Index: [1, 2]&#10;Color: (0, 150, 150)\" style=\"width: 20px; height: 20px;background-color: rgb(0, 150, 150);\"></td><td title=\"Index: [1, 3]&#10;Color: (0, 150, 150)\" style=\"width: 20px; height: 20px;background-color: rgb(0, 150, 150);\"></td><td title=\"Index: [1, 4]&#10;Color: (0, 150, 150)\" style=\"width: 20px; height: 20px;background-color: rgb(0, 150, 150);\"></td></tr><tr><td title=\"Index: [2, 0]&#10;Color: (0, 150, 150)\" style=\"width: 20px; height: 20px;background-color: rgb(0, 150, 150);\"></td><td title=\"Index: [2, 1]&#10;Color: (0, 150, 150)\" style=\"width: 20px; height: 20px;background-color: rgb(0, 150, 150);\"></td><td title=\"Index: [2, 2]&#10;Color: (0, 150, 150)\" style=\"width: 20px; height: 20px;background-color: rgb(0, 150, 150);\"></td><td title=\"Index: [2, 3]&#10;Color: (0, 150, 150)\" style=\"width: 20px; height: 20px;background-color: rgb(0, 150, 150);\"></td><td title=\"Index: [2, 4]&#10;Color: (0, 150, 150)\" style=\"width: 20px; height: 20px;background-color: rgb(0, 150, 150);\"></td></tr><tr><td title=\"Index: [3, 0]&#10;Color: (0, 150, 150)\" style=\"width: 20px; height: 20px;background-color: rgb(0, 150, 150);\"></td><td title=\"Index: [3, 1]&#10;Color: (0, 150, 150)\" style=\"width: 20px; height: 20px;background-color: rgb(0, 150, 150);\"></td><td title=\"Index: [3, 2]&#10;Color: (0, 150, 150)\" style=\"width: 20px; height: 20px;background-color: rgb(0, 150, 150);\"></td><td title=\"Index: [3, 3]&#10;Color: (0, 150, 150)\" style=\"width: 20px; height: 20px;background-color: rgb(0, 150, 150);\"></td><td title=\"Index: [3, 4]&#10;Color: (0, 150, 150)\" style=\"width: 20px; height: 20px;background-color: rgb(0, 150, 150);\"></td></tr><tr><td title=\"Index: [4, 0]&#10;Color: (0, 150, 150)\" style=\"width: 20px; height: 20px;background-color: rgb(0, 150, 150);\"></td><td title=\"Index: [4, 1]&#10;Color: (0, 150, 150)\" style=\"width: 20px; height: 20px;background-color: rgb(0, 150, 150);\"></td><td title=\"Index: [4, 2]&#10;Color: (0, 150, 150)\" style=\"width: 20px; height: 20px;background-color: rgb(0, 150, 150);\"></td><td title=\"Index: [4, 3]&#10;Color: (0, 150, 150)\" style=\"width: 20px; height: 20px;background-color: rgb(0, 150, 150);\"></td><td title=\"Index: [4, 4]&#10;Color: (0, 150, 150)\" style=\"width: 20px; height: 20px;background-color: rgb(0, 150, 150);\"></td></tr></tbody></table>"
       ],
       "metadata": {},
       "output_type": "display_data",
       "text": [
        "<IPython.core.display.HTML at 0x1047dff10>"
       ]
      },
      {
       "name": "stdout",
       "output_type": "stream",
       "stream": "stdout",
       "text": [
        "How many turns would you like? 5\n"
       ]
      },
      {
       "output_type": "stream",
       "stream": "stdout",
       "text": [
        "Turn 1\n"
       ]
      },
      {
       "name": "stdout",
       "output_type": "stream",
       "stream": "stdout",
       "text": [
        "Guess Row:1\n"
       ]
      },
      {
       "name": "stdout",
       "output_type": "stream",
       "stream": "stdout",
       "text": [
        "Guess Col:1\n"
       ]
      },
      {
       "output_type": "stream",
       "stream": "stdout",
       "text": [
        "You missed my battleship!\n"
       ]
      },
      {
       "html": [
        "<style type=\"text/css\">table.blockgrid {border: none;} .blockgrid tr {border: none;} .blockgrid td {padding: 0px;} #blocksaa8c12a0-c996-4279-b4c7-4ed8409afdd7 td {border: 1px solid white;}</style><table id=\"blocksaa8c12a0-c996-4279-b4c7-4ed8409afdd7\" class=\"blockgrid\"><tbody><tr><td title=\"Index: [0, 0]&#10;Color: (0, 0, 0)\" style=\"width: 20px; height: 20px;background-color: rgb(0, 0, 0);\"></td><td title=\"Index: [0, 1]&#10;Color: (0, 150, 150)\" style=\"width: 20px; height: 20px;background-color: rgb(0, 150, 150);\"></td><td title=\"Index: [0, 2]&#10;Color: (0, 150, 150)\" style=\"width: 20px; height: 20px;background-color: rgb(0, 150, 150);\"></td><td title=\"Index: [0, 3]&#10;Color: (0, 150, 150)\" style=\"width: 20px; height: 20px;background-color: rgb(0, 150, 150);\"></td><td title=\"Index: [0, 4]&#10;Color: (0, 150, 150)\" style=\"width: 20px; height: 20px;background-color: rgb(0, 150, 150);\"></td></tr><tr><td title=\"Index: [1, 0]&#10;Color: (0, 150, 150)\" style=\"width: 20px; height: 20px;background-color: rgb(0, 150, 150);\"></td><td title=\"Index: [1, 1]&#10;Color: (0, 150, 150)\" style=\"width: 20px; height: 20px;background-color: rgb(0, 150, 150);\"></td><td title=\"Index: [1, 2]&#10;Color: (0, 150, 150)\" style=\"width: 20px; height: 20px;background-color: rgb(0, 150, 150);\"></td><td title=\"Index: [1, 3]&#10;Color: (0, 150, 150)\" style=\"width: 20px; height: 20px;background-color: rgb(0, 150, 150);\"></td><td title=\"Index: [1, 4]&#10;Color: (0, 150, 150)\" style=\"width: 20px; height: 20px;background-color: rgb(0, 150, 150);\"></td></tr><tr><td title=\"Index: [2, 0]&#10;Color: (0, 150, 150)\" style=\"width: 20px; height: 20px;background-color: rgb(0, 150, 150);\"></td><td title=\"Index: [2, 1]&#10;Color: (0, 150, 150)\" style=\"width: 20px; height: 20px;background-color: rgb(0, 150, 150);\"></td><td title=\"Index: [2, 2]&#10;Color: (0, 150, 150)\" style=\"width: 20px; height: 20px;background-color: rgb(0, 150, 150);\"></td><td title=\"Index: [2, 3]&#10;Color: (0, 150, 150)\" style=\"width: 20px; height: 20px;background-color: rgb(0, 150, 150);\"></td><td title=\"Index: [2, 4]&#10;Color: (0, 150, 150)\" style=\"width: 20px; height: 20px;background-color: rgb(0, 150, 150);\"></td></tr><tr><td title=\"Index: [3, 0]&#10;Color: (0, 150, 150)\" style=\"width: 20px; height: 20px;background-color: rgb(0, 150, 150);\"></td><td title=\"Index: [3, 1]&#10;Color: (0, 150, 150)\" style=\"width: 20px; height: 20px;background-color: rgb(0, 150, 150);\"></td><td title=\"Index: [3, 2]&#10;Color: (0, 150, 150)\" style=\"width: 20px; height: 20px;background-color: rgb(0, 150, 150);\"></td><td title=\"Index: [3, 3]&#10;Color: (0, 150, 150)\" style=\"width: 20px; height: 20px;background-color: rgb(0, 150, 150);\"></td><td title=\"Index: [3, 4]&#10;Color: (0, 150, 150)\" style=\"width: 20px; height: 20px;background-color: rgb(0, 150, 150);\"></td></tr><tr><td title=\"Index: [4, 0]&#10;Color: (0, 150, 150)\" style=\"width: 20px; height: 20px;background-color: rgb(0, 150, 150);\"></td><td title=\"Index: [4, 1]&#10;Color: (0, 150, 150)\" style=\"width: 20px; height: 20px;background-color: rgb(0, 150, 150);\"></td><td title=\"Index: [4, 2]&#10;Color: (0, 150, 150)\" style=\"width: 20px; height: 20px;background-color: rgb(0, 150, 150);\"></td><td title=\"Index: [4, 3]&#10;Color: (0, 150, 150)\" style=\"width: 20px; height: 20px;background-color: rgb(0, 150, 150);\"></td><td title=\"Index: [4, 4]&#10;Color: (0, 150, 150)\" style=\"width: 20px; height: 20px;background-color: rgb(0, 150, 150);\"></td></tr></tbody></table>"
       ],
       "metadata": {},
       "output_type": "display_data",
       "text": [
        "<IPython.core.display.HTML at 0x1047e72d0>"
       ]
      },
      {
       "output_type": "stream",
       "stream": "stdout",
       "text": [
        "Turn 2\n"
       ]
      },
      {
       "name": "stdout",
       "output_type": "stream",
       "stream": "stdout",
       "text": [
        "Guess Row:4\n"
       ]
      },
      {
       "name": "stdout",
       "output_type": "stream",
       "stream": "stdout",
       "text": [
        "Guess Col:5\n"
       ]
      },
      {
       "output_type": "stream",
       "stream": "stdout",
       "text": [
        "You missed my battleship!\n"
       ]
      },
      {
       "html": [
        "<style type=\"text/css\">table.blockgrid {border: none;} .blockgrid tr {border: none;} .blockgrid td {padding: 0px;} #blocks60cb5f2e-b6a6-4df7-8b03-49bb9f9c371f td {border: 1px solid white;}</style><table id=\"blocks60cb5f2e-b6a6-4df7-8b03-49bb9f9c371f\" class=\"blockgrid\"><tbody><tr><td title=\"Index: [0, 0]&#10;Color: (0, 0, 0)\" style=\"width: 20px; height: 20px;background-color: rgb(0, 0, 0);\"></td><td title=\"Index: [0, 1]&#10;Color: (0, 150, 150)\" style=\"width: 20px; height: 20px;background-color: rgb(0, 150, 150);\"></td><td title=\"Index: [0, 2]&#10;Color: (0, 150, 150)\" style=\"width: 20px; height: 20px;background-color: rgb(0, 150, 150);\"></td><td title=\"Index: [0, 3]&#10;Color: (0, 150, 150)\" style=\"width: 20px; height: 20px;background-color: rgb(0, 150, 150);\"></td><td title=\"Index: [0, 4]&#10;Color: (0, 150, 150)\" style=\"width: 20px; height: 20px;background-color: rgb(0, 150, 150);\"></td></tr><tr><td title=\"Index: [1, 0]&#10;Color: (0, 150, 150)\" style=\"width: 20px; height: 20px;background-color: rgb(0, 150, 150);\"></td><td title=\"Index: [1, 1]&#10;Color: (0, 150, 150)\" style=\"width: 20px; height: 20px;background-color: rgb(0, 150, 150);\"></td><td title=\"Index: [1, 2]&#10;Color: (0, 150, 150)\" style=\"width: 20px; height: 20px;background-color: rgb(0, 150, 150);\"></td><td title=\"Index: [1, 3]&#10;Color: (0, 150, 150)\" style=\"width: 20px; height: 20px;background-color: rgb(0, 150, 150);\"></td><td title=\"Index: [1, 4]&#10;Color: (0, 150, 150)\" style=\"width: 20px; height: 20px;background-color: rgb(0, 150, 150);\"></td></tr><tr><td title=\"Index: [2, 0]&#10;Color: (0, 150, 150)\" style=\"width: 20px; height: 20px;background-color: rgb(0, 150, 150);\"></td><td title=\"Index: [2, 1]&#10;Color: (0, 150, 150)\" style=\"width: 20px; height: 20px;background-color: rgb(0, 150, 150);\"></td><td title=\"Index: [2, 2]&#10;Color: (0, 150, 150)\" style=\"width: 20px; height: 20px;background-color: rgb(0, 150, 150);\"></td><td title=\"Index: [2, 3]&#10;Color: (0, 150, 150)\" style=\"width: 20px; height: 20px;background-color: rgb(0, 150, 150);\"></td><td title=\"Index: [2, 4]&#10;Color: (0, 150, 150)\" style=\"width: 20px; height: 20px;background-color: rgb(0, 150, 150);\"></td></tr><tr><td title=\"Index: [3, 0]&#10;Color: (0, 150, 150)\" style=\"width: 20px; height: 20px;background-color: rgb(0, 150, 150);\"></td><td title=\"Index: [3, 1]&#10;Color: (0, 150, 150)\" style=\"width: 20px; height: 20px;background-color: rgb(0, 150, 150);\"></td><td title=\"Index: [3, 2]&#10;Color: (0, 150, 150)\" style=\"width: 20px; height: 20px;background-color: rgb(0, 150, 150);\"></td><td title=\"Index: [3, 3]&#10;Color: (0, 150, 150)\" style=\"width: 20px; height: 20px;background-color: rgb(0, 150, 150);\"></td><td title=\"Index: [3, 4]&#10;Color: (0, 0, 0)\" style=\"width: 20px; height: 20px;background-color: rgb(0, 0, 0);\"></td></tr><tr><td title=\"Index: [4, 0]&#10;Color: (0, 150, 150)\" style=\"width: 20px; height: 20px;background-color: rgb(0, 150, 150);\"></td><td title=\"Index: [4, 1]&#10;Color: (0, 150, 150)\" style=\"width: 20px; height: 20px;background-color: rgb(0, 150, 150);\"></td><td title=\"Index: [4, 2]&#10;Color: (0, 150, 150)\" style=\"width: 20px; height: 20px;background-color: rgb(0, 150, 150);\"></td><td title=\"Index: [4, 3]&#10;Color: (0, 150, 150)\" style=\"width: 20px; height: 20px;background-color: rgb(0, 150, 150);\"></td><td title=\"Index: [4, 4]&#10;Color: (0, 150, 150)\" style=\"width: 20px; height: 20px;background-color: rgb(0, 150, 150);\"></td></tr></tbody></table>"
       ],
       "metadata": {},
       "output_type": "display_data",
       "text": [
        "<IPython.core.display.HTML at 0x1047e7110>"
       ]
      },
      {
       "output_type": "stream",
       "stream": "stdout",
       "text": [
        "Turn 3\n"
       ]
      },
      {
       "name": "stdout",
       "output_type": "stream",
       "stream": "stdout",
       "text": [
        "Guess Row:3\n"
       ]
      },
      {
       "name": "stdout",
       "output_type": "stream",
       "stream": "stdout",
       "text": [
        "Guess Col:3\n"
       ]
      },
      {
       "output_type": "stream",
       "stream": "stdout",
       "text": [
        "You hit my battleship!\n"
       ]
      },
      {
       "html": [
        "<style type=\"text/css\">table.blockgrid {border: none;} .blockgrid tr {border: none;} .blockgrid td {padding: 0px;} #blocksd4d35aee-ac25-4eed-bdeb-4cf9548ce6a6 td {border: 1px solid white;}</style><table id=\"blocksd4d35aee-ac25-4eed-bdeb-4cf9548ce6a6\" class=\"blockgrid\"><tbody><tr><td title=\"Index: [0, 0]&#10;Color: (0, 0, 0)\" style=\"width: 20px; height: 20px;background-color: rgb(0, 0, 0);\"></td><td title=\"Index: [0, 1]&#10;Color: (0, 150, 150)\" style=\"width: 20px; height: 20px;background-color: rgb(0, 150, 150);\"></td><td title=\"Index: [0, 2]&#10;Color: (0, 150, 150)\" style=\"width: 20px; height: 20px;background-color: rgb(0, 150, 150);\"></td><td title=\"Index: [0, 3]&#10;Color: (0, 150, 150)\" style=\"width: 20px; height: 20px;background-color: rgb(0, 150, 150);\"></td><td title=\"Index: [0, 4]&#10;Color: (0, 150, 150)\" style=\"width: 20px; height: 20px;background-color: rgb(0, 150, 150);\"></td></tr><tr><td title=\"Index: [1, 0]&#10;Color: (0, 150, 150)\" style=\"width: 20px; height: 20px;background-color: rgb(0, 150, 150);\"></td><td title=\"Index: [1, 1]&#10;Color: (0, 150, 150)\" style=\"width: 20px; height: 20px;background-color: rgb(0, 150, 150);\"></td><td title=\"Index: [1, 2]&#10;Color: (0, 150, 150)\" style=\"width: 20px; height: 20px;background-color: rgb(0, 150, 150);\"></td><td title=\"Index: [1, 3]&#10;Color: (0, 150, 150)\" style=\"width: 20px; height: 20px;background-color: rgb(0, 150, 150);\"></td><td title=\"Index: [1, 4]&#10;Color: (0, 150, 150)\" style=\"width: 20px; height: 20px;background-color: rgb(0, 150, 150);\"></td></tr><tr><td title=\"Index: [2, 0]&#10;Color: (0, 150, 150)\" style=\"width: 20px; height: 20px;background-color: rgb(0, 150, 150);\"></td><td title=\"Index: [2, 1]&#10;Color: (0, 150, 150)\" style=\"width: 20px; height: 20px;background-color: rgb(0, 150, 150);\"></td><td title=\"Index: [2, 2]&#10;Color: (255, 0, 0)\" style=\"width: 20px; height: 20px;background-color: rgb(255, 0, 0);\"></td><td title=\"Index: [2, 3]&#10;Color: (0, 150, 150)\" style=\"width: 20px; height: 20px;background-color: rgb(0, 150, 150);\"></td><td title=\"Index: [2, 4]&#10;Color: (0, 150, 150)\" style=\"width: 20px; height: 20px;background-color: rgb(0, 150, 150);\"></td></tr><tr><td title=\"Index: [3, 0]&#10;Color: (0, 150, 150)\" style=\"width: 20px; height: 20px;background-color: rgb(0, 150, 150);\"></td><td title=\"Index: [3, 1]&#10;Color: (0, 150, 150)\" style=\"width: 20px; height: 20px;background-color: rgb(0, 150, 150);\"></td><td title=\"Index: [3, 2]&#10;Color: (0, 150, 150)\" style=\"width: 20px; height: 20px;background-color: rgb(0, 150, 150);\"></td><td title=\"Index: [3, 3]&#10;Color: (0, 150, 150)\" style=\"width: 20px; height: 20px;background-color: rgb(0, 150, 150);\"></td><td title=\"Index: [3, 4]&#10;Color: (0, 0, 0)\" style=\"width: 20px; height: 20px;background-color: rgb(0, 0, 0);\"></td></tr><tr><td title=\"Index: [4, 0]&#10;Color: (0, 150, 150)\" style=\"width: 20px; height: 20px;background-color: rgb(0, 150, 150);\"></td><td title=\"Index: [4, 1]&#10;Color: (0, 150, 150)\" style=\"width: 20px; height: 20px;background-color: rgb(0, 150, 150);\"></td><td title=\"Index: [4, 2]&#10;Color: (0, 150, 150)\" style=\"width: 20px; height: 20px;background-color: rgb(0, 150, 150);\"></td><td title=\"Index: [4, 3]&#10;Color: (0, 150, 150)\" style=\"width: 20px; height: 20px;background-color: rgb(0, 150, 150);\"></td><td title=\"Index: [4, 4]&#10;Color: (0, 150, 150)\" style=\"width: 20px; height: 20px;background-color: rgb(0, 150, 150);\"></td></tr></tbody></table>"
       ],
       "metadata": {},
       "output_type": "display_data",
       "text": [
        "<IPython.core.display.HTML at 0x1047e7490>"
       ]
      },
      {
       "output_type": "stream",
       "stream": "stdout",
       "text": [
        "Turn 4\n"
       ]
      },
      {
       "name": "stdout",
       "output_type": "stream",
       "stream": "stdout",
       "text": [
        "Guess Row:3\n"
       ]
      },
      {
       "name": "stdout",
       "output_type": "stream",
       "stream": "stdout",
       "text": [
        "Guess Col:2\n"
       ]
      },
      {
       "output_type": "stream",
       "stream": "stdout",
       "text": [
        "You missed my battleship!\n"
       ]
      },
      {
       "html": [
        "<style type=\"text/css\">table.blockgrid {border: none;} .blockgrid tr {border: none;} .blockgrid td {padding: 0px;} #blocksed9e2ecc-2f5c-4e42-ae0f-a446e27ba604 td {border: 1px solid white;}</style><table id=\"blocksed9e2ecc-2f5c-4e42-ae0f-a446e27ba604\" class=\"blockgrid\"><tbody><tr><td title=\"Index: [0, 0]&#10;Color: (0, 0, 0)\" style=\"width: 20px; height: 20px;background-color: rgb(0, 0, 0);\"></td><td title=\"Index: [0, 1]&#10;Color: (0, 150, 150)\" style=\"width: 20px; height: 20px;background-color: rgb(0, 150, 150);\"></td><td title=\"Index: [0, 2]&#10;Color: (0, 150, 150)\" style=\"width: 20px; height: 20px;background-color: rgb(0, 150, 150);\"></td><td title=\"Index: [0, 3]&#10;Color: (0, 150, 150)\" style=\"width: 20px; height: 20px;background-color: rgb(0, 150, 150);\"></td><td title=\"Index: [0, 4]&#10;Color: (0, 150, 150)\" style=\"width: 20px; height: 20px;background-color: rgb(0, 150, 150);\"></td></tr><tr><td title=\"Index: [1, 0]&#10;Color: (0, 150, 150)\" style=\"width: 20px; height: 20px;background-color: rgb(0, 150, 150);\"></td><td title=\"Index: [1, 1]&#10;Color: (0, 150, 150)\" style=\"width: 20px; height: 20px;background-color: rgb(0, 150, 150);\"></td><td title=\"Index: [1, 2]&#10;Color: (0, 150, 150)\" style=\"width: 20px; height: 20px;background-color: rgb(0, 150, 150);\"></td><td title=\"Index: [1, 3]&#10;Color: (0, 150, 150)\" style=\"width: 20px; height: 20px;background-color: rgb(0, 150, 150);\"></td><td title=\"Index: [1, 4]&#10;Color: (0, 150, 150)\" style=\"width: 20px; height: 20px;background-color: rgb(0, 150, 150);\"></td></tr><tr><td title=\"Index: [2, 0]&#10;Color: (0, 150, 150)\" style=\"width: 20px; height: 20px;background-color: rgb(0, 150, 150);\"></td><td title=\"Index: [2, 1]&#10;Color: (0, 0, 0)\" style=\"width: 20px; height: 20px;background-color: rgb(0, 0, 0);\"></td><td title=\"Index: [2, 2]&#10;Color: (255, 0, 0)\" style=\"width: 20px; height: 20px;background-color: rgb(255, 0, 0);\"></td><td title=\"Index: [2, 3]&#10;Color: (0, 150, 150)\" style=\"width: 20px; height: 20px;background-color: rgb(0, 150, 150);\"></td><td title=\"Index: [2, 4]&#10;Color: (0, 150, 150)\" style=\"width: 20px; height: 20px;background-color: rgb(0, 150, 150);\"></td></tr><tr><td title=\"Index: [3, 0]&#10;Color: (0, 150, 150)\" style=\"width: 20px; height: 20px;background-color: rgb(0, 150, 150);\"></td><td title=\"Index: [3, 1]&#10;Color: (0, 150, 150)\" style=\"width: 20px; height: 20px;background-color: rgb(0, 150, 150);\"></td><td title=\"Index: [3, 2]&#10;Color: (0, 150, 150)\" style=\"width: 20px; height: 20px;background-color: rgb(0, 150, 150);\"></td><td title=\"Index: [3, 3]&#10;Color: (0, 150, 150)\" style=\"width: 20px; height: 20px;background-color: rgb(0, 150, 150);\"></td><td title=\"Index: [3, 4]&#10;Color: (0, 0, 0)\" style=\"width: 20px; height: 20px;background-color: rgb(0, 0, 0);\"></td></tr><tr><td title=\"Index: [4, 0]&#10;Color: (0, 150, 150)\" style=\"width: 20px; height: 20px;background-color: rgb(0, 150, 150);\"></td><td title=\"Index: [4, 1]&#10;Color: (0, 150, 150)\" style=\"width: 20px; height: 20px;background-color: rgb(0, 150, 150);\"></td><td title=\"Index: [4, 2]&#10;Color: (0, 150, 150)\" style=\"width: 20px; height: 20px;background-color: rgb(0, 150, 150);\"></td><td title=\"Index: [4, 3]&#10;Color: (0, 150, 150)\" style=\"width: 20px; height: 20px;background-color: rgb(0, 150, 150);\"></td><td title=\"Index: [4, 4]&#10;Color: (0, 150, 150)\" style=\"width: 20px; height: 20px;background-color: rgb(0, 150, 150);\"></td></tr></tbody></table>"
       ],
       "metadata": {},
       "output_type": "display_data",
       "text": [
        "<IPython.core.display.HTML at 0x104cb94d0>"
       ]
      },
      {
       "output_type": "stream",
       "stream": "stdout",
       "text": [
        "Turn 5\n"
       ]
      },
      {
       "name": "stdout",
       "output_type": "stream",
       "stream": "stdout",
       "text": [
        "Guess Row:3\n"
       ]
      },
      {
       "name": "stdout",
       "output_type": "stream",
       "stream": "stdout",
       "text": [
        "Guess Col:4\n"
       ]
      },
      {
       "output_type": "stream",
       "stream": "stdout",
       "text": [
        "You missed my battleship!\n"
       ]
      },
      {
       "html": [
        "<style type=\"text/css\">table.blockgrid {border: none;} .blockgrid tr {border: none;} .blockgrid td {padding: 0px;} #blocks059e1b7d-c00f-4688-84f8-081824812e8a td {border: 1px solid white;}</style><table id=\"blocks059e1b7d-c00f-4688-84f8-081824812e8a\" class=\"blockgrid\"><tbody><tr><td title=\"Index: [0, 0]&#10;Color: (0, 0, 0)\" style=\"width: 20px; height: 20px;background-color: rgb(0, 0, 0);\"></td><td title=\"Index: [0, 1]&#10;Color: (0, 150, 150)\" style=\"width: 20px; height: 20px;background-color: rgb(0, 150, 150);\"></td><td title=\"Index: [0, 2]&#10;Color: (0, 150, 150)\" style=\"width: 20px; height: 20px;background-color: rgb(0, 150, 150);\"></td><td title=\"Index: [0, 3]&#10;Color: (0, 150, 150)\" style=\"width: 20px; height: 20px;background-color: rgb(0, 150, 150);\"></td><td title=\"Index: [0, 4]&#10;Color: (0, 150, 150)\" style=\"width: 20px; height: 20px;background-color: rgb(0, 150, 150);\"></td></tr><tr><td title=\"Index: [1, 0]&#10;Color: (0, 150, 150)\" style=\"width: 20px; height: 20px;background-color: rgb(0, 150, 150);\"></td><td title=\"Index: [1, 1]&#10;Color: (0, 150, 150)\" style=\"width: 20px; height: 20px;background-color: rgb(0, 150, 150);\"></td><td title=\"Index: [1, 2]&#10;Color: (0, 150, 150)\" style=\"width: 20px; height: 20px;background-color: rgb(0, 150, 150);\"></td><td title=\"Index: [1, 3]&#10;Color: (0, 150, 150)\" style=\"width: 20px; height: 20px;background-color: rgb(0, 150, 150);\"></td><td title=\"Index: [1, 4]&#10;Color: (0, 150, 150)\" style=\"width: 20px; height: 20px;background-color: rgb(0, 150, 150);\"></td></tr><tr><td title=\"Index: [2, 0]&#10;Color: (0, 150, 150)\" style=\"width: 20px; height: 20px;background-color: rgb(0, 150, 150);\"></td><td title=\"Index: [2, 1]&#10;Color: (0, 0, 0)\" style=\"width: 20px; height: 20px;background-color: rgb(0, 0, 0);\"></td><td title=\"Index: [2, 2]&#10;Color: (255, 0, 0)\" style=\"width: 20px; height: 20px;background-color: rgb(255, 0, 0);\"></td><td title=\"Index: [2, 3]&#10;Color: (0, 0, 0)\" style=\"width: 20px; height: 20px;background-color: rgb(0, 0, 0);\"></td><td title=\"Index: [2, 4]&#10;Color: (0, 150, 150)\" style=\"width: 20px; height: 20px;background-color: rgb(0, 150, 150);\"></td></tr><tr><td title=\"Index: [3, 0]&#10;Color: (0, 150, 150)\" style=\"width: 20px; height: 20px;background-color: rgb(0, 150, 150);\"></td><td title=\"Index: [3, 1]&#10;Color: (0, 150, 150)\" style=\"width: 20px; height: 20px;background-color: rgb(0, 150, 150);\"></td><td title=\"Index: [3, 2]&#10;Color: (0, 150, 150)\" style=\"width: 20px; height: 20px;background-color: rgb(0, 150, 150);\"></td><td title=\"Index: [3, 3]&#10;Color: (0, 150, 150)\" style=\"width: 20px; height: 20px;background-color: rgb(0, 150, 150);\"></td><td title=\"Index: [3, 4]&#10;Color: (0, 0, 0)\" style=\"width: 20px; height: 20px;background-color: rgb(0, 0, 0);\"></td></tr><tr><td title=\"Index: [4, 0]&#10;Color: (0, 150, 150)\" style=\"width: 20px; height: 20px;background-color: rgb(0, 150, 150);\"></td><td title=\"Index: [4, 1]&#10;Color: (0, 150, 150)\" style=\"width: 20px; height: 20px;background-color: rgb(0, 150, 150);\"></td><td title=\"Index: [4, 2]&#10;Color: (0, 150, 150)\" style=\"width: 20px; height: 20px;background-color: rgb(0, 150, 150);\"></td><td title=\"Index: [4, 3]&#10;Color: (0, 150, 150)\" style=\"width: 20px; height: 20px;background-color: rgb(0, 150, 150);\"></td><td title=\"Index: [4, 4]&#10;Color: (0, 150, 150)\" style=\"width: 20px; height: 20px;background-color: rgb(0, 150, 150);\"></td></tr></tbody></table>"
       ],
       "metadata": {},
       "output_type": "display_data",
       "text": [
        "<IPython.core.display.HTML at 0x104cb95d0>"
       ]
      },
      {
       "output_type": "stream",
       "stream": "stdout",
       "text": [
        "Game Over :( \n"
       ]
      },
      {
       "html": [
        "<style type=\"text/css\">table.blockgrid {border: none;} .blockgrid tr {border: none;} .blockgrid td {padding: 0px;} #blocks555aa9dd-d14f-449e-b7c2-4566cf0e58b1 td {border: 1px solid white;}</style><table id=\"blocks555aa9dd-d14f-449e-b7c2-4566cf0e58b1\" class=\"blockgrid\"><tbody><tr><td title=\"Index: [0, 0]&#10;Color: (0, 0, 0)\" style=\"width: 20px; height: 20px;background-color: rgb(0, 0, 0);\"></td><td title=\"Index: [0, 1]&#10;Color: (0, 150, 150)\" style=\"width: 20px; height: 20px;background-color: rgb(0, 150, 150);\"></td><td title=\"Index: [0, 2]&#10;Color: (128, 128, 128)\" style=\"width: 20px; height: 20px;background-color: rgb(128, 128, 128);\"></td><td title=\"Index: [0, 3]&#10;Color: (0, 150, 150)\" style=\"width: 20px; height: 20px;background-color: rgb(0, 150, 150);\"></td><td title=\"Index: [0, 4]&#10;Color: (0, 150, 150)\" style=\"width: 20px; height: 20px;background-color: rgb(0, 150, 150);\"></td></tr><tr><td title=\"Index: [1, 0]&#10;Color: (0, 150, 150)\" style=\"width: 20px; height: 20px;background-color: rgb(0, 150, 150);\"></td><td title=\"Index: [1, 1]&#10;Color: (0, 150, 150)\" style=\"width: 20px; height: 20px;background-color: rgb(0, 150, 150);\"></td><td title=\"Index: [1, 2]&#10;Color: (128, 128, 128)\" style=\"width: 20px; height: 20px;background-color: rgb(128, 128, 128);\"></td><td title=\"Index: [1, 3]&#10;Color: (0, 150, 150)\" style=\"width: 20px; height: 20px;background-color: rgb(0, 150, 150);\"></td><td title=\"Index: [1, 4]&#10;Color: (0, 150, 150)\" style=\"width: 20px; height: 20px;background-color: rgb(0, 150, 150);\"></td></tr><tr><td title=\"Index: [2, 0]&#10;Color: (0, 150, 150)\" style=\"width: 20px; height: 20px;background-color: rgb(0, 150, 150);\"></td><td title=\"Index: [2, 1]&#10;Color: (0, 0, 0)\" style=\"width: 20px; height: 20px;background-color: rgb(0, 0, 0);\"></td><td title=\"Index: [2, 2]&#10;Color: (128, 128, 128)\" style=\"width: 20px; height: 20px;background-color: rgb(128, 128, 128);\"></td><td title=\"Index: [2, 3]&#10;Color: (0, 0, 0)\" style=\"width: 20px; height: 20px;background-color: rgb(0, 0, 0);\"></td><td title=\"Index: [2, 4]&#10;Color: (0, 150, 150)\" style=\"width: 20px; height: 20px;background-color: rgb(0, 150, 150);\"></td></tr><tr><td title=\"Index: [3, 0]&#10;Color: (0, 150, 150)\" style=\"width: 20px; height: 20px;background-color: rgb(0, 150, 150);\"></td><td title=\"Index: [3, 1]&#10;Color: (0, 150, 150)\" style=\"width: 20px; height: 20px;background-color: rgb(0, 150, 150);\"></td><td title=\"Index: [3, 2]&#10;Color: (0, 150, 150)\" style=\"width: 20px; height: 20px;background-color: rgb(0, 150, 150);\"></td><td title=\"Index: [3, 3]&#10;Color: (0, 150, 150)\" style=\"width: 20px; height: 20px;background-color: rgb(0, 150, 150);\"></td><td title=\"Index: [3, 4]&#10;Color: (0, 0, 0)\" style=\"width: 20px; height: 20px;background-color: rgb(0, 0, 0);\"></td></tr><tr><td title=\"Index: [4, 0]&#10;Color: (0, 150, 150)\" style=\"width: 20px; height: 20px;background-color: rgb(0, 150, 150);\"></td><td title=\"Index: [4, 1]&#10;Color: (0, 150, 150)\" style=\"width: 20px; height: 20px;background-color: rgb(0, 150, 150);\"></td><td title=\"Index: [4, 2]&#10;Color: (0, 150, 150)\" style=\"width: 20px; height: 20px;background-color: rgb(0, 150, 150);\"></td><td title=\"Index: [4, 3]&#10;Color: (0, 150, 150)\" style=\"width: 20px; height: 20px;background-color: rgb(0, 150, 150);\"></td><td title=\"Index: [4, 4]&#10;Color: (0, 150, 150)\" style=\"width: 20px; height: 20px;background-color: rgb(0, 150, 150);\"></td></tr></tbody></table>"
       ],
       "metadata": {},
       "output_type": "display_data",
       "text": [
        "<IPython.core.display.HTML at 0x104cb9850>"
       ]
      }
     ],
     "prompt_number": 2
    },
    {
     "cell_type": "code",
     "collapsed": false,
     "input": [
      "\n",
      "    "
     ],
     "language": "python",
     "metadata": {},
     "outputs": [],
     "prompt_number": 10
    },
    {
     "cell_type": "code",
     "collapsed": false,
     "input": [],
     "language": "python",
     "metadata": {},
     "outputs": []
    }
   ],
   "metadata": {}
  }
 ]
}