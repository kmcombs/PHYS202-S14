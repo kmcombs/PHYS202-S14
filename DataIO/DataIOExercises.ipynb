{
 "metadata": {
  "name": "",
  "signature": "sha256:a436f50ad03e3a9f636d31a522b82c4333e9c70f91b4e9d026b9cb94b45d8338"
 },
 "nbformat": 3,
 "nbformat_minor": 0,
 "worksheets": [
  {
   "cells": [
    {
     "cell_type": "heading",
     "level": 1,
     "metadata": {},
     "source": [
      "Data I/O Exercises"
     ]
    },
    {
     "cell_type": "code",
     "collapsed": false,
     "input": [
      "%pylab inline\n",
      "import numpy as np"
     ],
     "language": "python",
     "metadata": {},
     "outputs": [
      {
       "output_type": "stream",
       "stream": "stdout",
       "text": [
        "Populating the interactive namespace from numpy and matplotlib\n"
       ]
      }
     ],
     "prompt_number": 1
    },
    {
     "cell_type": "code",
     "collapsed": false,
     "input": [
      "f = open('messy_data.dat', 'w')\n",
      "import random\n",
      "for i in range(100):\n",
      "    for j in range(5):\n",
      "        f.write(' ' * random.randint(0, 6))\n",
      "        f.write('%0*.*g' % (random.randint(8, 12),\n",
      "                            random.randint(5, 10),\n",
      "                            100 * random.random()))\n",
      "        if j != 4:\n",
      "            f.write(',')\n",
      "    f.write('\\n')\n",
      "f.close()"
     ],
     "language": "python",
     "metadata": {},
     "outputs": [],
     "prompt_number": 2
    },
    {
     "cell_type": "code",
     "collapsed": false,
     "input": [
      "!head -4 messy_data.dat"
     ],
     "language": "python",
     "metadata": {},
     "outputs": [
      {
       "output_type": "stream",
       "stream": "stdout",
       "text": [
        " 98.86865374,     0000066.663,094.69226,      086.85886,0089.2111738\r\n",
        "    00000052.177,      000064.528,0000045.531, 038.17751714,   044.8149\r\n",
        "  041.3669831,      0068.0016946, 96.66776318,   22.84494858, 64.342393\r\n",
        "     53.462338,9.7539979,56.54451636, 098.1689,   000067.6031\r\n"
       ]
      }
     ],
     "prompt_number": 3
    },
    {
     "cell_type": "markdown",
     "metadata": {},
     "source": [
      "\n",
      "(a) Write a program that reads in the contents of \"messy_data.dat\" and extracts the numbers from each line, using the string manipulations we used in section 1 (remember that float() will convert a suitable string to a floating-point number)."
     ]
    },
    {
     "cell_type": "code",
     "collapsed": false,
     "input": [],
     "language": "python",
     "metadata": {},
     "outputs": [],
     "prompt_number": 4
    },
    {
     "cell_type": "markdown",
     "metadata": {},
     "source": [
      "(b) Next write out a new file named \"clean_data.dat\". The new file should contain the same data as the old file, but with uniform formatting and aligned columns."
     ]
    },
    {
     "cell_type": "code",
     "collapsed": false,
     "input": [],
     "language": "python",
     "metadata": {},
     "outputs": []
    },
    {
     "cell_type": "markdown",
     "metadata": {},
     "source": [
      "\n",
      "(c) Now re-do the same task using NumPy's loadtxt and savetxt functions."
     ]
    },
    {
     "cell_type": "code",
     "collapsed": false,
     "input": [],
     "language": "python",
     "metadata": {},
     "outputs": []
    }
   ],
   "metadata": {}
  }
 ]
}