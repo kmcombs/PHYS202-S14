{
 "metadata": {
  "name": "",
  "signature": "sha256:9b1cf6d9b5033878a49fa6bfea611d2ae688d57e49f9de6e3cf55d3c87c510b7"
 },
 "nbformat": 3,
 "nbformat_minor": 0,
 "worksheets": [
  {
   "cells": [
    {
     "cell_type": "heading",
     "level": 1,
     "metadata": {},
     "source": [
      "Project Euler"
     ]
    },
    {
     "cell_type": "heading",
     "level": 3,
     "metadata": {},
     "source": [
      "Problem 19"
     ]
    },
    {
     "cell_type": "markdown",
     "metadata": {},
     "source": [
      "You are given the following information, but you may prefer to do some research for yourself.\n",
      "\n",
      "* 1 Jan 1900 was a Monday.\n",
      "    Thirty days has September,\n",
      "    April, June and November.\n",
      "    All the rest have thirty-one,\n",
      "    Saving February alone,\n",
      "    Which has twenty-eight, rain or shine.\n",
      "    And on leap years, twenty-nine.\n",
      "* A leap year occurs on any year evenly divisible by 4, but not on a century unless it is divisible by 400.\n",
      "\n",
      "How many Sundays fell on the first of the month during the twentieth century (1 Jan 1901 to 31 Dec 2000)?"
     ]
    },
    {
     "cell_type": "code",
     "collapsed": false,
     "input": [
      "month = [31, 28, 31, 30, 31, 30, 31, 31, 30, 31, 30, 31]\n",
      "d = 1\n",
      "n = 0\n",
      "for year in range(1900, 2001):\n",
      "    if year%4 == 0 and year%400 != 0: #checks for leap years\n",
      "        month[1] = 29\n",
      "    for i in month:\n",
      "        if d == 7 and year != 1900: #checks if the last day in a month was a Saturday not including 1900\n",
      "            n += 1900               #that will mean the first day is a Sunday \n",
      "        for day in range(i):\n",
      "            if d == 7:\n",
      "                d = 0\n",
      "            d += 1\n",
      "print n\n",
      "\n",
      "        \n",
      "        \n",
      "        \n",
      "\n",
      "    "
     ],
     "language": "python",
     "metadata": {},
     "outputs": [
      {
       "output_type": "stream",
       "stream": "stdout",
       "text": [
        "171\n"
       ]
      }
     ],
     "prompt_number": 39
    },
    {
     "cell_type": "code",
     "collapsed": false,
     "input": [
      "\n"
     ],
     "language": "python",
     "metadata": {},
     "outputs": []
    }
   ],
   "metadata": {}
  }
 ]
}