{
 "metadata": {
  "name": "",
  "signature": "sha256:74ac0d7a6689f6bbb36e4f6b7a2e8423e520d270d71d70bf7cc2d14a3a29b0fa"
 },
 "nbformat": 3,
 "nbformat_minor": 0,
 "worksheets": [
  {
   "cells": [
    {
     "cell_type": "heading",
     "level": 1,
     "metadata": {},
     "source": [
      "Project Euler"
     ]
    },
    {
     "cell_type": "heading",
     "level": 3,
     "metadata": {},
     "source": [
      "Problem 17"
     ]
    },
    {
     "cell_type": "markdown",
     "metadata": {},
     "source": [
      "If the numbers 1 to 5 are written out in words: one, two, three, four, five, then there are 3 + 3 + 5 + 4 + 4 = 19 letters used in total.\n",
      "\n",
      "If all the numbers from 1 to 1000 (one thousand) inclusive were written out in words, how many letters would be used?\n",
      "\n",
      "\n",
      "NOTE: Do not count spaces or hyphens. For example, 342 (three hundred and forty-two) contains 23 letters and 115 (one hundred and fifteen) contains 20 letters. The use of \"and\" when writing out numbers is in compliance with British usage."
     ]
    },
    {
     "cell_type": "code",
     "collapsed": false,
     "input": [
      "ones = {1: 'one', 2: 'two', 3: 'three', 4: 'four', 5: 'five', 6: 'six', 7: 'seven', 8: 'eight', 9: 'nine', 10: 'ten'}\n",
      "teens = {11: 'eleven', 12: 'twelve', 13: 'thirteen', 14: 'fourteen', 15: 'fifteen', 16: 'sixteen', 17: 'seventeen', 18: 'eighteen', 19: 'nineteen'}\n",
      "tens = {20: 'twenty', 30: 'thirty', 40: 'forty', 50: 'fifty', 60: 'sixty', 70: 'seventy',80: 'eighy', 90: 'ninety'}\n",
      "hundreds = {100: 'onehundredand', 200: 'twohundredand',300: 'threehundredand',400: 'fourhundredand', 500: 'fivehundredand', 600: 'sixhundredand', 700: 'sevenhundredand', 800: 'eighthundredand', 900: 'ninehundredand'}\n",
      "letters = []\n",
      "for n in ones:\n",
      "    x = len(ones[n])\n",
      "    letters.append(x)\n",
      "y = 0\n",
      "for i in range(1, 6):\n",
      "    y += letters[i]\n",
      "print y"
     ],
     "language": "python",
     "metadata": {},
     "outputs": [
      {
       "output_type": "stream",
       "stream": "stdout",
       "text": [
        "19\n"
       ]
      }
     ],
     "prompt_number": 22
    },
    {
     "cell_type": "code",
     "collapsed": false,
     "input": [
      "letters = []\n",
      "for n in ones:\n",
      "    x = len(ones[n])\n",
      "    letters.append(x)\n",
      "for i in range(11,20):\n",
      "    y = len(teens[i])\n",
      "    letters.append(y)\n",
      "for z in range(20, 100):\n",
      "    z = str(z)\n",
      "    if int(z)%10 == 0:\n",
      "        s = len(tens[int(z)])\n",
      "        letters.append(s)\n",
      "    else:\n",
      "        z = int(z[1])\n",
      "        s = len(ones[int(z)])\n",
      "        letters.append(s)\n",
      "for l in range(100, 901):\n",
      "    l = str(l)\n",
      "    if int(l)%100 == 0:\n",
      "        r = len(hundreds[int(l)])\n",
      "    else: \n",
      "        for z in range(20, 100):\n",
      "            z = str(z)\n",
      "            if int(z)%10 == 0:\n",
      "                s = len(tens[int(z)])\n",
      "                letters.append(s)\n",
      "            else:\n",
      "                z = int(z[1])\n",
      "                s = len(ones[int(z)])\n",
      "                letters.append(s)\n",
      "        \n",
      "\n",
      "o = 0\n",
      "for e in range(1, len(letters)):\n",
      "    o += letters[e]\n",
      "print o\n"
     ],
     "language": "python",
     "metadata": {},
     "outputs": [
      {
       "output_type": "stream",
       "stream": "stdout",
       "text": [
        "264172\n"
       ]
      }
     ],
     "prompt_number": 41
    },
    {
     "cell_type": "code",
     "collapsed": false,
     "input": [],
     "language": "python",
     "metadata": {},
     "outputs": []
    }
   ],
   "metadata": {}
  }
 ]
}