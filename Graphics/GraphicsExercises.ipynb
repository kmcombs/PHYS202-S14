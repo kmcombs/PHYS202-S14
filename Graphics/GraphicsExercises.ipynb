{
 "metadata": {
  "name": "",
  "signature": "sha256:aa5a7faf8bdc913c25f7d15edadc27ebfabeae9c190002b8ebc1a6563fe342fb"
 },
 "nbformat": 3,
 "nbformat_minor": 0,
 "worksheets": [
  {
   "cells": [
    {
     "cell_type": "heading",
     "level": 1,
     "metadata": {},
     "source": [
      "Graphics Exercises"
     ]
    },
    {
     "cell_type": "code",
     "collapsed": false,
     "input": [],
     "language": "python",
     "metadata": {},
     "outputs": []
    }
   ],
   "metadata": {}
  }
 ]
}